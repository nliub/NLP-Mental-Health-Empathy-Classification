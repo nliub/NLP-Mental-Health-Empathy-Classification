{
  "cells": [
    {
      "cell_type": "markdown",
      "source": [
        "## Set up"
      ],
      "metadata": {
        "id": "VEGIfmyZY6Mj"
      }
    },
    {
      "cell_type": "code",
      "execution_count": null,
      "metadata": {
        "id": "k1l4A2nM5FTS"
      },
      "outputs": [],
      "source": [
        "!pip install -q transformers"
      ]
    },
    {
      "cell_type": "code",
      "execution_count": null,
      "metadata": {
        "id": "j1fCHfHx3b2c"
      },
      "outputs": [],
      "source": [
        "import pandas as pd\n",
        "from pathlib import Path\n",
        "from sklearn.model_selection import train_test_split\n",
        "import numpy as np\n",
        "from sklearn.utils.class_weight import compute_class_weight\n",
        "import tensorflow as tf\n",
        "from tensorflow import keras\n",
        "from transformers import BertTokenizer, TFBertModel\n",
        "from sklearn.metrics import confusion_matrix\n",
        "import seaborn as sns\n",
        "import matplotlib.pyplot as plt\n",
        "from sklearn.metrics import accuracy_score, precision_score, recall_score, f1_score\n",
        "from tensorflow.keras.regularizers import l1, l2\n",
        "\n"
      ]
    },
    {
      "cell_type": "code",
      "execution_count": null,
      "metadata": {
        "colab": {
          "base_uri": "https://localhost:8080/"
        },
        "id": "XmlvChyh2ktx",
        "outputId": "001d69da-04ec-4774-a22c-ddc02e840564"
      },
      "outputs": [
        {
          "output_type": "stream",
          "name": "stdout",
          "text": [
            "Mounted at /content/drive\n"
          ]
        }
      ],
      "source": [
        "from google.colab import drive\n",
        "drive.mount('/content/drive')"
      ]
    },
    {
      "cell_type": "code",
      "execution_count": null,
      "metadata": {
        "id": "LMjF4fpw29da"
      },
      "outputs": [],
      "source": [
        "home_dir = Path('/content/drive/MyDrive/266 Final Project/Code')\n",
        "train_path = home_dir / 'data' / 'train'\n",
        "val_path = home_dir / 'data' / 'val'\n",
        "test_path = home_dir / 'data' / 'test'"
      ]
    },
    {
      "cell_type": "code",
      "execution_count": null,
      "metadata": {
        "colab": {
          "base_uri": "https://localhost:8080/",
          "height": 284,
          "referenced_widgets": [
            "281d9f9cc27d46c3b3908e936cda5c21",
            "612c3465d94a489aa2583a91c0fdeb18",
            "5677423ae4e04a519b8e245c72a80717",
            "2a57a4d614d24ab2a1f058c96cc97be2",
            "e4729239b746476487717d624a68c138",
            "dcac032a12394f1abd189fc085e2fe29",
            "d2ca155917f94f138fac77029efaabe9",
            "f7e5c89433bd4c4dab2c2e679679d58d",
            "d54de011c0a149029f293649052fbbfc",
            "f1cc1d7378d345f387e8dca069abd313",
            "b5ea226cebdb417eb4e98df2c93277eb",
            "d782623da429493a88ad45777f693fa4",
            "902cd57b917045dab7beadc39a07054d",
            "e20df4e69cb041a19e5af0dff2725813",
            "3ac0b8d6566c4bea98c81ce7af4541a1",
            "cfda1e9d65bc4dafb09b3842c31fc265",
            "99f639b050cf426a8bb1bbace0019d48",
            "6f2eb8a058bc4ae0988d2721b4bb1114",
            "8c780a84bad14b719810b6a2ec3bd0d8",
            "dd740bc6042b47d2b17538e71f6aa8c5",
            "572b0cec3ab446eb93d5ce85a9000bcf",
            "2168b69d9ea54a64ae6f1a822eab8e1c",
            "afce392eeab54c11b76dd3409dc2b96b",
            "b4d08bed1c944d7b9ad665da4ebe0e00",
            "794e6997e3524addaf716e7441a2dee3",
            "aaee9a1b1d944699b78558dec0774593",
            "878171d1fce84e31abee4445dfd907eb",
            "86d1e738d45846f8aceb7f701fd0b37f",
            "2d764f434ab549a1b1394004344526c8",
            "6bed5ba1bd954b75b2dd9a2c6dbb0221",
            "1f70d08279fb4dfaa048de03f03bc988",
            "3f90e2ac4f4d4641902236e9d0bf27d7",
            "1992c02dc61d4777b225c01d2581757e",
            "95b1034b4d10469f99479dd4bc0eca87",
            "6f3ac033b0854a9fb63d868687f6de11",
            "ca3becd37dec469ab45de00438291f20",
            "70e9a516489b41578a45b305fe30bf12",
            "ffd12e8ea32a4d94aadfeee0af5556fe",
            "966bd9fa36814441b86e67e056a2631c",
            "190767648f9140ca9449cf37c4316f98",
            "9b1bf4378fab440aae982d246134f59a",
            "ae072a31ae5b410e938ef9c06c7803b1",
            "7efddb35aaff4593877ba24c864df9d4",
            "d4c147267a0a40ddbc8cd7a967743cb9",
            "980a343572e24a72835ff2ee0509eb61",
            "61ce5a08bfa04c0281712e3c2f4a1209",
            "7b4c2ee866944780944471693a513203",
            "320a4c0d941c466385ad0ddee2c5825d",
            "17c737860ad5485abd4601927585481d",
            "7f3800fdbfec46e899ba9b75823ff09c",
            "bf1958920a9b4f519d9c7d631c417695",
            "e38ff1a76b0b44bd8e8d427e30f520c0",
            "15c998056f464140a670f3c763db2fd2",
            "cc44aa25421b4944924bc30ed585562e",
            "c92ba052e2024874bb018b54f123d08e"
          ]
        },
        "id": "Bwqxuui8IHJU",
        "outputId": "25a3c410-1ba3-4d2f-bc38-1355d7006f35"
      },
      "outputs": [
        {
          "output_type": "display_data",
          "data": {
            "text/plain": [
              "tokenizer_config.json:   0%|          | 0.00/29.0 [00:00<?, ?B/s]"
            ],
            "application/vnd.jupyter.widget-view+json": {
              "version_major": 2,
              "version_minor": 0,
              "model_id": "281d9f9cc27d46c3b3908e936cda5c21"
            }
          },
          "metadata": {}
        },
        {
          "output_type": "display_data",
          "data": {
            "text/plain": [
              "vocab.txt:   0%|          | 0.00/213k [00:00<?, ?B/s]"
            ],
            "application/vnd.jupyter.widget-view+json": {
              "version_major": 2,
              "version_minor": 0,
              "model_id": "d782623da429493a88ad45777f693fa4"
            }
          },
          "metadata": {}
        },
        {
          "output_type": "display_data",
          "data": {
            "text/plain": [
              "tokenizer.json:   0%|          | 0.00/436k [00:00<?, ?B/s]"
            ],
            "application/vnd.jupyter.widget-view+json": {
              "version_major": 2,
              "version_minor": 0,
              "model_id": "afce392eeab54c11b76dd3409dc2b96b"
            }
          },
          "metadata": {}
        },
        {
          "output_type": "display_data",
          "data": {
            "text/plain": [
              "config.json:   0%|          | 0.00/570 [00:00<?, ?B/s]"
            ],
            "application/vnd.jupyter.widget-view+json": {
              "version_major": 2,
              "version_minor": 0,
              "model_id": "95b1034b4d10469f99479dd4bc0eca87"
            }
          },
          "metadata": {}
        },
        {
          "output_type": "display_data",
          "data": {
            "text/plain": [
              "model.safetensors:   0%|          | 0.00/436M [00:00<?, ?B/s]"
            ],
            "application/vnd.jupyter.widget-view+json": {
              "version_major": 2,
              "version_minor": 0,
              "model_id": "980a343572e24a72835ff2ee0509eb61"
            }
          },
          "metadata": {}
        },
        {
          "output_type": "stream",
          "name": "stderr",
          "text": [
            "Some weights of the PyTorch model were not used when initializing the TF 2.0 model TFBertModel: ['cls.predictions.transform.dense.bias', 'cls.predictions.transform.LayerNorm.bias', 'cls.seq_relationship.bias', 'cls.seq_relationship.weight', 'cls.predictions.bias', 'cls.predictions.transform.dense.weight', 'cls.predictions.transform.LayerNorm.weight']\n",
            "- This IS expected if you are initializing TFBertModel from a PyTorch model trained on another task or with another architecture (e.g. initializing a TFBertForSequenceClassification model from a BertForPreTraining model).\n",
            "- This IS NOT expected if you are initializing TFBertModel from a PyTorch model that you expect to be exactly identical (e.g. initializing a TFBertForSequenceClassification model from a BertForSequenceClassification model).\n",
            "All the weights of TFBertModel were initialized from the PyTorch model.\n",
            "If your task is similar to the task the model of the checkpoint was trained on, you can already use TFBertModel for predictions without further training.\n"
          ]
        }
      ],
      "source": [
        "model_checkpoint = 'bert-base-cased'\n",
        "bert_tokenizer = BertTokenizer.from_pretrained(model_checkpoint)\n",
        "bert_model = TFBertModel.from_pretrained(model_checkpoint)"
      ]
    },
    {
      "cell_type": "code",
      "source": [
        "results = {}\n",
        "\n",
        "for category in (['em', 'in', 'ex', 'ex_aug']):\n",
        "    X_train = pd.read_csv(train_path / f'X_{category}.csv', delimiter=',')\n",
        "    # X_train = X_train['response_post']\n",
        "\n",
        "    results[f'{category}_seeker_wordcount'] = X_train['seeker_post'].str.split().apply(len).describe()\n",
        "    results[f'{category}_seeker_token_count'] = X_train['seeker_post'].apply(lambda x: len(bert_tokenizer.tokenize(x))).describe()\n",
        "    results[f'{category}_response_wordcount'] = X_train['response_post'].str.split().apply(len).describe()\n",
        "    results[f'{category}_response_token_count'] = X_train['response_post'].apply(lambda x: len(bert_tokenizer.tokenize(x))).describe()\n",
        "\n",
        "    results[f'{category}_seeker_wordcount'] = X_train['seeker_post'].str.split().apply(len).describe()\n",
        "    results[f'{category}_seeker_token_count'] = X_train['seeker_post'].apply(lambda x: len(bert_tokenizer.tokenize(x))).describe()\n",
        "\n",
        "\n",
        "summary_table = pd.DataFrame(results)\n",
        "\n",
        "summary_table = summary_table.transpose()\n",
        "\n",
        "summary_table\n",
        "\n"
      ],
      "metadata": {
        "colab": {
          "base_uri": "https://localhost:8080/",
          "height": 551
        },
        "id": "dJ6ss4zYi6aH",
        "outputId": "99fe1919-34be-449b-de42-e210b5d8b3c1"
      },
      "execution_count": null,
      "outputs": [
        {
          "output_type": "execute_result",
          "data": {
            "text/plain": [
              "                              count       mean        std  min   25%   50%  \\\n",
              "em_seeker_wordcount          1256.0  35.428344  26.695890  7.0  18.0  30.5   \n",
              "em_seeker_token_count        1256.0  45.429140  33.169944  8.0  24.0  39.0   \n",
              "em_response_wordcount        1256.0  48.544586  73.467111  5.0  14.0  29.0   \n",
              "em_response_token_count      1256.0  60.586783  89.234811  5.0  19.0  36.0   \n",
              "in_seeker_wordcount          1850.0  34.620000  25.158684  6.0  18.0  30.0   \n",
              "in_seeker_token_count        1850.0  44.554595  31.024624  8.0  24.0  38.5   \n",
              "in_response_wordcount        1850.0  47.835676  69.720736  5.0  14.0  28.0   \n",
              "in_response_token_count      1850.0  59.848649  85.144879  5.0  18.0  35.0   \n",
              "ex_seeker_wordcount           576.0  34.776042  24.005655  6.0  18.0  32.0   \n",
              "ex_seeker_token_count         576.0  45.053819  29.670109  9.0  25.0  41.0   \n",
              "ex_response_wordcount         576.0  39.748264  45.738966  5.0  11.0  25.0   \n",
              "ex_response_token_count       576.0  49.774306  55.968293  5.0  15.0  32.0   \n",
              "ex_aug_seeker_wordcount       984.0  35.828252  27.327485  6.0  18.0  31.0   \n",
              "ex_aug_seeker_token_count     984.0  46.178862  33.711910  8.0  25.0  40.0   \n",
              "ex_aug_response_wordcount     984.0  45.485772  53.493915  3.0  12.0  28.0   \n",
              "ex_aug_response_token_count   984.0  56.195122  65.323333  5.0  16.0  35.0   \n",
              "\n",
              "                               75%     max  \n",
              "em_seeker_wordcount          46.00   208.0  \n",
              "em_seeker_token_count        57.25   272.0  \n",
              "em_response_wordcount        59.00  1811.0  \n",
              "em_response_token_count      73.00  2163.0  \n",
              "in_seeker_wordcount          45.00   216.0  \n",
              "in_seeker_token_count        57.00   272.0  \n",
              "in_response_wordcount        58.00  1811.0  \n",
              "in_response_token_count      72.00  2163.0  \n",
              "ex_seeker_wordcount          44.00   186.0  \n",
              "ex_seeker_token_count        57.00   238.0  \n",
              "ex_response_wordcount        49.25   398.0  \n",
              "ex_response_token_count      63.00   470.0  \n",
              "ex_aug_seeker_wordcount      45.00   209.0  \n",
              "ex_aug_seeker_token_count    58.00   269.0  \n",
              "ex_aug_response_wordcount    57.00   477.0  \n",
              "ex_aug_response_token_count  69.00   566.0  "
            ],
            "text/html": [
              "\n",
              "  <div id=\"df-107df877-482a-4299-991c-282db8f48b06\" class=\"colab-df-container\">\n",
              "    <div>\n",
              "<style scoped>\n",
              "    .dataframe tbody tr th:only-of-type {\n",
              "        vertical-align: middle;\n",
              "    }\n",
              "\n",
              "    .dataframe tbody tr th {\n",
              "        vertical-align: top;\n",
              "    }\n",
              "\n",
              "    .dataframe thead th {\n",
              "        text-align: right;\n",
              "    }\n",
              "</style>\n",
              "<table border=\"1\" class=\"dataframe\">\n",
              "  <thead>\n",
              "    <tr style=\"text-align: right;\">\n",
              "      <th></th>\n",
              "      <th>count</th>\n",
              "      <th>mean</th>\n",
              "      <th>std</th>\n",
              "      <th>min</th>\n",
              "      <th>25%</th>\n",
              "      <th>50%</th>\n",
              "      <th>75%</th>\n",
              "      <th>max</th>\n",
              "    </tr>\n",
              "  </thead>\n",
              "  <tbody>\n",
              "    <tr>\n",
              "      <th>em_seeker_wordcount</th>\n",
              "      <td>1256.0</td>\n",
              "      <td>35.428344</td>\n",
              "      <td>26.695890</td>\n",
              "      <td>7.0</td>\n",
              "      <td>18.0</td>\n",
              "      <td>30.5</td>\n",
              "      <td>46.00</td>\n",
              "      <td>208.0</td>\n",
              "    </tr>\n",
              "    <tr>\n",
              "      <th>em_seeker_token_count</th>\n",
              "      <td>1256.0</td>\n",
              "      <td>45.429140</td>\n",
              "      <td>33.169944</td>\n",
              "      <td>8.0</td>\n",
              "      <td>24.0</td>\n",
              "      <td>39.0</td>\n",
              "      <td>57.25</td>\n",
              "      <td>272.0</td>\n",
              "    </tr>\n",
              "    <tr>\n",
              "      <th>em_response_wordcount</th>\n",
              "      <td>1256.0</td>\n",
              "      <td>48.544586</td>\n",
              "      <td>73.467111</td>\n",
              "      <td>5.0</td>\n",
              "      <td>14.0</td>\n",
              "      <td>29.0</td>\n",
              "      <td>59.00</td>\n",
              "      <td>1811.0</td>\n",
              "    </tr>\n",
              "    <tr>\n",
              "      <th>em_response_token_count</th>\n",
              "      <td>1256.0</td>\n",
              "      <td>60.586783</td>\n",
              "      <td>89.234811</td>\n",
              "      <td>5.0</td>\n",
              "      <td>19.0</td>\n",
              "      <td>36.0</td>\n",
              "      <td>73.00</td>\n",
              "      <td>2163.0</td>\n",
              "    </tr>\n",
              "    <tr>\n",
              "      <th>in_seeker_wordcount</th>\n",
              "      <td>1850.0</td>\n",
              "      <td>34.620000</td>\n",
              "      <td>25.158684</td>\n",
              "      <td>6.0</td>\n",
              "      <td>18.0</td>\n",
              "      <td>30.0</td>\n",
              "      <td>45.00</td>\n",
              "      <td>216.0</td>\n",
              "    </tr>\n",
              "    <tr>\n",
              "      <th>in_seeker_token_count</th>\n",
              "      <td>1850.0</td>\n",
              "      <td>44.554595</td>\n",
              "      <td>31.024624</td>\n",
              "      <td>8.0</td>\n",
              "      <td>24.0</td>\n",
              "      <td>38.5</td>\n",
              "      <td>57.00</td>\n",
              "      <td>272.0</td>\n",
              "    </tr>\n",
              "    <tr>\n",
              "      <th>in_response_wordcount</th>\n",
              "      <td>1850.0</td>\n",
              "      <td>47.835676</td>\n",
              "      <td>69.720736</td>\n",
              "      <td>5.0</td>\n",
              "      <td>14.0</td>\n",
              "      <td>28.0</td>\n",
              "      <td>58.00</td>\n",
              "      <td>1811.0</td>\n",
              "    </tr>\n",
              "    <tr>\n",
              "      <th>in_response_token_count</th>\n",
              "      <td>1850.0</td>\n",
              "      <td>59.848649</td>\n",
              "      <td>85.144879</td>\n",
              "      <td>5.0</td>\n",
              "      <td>18.0</td>\n",
              "      <td>35.0</td>\n",
              "      <td>72.00</td>\n",
              "      <td>2163.0</td>\n",
              "    </tr>\n",
              "    <tr>\n",
              "      <th>ex_seeker_wordcount</th>\n",
              "      <td>576.0</td>\n",
              "      <td>34.776042</td>\n",
              "      <td>24.005655</td>\n",
              "      <td>6.0</td>\n",
              "      <td>18.0</td>\n",
              "      <td>32.0</td>\n",
              "      <td>44.00</td>\n",
              "      <td>186.0</td>\n",
              "    </tr>\n",
              "    <tr>\n",
              "      <th>ex_seeker_token_count</th>\n",
              "      <td>576.0</td>\n",
              "      <td>45.053819</td>\n",
              "      <td>29.670109</td>\n",
              "      <td>9.0</td>\n",
              "      <td>25.0</td>\n",
              "      <td>41.0</td>\n",
              "      <td>57.00</td>\n",
              "      <td>238.0</td>\n",
              "    </tr>\n",
              "    <tr>\n",
              "      <th>ex_response_wordcount</th>\n",
              "      <td>576.0</td>\n",
              "      <td>39.748264</td>\n",
              "      <td>45.738966</td>\n",
              "      <td>5.0</td>\n",
              "      <td>11.0</td>\n",
              "      <td>25.0</td>\n",
              "      <td>49.25</td>\n",
              "      <td>398.0</td>\n",
              "    </tr>\n",
              "    <tr>\n",
              "      <th>ex_response_token_count</th>\n",
              "      <td>576.0</td>\n",
              "      <td>49.774306</td>\n",
              "      <td>55.968293</td>\n",
              "      <td>5.0</td>\n",
              "      <td>15.0</td>\n",
              "      <td>32.0</td>\n",
              "      <td>63.00</td>\n",
              "      <td>470.0</td>\n",
              "    </tr>\n",
              "    <tr>\n",
              "      <th>ex_aug_seeker_wordcount</th>\n",
              "      <td>984.0</td>\n",
              "      <td>35.828252</td>\n",
              "      <td>27.327485</td>\n",
              "      <td>6.0</td>\n",
              "      <td>18.0</td>\n",
              "      <td>31.0</td>\n",
              "      <td>45.00</td>\n",
              "      <td>209.0</td>\n",
              "    </tr>\n",
              "    <tr>\n",
              "      <th>ex_aug_seeker_token_count</th>\n",
              "      <td>984.0</td>\n",
              "      <td>46.178862</td>\n",
              "      <td>33.711910</td>\n",
              "      <td>8.0</td>\n",
              "      <td>25.0</td>\n",
              "      <td>40.0</td>\n",
              "      <td>58.00</td>\n",
              "      <td>269.0</td>\n",
              "    </tr>\n",
              "    <tr>\n",
              "      <th>ex_aug_response_wordcount</th>\n",
              "      <td>984.0</td>\n",
              "      <td>45.485772</td>\n",
              "      <td>53.493915</td>\n",
              "      <td>3.0</td>\n",
              "      <td>12.0</td>\n",
              "      <td>28.0</td>\n",
              "      <td>57.00</td>\n",
              "      <td>477.0</td>\n",
              "    </tr>\n",
              "    <tr>\n",
              "      <th>ex_aug_response_token_count</th>\n",
              "      <td>984.0</td>\n",
              "      <td>56.195122</td>\n",
              "      <td>65.323333</td>\n",
              "      <td>5.0</td>\n",
              "      <td>16.0</td>\n",
              "      <td>35.0</td>\n",
              "      <td>69.00</td>\n",
              "      <td>566.0</td>\n",
              "    </tr>\n",
              "  </tbody>\n",
              "</table>\n",
              "</div>\n",
              "    <div class=\"colab-df-buttons\">\n",
              "\n",
              "  <div class=\"colab-df-container\">\n",
              "    <button class=\"colab-df-convert\" onclick=\"convertToInteractive('df-107df877-482a-4299-991c-282db8f48b06')\"\n",
              "            title=\"Convert this dataframe to an interactive table.\"\n",
              "            style=\"display:none;\">\n",
              "\n",
              "  <svg xmlns=\"http://www.w3.org/2000/svg\" height=\"24px\" viewBox=\"0 -960 960 960\">\n",
              "    <path d=\"M120-120v-720h720v720H120Zm60-500h600v-160H180v160Zm220 220h160v-160H400v160Zm0 220h160v-160H400v160ZM180-400h160v-160H180v160Zm440 0h160v-160H620v160ZM180-180h160v-160H180v160Zm440 0h160v-160H620v160Z\"/>\n",
              "  </svg>\n",
              "    </button>\n",
              "\n",
              "  <style>\n",
              "    .colab-df-container {\n",
              "      display:flex;\n",
              "      gap: 12px;\n",
              "    }\n",
              "\n",
              "    .colab-df-convert {\n",
              "      background-color: #E8F0FE;\n",
              "      border: none;\n",
              "      border-radius: 50%;\n",
              "      cursor: pointer;\n",
              "      display: none;\n",
              "      fill: #1967D2;\n",
              "      height: 32px;\n",
              "      padding: 0 0 0 0;\n",
              "      width: 32px;\n",
              "    }\n",
              "\n",
              "    .colab-df-convert:hover {\n",
              "      background-color: #E2EBFA;\n",
              "      box-shadow: 0px 1px 2px rgba(60, 64, 67, 0.3), 0px 1px 3px 1px rgba(60, 64, 67, 0.15);\n",
              "      fill: #174EA6;\n",
              "    }\n",
              "\n",
              "    .colab-df-buttons div {\n",
              "      margin-bottom: 4px;\n",
              "    }\n",
              "\n",
              "    [theme=dark] .colab-df-convert {\n",
              "      background-color: #3B4455;\n",
              "      fill: #D2E3FC;\n",
              "    }\n",
              "\n",
              "    [theme=dark] .colab-df-convert:hover {\n",
              "      background-color: #434B5C;\n",
              "      box-shadow: 0px 1px 3px 1px rgba(0, 0, 0, 0.15);\n",
              "      filter: drop-shadow(0px 1px 2px rgba(0, 0, 0, 0.3));\n",
              "      fill: #FFFFFF;\n",
              "    }\n",
              "  </style>\n",
              "\n",
              "    <script>\n",
              "      const buttonEl =\n",
              "        document.querySelector('#df-107df877-482a-4299-991c-282db8f48b06 button.colab-df-convert');\n",
              "      buttonEl.style.display =\n",
              "        google.colab.kernel.accessAllowed ? 'block' : 'none';\n",
              "\n",
              "      async function convertToInteractive(key) {\n",
              "        const element = document.querySelector('#df-107df877-482a-4299-991c-282db8f48b06');\n",
              "        const dataTable =\n",
              "          await google.colab.kernel.invokeFunction('convertToInteractive',\n",
              "                                                    [key], {});\n",
              "        if (!dataTable) return;\n",
              "\n",
              "        const docLinkHtml = 'Like what you see? Visit the ' +\n",
              "          '<a target=\"_blank\" href=https://colab.research.google.com/notebooks/data_table.ipynb>data table notebook</a>'\n",
              "          + ' to learn more about interactive tables.';\n",
              "        element.innerHTML = '';\n",
              "        dataTable['output_type'] = 'display_data';\n",
              "        await google.colab.output.renderOutput(dataTable, element);\n",
              "        const docLink = document.createElement('div');\n",
              "        docLink.innerHTML = docLinkHtml;\n",
              "        element.appendChild(docLink);\n",
              "      }\n",
              "    </script>\n",
              "  </div>\n",
              "\n",
              "\n",
              "<div id=\"df-e01661cb-f38b-4a8c-aa47-f545b282f3e5\">\n",
              "  <button class=\"colab-df-quickchart\" onclick=\"quickchart('df-e01661cb-f38b-4a8c-aa47-f545b282f3e5')\"\n",
              "            title=\"Suggest charts\"\n",
              "            style=\"display:none;\">\n",
              "\n",
              "<svg xmlns=\"http://www.w3.org/2000/svg\" height=\"24px\"viewBox=\"0 0 24 24\"\n",
              "     width=\"24px\">\n",
              "    <g>\n",
              "        <path d=\"M19 3H5c-1.1 0-2 .9-2 2v14c0 1.1.9 2 2 2h14c1.1 0 2-.9 2-2V5c0-1.1-.9-2-2-2zM9 17H7v-7h2v7zm4 0h-2V7h2v10zm4 0h-2v-4h2v4z\"/>\n",
              "    </g>\n",
              "</svg>\n",
              "  </button>\n",
              "\n",
              "<style>\n",
              "  .colab-df-quickchart {\n",
              "      --bg-color: #E8F0FE;\n",
              "      --fill-color: #1967D2;\n",
              "      --hover-bg-color: #E2EBFA;\n",
              "      --hover-fill-color: #174EA6;\n",
              "      --disabled-fill-color: #AAA;\n",
              "      --disabled-bg-color: #DDD;\n",
              "  }\n",
              "\n",
              "  [theme=dark] .colab-df-quickchart {\n",
              "      --bg-color: #3B4455;\n",
              "      --fill-color: #D2E3FC;\n",
              "      --hover-bg-color: #434B5C;\n",
              "      --hover-fill-color: #FFFFFF;\n",
              "      --disabled-bg-color: #3B4455;\n",
              "      --disabled-fill-color: #666;\n",
              "  }\n",
              "\n",
              "  .colab-df-quickchart {\n",
              "    background-color: var(--bg-color);\n",
              "    border: none;\n",
              "    border-radius: 50%;\n",
              "    cursor: pointer;\n",
              "    display: none;\n",
              "    fill: var(--fill-color);\n",
              "    height: 32px;\n",
              "    padding: 0;\n",
              "    width: 32px;\n",
              "  }\n",
              "\n",
              "  .colab-df-quickchart:hover {\n",
              "    background-color: var(--hover-bg-color);\n",
              "    box-shadow: 0 1px 2px rgba(60, 64, 67, 0.3), 0 1px 3px 1px rgba(60, 64, 67, 0.15);\n",
              "    fill: var(--button-hover-fill-color);\n",
              "  }\n",
              "\n",
              "  .colab-df-quickchart-complete:disabled,\n",
              "  .colab-df-quickchart-complete:disabled:hover {\n",
              "    background-color: var(--disabled-bg-color);\n",
              "    fill: var(--disabled-fill-color);\n",
              "    box-shadow: none;\n",
              "  }\n",
              "\n",
              "  .colab-df-spinner {\n",
              "    border: 2px solid var(--fill-color);\n",
              "    border-color: transparent;\n",
              "    border-bottom-color: var(--fill-color);\n",
              "    animation:\n",
              "      spin 1s steps(1) infinite;\n",
              "  }\n",
              "\n",
              "  @keyframes spin {\n",
              "    0% {\n",
              "      border-color: transparent;\n",
              "      border-bottom-color: var(--fill-color);\n",
              "      border-left-color: var(--fill-color);\n",
              "    }\n",
              "    20% {\n",
              "      border-color: transparent;\n",
              "      border-left-color: var(--fill-color);\n",
              "      border-top-color: var(--fill-color);\n",
              "    }\n",
              "    30% {\n",
              "      border-color: transparent;\n",
              "      border-left-color: var(--fill-color);\n",
              "      border-top-color: var(--fill-color);\n",
              "      border-right-color: var(--fill-color);\n",
              "    }\n",
              "    40% {\n",
              "      border-color: transparent;\n",
              "      border-right-color: var(--fill-color);\n",
              "      border-top-color: var(--fill-color);\n",
              "    }\n",
              "    60% {\n",
              "      border-color: transparent;\n",
              "      border-right-color: var(--fill-color);\n",
              "    }\n",
              "    80% {\n",
              "      border-color: transparent;\n",
              "      border-right-color: var(--fill-color);\n",
              "      border-bottom-color: var(--fill-color);\n",
              "    }\n",
              "    90% {\n",
              "      border-color: transparent;\n",
              "      border-bottom-color: var(--fill-color);\n",
              "    }\n",
              "  }\n",
              "</style>\n",
              "\n",
              "  <script>\n",
              "    async function quickchart(key) {\n",
              "      const quickchartButtonEl =\n",
              "        document.querySelector('#' + key + ' button');\n",
              "      quickchartButtonEl.disabled = true;  // To prevent multiple clicks.\n",
              "      quickchartButtonEl.classList.add('colab-df-spinner');\n",
              "      try {\n",
              "        const charts = await google.colab.kernel.invokeFunction(\n",
              "            'suggestCharts', [key], {});\n",
              "      } catch (error) {\n",
              "        console.error('Error during call to suggestCharts:', error);\n",
              "      }\n",
              "      quickchartButtonEl.classList.remove('colab-df-spinner');\n",
              "      quickchartButtonEl.classList.add('colab-df-quickchart-complete');\n",
              "    }\n",
              "    (() => {\n",
              "      let quickchartButtonEl =\n",
              "        document.querySelector('#df-e01661cb-f38b-4a8c-aa47-f545b282f3e5 button');\n",
              "      quickchartButtonEl.style.display =\n",
              "        google.colab.kernel.accessAllowed ? 'block' : 'none';\n",
              "    })();\n",
              "  </script>\n",
              "</div>\n",
              "    </div>\n",
              "  </div>\n"
            ]
          },
          "metadata": {},
          "execution_count": 8
        }
      ]
    },
    {
      "cell_type": "code",
      "source": [
        "MAX_LENGTH = 240\n",
        "FEATURES = 'response_post'"
      ],
      "metadata": {
        "id": "aAiGDP5-aJtj"
      },
      "execution_count": null,
      "outputs": []
    },
    {
      "cell_type": "code",
      "execution_count": null,
      "metadata": {
        "id": "ILHfhYBnnxzK"
      },
      "outputs": [],
      "source": [
        "def get_target_vectors(category):\n",
        "    y_train = pd.read_csv((train_path / f'y_{category}.csv'), delimiter=',')\n",
        "    y_val = pd.read_csv((val_path / f'y_{category}.csv'), delimiter=',')\n",
        "    y_test = pd.read_csv((test_path / f'y_{category}.csv'), delimiter=',')\n",
        "\n",
        "    y_train = y_train['empathy']\n",
        "    y_val = y_val['empathy']\n",
        "    y_test = y_test['empathy']\n",
        "\n",
        "    return y_train, y_val, y_test\n",
        "\n",
        "\n",
        "#no manual adjustment of token_type_ids; everything will be 0\n",
        "def csv_to_encodings(category, features=FEATURES, max_length=MAX_LENGTH):\n",
        "    #chunk and pad seeker_post, then add [SEP] to join with response_post\n",
        "\n",
        "    X_train = pd.read_csv(train_path / f'X_{category}.csv', delimiter=',')\n",
        "    X_train = X_train[features]\n",
        "    # X_train_combined = X_train.apply(prepare_text, axis=1)\n",
        "    train_em_encodings = bert_tokenizer(list(X_train), truncation=True, padding=True, max_length=max_length, return_tensors='tf')\n",
        "\n",
        "    X_val = pd.read_csv(val_path / f'X_{category}.csv', delimiter=',')\n",
        "    X_val = X_val[features]\n",
        "    # X_val_combined = X_val.apply(prepare_text, axis=1)\n",
        "    val_em_encodings = bert_tokenizer(list(X_val), truncation=True, padding=True, max_length=max_length, return_tensors='tf')\n",
        "\n",
        "    X_test = pd.read_csv(test_path / f'X_{category}.csv', delimiter=',')\n",
        "    X_test = X_test[features]\n",
        "    # X_test_combined = X_test.apply(prepare_text, axis=1)\n",
        "    test_em_encodings = bert_tokenizer(list(X_test), truncation=True, padding=True, max_length=max_length, return_tensors='tf')\n",
        "\n",
        "    return train_em_encodings, val_em_encodings, test_em_encodings"
      ]
    },
    {
      "cell_type": "markdown",
      "source": [
        "### chunking considerations"
      ],
      "metadata": {
        "id": "2FMT0_51YxXt"
      }
    },
    {
      "cell_type": "markdown",
      "source": [
        "## Models"
      ],
      "metadata": {
        "id": "-wFaTq164qM2"
      }
    },
    {
      "cell_type": "code",
      "execution_count": null,
      "metadata": {
        "id": "OQZn7ckjKZrh"
      },
      "outputs": [],
      "source": [
        "def create_bert_binary_model(bert_model,max_length = MAX_LENGTH,\n",
        "                                 hidden_size = 100,\n",
        "                                 dropout=0.3,\n",
        "                                 learning_rate=0.0005):\n",
        "\n",
        "\n",
        "    bert_model.trainable = False #not fine tuning BERT embeddings\n",
        "\n",
        "\n",
        "    input_ids = tf.keras.layers.Input(shape=(max_length,), dtype=tf.int64, name='input_ids_layer')\n",
        "    token_type_ids = tf.keras.layers.Input(shape=(max_length,), dtype=tf.int64, name='token_type_ids_layer')\n",
        "    attention_mask = tf.keras.layers.Input(shape=(max_length,), dtype=tf.int64, name='attention_mask_layer')\n",
        "\n",
        "    bert_inputs = {'input_ids': input_ids,\n",
        "                   'token_type_ids': token_type_ids,\n",
        "                   'attention_mask': attention_mask}\n",
        "\n",
        "    bert_out = bert_model(bert_inputs)\n",
        "\n",
        "    #pooler_token = bert_out[1]\n",
        "    cls_token = bert_out[0][:, 0, :]\n",
        "\n",
        "    hidden = tf.keras.layers.Dense(hidden_size, activation='relu', name='hidden_layer')(cls_token)\n",
        "\n",
        "\n",
        "    hidden = tf.keras.layers.Dropout(dropout)(hidden)\n",
        "\n",
        "\n",
        "    classification = tf.keras.layers.Dense(1, activation='sigmoid',name='classification_layer')(hidden)\n",
        "\n",
        "    classification_model = tf.keras.Model(inputs=[input_ids, token_type_ids, attention_mask], outputs=[classification])\n",
        "\n",
        "    classification_model.compile(optimizer=tf.keras.optimizers.Adam(learning_rate=learning_rate),\n",
        "                                 loss=tf.keras.losses.BinaryCrossentropy(),\n",
        "                                 metrics='accuracy')\n",
        "\n",
        "\n",
        "\n",
        "    return classification_model"
      ]
    },
    {
      "cell_type": "code",
      "source": [
        "def run_model(category):\n",
        "    y_train, y_val, y_test = get_target_vectors(category)\n",
        "\n",
        "    train_em_encodings, val_em_encodings, test_em_encodings = csv_to_encodings(category)\n",
        "\n",
        "    print(f'y_train value counts:\\n{y_train.value_counts()}')\n",
        "\n",
        "    print(f'train_encodings:\\n{train_encodings}')\n",
        "\n",
        "    classification = create_bert_binary_model(bert_model=bert_model)\n",
        "    classification_history = classification.fit([train_encodings.input_ids, train_encodings.token_type_ids, train_encodings.attention_mask],\n",
        "                                                  y_train,\n",
        "                                                  validation_data=([val_encodings.input_ids, val_encodings.token_type_ids, val_encodings.attention_mask],\n",
        "                                                  y_val),\n",
        "                                                  batch_size=8,\n",
        "                                                  epochs=10,\n",
        "                                                  #class_weight=class_weight\n",
        "                                                  )\n",
        "\n",
        "    metrics_columns = ['Category', 'Accuracy', 'Precision', 'Recall', 'F1 Score']\n",
        "\n",
        "    predictions = classification.predict([test_encodings.input_ids, test_encodings.token_type_ids, test_encodings.attention_mask])\n",
        "    predictions = (predictions >= 0.5).astype(int)\n",
        "\n",
        "\n",
        "    accuracy = accuracy_score(y_test, predictions)\n",
        "    print(f\"accuracy for test: {accuracy}\")\n",
        "    recall = recall_score(y_test, predictions)\n",
        "    print(f\"recall for test: {recall}\")\n",
        "    precision = precision_score(y_test, predictions)\n",
        "    print(f\"precision for test: {precision}\")\n",
        "    f1 = f1_score(y_test, predictions)\n",
        "    print(f\"f1 score for test: {f1}\")\n",
        "\n",
        "    conf_matrix = confusion_matrix(y_test, predictions)\n",
        "    print(conf_matrix)\n",
        "\n",
        "    sns.set(font_scale=1.2)\n",
        "    plt.figure(figsize=(6, 5))\n",
        "    sns.heatmap(conf_matrix, annot=True, fmt='g', cmap='Blues', annot_kws={\"size\": 16}, cbar=False)\n",
        "    plt.xlabel('Predicted')\n",
        "    plt.ylabel('Actual')\n",
        "    plt.title(f'{category} Confusion Matrix')\n",
        "    plt.show()\n",
        "\n",
        "\n",
        "    metrics = {\n",
        "        'Category': f'{category}short',\n",
        "        'Accuracy': accuracy,\n",
        "        'Precision': precision,\n",
        "        'Recall': recall,\n",
        "        'F1 Score': f1\n",
        "    }\n",
        "    metrics = pd.DataFrame([metrics], columns=metrics_columns)\n"
      ],
      "metadata": {
        "id": "azlxj1rNHeIA"
      },
      "execution_count": null,
      "outputs": []
    },
    {
      "cell_type": "markdown",
      "metadata": {
        "id": "AQjPGMm9EqTM"
      },
      "source": [
        "# EM binary prediction with BERT (seeker + response)"
      ]
    },
    {
      "cell_type": "code",
      "execution_count": null,
      "metadata": {
        "id": "OTBtDP3bQB6s",
        "colab": {
          "base_uri": "https://localhost:8080/"
        },
        "outputId": "55ec66fc-219b-48dd-a867-d6b833c10186"
      },
      "outputs": [
        {
          "output_type": "execute_result",
          "data": {
            "text/plain": [
              "0    629\n",
              "1    627\n",
              "Name: empathy, dtype: int64"
            ]
          },
          "metadata": {},
          "execution_count": 10
        }
      ],
      "source": [
        "y_em_train, y_em_val, y_em_test = get_target_vectors('em')\n",
        "y_em_train.value_counts()"
      ]
    },
    {
      "cell_type": "code",
      "execution_count": null,
      "metadata": {
        "colab": {
          "base_uri": "https://localhost:8080/"
        },
        "id": "97-W3-Ah_m-4",
        "outputId": "e372b538-d8d0-4246-ee6c-9b25e36db3cc"
      },
      "outputs": [
        {
          "output_type": "execute_result",
          "data": {
            "text/plain": [
              "{'input_ids': <tf.Tensor: shape=(1256, 240), dtype=int32, numpy=\n",
              "array([[ 101,  146,  112, ...,    0,    0,    0],\n",
              "       [ 101, 1176, 2288, ...,    0,    0,    0],\n",
              "       [ 101, 1109, 2501, ...,    0,    0,    0],\n",
              "       ...,\n",
              "       [ 101, 1192, 1132, ...,    0,    0,    0],\n",
              "       [ 101, 1128, 9424, ...,    0,    0,    0],\n",
              "       [ 101, 1337, 1122, ...,    0,    0,    0]], dtype=int32)>, 'token_type_ids': <tf.Tensor: shape=(1256, 240), dtype=int32, numpy=\n",
              "array([[0, 0, 0, ..., 0, 0, 0],\n",
              "       [0, 0, 0, ..., 0, 0, 0],\n",
              "       [0, 0, 0, ..., 0, 0, 0],\n",
              "       ...,\n",
              "       [0, 0, 0, ..., 0, 0, 0],\n",
              "       [0, 0, 0, ..., 0, 0, 0],\n",
              "       [0, 0, 0, ..., 0, 0, 0]], dtype=int32)>, 'attention_mask': <tf.Tensor: shape=(1256, 240), dtype=int32, numpy=\n",
              "array([[1, 1, 1, ..., 0, 0, 0],\n",
              "       [1, 1, 1, ..., 0, 0, 0],\n",
              "       [1, 1, 1, ..., 0, 0, 0],\n",
              "       ...,\n",
              "       [1, 1, 1, ..., 0, 0, 0],\n",
              "       [1, 1, 1, ..., 0, 0, 0],\n",
              "       [1, 1, 1, ..., 0, 0, 0]], dtype=int32)>}"
            ]
          },
          "metadata": {},
          "execution_count": 11
        }
      ],
      "source": [
        "train_em_encodings, val_em_encodings, test_em_encodings = csv_to_encodings('em')\n",
        "train_em_encodings"
      ]
    },
    {
      "cell_type": "code",
      "execution_count": null,
      "metadata": {
        "colab": {
          "base_uri": "https://localhost:8080/"
        },
        "id": "043xHIgDKZe8",
        "outputId": "310c0e59-9077-4d89-db7d-239dad08dab2"
      },
      "outputs": [
        {
          "output_type": "stream",
          "name": "stdout",
          "text": [
            "Epoch 1/10\n",
            "157/157 [==============================] - 47s 228ms/step - loss: 0.5677 - accuracy: 0.7046 - val_loss: 0.4872 - val_accuracy: 0.7637\n",
            "Epoch 2/10\n",
            "157/157 [==============================] - 36s 227ms/step - loss: 0.4857 - accuracy: 0.7691 - val_loss: 0.4820 - val_accuracy: 0.7900\n",
            "Epoch 3/10\n",
            "157/157 [==============================] - 34s 217ms/step - loss: 0.4789 - accuracy: 0.7763 - val_loss: 0.5455 - val_accuracy: 0.7232\n",
            "Epoch 4/10\n",
            "157/157 [==============================] - 31s 200ms/step - loss: 0.4725 - accuracy: 0.7779 - val_loss: 0.4667 - val_accuracy: 0.7852\n",
            "Epoch 5/10\n",
            "157/157 [==============================] - 32s 203ms/step - loss: 0.4511 - accuracy: 0.7906 - val_loss: 0.4674 - val_accuracy: 0.7757\n",
            "Epoch 6/10\n",
            "157/157 [==============================] - 34s 215ms/step - loss: 0.4470 - accuracy: 0.7771 - val_loss: 0.4730 - val_accuracy: 0.7900\n",
            "Epoch 7/10\n",
            "157/157 [==============================] - 34s 217ms/step - loss: 0.4381 - accuracy: 0.7858 - val_loss: 0.4811 - val_accuracy: 0.7947\n",
            "Epoch 8/10\n",
            "157/157 [==============================] - 34s 219ms/step - loss: 0.4262 - accuracy: 0.7906 - val_loss: 0.4586 - val_accuracy: 0.7876\n",
            "Epoch 9/10\n",
            "157/157 [==============================] - 32s 201ms/step - loss: 0.4294 - accuracy: 0.7954 - val_loss: 0.4646 - val_accuracy: 0.7852\n",
            "Epoch 10/10\n",
            "157/157 [==============================] - 34s 217ms/step - loss: 0.4112 - accuracy: 0.8073 - val_loss: 0.4662 - val_accuracy: 0.7852\n"
          ]
        }
      ],
      "source": [
        "em_classification = create_bert_binary_model(bert_model=bert_model)\n",
        "em_classification_history = em_classification.fit([train_em_encodings.input_ids, train_em_encodings.token_type_ids, train_em_encodings.attention_mask],\n",
        "                                                  y_em_train,\n",
        "                                                  validation_data=([val_em_encodings.input_ids, val_em_encodings.token_type_ids, val_em_encodings.attention_mask],\n",
        "                                                  y_em_val),\n",
        "                                                  batch_size=8,\n",
        "                                                  epochs=10,\n",
        "                                                  #class_weight=class_weight_em\n",
        "                                                  )"
      ]
    },
    {
      "cell_type": "code",
      "execution_count": null,
      "metadata": {
        "id": "CPc70qLBMkHK",
        "colab": {
          "base_uri": "https://localhost:8080/"
        },
        "outputId": "7ad17d48-07a6-486b-8f32-c57d6df1f876"
      },
      "outputs": [
        {
          "output_type": "stream",
          "name": "stdout",
          "text": [
            "14/14 [==============================] - 10s 517ms/step\n"
          ]
        }
      ],
      "source": [
        "predictions_em = em_classification.predict([test_em_encodings.input_ids, test_em_encodings.token_type_ids, test_em_encodings.attention_mask])\n",
        "predictions_em = (predictions_em >= 0.5).astype(int)"
      ]
    },
    {
      "cell_type": "code",
      "execution_count": null,
      "metadata": {
        "id": "D3aCZiPFO1zG",
        "colab": {
          "base_uri": "https://localhost:8080/"
        },
        "outputId": "6c6e6ac0-3ab6-4a24-eb04-d7c65637ab6b"
      },
      "outputs": [
        {
          "output_type": "stream",
          "name": "stdout",
          "text": [
            "accuracy for test: 0.7852028639618138\n",
            "recall for test: 0.8109452736318408\n",
            "precision for test: 0.7581395348837209\n",
            "f1 score for test: 0.783653846153846\n"
          ]
        }
      ],
      "source": [
        "accuracy_em = accuracy_score(y_em_test, predictions_em)\n",
        "print(f\"accuracy for test: {accuracy_em}\")\n",
        "recall_em = recall_score(y_em_test, predictions_em)\n",
        "print(f\"recall for test: {recall_em}\")\n",
        "precision_em = precision_score(y_em_test, predictions_em)\n",
        "print(f\"precision for test: {precision_em}\")\n",
        "f1_em = f1_score(y_em_test, predictions_em)\n",
        "print(f\"f1 score for test: {f1_em}\")"
      ]
    },
    {
      "cell_type": "code",
      "source": [
        "conf_matrix_em = confusion_matrix(y_em_test, predictions_em)\n",
        "print(conf_matrix_em)\n",
        "\n",
        "sns.set(font_scale=1.2)\n",
        "plt.figure(figsize=(6, 5))\n",
        "sns.heatmap(conf_matrix_em, annot=True, fmt='g', cmap='Blues', annot_kws={\"size\": 16}, cbar=False)\n",
        "plt.xlabel('Predicted')\n",
        "plt.ylabel('Actual')\n",
        "plt.title('Emotional Reactions Confusion Matrix')\n",
        "plt.show()"
      ],
      "metadata": {
        "id": "lfVMV59xdsH8",
        "colab": {
          "base_uri": "https://localhost:8080/"
        },
        "outputId": "b50a8908-6a03-4f6d-fd82-4f1d17c572a5"
      },
      "execution_count": null,
      "outputs": [
        {
          "output_type": "stream",
          "name": "stdout",
          "text": [
            "[[166  52]\n",
            " [ 38 163]]\n"
          ]
        },
        {
          "output_type": "display_data",
          "data": {
            "text/plain": [
              "<Figure size 600x500 with 1 Axes>"
            ],
            "image/png": "[encoded data removed]"
          },
          "metadata": {}
        }
      ]
    },
    {
      "cell_type": "markdown",
      "metadata": {
        "id": "Nmr3XY8e4tOH"
      },
      "source": [
        "# IN binary prediction"
      ]
    },
    {
      "cell_type": "code",
      "execution_count": null,
      "metadata": {
        "id": "lMHbAC-KS6lt",
        "colab": {
          "base_uri": "https://localhost:8080/"
        },
        "outputId": "b44838b5-de92-42e5-cdc3-b6ad95cf10dd"
      },
      "outputs": [
        {
          "output_type": "execute_result",
          "data": {
            "text/plain": [
              "0    972\n",
              "1    878\n",
              "Name: empathy, dtype: int64"
            ]
          },
          "metadata": {},
          "execution_count": 16
        }
      ],
      "source": [
        "y_in_train, y_in_val, y_in_test = get_target_vectors('in')\n",
        "y_in_train.value_counts()"
      ]
    },
    {
      "cell_type": "code",
      "execution_count": null,
      "metadata": {
        "id": "9XvhqfkE9M14",
        "colab": {
          "base_uri": "https://localhost:8080/"
        },
        "outputId": "7501ab06-189e-4478-9091-60f18e349d27"
      },
      "outputs": [
        {
          "output_type": "execute_result",
          "data": {
            "text/plain": [
              "{'input_ids': <tf.Tensor: shape=(1850, 240), dtype=int32, numpy=\n",
              "array([[  101,  2140,   117, ...,     0,     0,     0],\n",
              "       [  101,  4373,  1128, ...,     0,     0,     0],\n",
              "       [  101,   168,  7595, ...,  4847,  1358,   102],\n",
              "       ...,\n",
              "       [  101, 14060,   119, ...,     0,     0,     0],\n",
              "       [  101,  1284,   112, ...,     0,     0,     0],\n",
              "       [  101, 10560,  1176, ...,     0,     0,     0]], dtype=int32)>, 'token_type_ids': <tf.Tensor: shape=(1850, 240), dtype=int32, numpy=\n",
              "array([[0, 0, 0, ..., 0, 0, 0],\n",
              "       [0, 0, 0, ..., 0, 0, 0],\n",
              "       [0, 0, 0, ..., 0, 0, 0],\n",
              "       ...,\n",
              "       [0, 0, 0, ..., 0, 0, 0],\n",
              "       [0, 0, 0, ..., 0, 0, 0],\n",
              "       [0, 0, 0, ..., 0, 0, 0]], dtype=int32)>, 'attention_mask': <tf.Tensor: shape=(1850, 240), dtype=int32, numpy=\n",
              "array([[1, 1, 1, ..., 0, 0, 0],\n",
              "       [1, 1, 1, ..., 0, 0, 0],\n",
              "       [1, 1, 1, ..., 1, 1, 1],\n",
              "       ...,\n",
              "       [1, 1, 1, ..., 0, 0, 0],\n",
              "       [1, 1, 1, ..., 0, 0, 0],\n",
              "       [1, 1, 1, ..., 0, 0, 0]], dtype=int32)>}"
            ]
          },
          "metadata": {},
          "execution_count": 17
        }
      ],
      "source": [
        "train_in_encodings, val_in_encodings, test_in_encodings = csv_to_encodings('in')\n",
        "train_in_encodings"
      ]
    },
    {
      "cell_type": "code",
      "execution_count": null,
      "metadata": {
        "colab": {
          "base_uri": "https://localhost:8080/"
        },
        "id": "K5wuKi-N4sb6",
        "outputId": "4af248da-c039-43c4-e119-27b4e3210c43"
      },
      "outputs": [
        {
          "output_type": "stream",
          "name": "stdout",
          "text": [
            "Epoch 1/10\n",
            "232/232 [==============================] - 54s 166ms/step - loss: 0.5720 - accuracy: 0.6924 - val_loss: 0.4928 - val_accuracy: 0.7650\n",
            "Epoch 2/10\n",
            "232/232 [==============================] - 31s 135ms/step - loss: 0.4853 - accuracy: 0.7622 - val_loss: 0.4740 - val_accuracy: 0.7828\n",
            "Epoch 3/10\n",
            "232/232 [==============================] - 34s 147ms/step - loss: 0.4593 - accuracy: 0.7811 - val_loss: 0.4812 - val_accuracy: 0.7747\n",
            "Epoch 4/10\n",
            "232/232 [==============================] - 35s 149ms/step - loss: 0.4537 - accuracy: 0.7800 - val_loss: 0.4698 - val_accuracy: 0.7844\n",
            "Epoch 5/10\n",
            "232/232 [==============================] - 34s 149ms/step - loss: 0.4464 - accuracy: 0.7941 - val_loss: 0.4688 - val_accuracy: 0.7909\n",
            "Epoch 6/10\n",
            "232/232 [==============================] - 34s 147ms/step - loss: 0.4336 - accuracy: 0.7995 - val_loss: 0.4651 - val_accuracy: 0.7942\n",
            "Epoch 7/10\n",
            "232/232 [==============================] - 31s 135ms/step - loss: 0.4225 - accuracy: 0.8011 - val_loss: 0.4860 - val_accuracy: 0.7747\n",
            "Epoch 8/10\n",
            "232/232 [==============================] - 34s 149ms/step - loss: 0.4291 - accuracy: 0.8005 - val_loss: 0.4893 - val_accuracy: 0.7699\n",
            "Epoch 9/10\n",
            "232/232 [==============================] - 34s 147ms/step - loss: 0.4243 - accuracy: 0.8016 - val_loss: 0.5051 - val_accuracy: 0.7601\n",
            "Epoch 10/10\n",
            "232/232 [==============================] - 34s 149ms/step - loss: 0.4157 - accuracy: 0.8114 - val_loss: 0.4714 - val_accuracy: 0.7828\n"
          ]
        }
      ],
      "source": [
        "in_classification = create_bert_binary_model(bert_model=bert_model)\n",
        "in_classification_history = in_classification.fit([train_in_encodings.input_ids, train_in_encodings.token_type_ids, train_in_encodings.attention_mask],\n",
        "                                                  y_in_train,\n",
        "                                                  validation_data=([val_in_encodings.input_ids, val_in_encodings.token_type_ids, val_in_encodings.attention_mask],\n",
        "                                                  y_in_val),\n",
        "                                                  batch_size=8,\n",
        "                                                  epochs=10,\n",
        "                                                  #class_weight=class_weight_em\n",
        "                                                  )"
      ]
    },
    {
      "cell_type": "code",
      "execution_count": null,
      "metadata": {
        "colab": {
          "base_uri": "https://localhost:8080/"
        },
        "id": "igEN90tD4sZJ",
        "outputId": "4470054b-9201-4642-ce7d-7e31749587aa"
      },
      "outputs": [
        {
          "output_type": "stream",
          "name": "stdout",
          "text": [
            "20/20 [==============================] - 10s 313ms/step\n"
          ]
        }
      ],
      "source": [
        "predictions_in = in_classification.predict([test_in_encodings.input_ids, test_in_encodings.token_type_ids, test_in_encodings.attention_mask])\n",
        "predictions_in = (predictions_in >= 0.5).astype(int)"
      ]
    },
    {
      "cell_type": "code",
      "execution_count": null,
      "metadata": {
        "id": "wVu2Hnz04sXM"
      },
      "outputs": [],
      "source": [
        "accuracy_in = accuracy_score(y_in_test, predictions_in)\n",
        "print(f\"accuracy for test: {accuracy_in}\")\n",
        "recall_in = recall_score(y_in_test, predictions_in)\n",
        "print(f\"recall for test: {recall_in}\")\n",
        "precision_in = precision_score(y_in_test, predictions_in)\n",
        "print(f\"precision for test: {precision_in}\")\n",
        "f1_in = f1_score(y_in_test, predictions_in)\n",
        "print(f\"f1 score for test: {f1_in}\")"
      ]
    },
    {
      "cell_type": "code",
      "source": [
        "conf_matrix_in = confusion_matrix(y_in_test, predictions_in)\n",
        "print(conf_matrix_in)\n",
        "\n",
        "sns.set(font_scale=1.2)\n",
        "plt.figure(figsize=(6, 5))\n",
        "sns.heatmap(conf_matrix_in, annot=True, fmt='g', cmap='Blues', annot_kws={\"size\": 16}, cbar=False)\n",
        "plt.xlabel('Predicted')\n",
        "plt.ylabel('Actual')\n",
        "plt.title('Interpretations Confusion Matrix')\n",
        "plt.show()"
      ],
      "metadata": {
        "colab": {
          "base_uri": "https://localhost:8080/",
          "height": 537
        },
        "id": "ixQs_lUldkSc",
        "outputId": "29b16422-7adc-46af-98d2-c65a9858de5e"
      },
      "execution_count": null,
      "outputs": [
        {
          "output_type": "stream",
          "name": "stdout",
          "text": [
            "[[270  61]\n",
            " [ 52 234]]\n"
          ]
        },
        {
          "output_type": "display_data",
          "data": {
            "text/plain": [
              "<Figure size 600x500 with 1 Axes>"
            ],
            "image/png": "[encoded data removed]"
          },
          "metadata": {}
        }
      ]
    },
    {
      "cell_type": "markdown",
      "metadata": {
        "id": "pqfQpXRdTwsf"
      },
      "source": [
        "# Ex binary prediction (response)"
      ]
    },
    {
      "cell_type": "code",
      "execution_count": null,
      "metadata": {
        "id": "2xSHyehtUjHu",
        "colab": {
          "base_uri": "https://localhost:8080/"
        },
        "outputId": "c3da3d05-eb21-4a77-af80-80716b22f528"
      },
      "outputs": [
        {
          "output_type": "execute_result",
          "data": {
            "text/plain": [
              "1    294\n",
              "0    282\n",
              "Name: empathy, dtype: int64"
            ]
          },
          "metadata": {},
          "execution_count": 28
        }
      ],
      "source": [
        "y_ex_train, y_ex_val, y_ex_test = get_target_vectors('ex')\n",
        "y_ex_train.value_counts()"
      ]
    },
    {
      "cell_type": "code",
      "execution_count": null,
      "metadata": {
        "colab": {
          "base_uri": "https://localhost:8080/"
        },
        "id": "FOj5kGp5UjDF",
        "outputId": "219b7db1-b906-42af-8cf7-85b93b606239"
      },
      "outputs": [
        {
          "output_type": "execute_result",
          "data": {
            "text/plain": [
              "{'input_ids': <tf.Tensor: shape=(576, 150), dtype=int32, numpy=\n",
              "array([[ 101,  146, 3668, ...,    0,    0,    0],\n",
              "       [ 101, 1302, 1274, ...,    0,    0,    0],\n",
              "       [ 101, 7595,  117, ...,    0,    0,    0],\n",
              "       ...,\n",
              "       [ 101, 2160, 1936, ...,    0,    0,    0],\n",
              "       [ 101, 1135, 1281, ...,    0,    0,    0],\n",
              "       [ 101, 8790, 1910, ..., 9655,  119,  102]], dtype=int32)>, 'token_type_ids': <tf.Tensor: shape=(576, 150), dtype=int32, numpy=\n",
              "array([[0, 0, 0, ..., 0, 0, 0],\n",
              "       [0, 0, 0, ..., 0, 0, 0],\n",
              "       [0, 0, 0, ..., 0, 0, 0],\n",
              "       ...,\n",
              "       [0, 0, 0, ..., 0, 0, 0],\n",
              "       [0, 0, 0, ..., 0, 0, 0],\n",
              "       [0, 0, 0, ..., 0, 0, 0]], dtype=int32)>, 'attention_mask': <tf.Tensor: shape=(576, 150), dtype=int32, numpy=\n",
              "array([[1, 1, 1, ..., 0, 0, 0],\n",
              "       [1, 1, 1, ..., 0, 0, 0],\n",
              "       [1, 1, 1, ..., 0, 0, 0],\n",
              "       ...,\n",
              "       [1, 1, 1, ..., 0, 0, 0],\n",
              "       [1, 1, 1, ..., 0, 0, 0],\n",
              "       [1, 1, 1, ..., 1, 1, 1]], dtype=int32)>}"
            ]
          },
          "metadata": {},
          "execution_count": 29
        }
      ],
      "source": [
        "train_ex_encodings, val_ex_encodings, test_ex_encodings = csv_to_encodings('ex')\n",
        "train_ex_encodings"
      ]
    },
    {
      "cell_type": "code",
      "execution_count": null,
      "metadata": {
        "colab": {
          "base_uri": "https://localhost:8080/"
        },
        "id": "gZjS_T_2Ui_B",
        "outputId": "18564618-e75c-48e4-a184-5ddb3e095d1a"
      },
      "outputs": [
        {
          "output_type": "stream",
          "name": "stdout",
          "text": [
            "Epoch 1/10\n",
            "72/72 [==============================] - 18s 144ms/step - loss: 0.6357 - accuracy: 0.6441 - val_loss: 0.4504 - val_accuracy: 0.8229\n",
            "Epoch 2/10\n",
            "72/72 [==============================] - 9s 120ms/step - loss: 0.4564 - accuracy: 0.8073 - val_loss: 0.3957 - val_accuracy: 0.8385\n",
            "Epoch 3/10\n",
            "72/72 [==============================] - 9s 129ms/step - loss: 0.4094 - accuracy: 0.8073 - val_loss: 0.3393 - val_accuracy: 0.8438\n",
            "Epoch 4/10\n",
            "72/72 [==============================] - 9s 122ms/step - loss: 0.4000 - accuracy: 0.8316 - val_loss: 0.3553 - val_accuracy: 0.8698\n",
            "Epoch 5/10\n",
            "72/72 [==============================] - 9s 119ms/step - loss: 0.3410 - accuracy: 0.8646 - val_loss: 0.3198 - val_accuracy: 0.8385\n",
            "Epoch 6/10\n",
            "72/72 [==============================] - 8s 118ms/step - loss: 0.3542 - accuracy: 0.8524 - val_loss: 0.3519 - val_accuracy: 0.8281\n",
            "Epoch 7/10\n",
            "72/72 [==============================] - 9s 125ms/step - loss: 0.3582 - accuracy: 0.8333 - val_loss: 0.3256 - val_accuracy: 0.8750\n",
            "Epoch 8/10\n",
            "72/72 [==============================] - 9s 124ms/step - loss: 0.3210 - accuracy: 0.8715 - val_loss: 0.3335 - val_accuracy: 0.8802\n",
            "Epoch 9/10\n",
            "72/72 [==============================] - 8s 117ms/step - loss: 0.3647 - accuracy: 0.8333 - val_loss: 0.3079 - val_accuracy: 0.8594\n",
            "Epoch 10/10\n",
            "72/72 [==============================] - 8s 116ms/step - loss: 0.3336 - accuracy: 0.8576 - val_loss: 0.3007 - val_accuracy: 0.8854\n"
          ]
        }
      ],
      "source": [
        "ex_classification = create_bert_binary_model(bert_model=bert_model)\n",
        "ex_classification_history = ex_classification.fit([train_ex_encodings.input_ids, train_ex_encodings.token_type_ids, train_ex_encodings.attention_mask],\n",
        "                                                  y_ex_train,\n",
        "                                                  validation_data=([val_ex_encodings.input_ids, val_ex_encodings.token_type_ids, val_ex_encodings.attention_mask],\n",
        "                                                  y_ex_val),\n",
        "                                                  batch_size=8,\n",
        "                                                  epochs=10,\n",
        "                                                  #class_weight=class_weight_em\n",
        "                                                  )"
      ]
    },
    {
      "cell_type": "code",
      "execution_count": null,
      "metadata": {
        "id": "8B9uviz4VVnm"
      },
      "outputs": [],
      "source": [
        "predictions_ex = ex_classification.predict([test_ex_encodings.input_ids, test_ex_encodings.token_type_ids, test_ex_encodings.attention_mask])\n",
        "predictions_ex = (predictions_ex >= 0.5).astype(int)"
      ]
    },
    {
      "cell_type": "code",
      "execution_count": null,
      "metadata": {
        "id": "-wURg4S1VVFV"
      },
      "outputs": [],
      "source": [
        "accuracy_ex = accuracy_score(y_ex_test, predictions_ex)\n",
        "print(f\"accuracy for test: {accuracy_ex}\")\n",
        "recall_ex = recall_score(y_ex_test, predictions_ex)\n",
        "print(f\"recall for test: {recall_ex}\")\n",
        "precision_ex = precision_score(y_ex_test, predictions_ex)\n",
        "print(f\"precision for test: {precision_ex}\")\n",
        "f1_ex = f1_score(y_ex_test, predictions_ex)\n",
        "print(f\"f1 score for test: {f1_ex}\")"
      ]
    },
    {
      "cell_type": "code",
      "source": [
        "conf_matrix_ex = confusion_matrix(y_ex_test, predictions_ex)\n",
        "print(conf_matrix_ex)\n",
        "\n",
        "sns.set(font_scale=1.2)\n",
        "plt.figure(figsize=(6, 5))\n",
        "sns.heatmap(conf_matrix_ex, annot=True, fmt='g', cmap='Blues', annot_kws={\"size\": 16}, cbar=False)\n",
        "plt.xlabel('Predicted')\n",
        "plt.ylabel('Actual')\n",
        "plt.title('Explorations Confusion Matrix')\n",
        "plt.show()"
      ],
      "metadata": {
        "id": "lO4tuEgzdEF6"
      },
      "execution_count": null,
      "outputs": []
    },
    {
      "cell_type": "markdown",
      "source": [
        "# Ex aug binary prediction (response)"
      ],
      "metadata": {
        "id": "g0ZRgbY3_pJ1"
      }
    },
    {
      "cell_type": "code",
      "source": [
        "y_ex_aug_train, y_ex_aug_val, y_ex_aug_test = get_target_vectors('ex_aug')\n",
        "y_ex_aug_train.value_counts()"
      ],
      "metadata": {
        "colab": {
          "base_uri": "https://localhost:8080/"
        },
        "id": "svv-psNJ_pcY",
        "outputId": "751c8b15-2599-43f8-852b-089f330b0ff5"
      },
      "execution_count": null,
      "outputs": [
        {
          "output_type": "execute_result",
          "data": {
            "text/plain": [
              "1    498\n",
              "0    486\n",
              "Name: empathy, dtype: int64"
            ]
          },
          "metadata": {},
          "execution_count": 10
        }
      ]
    },
    {
      "cell_type": "code",
      "source": [
        "train_ex_aug_encodings, val_ex_aug_encodings, test_ex_aug_encodings = csv_to_encodings('ex_aug')\n",
        "train_ex_aug_encodings"
      ],
      "metadata": {
        "colab": {
          "base_uri": "https://localhost:8080/"
        },
        "id": "r2fQtaIF_r4S",
        "outputId": "06d5204a-7953-4244-df07-946b203b8ef2"
      },
      "execution_count": null,
      "outputs": [
        {
          "output_type": "execute_result",
          "data": {
            "text/plain": [
              "{'input_ids': <tf.Tensor: shape=(984, 150), dtype=int32, numpy=\n",
              "array([[ 101, 1327, 2228, ...,    0,    0,    0],\n",
              "       [ 101, 8667,  106, ...,    0,    0,    0],\n",
              "       [ 101, 1188, 2304, ...,    0,    0,    0],\n",
              "       ...,\n",
              "       [ 101, 1731, 1209, ...,    0,    0,    0],\n",
              "       [ 101,  146, 5340, ...,    0,    0,    0],\n",
              "       [ 101, 1731, 1385, ...,    0,    0,    0]], dtype=int32)>, 'token_type_ids': <tf.Tensor: shape=(984, 150), dtype=int32, numpy=\n",
              "array([[0, 0, 0, ..., 0, 0, 0],\n",
              "       [0, 0, 0, ..., 0, 0, 0],\n",
              "       [0, 0, 0, ..., 0, 0, 0],\n",
              "       ...,\n",
              "       [0, 0, 0, ..., 0, 0, 0],\n",
              "       [0, 0, 0, ..., 0, 0, 0],\n",
              "       [0, 0, 0, ..., 0, 0, 0]], dtype=int32)>, 'attention_mask': <tf.Tensor: shape=(984, 150), dtype=int32, numpy=\n",
              "array([[1, 1, 1, ..., 0, 0, 0],\n",
              "       [1, 1, 1, ..., 0, 0, 0],\n",
              "       [1, 1, 1, ..., 0, 0, 0],\n",
              "       ...,\n",
              "       [1, 1, 1, ..., 0, 0, 0],\n",
              "       [1, 1, 1, ..., 0, 0, 0],\n",
              "       [1, 1, 1, ..., 0, 0, 0]], dtype=int32)>}"
            ]
          },
          "metadata": {},
          "execution_count": 11
        }
      ]
    },
    {
      "cell_type": "code",
      "source": [
        "ex_aug_classification = create_bert_binary_model(bert_model=bert_model)\n",
        "ex_aug_classification_history = ex_aug_classification.fit([train_ex_aug_encodings.input_ids, train_ex_aug_encodings.token_type_ids, train_ex_aug_encodings.attention_mask],\n",
        "                                                  y_ex_aug_train,\n",
        "                                                  validation_data=([val_ex_aug_encodings.input_ids, val_ex_aug_encodings.token_type_ids, val_ex_aug_encodings.attention_mask],\n",
        "                                                  y_ex_aug_val),\n",
        "                                                  batch_size=8,\n",
        "                                                  epochs=10,\n",
        "                                                  #class_weight=class_weight_em\n",
        "                                                  )"
      ],
      "metadata": {
        "colab": {
          "base_uri": "https://localhost:8080/"
        },
        "id": "3Z_kye71__g0",
        "outputId": "880a0d76-c61d-42b3-aa30-63127bb4e8cf"
      },
      "execution_count": null,
      "outputs": [
        {
          "output_type": "stream",
          "name": "stdout",
          "text": [
            "Epoch 1/10\n",
            "123/123 [==============================] - 42s 170ms/step - loss: 0.5384 - accuracy: 0.7083 - val_loss: 0.4150 - val_accuracy: 0.7988\n",
            "Epoch 2/10\n",
            "123/123 [==============================] - 17s 138ms/step - loss: 0.4141 - accuracy: 0.8059 - val_loss: 0.3687 - val_accuracy: 0.8323\n",
            "Epoch 3/10\n",
            "123/123 [==============================] - 15s 124ms/step - loss: 0.3555 - accuracy: 0.8557 - val_loss: 0.4084 - val_accuracy: 0.7927\n",
            "Epoch 4/10\n",
            "123/123 [==============================] - 16s 130ms/step - loss: 0.3476 - accuracy: 0.8638 - val_loss: 0.3518 - val_accuracy: 0.8415\n",
            "Epoch 5/10\n",
            "123/123 [==============================] - 17s 141ms/step - loss: 0.3394 - accuracy: 0.8659 - val_loss: 0.3301 - val_accuracy: 0.8384\n",
            "Epoch 6/10\n",
            "123/123 [==============================] - 17s 137ms/step - loss: 0.3255 - accuracy: 0.8740 - val_loss: 0.3191 - val_accuracy: 0.8537\n",
            "Epoch 7/10\n",
            "123/123 [==============================] - 16s 130ms/step - loss: 0.3075 - accuracy: 0.8791 - val_loss: 0.3193 - val_accuracy: 0.8567\n",
            "Epoch 8/10\n",
            "123/123 [==============================] - 16s 130ms/step - loss: 0.3114 - accuracy: 0.8801 - val_loss: 0.3196 - val_accuracy: 0.8598\n",
            "Epoch 9/10\n",
            "123/123 [==============================] - 14s 118ms/step - loss: 0.2937 - accuracy: 0.8801 - val_loss: 0.3321 - val_accuracy: 0.8567\n",
            "Epoch 10/10\n",
            "123/123 [==============================] - 14s 118ms/step - loss: 0.2969 - accuracy: 0.8953 - val_loss: 0.3150 - val_accuracy: 0.8476\n"
          ]
        }
      ]
    },
    {
      "cell_type": "code",
      "source": [
        "predictions_ex_aug = ex_aug_classification.predict([test_ex_aug_encodings.input_ids, test_ex_aug_encodings.token_type_ids, test_ex_aug_encodings.attention_mask])\n",
        "predictions_ex_aug = (predictions_ex_aug >= 0.5).astype(int)"
      ],
      "metadata": {
        "colab": {
          "base_uri": "https://localhost:8080/"
        },
        "id": "KPB5LBAuAWCi",
        "outputId": "56ea6765-f78a-44c1-ec39-c861a9386b3b"
      },
      "execution_count": null,
      "outputs": [
        {
          "output_type": "stream",
          "name": "stdout",
          "text": [
            "11/11 [==============================] - 7s 309ms/step\n"
          ]
        }
      ]
    },
    {
      "cell_type": "code",
      "source": [
        "accuracy_ex_aug = accuracy_score(y_ex_aug_test, predictions_ex_aug)\n",
        "print(f\"accuracy for test: {accuracy_ex_aug}\")\n",
        "recall_ex_aug = recall_score(y_ex_aug_test, predictions_ex_aug)\n",
        "print(f\"recall for test: {recall_ex_aug}\")\n",
        "precision_ex_aug = precision_score(y_ex_aug_test, predictions_ex_aug)\n",
        "print(f\"precision for test: {precision_ex_aug}\")\n",
        "f1_ex_aug = f1_score(y_ex_aug_test, predictions_ex_aug)\n",
        "print(f\"f1 score for test: {f1_ex_aug}\")"
      ],
      "metadata": {
        "colab": {
          "base_uri": "https://localhost:8080/"
        },
        "id": "U3XN9d2AAYlT",
        "outputId": "44ea559d-87e3-4a04-8317-3d47f449bbfc"
      },
      "execution_count": null,
      "outputs": [
        {
          "output_type": "stream",
          "name": "stdout",
          "text": [
            "accuracy for test: 0.8597560975609756\n",
            "recall for test: 0.8026315789473685\n",
            "precision for test: 0.8840579710144928\n",
            "f1 score for test: 0.8413793103448277\n"
          ]
        }
      ]
    },
    {
      "cell_type": "code",
      "source": [
        "conf_matrix_ex_aug = confusion_matrix(y_ex_aug_test, predictions_ex_aug)\n",
        "print(conf_matrix_ex_aug)\n",
        "\n",
        "sns.set(font_scale=1.2)\n",
        "plt.figure(figsize=(6, 5))\n",
        "sns.heatmap(conf_matrix_ex_aug, annot=True, fmt='g', cmap='Blues', annot_kws={\"size\": 16}, cbar=False)\n",
        "plt.xlabel('Predicted')\n",
        "plt.ylabel('Actual')\n",
        "plt.title('Explorations Augmented Confusion Matrix')\n",
        "plt.show()"
      ],
      "metadata": {
        "colab": {
          "base_uri": "https://localhost:8080/",
          "height": 537
        },
        "id": "IY0Xc9t5AacT",
        "outputId": "a4e32cfd-f8c4-4509-f113-efa18ace8fcb"
      },
      "execution_count": null,
      "outputs": [
        {
          "output_type": "stream",
          "name": "stdout",
          "text": [
            "[[160  16]\n",
            " [ 30 122]]\n"
          ]
        },
        {
          "output_type": "display_data",
          "data": {
            "text/plain": [
              "<Figure size 600x500 with 1 Axes>"
            ],
            "image/png": "[encoded data removed]"
          },
          "metadata": {}
        }
      ]
    },
    {
      "cell_type": "markdown",
      "metadata": {
        "id": "GnZunqJSYqOx"
      },
      "source": [
        "# summary"
      ]
    },
    {
      "cell_type": "code",
      "execution_count": null,
      "metadata": {
        "colab": {
          "base_uri": "https://localhost:8080/",
          "height": 175
        },
        "id": "gNe9I0luYoex",
        "outputId": "81df2a49-7af5-4a78-943b-872ab7d27d0d"
      },
      "outputs": [
        {
          "output_type": "execute_result",
          "data": {
            "text/plain": [
              "  Category  Accuracy  Precision    Recall  F1 Score\n",
              "0       em  0.768496   0.837662  0.641791  0.726761\n",
              "1       in  0.816856   0.793220  0.818182  0.805508\n",
              "2       ex  0.833333   0.831461  0.813187  0.822222\n",
              "3   ex_aug  0.859756   0.884058  0.802632  0.841379"
            ],
            "text/html": [
              "\n",
              "  <div id=\"df-566fa27e-8a49-41af-bab0-445e59170cee\" class=\"colab-df-container\">\n",
              "    <div>\n",
              "<style scoped>\n",
              "    .dataframe tbody tr th:only-of-type {\n",
              "        vertical-align: middle;\n",
              "    }\n",
              "\n",
              "    .dataframe tbody tr th {\n",
              "        vertical-align: top;\n",
              "    }\n",
              "\n",
              "    .dataframe thead th {\n",
              "        text-align: right;\n",
              "    }\n",
              "</style>\n",
              "<table border=\"1\" class=\"dataframe\">\n",
              "  <thead>\n",
              "    <tr style=\"text-align: right;\">\n",
              "      <th></th>\n",
              "      <th>Category</th>\n",
              "      <th>Accuracy</th>\n",
              "      <th>Precision</th>\n",
              "      <th>Recall</th>\n",
              "      <th>F1 Score</th>\n",
              "    </tr>\n",
              "  </thead>\n",
              "  <tbody>\n",
              "    <tr>\n",
              "      <th>0</th>\n",
              "      <td>em</td>\n",
              "      <td>0.768496</td>\n",
              "      <td>0.837662</td>\n",
              "      <td>0.641791</td>\n",
              "      <td>0.726761</td>\n",
              "    </tr>\n",
              "    <tr>\n",
              "      <th>1</th>\n",
              "      <td>in</td>\n",
              "      <td>0.816856</td>\n",
              "      <td>0.793220</td>\n",
              "      <td>0.818182</td>\n",
              "      <td>0.805508</td>\n",
              "    </tr>\n",
              "    <tr>\n",
              "      <th>2</th>\n",
              "      <td>ex</td>\n",
              "      <td>0.833333</td>\n",
              "      <td>0.831461</td>\n",
              "      <td>0.813187</td>\n",
              "      <td>0.822222</td>\n",
              "    </tr>\n",
              "    <tr>\n",
              "      <th>3</th>\n",
              "      <td>ex_aug</td>\n",
              "      <td>0.859756</td>\n",
              "      <td>0.884058</td>\n",
              "      <td>0.802632</td>\n",
              "      <td>0.841379</td>\n",
              "    </tr>\n",
              "  </tbody>\n",
              "</table>\n",
              "</div>\n",
              "    <div class=\"colab-df-buttons\">\n",
              "\n",
              "  <div class=\"colab-df-container\">\n",
              "    <button class=\"colab-df-convert\" onclick=\"convertToInteractive('df-566fa27e-8a49-41af-bab0-445e59170cee')\"\n",
              "            title=\"Convert this dataframe to an interactive table.\"\n",
              "            style=\"display:none;\">\n",
              "\n",
              "  <svg xmlns=\"http://www.w3.org/2000/svg\" height=\"24px\" viewBox=\"0 -960 960 960\">\n",
              "    <path d=\"M120-120v-720h720v720H120Zm60-500h600v-160H180v160Zm220 220h160v-160H400v160Zm0 220h160v-160H400v160ZM180-400h160v-160H180v160Zm440 0h160v-160H620v160ZM180-180h160v-160H180v160Zm440 0h160v-160H620v160Z\"/>\n",
              "  </svg>\n",
              "    </button>\n",
              "\n",
              "  <style>\n",
              "    .colab-df-container {\n",
              "      display:flex;\n",
              "      gap: 12px;\n",
              "    }\n",
              "\n",
              "    .colab-df-convert {\n",
              "      background-color: #E8F0FE;\n",
              "      border: none;\n",
              "      border-radius: 50%;\n",
              "      cursor: pointer;\n",
              "      display: none;\n",
              "      fill: #1967D2;\n",
              "      height: 32px;\n",
              "      padding: 0 0 0 0;\n",
              "      width: 32px;\n",
              "    }\n",
              "\n",
              "    .colab-df-convert:hover {\n",
              "      background-color: #E2EBFA;\n",
              "      box-shadow: 0px 1px 2px rgba(60, 64, 67, 0.3), 0px 1px 3px 1px rgba(60, 64, 67, 0.15);\n",
              "      fill: #174EA6;\n",
              "    }\n",
              "\n",
              "    .colab-df-buttons div {\n",
              "      margin-bottom: 4px;\n",
              "    }\n",
              "\n",
              "    [theme=dark] .colab-df-convert {\n",
              "      background-color: #3B4455;\n",
              "      fill: #D2E3FC;\n",
              "    }\n",
              "\n",
              "    [theme=dark] .colab-df-convert:hover {\n",
              "      background-color: #434B5C;\n",
              "      box-shadow: 0px 1px 3px 1px rgba(0, 0, 0, 0.15);\n",
              "      filter: drop-shadow(0px 1px 2px rgba(0, 0, 0, 0.3));\n",
              "      fill: #FFFFFF;\n",
              "    }\n",
              "  </style>\n",
              "\n",
              "    <script>\n",
              "      const buttonEl =\n",
              "        document.querySelector('#df-566fa27e-8a49-41af-bab0-445e59170cee button.colab-df-convert');\n",
              "      buttonEl.style.display =\n",
              "        google.colab.kernel.accessAllowed ? 'block' : 'none';\n",
              "\n",
              "      async function convertToInteractive(key) {\n",
              "        const element = document.querySelector('#df-566fa27e-8a49-41af-bab0-445e59170cee');\n",
              "        const dataTable =\n",
              "          await google.colab.kernel.invokeFunction('convertToInteractive',\n",
              "                                                    [key], {});\n",
              "        if (!dataTable) return;\n",
              "\n",
              "        const docLinkHtml = 'Like what you see? Visit the ' +\n",
              "          '<a target=\"_blank\" href=https://colab.research.google.com/notebooks/data_table.ipynb>data table notebook</a>'\n",
              "          + ' to learn more about interactive tables.';\n",
              "        element.innerHTML = '';\n",
              "        dataTable['output_type'] = 'display_data';\n",
              "        await google.colab.output.renderOutput(dataTable, element);\n",
              "        const docLink = document.createElement('div');\n",
              "        docLink.innerHTML = docLinkHtml;\n",
              "        element.appendChild(docLink);\n",
              "      }\n",
              "    </script>\n",
              "  </div>\n",
              "\n",
              "\n",
              "<div id=\"df-f20d4adb-8086-4840-ad77-e441de16ffb6\">\n",
              "  <button class=\"colab-df-quickchart\" onclick=\"quickchart('df-f20d4adb-8086-4840-ad77-e441de16ffb6')\"\n",
              "            title=\"Suggest charts\"\n",
              "            style=\"display:none;\">\n",
              "\n",
              "<svg xmlns=\"http://www.w3.org/2000/svg\" height=\"24px\"viewBox=\"0 0 24 24\"\n",
              "     width=\"24px\">\n",
              "    <g>\n",
              "        <path d=\"M19 3H5c-1.1 0-2 .9-2 2v14c0 1.1.9 2 2 2h14c1.1 0 2-.9 2-2V5c0-1.1-.9-2-2-2zM9 17H7v-7h2v7zm4 0h-2V7h2v10zm4 0h-2v-4h2v4z\"/>\n",
              "    </g>\n",
              "</svg>\n",
              "  </button>\n",
              "\n",
              "<style>\n",
              "  .colab-df-quickchart {\n",
              "      --bg-color: #E8F0FE;\n",
              "      --fill-color: #1967D2;\n",
              "      --hover-bg-color: #E2EBFA;\n",
              "      --hover-fill-color: #174EA6;\n",
              "      --disabled-fill-color: #AAA;\n",
              "      --disabled-bg-color: #DDD;\n",
              "  }\n",
              "\n",
              "  [theme=dark] .colab-df-quickchart {\n",
              "      --bg-color: #3B4455;\n",
              "      --fill-color: #D2E3FC;\n",
              "      --hover-bg-color: #434B5C;\n",
              "      --hover-fill-color: #FFFFFF;\n",
              "      --disabled-bg-color: #3B4455;\n",
              "      --disabled-fill-color: #666;\n",
              "  }\n",
              "\n",
              "  .colab-df-quickchart {\n",
              "    background-color: var(--bg-color);\n",
              "    border: none;\n",
              "    border-radius: 50%;\n",
              "    cursor: pointer;\n",
              "    display: none;\n",
              "    fill: var(--fill-color);\n",
              "    height: 32px;\n",
              "    padding: 0;\n",
              "    width: 32px;\n",
              "  }\n",
              "\n",
              "  .colab-df-quickchart:hover {\n",
              "    background-color: var(--hover-bg-color);\n",
              "    box-shadow: 0 1px 2px rgba(60, 64, 67, 0.3), 0 1px 3px 1px rgba(60, 64, 67, 0.15);\n",
              "    fill: var(--button-hover-fill-color);\n",
              "  }\n",
              "\n",
              "  .colab-df-quickchart-complete:disabled,\n",
              "  .colab-df-quickchart-complete:disabled:hover {\n",
              "    background-color: var(--disabled-bg-color);\n",
              "    fill: var(--disabled-fill-color);\n",
              "    box-shadow: none;\n",
              "  }\n",
              "\n",
              "  .colab-df-spinner {\n",
              "    border: 2px solid var(--fill-color);\n",
              "    border-color: transparent;\n",
              "    border-bottom-color: var(--fill-color);\n",
              "    animation:\n",
              "      spin 1s steps(1) infinite;\n",
              "  }\n",
              "\n",
              "  @keyframes spin {\n",
              "    0% {\n",
              "      border-color: transparent;\n",
              "      border-bottom-color: var(--fill-color);\n",
              "      border-left-color: var(--fill-color);\n",
              "    }\n",
              "    20% {\n",
              "      border-color: transparent;\n",
              "      border-left-color: var(--fill-color);\n",
              "      border-top-color: var(--fill-color);\n",
              "    }\n",
              "    30% {\n",
              "      border-color: transparent;\n",
              "      border-left-color: var(--fill-color);\n",
              "      border-top-color: var(--fill-color);\n",
              "      border-right-color: var(--fill-color);\n",
              "    }\n",
              "    40% {\n",
              "      border-color: transparent;\n",
              "      border-right-color: var(--fill-color);\n",
              "      border-top-color: var(--fill-color);\n",
              "    }\n",
              "    60% {\n",
              "      border-color: transparent;\n",
              "      border-right-color: var(--fill-color);\n",
              "    }\n",
              "    80% {\n",
              "      border-color: transparent;\n",
              "      border-right-color: var(--fill-color);\n",
              "      border-bottom-color: var(--fill-color);\n",
              "    }\n",
              "    90% {\n",
              "      border-color: transparent;\n",
              "      border-bottom-color: var(--fill-color);\n",
              "    }\n",
              "  }\n",
              "</style>\n",
              "\n",
              "  <script>\n",
              "    async function quickchart(key) {\n",
              "      const quickchartButtonEl =\n",
              "        document.querySelector('#' + key + ' button');\n",
              "      quickchartButtonEl.disabled = true;  // To prevent multiple clicks.\n",
              "      quickchartButtonEl.classList.add('colab-df-spinner');\n",
              "      try {\n",
              "        const charts = await google.colab.kernel.invokeFunction(\n",
              "            'suggestCharts', [key], {});\n",
              "      } catch (error) {\n",
              "        console.error('Error during call to suggestCharts:', error);\n",
              "      }\n",
              "      quickchartButtonEl.classList.remove('colab-df-spinner');\n",
              "      quickchartButtonEl.classList.add('colab-df-quickchart-complete');\n",
              "    }\n",
              "    (() => {\n",
              "      let quickchartButtonEl =\n",
              "        document.querySelector('#df-f20d4adb-8086-4840-ad77-e441de16ffb6 button');\n",
              "      quickchartButtonEl.style.display =\n",
              "        google.colab.kernel.accessAllowed ? 'block' : 'none';\n",
              "    })();\n",
              "  </script>\n",
              "</div>\n",
              "    </div>\n",
              "  </div>\n"
            ]
          },
          "metadata": {},
          "execution_count": 36
        }
      ],
      "source": [
        "metrics = {\n",
        "    'Category': ['em', 'in', 'ex', 'ex_aug'],\n",
        "    'Accuracy': [accuracy_em, accuracy_in, accuracy_ex, accuracy_ex_aug],\n",
        "    'Precision': [precision_em, precision_in, precision_ex, precision_ex_aug],\n",
        "    'Recall': [recall_em, recall_in, recall_ex, recall_ex_aug],\n",
        "    'F1 Score': [f1_em, f1_in, f1_ex, f1_ex_aug]\n",
        "}\n",
        "\n",
        "metrics_df = pd.DataFrame(metrics)\n",
        "\n",
        "metrics_df"
      ]
    }
  ],
  "metadata": {
    "accelerator": "GPU",
    "colab": {
      "provenance": []
    },
    "kernelspec": {
      "display_name": "Python 3",
      "name": "python3"
    },
    "language_info": {
      "name": "python"
    },
    "widgets": {
      "application/vnd.jupyter.widget-state+json": {
        "281d9f9cc27d46c3b3908e936cda5c21": {
          "model_module": "@jupyter-widgets/controls",
          "model_name": "HBoxModel",
          "model_module_version": "1.5.0",
          "state": {
            "_dom_classes": [],
            "_model_module": "@jupyter-widgets/controls",
            "_model_module_version": "1.5.0",
            "_model_name": "HBoxModel",
            "_view_count": null,
            "_view_module": "@jupyter-widgets/controls",
            "_view_module_version": "1.5.0",
            "_view_name": "HBoxView",
            "box_style": "",
            "children": [
              "IPY_MODEL_612c3465d94a489aa2583a91c0fdeb18",
              "IPY_MODEL_5677423ae4e04a519b8e245c72a80717",
              "IPY_MODEL_2a57a4d614d24ab2a1f058c96cc97be2"
            ],
            "layout": "IPY_MODEL_e4729239b746476487717d624a68c138"
          }
        },
        "612c3465d94a489aa2583a91c0fdeb18": {
          "model_module": "@jupyter-widgets/controls",
          "model_name": "HTMLModel",
          "model_module_version": "1.5.0",
          "state": {
            "_dom_classes": [],
            "_model_module": "@jupyter-widgets/controls",
            "_model_module_version": "1.5.0",
            "_model_name": "HTMLModel",
            "_view_count": null,
            "_view_module": "@jupyter-widgets/controls",
            "_view_module_version": "1.5.0",
            "_view_name": "HTMLView",
            "description": "",
            "description_tooltip": null,
            "layout": "IPY_MODEL_dcac032a12394f1abd189fc085e2fe29",
            "placeholder": "​",
            "style": "IPY_MODEL_d2ca155917f94f138fac77029efaabe9",
            "value": "tokenizer_config.json: 100%"
          }
        },
        "5677423ae4e04a519b8e245c72a80717": {
          "model_module": "@jupyter-widgets/controls",
          "model_name": "FloatProgressModel",
          "model_module_version": "1.5.0",
          "state": {
            "_dom_classes": [],
            "_model_module": "@jupyter-widgets/controls",
            "_model_module_version": "1.5.0",
            "_model_name": "FloatProgressModel",
            "_view_count": null,
            "_view_module": "@jupyter-widgets/controls",
            "_view_module_version": "1.5.0",
            "_view_name": "ProgressView",
            "bar_style": "success",
            "description": "",
            "description_tooltip": null,
            "layout": "IPY_MODEL_f7e5c89433bd4c4dab2c2e679679d58d",
            "max": 29,
            "min": 0,
            "orientation": "horizontal",
            "style": "IPY_MODEL_d54de011c0a149029f293649052fbbfc",
            "value": 29
          }
        },
        "2a57a4d614d24ab2a1f058c96cc97be2": {
          "model_module": "@jupyter-widgets/controls",
          "model_name": "HTMLModel",
          "model_module_version": "1.5.0",
          "state": {
            "_dom_classes": [],
            "_model_module": "@jupyter-widgets/controls",
            "_model_module_version": "1.5.0",
            "_model_name": "HTMLModel",
            "_view_count": null,
            "_view_module": "@jupyter-widgets/controls",
            "_view_module_version": "1.5.0",
            "_view_name": "HTMLView",
            "description": "",
            "description_tooltip": null,
            "layout": "IPY_MODEL_f1cc1d7378d345f387e8dca069abd313",
            "placeholder": "​",
            "style": "IPY_MODEL_b5ea226cebdb417eb4e98df2c93277eb",
            "value": " 29.0/29.0 [00:00&lt;00:00, 372B/s]"
          }
        },
        "e4729239b746476487717d624a68c138": {
          "model_module": "@jupyter-widgets/base",
          "model_name": "LayoutModel",
          "model_module_version": "1.2.0",
          "state": {
            "_model_module": "@jupyter-widgets/base",
            "_model_module_version": "1.2.0",
            "_model_name": "LayoutModel",
            "_view_count": null,
            "_view_module": "@jupyter-widgets/base",
            "_view_module_version": "1.2.0",
            "_view_name": "LayoutView",
            "align_content": null,
            "align_items": null,
            "align_self": null,
            "border": null,
            "bottom": null,
            "display": null,
            "flex": null,
            "flex_flow": null,
            "grid_area": null,
            "grid_auto_columns": null,
            "grid_auto_flow": null,
            "grid_auto_rows": null,
            "grid_column": null,
            "grid_gap": null,
            "grid_row": null,
            "grid_template_areas": null,
            "grid_template_columns": null,
            "grid_template_rows": null,
            "height": null,
            "justify_content": null,
            "justify_items": null,
            "left": null,
            "margin": null,
            "max_height": null,
            "max_width": null,
            "min_height": null,
            "min_width": null,
            "object_fit": null,
            "object_position": null,
            "order": null,
            "overflow": null,
            "overflow_x": null,
            "overflow_y": null,
            "padding": null,
            "right": null,
            "top": null,
            "visibility": null,
            "width": null
          }
        },
        "dcac032a12394f1abd189fc085e2fe29": {
          "model_module": "@jupyter-widgets/base",
          "model_name": "LayoutModel",
          "model_module_version": "1.2.0",
          "state": {
            "_model_module": "@jupyter-widgets/base",
            "_model_module_version": "1.2.0",
            "_model_name": "LayoutModel",
            "_view_count": null,
            "_view_module": "@jupyter-widgets/base",
            "_view_module_version": "1.2.0",
            "_view_name": "LayoutView",
            "align_content": null,
            "align_items": null,
            "align_self": null,
            "border": null,
            "bottom": null,
            "display": null,
            "flex": null,
            "flex_flow": null,
            "grid_area": null,
            "grid_auto_columns": null,
            "grid_auto_flow": null,
            "grid_auto_rows": null,
            "grid_column": null,
            "grid_gap": null,
            "grid_row": null,
            "grid_template_areas": null,
            "grid_template_columns": null,
            "grid_template_rows": null,
            "height": null,
            "justify_content": null,
            "justify_items": null,
            "left": null,
            "margin": null,
            "max_height": null,
            "max_width": null,
            "min_height": null,
            "min_width": null,
            "object_fit": null,
            "object_position": null,
            "order": null,
            "overflow": null,
            "overflow_x": null,
            "overflow_y": null,
            "padding": null,
            "right": null,
            "top": null,
            "visibility": null,
            "width": null
          }
        },
        "d2ca155917f94f138fac77029efaabe9": {
          "model_module": "@jupyter-widgets/controls",
          "model_name": "DescriptionStyleModel",
          "model_module_version": "1.5.0",
          "state": {
            "_model_module": "@jupyter-widgets/controls",
            "_model_module_version": "1.5.0",
            "_model_name": "DescriptionStyleModel",
            "_view_count": null,
            "_view_module": "@jupyter-widgets/base",
            "_view_module_version": "1.2.0",
            "_view_name": "StyleView",
            "description_width": ""
          }
        },
        "f7e5c89433bd4c4dab2c2e679679d58d": {
          "model_module": "@jupyter-widgets/base",
          "model_name": "LayoutModel",
          "model_module_version": "1.2.0",
          "state": {
            "_model_module": "@jupyter-widgets/base",
            "_model_module_version": "1.2.0",
            "_model_name": "LayoutModel",
            "_view_count": null,
            "_view_module": "@jupyter-widgets/base",
            "_view_module_version": "1.2.0",
            "_view_name": "LayoutView",
            "align_content": null,
            "align_items": null,
            "align_self": null,
            "border": null,
            "bottom": null,
            "display": null,
            "flex": null,
            "flex_flow": null,
            "grid_area": null,
            "grid_auto_columns": null,
            "grid_auto_flow": null,
            "grid_auto_rows": null,
            "grid_column": null,
            "grid_gap": null,
            "grid_row": null,
            "grid_template_areas": null,
            "grid_template_columns": null,
            "grid_template_rows": null,
            "height": null,
            "justify_content": null,
            "justify_items": null,
            "left": null,
            "margin": null,
            "max_height": null,
            "max_width": null,
            "min_height": null,
            "min_width": null,
            "object_fit": null,
            "object_position": null,
            "order": null,
            "overflow": null,
            "overflow_x": null,
            "overflow_y": null,
            "padding": null,
            "right": null,
            "top": null,
            "visibility": null,
            "width": null
          }
        },
        "d54de011c0a149029f293649052fbbfc": {
          "model_module": "@jupyter-widgets/controls",
          "model_name": "ProgressStyleModel",
          "model_module_version": "1.5.0",
          "state": {
            "_model_module": "@jupyter-widgets/controls",
            "_model_module_version": "1.5.0",
            "_model_name": "ProgressStyleModel",
            "_view_count": null,
            "_view_module": "@jupyter-widgets/base",
            "_view_module_version": "1.2.0",
            "_view_name": "StyleView",
            "bar_color": null,
            "description_width": ""
          }
        },
        "f1cc1d7378d345f387e8dca069abd313": {
          "model_module": "@jupyter-widgets/base",
          "model_name": "LayoutModel",
          "model_module_version": "1.2.0",
          "state": {
            "_model_module": "@jupyter-widgets/base",
            "_model_module_version": "1.2.0",
            "_model_name": "LayoutModel",
            "_view_count": null,
            "_view_module": "@jupyter-widgets/base",
            "_view_module_version": "1.2.0",
            "_view_name": "LayoutView",
            "align_content": null,
            "align_items": null,
            "align_self": null,
            "border": null,
            "bottom": null,
            "display": null,
            "flex": null,
            "flex_flow": null,
            "grid_area": null,
            "grid_auto_columns": null,
            "grid_auto_flow": null,
            "grid_auto_rows": null,
            "grid_column": null,
            "grid_gap": null,
            "grid_row": null,
            "grid_template_areas": null,
            "grid_template_columns": null,
            "grid_template_rows": null,
            "height": null,
            "justify_content": null,
            "justify_items": null,
            "left": null,
            "margin": null,
            "max_height": null,
            "max_width": null,
            "min_height": null,
            "min_width": null,
            "object_fit": null,
            "object_position": null,
            "order": null,
            "overflow": null,
            "overflow_x": null,
            "overflow_y": null,
            "padding": null,
            "right": null,
            "top": null,
            "visibility": null,
            "width": null
          }
        },
        "b5ea226cebdb417eb4e98df2c93277eb": {
          "model_module": "@jupyter-widgets/controls",
          "model_name": "DescriptionStyleModel",
          "model_module_version": "1.5.0",
          "state": {
            "_model_module": "@jupyter-widgets/controls",
            "_model_module_version": "1.5.0",
            "_model_name": "DescriptionStyleModel",
            "_view_count": null,
            "_view_module": "@jupyter-widgets/base",
            "_view_module_version": "1.2.0",
            "_view_name": "StyleView",
            "description_width": ""
          }
        },
        "d782623da429493a88ad45777f693fa4": {
          "model_module": "@jupyter-widgets/controls",
          "model_name": "HBoxModel",
          "model_module_version": "1.5.0",
          "state": {
            "_dom_classes": [],
            "_model_module": "@jupyter-widgets/controls",
            "_model_module_version": "1.5.0",
            "_model_name": "HBoxModel",
            "_view_count": null,
            "_view_module": "@jupyter-widgets/controls",
            "_view_module_version": "1.5.0",
            "_view_name": "HBoxView",
            "box_style": "",
            "children": [
              "IPY_MODEL_902cd57b917045dab7beadc39a07054d",
              "IPY_MODEL_e20df4e69cb041a19e5af0dff2725813",
              "IPY_MODEL_3ac0b8d6566c4bea98c81ce7af4541a1"
            ],
            "layout": "IPY_MODEL_cfda1e9d65bc4dafb09b3842c31fc265"
          }
        },
        "902cd57b917045dab7beadc39a07054d": {
          "model_module": "@jupyter-widgets/controls",
          "model_name": "HTMLModel",
          "model_module_version": "1.5.0",
          "state": {
            "_dom_classes": [],
            "_model_module": "@jupyter-widgets/controls",
            "_model_module_version": "1.5.0",
            "_model_name": "HTMLModel",
            "_view_count": null,
            "_view_module": "@jupyter-widgets/controls",
            "_view_module_version": "1.5.0",
            "_view_name": "HTMLView",
            "description": "",
            "description_tooltip": null,
            "layout": "IPY_MODEL_99f639b050cf426a8bb1bbace0019d48",
            "placeholder": "​",
            "style": "IPY_MODEL_6f2eb8a058bc4ae0988d2721b4bb1114",
            "value": "vocab.txt: 100%"
          }
        },
        "e20df4e69cb041a19e5af0dff2725813": {
          "model_module": "@jupyter-widgets/controls",
          "model_name": "FloatProgressModel",
          "model_module_version": "1.5.0",
          "state": {
            "_dom_classes": [],
            "_model_module": "@jupyter-widgets/controls",
            "_model_module_version": "1.5.0",
            "_model_name": "FloatProgressModel",
            "_view_count": null,
            "_view_module": "@jupyter-widgets/controls",
            "_view_module_version": "1.5.0",
            "_view_name": "ProgressView",
            "bar_style": "success",
            "description": "",
            "description_tooltip": null,
            "layout": "IPY_MODEL_8c780a84bad14b719810b6a2ec3bd0d8",
            "max": 213450,
            "min": 0,
            "orientation": "horizontal",
            "style": "IPY_MODEL_dd740bc6042b47d2b17538e71f6aa8c5",
            "value": 213450
          }
        },
        "3ac0b8d6566c4bea98c81ce7af4541a1": {
          "model_module": "@jupyter-widgets/controls",
          "model_name": "HTMLModel",
          "model_module_version": "1.5.0",
          "state": {
            "_dom_classes": [],
            "_model_module": "@jupyter-widgets/controls",
            "_model_module_version": "1.5.0",
            "_model_name": "HTMLModel",
            "_view_count": null,
            "_view_module": "@jupyter-widgets/controls",
            "_view_module_version": "1.5.0",
            "_view_name": "HTMLView",
            "description": "",
            "description_tooltip": null,
            "layout": "IPY_MODEL_572b0cec3ab446eb93d5ce85a9000bcf",
            "placeholder": "​",
            "style": "IPY_MODEL_2168b69d9ea54a64ae6f1a822eab8e1c",
            "value": " 213k/213k [00:00&lt;00:00, 1.21MB/s]"
          }
        },
        "cfda1e9d65bc4dafb09b3842c31fc265": {
          "model_module": "@jupyter-widgets/base",
          "model_name": "LayoutModel",
          "model_module_version": "1.2.0",
          "state": {
            "_model_module": "@jupyter-widgets/base",
            "_model_module_version": "1.2.0",
            "_model_name": "LayoutModel",
            "_view_count": null,
            "_view_module": "@jupyter-widgets/base",
            "_view_module_version": "1.2.0",
            "_view_name": "LayoutView",
            "align_content": null,
            "align_items": null,
            "align_self": null,
            "border": null,
            "bottom": null,
            "display": null,
            "flex": null,
            "flex_flow": null,
            "grid_area": null,
            "grid_auto_columns": null,
            "grid_auto_flow": null,
            "grid_auto_rows": null,
            "grid_column": null,
            "grid_gap": null,
            "grid_row": null,
            "grid_template_areas": null,
            "grid_template_columns": null,
            "grid_template_rows": null,
            "height": null,
            "justify_content": null,
            "justify_items": null,
            "left": null,
            "margin": null,
            "max_height": null,
            "max_width": null,
            "min_height": null,
            "min_width": null,
            "object_fit": null,
            "object_position": null,
            "order": null,
            "overflow": null,
            "overflow_x": null,
            "overflow_y": null,
            "padding": null,
            "right": null,
            "top": null,
            "visibility": null,
            "width": null
          }
        },
        "99f639b050cf426a8bb1bbace0019d48": {
          "model_module": "@jupyter-widgets/base",
          "model_name": "LayoutModel",
          "model_module_version": "1.2.0",
          "state": {
            "_model_module": "@jupyter-widgets/base",
            "_model_module_version": "1.2.0",
            "_model_name": "LayoutModel",
            "_view_count": null,
            "_view_module": "@jupyter-widgets/base",
            "_view_module_version": "1.2.0",
            "_view_name": "LayoutView",
            "align_content": null,
            "align_items": null,
            "align_self": null,
            "border": null,
            "bottom": null,
            "display": null,
            "flex": null,
            "flex_flow": null,
            "grid_area": null,
            "grid_auto_columns": null,
            "grid_auto_flow": null,
            "grid_auto_rows": null,
            "grid_column": null,
            "grid_gap": null,
            "grid_row": null,
            "grid_template_areas": null,
            "grid_template_columns": null,
            "grid_template_rows": null,
            "height": null,
            "justify_content": null,
            "justify_items": null,
            "left": null,
            "margin": null,
            "max_height": null,
            "max_width": null,
            "min_height": null,
            "min_width": null,
            "object_fit": null,
            "object_position": null,
            "order": null,
            "overflow": null,
            "overflow_x": null,
            "overflow_y": null,
            "padding": null,
            "right": null,
            "top": null,
            "visibility": null,
            "width": null
          }
        },
        "6f2eb8a058bc4ae0988d2721b4bb1114": {
          "model_module": "@jupyter-widgets/controls",
          "model_name": "DescriptionStyleModel",
          "model_module_version": "1.5.0",
          "state": {
            "_model_module": "@jupyter-widgets/controls",
            "_model_module_version": "1.5.0",
            "_model_name": "DescriptionStyleModel",
            "_view_count": null,
            "_view_module": "@jupyter-widgets/base",
            "_view_module_version": "1.2.0",
            "_view_name": "StyleView",
            "description_width": ""
          }
        },
        "8c780a84bad14b719810b6a2ec3bd0d8": {
          "model_module": "@jupyter-widgets/base",
          "model_name": "LayoutModel",
          "model_module_version": "1.2.0",
          "state": {
            "_model_module": "@jupyter-widgets/base",
            "_model_module_version": "1.2.0",
            "_model_name": "LayoutModel",
            "_view_count": null,
            "_view_module": "@jupyter-widgets/base",
            "_view_module_version": "1.2.0",
            "_view_name": "LayoutView",
            "align_content": null,
            "align_items": null,
            "align_self": null,
            "border": null,
            "bottom": null,
            "display": null,
            "flex": null,
            "flex_flow": null,
            "grid_area": null,
            "grid_auto_columns": null,
            "grid_auto_flow": null,
            "grid_auto_rows": null,
            "grid_column": null,
            "grid_gap": null,
            "grid_row": null,
            "grid_template_areas": null,
            "grid_template_columns": null,
            "grid_template_rows": null,
            "height": null,
            "justify_content": null,
            "justify_items": null,
            "left": null,
            "margin": null,
            "max_height": null,
            "max_width": null,
            "min_height": null,
            "min_width": null,
            "object_fit": null,
            "object_position": null,
            "order": null,
            "overflow": null,
            "overflow_x": null,
            "overflow_y": null,
            "padding": null,
            "right": null,
            "top": null,
            "visibility": null,
            "width": null
          }
        },
        "dd740bc6042b47d2b17538e71f6aa8c5": {
          "model_module": "@jupyter-widgets/controls",
          "model_name": "ProgressStyleModel",
          "model_module_version": "1.5.0",
          "state": {
            "_model_module": "@jupyter-widgets/controls",
            "_model_module_version": "1.5.0",
            "_model_name": "ProgressStyleModel",
            "_view_count": null,
            "_view_module": "@jupyter-widgets/base",
            "_view_module_version": "1.2.0",
            "_view_name": "StyleView",
            "bar_color": null,
            "description_width": ""
          }
        },
        "572b0cec3ab446eb93d5ce85a9000bcf": {
          "model_module": "@jupyter-widgets/base",
          "model_name": "LayoutModel",
          "model_module_version": "1.2.0",
          "state": {
            "_model_module": "@jupyter-widgets/base",
            "_model_module_version": "1.2.0",
            "_model_name": "LayoutModel",
            "_view_count": null,
            "_view_module": "@jupyter-widgets/base",
            "_view_module_version": "1.2.0",
            "_view_name": "LayoutView",
            "align_content": null,
            "align_items": null,
            "align_self": null,
            "border": null,
            "bottom": null,
            "display": null,
            "flex": null,
            "flex_flow": null,
            "grid_area": null,
            "grid_auto_columns": null,
            "grid_auto_flow": null,
            "grid_auto_rows": null,
            "grid_column": null,
            "grid_gap": null,
            "grid_row": null,
            "grid_template_areas": null,
            "grid_template_columns": null,
            "grid_template_rows": null,
            "height": null,
            "justify_content": null,
            "justify_items": null,
            "left": null,
            "margin": null,
            "max_height": null,
            "max_width": null,
            "min_height": null,
            "min_width": null,
            "object_fit": null,
            "object_position": null,
            "order": null,
            "overflow": null,
            "overflow_x": null,
            "overflow_y": null,
            "padding": null,
            "right": null,
            "top": null,
            "visibility": null,
            "width": null
          }
        },
        "2168b69d9ea54a64ae6f1a822eab8e1c": {
          "model_module": "@jupyter-widgets/controls",
          "model_name": "DescriptionStyleModel",
          "model_module_version": "1.5.0",
          "state": {
            "_model_module": "@jupyter-widgets/controls",
            "_model_module_version": "1.5.0",
            "_model_name": "DescriptionStyleModel",
            "_view_count": null,
            "_view_module": "@jupyter-widgets/base",
            "_view_module_version": "1.2.0",
            "_view_name": "StyleView",
            "description_width": ""
          }
        },
        "afce392eeab54c11b76dd3409dc2b96b": {
          "model_module": "@jupyter-widgets/controls",
          "model_name": "HBoxModel",
          "model_module_version": "1.5.0",
          "state": {
            "_dom_classes": [],
            "_model_module": "@jupyter-widgets/controls",
            "_model_module_version": "1.5.0",
            "_model_name": "HBoxModel",
            "_view_count": null,
            "_view_module": "@jupyter-widgets/controls",
            "_view_module_version": "1.5.0",
            "_view_name": "HBoxView",
            "box_style": "",
            "children": [
              "IPY_MODEL_b4d08bed1c944d7b9ad665da4ebe0e00",
              "IPY_MODEL_794e6997e3524addaf716e7441a2dee3",
              "IPY_MODEL_aaee9a1b1d944699b78558dec0774593"
            ],
            "layout": "IPY_MODEL_878171d1fce84e31abee4445dfd907eb"
          }
        },
        "b4d08bed1c944d7b9ad665da4ebe0e00": {
          "model_module": "@jupyter-widgets/controls",
          "model_name": "HTMLModel",
          "model_module_version": "1.5.0",
          "state": {
            "_dom_classes": [],
            "_model_module": "@jupyter-widgets/controls",
            "_model_module_version": "1.5.0",
            "_model_name": "HTMLModel",
            "_view_count": null,
            "_view_module": "@jupyter-widgets/controls",
            "_view_module_version": "1.5.0",
            "_view_name": "HTMLView",
            "description": "",
            "description_tooltip": null,
            "layout": "IPY_MODEL_86d1e738d45846f8aceb7f701fd0b37f",
            "placeholder": "​",
            "style": "IPY_MODEL_2d764f434ab549a1b1394004344526c8",
            "value": "tokenizer.json: 100%"
          }
        },
        "794e6997e3524addaf716e7441a2dee3": {
          "model_module": "@jupyter-widgets/controls",
          "model_name": "FloatProgressModel",
          "model_module_version": "1.5.0",
          "state": {
            "_dom_classes": [],
            "_model_module": "@jupyter-widgets/controls",
            "_model_module_version": "1.5.0",
            "_model_name": "FloatProgressModel",
            "_view_count": null,
            "_view_module": "@jupyter-widgets/controls",
            "_view_module_version": "1.5.0",
            "_view_name": "ProgressView",
            "bar_style": "success",
            "description": "",
            "description_tooltip": null,
            "layout": "IPY_MODEL_6bed5ba1bd954b75b2dd9a2c6dbb0221",
            "max": 435797,
            "min": 0,
            "orientation": "horizontal",
            "style": "IPY_MODEL_1f70d08279fb4dfaa048de03f03bc988",
            "value": 435797
          }
        },
        "aaee9a1b1d944699b78558dec0774593": {
          "model_module": "@jupyter-widgets/controls",
          "model_name": "HTMLModel",
          "model_module_version": "1.5.0",
          "state": {
            "_dom_classes": [],
            "_model_module": "@jupyter-widgets/controls",
            "_model_module_version": "1.5.0",
            "_model_name": "HTMLModel",
            "_view_count": null,
            "_view_module": "@jupyter-widgets/controls",
            "_view_module_version": "1.5.0",
            "_view_name": "HTMLView",
            "description": "",
            "description_tooltip": null,
            "layout": "IPY_MODEL_3f90e2ac4f4d4641902236e9d0bf27d7",
            "placeholder": "​",
            "style": "IPY_MODEL_1992c02dc61d4777b225c01d2581757e",
            "value": " 436k/436k [00:00&lt;00:00, 2.46MB/s]"
          }
        },
        "878171d1fce84e31abee4445dfd907eb": {
          "model_module": "@jupyter-widgets/base",
          "model_name": "LayoutModel",
          "model_module_version": "1.2.0",
          "state": {
            "_model_module": "@jupyter-widgets/base",
            "_model_module_version": "1.2.0",
            "_model_name": "LayoutModel",
            "_view_count": null,
            "_view_module": "@jupyter-widgets/base",
            "_view_module_version": "1.2.0",
            "_view_name": "LayoutView",
            "align_content": null,
            "align_items": null,
            "align_self": null,
            "border": null,
            "bottom": null,
            "display": null,
            "flex": null,
            "flex_flow": null,
            "grid_area": null,
            "grid_auto_columns": null,
            "grid_auto_flow": null,
            "grid_auto_rows": null,
            "grid_column": null,
            "grid_gap": null,
            "grid_row": null,
            "grid_template_areas": null,
            "grid_template_columns": null,
            "grid_template_rows": null,
            "height": null,
            "justify_content": null,
            "justify_items": null,
            "left": null,
            "margin": null,
            "max_height": null,
            "max_width": null,
            "min_height": null,
            "min_width": null,
            "object_fit": null,
            "object_position": null,
            "order": null,
            "overflow": null,
            "overflow_x": null,
            "overflow_y": null,
            "padding": null,
            "right": null,
            "top": null,
            "visibility": null,
            "width": null
          }
        },
        "86d1e738d45846f8aceb7f701fd0b37f": {
          "model_module": "@jupyter-widgets/base",
          "model_name": "LayoutModel",
          "model_module_version": "1.2.0",
          "state": {
            "_model_module": "@jupyter-widgets/base",
            "_model_module_version": "1.2.0",
            "_model_name": "LayoutModel",
            "_view_count": null,
            "_view_module": "@jupyter-widgets/base",
            "_view_module_version": "1.2.0",
            "_view_name": "LayoutView",
            "align_content": null,
            "align_items": null,
            "align_self": null,
            "border": null,
            "bottom": null,
            "display": null,
            "flex": null,
            "flex_flow": null,
            "grid_area": null,
            "grid_auto_columns": null,
            "grid_auto_flow": null,
            "grid_auto_rows": null,
            "grid_column": null,
            "grid_gap": null,
            "grid_row": null,
            "grid_template_areas": null,
            "grid_template_columns": null,
            "grid_template_rows": null,
            "height": null,
            "justify_content": null,
            "justify_items": null,
            "left": null,
            "margin": null,
            "max_height": null,
            "max_width": null,
            "min_height": null,
            "min_width": null,
            "object_fit": null,
            "object_position": null,
            "order": null,
            "overflow": null,
            "overflow_x": null,
            "overflow_y": null,
            "padding": null,
            "right": null,
            "top": null,
            "visibility": null,
            "width": null
          }
        },
        "2d764f434ab549a1b1394004344526c8": {
          "model_module": "@jupyter-widgets/controls",
          "model_name": "DescriptionStyleModel",
          "model_module_version": "1.5.0",
          "state": {
            "_model_module": "@jupyter-widgets/controls",
            "_model_module_version": "1.5.0",
            "_model_name": "DescriptionStyleModel",
            "_view_count": null,
            "_view_module": "@jupyter-widgets/base",
            "_view_module_version": "1.2.0",
            "_view_name": "StyleView",
            "description_width": ""
          }
        },
        "6bed5ba1bd954b75b2dd9a2c6dbb0221": {
          "model_module": "@jupyter-widgets/base",
          "model_name": "LayoutModel",
          "model_module_version": "1.2.0",
          "state": {
            "_model_module": "@jupyter-widgets/base",
            "_model_module_version": "1.2.0",
            "_model_name": "LayoutModel",
            "_view_count": null,
            "_view_module": "@jupyter-widgets/base",
            "_view_module_version": "1.2.0",
            "_view_name": "LayoutView",
            "align_content": null,
            "align_items": null,
            "align_self": null,
            "border": null,
            "bottom": null,
            "display": null,
            "flex": null,
            "flex_flow": null,
            "grid_area": null,
            "grid_auto_columns": null,
            "grid_auto_flow": null,
            "grid_auto_rows": null,
            "grid_column": null,
            "grid_gap": null,
            "grid_row": null,
            "grid_template_areas": null,
            "grid_template_columns": null,
            "grid_template_rows": null,
            "height": null,
            "justify_content": null,
            "justify_items": null,
            "left": null,
            "margin": null,
            "max_height": null,
            "max_width": null,
            "min_height": null,
            "min_width": null,
            "object_fit": null,
            "object_position": null,
            "order": null,
            "overflow": null,
            "overflow_x": null,
            "overflow_y": null,
            "padding": null,
            "right": null,
            "top": null,
            "visibility": null,
            "width": null
          }
        },
        "1f70d08279fb4dfaa048de03f03bc988": {
          "model_module": "@jupyter-widgets/controls",
          "model_name": "ProgressStyleModel",
          "model_module_version": "1.5.0",
          "state": {
            "_model_module": "@jupyter-widgets/controls",
            "_model_module_version": "1.5.0",
            "_model_name": "ProgressStyleModel",
            "_view_count": null,
            "_view_module": "@jupyter-widgets/base",
            "_view_module_version": "1.2.0",
            "_view_name": "StyleView",
            "bar_color": null,
            "description_width": ""
          }
        },
        "3f90e2ac4f4d4641902236e9d0bf27d7": {
          "model_module": "@jupyter-widgets/base",
          "model_name": "LayoutModel",
          "model_module_version": "1.2.0",
          "state": {
            "_model_module": "@jupyter-widgets/base",
            "_model_module_version": "1.2.0",
            "_model_name": "LayoutModel",
            "_view_count": null,
            "_view_module": "@jupyter-widgets/base",
            "_view_module_version": "1.2.0",
            "_view_name": "LayoutView",
            "align_content": null,
            "align_items": null,
            "align_self": null,
            "border": null,
            "bottom": null,
            "display": null,
            "flex": null,
            "flex_flow": null,
            "grid_area": null,
            "grid_auto_columns": null,
            "grid_auto_flow": null,
            "grid_auto_rows": null,
            "grid_column": null,
            "grid_gap": null,
            "grid_row": null,
            "grid_template_areas": null,
            "grid_template_columns": null,
            "grid_template_rows": null,
            "height": null,
            "justify_content": null,
            "justify_items": null,
            "left": null,
            "margin": null,
            "max_height": null,
            "max_width": null,
            "min_height": null,
            "min_width": null,
            "object_fit": null,
            "object_position": null,
            "order": null,
            "overflow": null,
            "overflow_x": null,
            "overflow_y": null,
            "padding": null,
            "right": null,
            "top": null,
            "visibility": null,
            "width": null
          }
        },
        "1992c02dc61d4777b225c01d2581757e": {
          "model_module": "@jupyter-widgets/controls",
          "model_name": "DescriptionStyleModel",
          "model_module_version": "1.5.0",
          "state": {
            "_model_module": "@jupyter-widgets/controls",
            "_model_module_version": "1.5.0",
            "_model_name": "DescriptionStyleModel",
            "_view_count": null,
            "_view_module": "@jupyter-widgets/base",
            "_view_module_version": "1.2.0",
            "_view_name": "StyleView",
            "description_width": ""
          }
        },
        "95b1034b4d10469f99479dd4bc0eca87": {
          "model_module": "@jupyter-widgets/controls",
          "model_name": "HBoxModel",
          "model_module_version": "1.5.0",
          "state": {
            "_dom_classes": [],
            "_model_module": "@jupyter-widgets/controls",
            "_model_module_version": "1.5.0",
            "_model_name": "HBoxModel",
            "_view_count": null,
            "_view_module": "@jupyter-widgets/controls",
            "_view_module_version": "1.5.0",
            "_view_name": "HBoxView",
            "box_style": "",
            "children": [
              "IPY_MODEL_6f3ac033b0854a9fb63d868687f6de11",
              "IPY_MODEL_ca3becd37dec469ab45de00438291f20",
              "IPY_MODEL_70e9a516489b41578a45b305fe30bf12"
            ],
            "layout": "IPY_MODEL_ffd12e8ea32a4d94aadfeee0af5556fe"
          }
        },
        "6f3ac033b0854a9fb63d868687f6de11": {
          "model_module": "@jupyter-widgets/controls",
          "model_name": "HTMLModel",
          "model_module_version": "1.5.0",
          "state": {
            "_dom_classes": [],
            "_model_module": "@jupyter-widgets/controls",
            "_model_module_version": "1.5.0",
            "_model_name": "HTMLModel",
            "_view_count": null,
            "_view_module": "@jupyter-widgets/controls",
            "_view_module_version": "1.5.0",
            "_view_name": "HTMLView",
            "description": "",
            "description_tooltip": null,
            "layout": "IPY_MODEL_966bd9fa36814441b86e67e056a2631c",
            "placeholder": "​",
            "style": "IPY_MODEL_190767648f9140ca9449cf37c4316f98",
            "value": "config.json: 100%"
          }
        },
        "ca3becd37dec469ab45de00438291f20": {
          "model_module": "@jupyter-widgets/controls",
          "model_name": "FloatProgressModel",
          "model_module_version": "1.5.0",
          "state": {
            "_dom_classes": [],
            "_model_module": "@jupyter-widgets/controls",
            "_model_module_version": "1.5.0",
            "_model_name": "FloatProgressModel",
            "_view_count": null,
            "_view_module": "@jupyter-widgets/controls",
            "_view_module_version": "1.5.0",
            "_view_name": "ProgressView",
            "bar_style": "success",
            "description": "",
            "description_tooltip": null,
            "layout": "IPY_MODEL_9b1bf4378fab440aae982d246134f59a",
            "max": 570,
            "min": 0,
            "orientation": "horizontal",
            "style": "IPY_MODEL_ae072a31ae5b410e938ef9c06c7803b1",
            "value": 570
          }
        },
        "70e9a516489b41578a45b305fe30bf12": {
          "model_module": "@jupyter-widgets/controls",
          "model_name": "HTMLModel",
          "model_module_version": "1.5.0",
          "state": {
            "_dom_classes": [],
            "_model_module": "@jupyter-widgets/controls",
            "_model_module_version": "1.5.0",
            "_model_name": "HTMLModel",
            "_view_count": null,
            "_view_module": "@jupyter-widgets/controls",
            "_view_module_version": "1.5.0",
            "_view_name": "HTMLView",
            "description": "",
            "description_tooltip": null,
            "layout": "IPY_MODEL_7efddb35aaff4593877ba24c864df9d4",
            "placeholder": "​",
            "style": "IPY_MODEL_d4c147267a0a40ddbc8cd7a967743cb9",
            "value": " 570/570 [00:00&lt;00:00, 5.77kB/s]"
          }
        },
        "ffd12e8ea32a4d94aadfeee0af5556fe": {
          "model_module": "@jupyter-widgets/base",
          "model_name": "LayoutModel",
          "model_module_version": "1.2.0",
          "state": {
            "_model_module": "@jupyter-widgets/base",
            "_model_module_version": "1.2.0",
            "_model_name": "LayoutModel",
            "_view_count": null,
            "_view_module": "@jupyter-widgets/base",
            "_view_module_version": "1.2.0",
            "_view_name": "LayoutView",
            "align_content": null,
            "align_items": null,
            "align_self": null,
            "border": null,
            "bottom": null,
            "display": null,
            "flex": null,
            "flex_flow": null,
            "grid_area": null,
            "grid_auto_columns": null,
            "grid_auto_flow": null,
            "grid_auto_rows": null,
            "grid_column": null,
            "grid_gap": null,
            "grid_row": null,
            "grid_template_areas": null,
            "grid_template_columns": null,
            "grid_template_rows": null,
            "height": null,
            "justify_content": null,
            "justify_items": null,
            "left": null,
            "margin": null,
            "max_height": null,
            "max_width": null,
            "min_height": null,
            "min_width": null,
            "object_fit": null,
            "object_position": null,
            "order": null,
            "overflow": null,
            "overflow_x": null,
            "overflow_y": null,
            "padding": null,
            "right": null,
            "top": null,
            "visibility": null,
            "width": null
          }
        },
        "966bd9fa36814441b86e67e056a2631c": {
          "model_module": "@jupyter-widgets/base",
          "model_name": "LayoutModel",
          "model_module_version": "1.2.0",
          "state": {
            "_model_module": "@jupyter-widgets/base",
            "_model_module_version": "1.2.0",
            "_model_name": "LayoutModel",
            "_view_count": null,
            "_view_module": "@jupyter-widgets/base",
            "_view_module_version": "1.2.0",
            "_view_name": "LayoutView",
            "align_content": null,
            "align_items": null,
            "align_self": null,
            "border": null,
            "bottom": null,
            "display": null,
            "flex": null,
            "flex_flow": null,
            "grid_area": null,
            "grid_auto_columns": null,
            "grid_auto_flow": null,
            "grid_auto_rows": null,
            "grid_column": null,
            "grid_gap": null,
            "grid_row": null,
            "grid_template_areas": null,
            "grid_template_columns": null,
            "grid_template_rows": null,
            "height": null,
            "justify_content": null,
            "justify_items": null,
            "left": null,
            "margin": null,
            "max_height": null,
            "max_width": null,
            "min_height": null,
            "min_width": null,
            "object_fit": null,
            "object_position": null,
            "order": null,
            "overflow": null,
            "overflow_x": null,
            "overflow_y": null,
            "padding": null,
            "right": null,
            "top": null,
            "visibility": null,
            "width": null
          }
        },
        "190767648f9140ca9449cf37c4316f98": {
          "model_module": "@jupyter-widgets/controls",
          "model_name": "DescriptionStyleModel",
          "model_module_version": "1.5.0",
          "state": {
            "_model_module": "@jupyter-widgets/controls",
            "_model_module_version": "1.5.0",
            "_model_name": "DescriptionStyleModel",
            "_view_count": null,
            "_view_module": "@jupyter-widgets/base",
            "_view_module_version": "1.2.0",
            "_view_name": "StyleView",
            "description_width": ""
          }
        },
        "9b1bf4378fab440aae982d246134f59a": {
          "model_module": "@jupyter-widgets/base",
          "model_name": "LayoutModel",
          "model_module_version": "1.2.0",
          "state": {
            "_model_module": "@jupyter-widgets/base",
            "_model_module_version": "1.2.0",
            "_model_name": "LayoutModel",
            "_view_count": null,
            "_view_module": "@jupyter-widgets/base",
            "_view_module_version": "1.2.0",
            "_view_name": "LayoutView",
            "align_content": null,
            "align_items": null,
            "align_self": null,
            "border": null,
            "bottom": null,
            "display": null,
            "flex": null,
            "flex_flow": null,
            "grid_area": null,
            "grid_auto_columns": null,
            "grid_auto_flow": null,
            "grid_auto_rows": null,
            "grid_column": null,
            "grid_gap": null,
            "grid_row": null,
            "grid_template_areas": null,
            "grid_template_columns": null,
            "grid_template_rows": null,
            "height": null,
            "justify_content": null,
            "justify_items": null,
            "left": null,
            "margin": null,
            "max_height": null,
            "max_width": null,
            "min_height": null,
            "min_width": null,
            "object_fit": null,
            "object_position": null,
            "order": null,
            "overflow": null,
            "overflow_x": null,
            "overflow_y": null,
            "padding": null,
            "right": null,
            "top": null,
            "visibility": null,
            "width": null
          }
        },
        "ae072a31ae5b410e938ef9c06c7803b1": {
          "model_module": "@jupyter-widgets/controls",
          "model_name": "ProgressStyleModel",
          "model_module_version": "1.5.0",
          "state": {
            "_model_module": "@jupyter-widgets/controls",
            "_model_module_version": "1.5.0",
            "_model_name": "ProgressStyleModel",
            "_view_count": null,
            "_view_module": "@jupyter-widgets/base",
            "_view_module_version": "1.2.0",
            "_view_name": "StyleView",
            "bar_color": null,
            "description_width": ""
          }
        },
        "7efddb35aaff4593877ba24c864df9d4": {
          "model_module": "@jupyter-widgets/base",
          "model_name": "LayoutModel",
          "model_module_version": "1.2.0",
          "state": {
            "_model_module": "@jupyter-widgets/base",
            "_model_module_version": "1.2.0",
            "_model_name": "LayoutModel",
            "_view_count": null,
            "_view_module": "@jupyter-widgets/base",
            "_view_module_version": "1.2.0",
            "_view_name": "LayoutView",
            "align_content": null,
            "align_items": null,
            "align_self": null,
            "border": null,
            "bottom": null,
            "display": null,
            "flex": null,
            "flex_flow": null,
            "grid_area": null,
            "grid_auto_columns": null,
            "grid_auto_flow": null,
            "grid_auto_rows": null,
            "grid_column": null,
            "grid_gap": null,
            "grid_row": null,
            "grid_template_areas": null,
            "grid_template_columns": null,
            "grid_template_rows": null,
            "height": null,
            "justify_content": null,
            "justify_items": null,
            "left": null,
            "margin": null,
            "max_height": null,
            "max_width": null,
            "min_height": null,
            "min_width": null,
            "object_fit": null,
            "object_position": null,
            "order": null,
            "overflow": null,
            "overflow_x": null,
            "overflow_y": null,
            "padding": null,
            "right": null,
            "top": null,
            "visibility": null,
            "width": null
          }
        },
        "d4c147267a0a40ddbc8cd7a967743cb9": {
          "model_module": "@jupyter-widgets/controls",
          "model_name": "DescriptionStyleModel",
          "model_module_version": "1.5.0",
          "state": {
            "_model_module": "@jupyter-widgets/controls",
            "_model_module_version": "1.5.0",
            "_model_name": "DescriptionStyleModel",
            "_view_count": null,
            "_view_module": "@jupyter-widgets/base",
            "_view_module_version": "1.2.0",
            "_view_name": "StyleView",
            "description_width": ""
          }
        },
        "980a343572e24a72835ff2ee0509eb61": {
          "model_module": "@jupyter-widgets/controls",
          "model_name": "HBoxModel",
          "model_module_version": "1.5.0",
          "state": {
            "_dom_classes": [],
            "_model_module": "@jupyter-widgets/controls",
            "_model_module_version": "1.5.0",
            "_model_name": "HBoxModel",
            "_view_count": null,
            "_view_module": "@jupyter-widgets/controls",
            "_view_module_version": "1.5.0",
            "_view_name": "HBoxView",
            "box_style": "",
            "children": [
              "IPY_MODEL_61ce5a08bfa04c0281712e3c2f4a1209",
              "IPY_MODEL_7b4c2ee866944780944471693a513203",
              "IPY_MODEL_320a4c0d941c466385ad0ddee2c5825d"
            ],
            "layout": "IPY_MODEL_17c737860ad5485abd4601927585481d"
          }
        },
        "61ce5a08bfa04c0281712e3c2f4a1209": {
          "model_module": "@jupyter-widgets/controls",
          "model_name": "HTMLModel",
          "model_module_version": "1.5.0",
          "state": {
            "_dom_classes": [],
            "_model_module": "@jupyter-widgets/controls",
            "_model_module_version": "1.5.0",
            "_model_name": "HTMLModel",
            "_view_count": null,
            "_view_module": "@jupyter-widgets/controls",
            "_view_module_version": "1.5.0",
            "_view_name": "HTMLView",
            "description": "",
            "description_tooltip": null,
            "layout": "IPY_MODEL_7f3800fdbfec46e899ba9b75823ff09c",
            "placeholder": "​",
            "style": "IPY_MODEL_bf1958920a9b4f519d9c7d631c417695",
            "value": "model.safetensors: 100%"
          }
        },
        "7b4c2ee866944780944471693a513203": {
          "model_module": "@jupyter-widgets/controls",
          "model_name": "FloatProgressModel",
          "model_module_version": "1.5.0",
          "state": {
            "_dom_classes": [],
            "_model_module": "@jupyter-widgets/controls",
            "_model_module_version": "1.5.0",
            "_model_name": "FloatProgressModel",
            "_view_count": null,
            "_view_module": "@jupyter-widgets/controls",
            "_view_module_version": "1.5.0",
            "_view_name": "ProgressView",
            "bar_style": "success",
            "description": "",
            "description_tooltip": null,
            "layout": "IPY_MODEL_e38ff1a76b0b44bd8e8d427e30f520c0",
            "max": 435755784,
            "min": 0,
            "orientation": "horizontal",
            "style": "IPY_MODEL_15c998056f464140a670f3c763db2fd2",
            "value": 435755784
          }
        },
        "320a4c0d941c466385ad0ddee2c5825d": {
          "model_module": "@jupyter-widgets/controls",
          "model_name": "HTMLModel",
          "model_module_version": "1.5.0",
          "state": {
            "_dom_classes": [],
            "_model_module": "@jupyter-widgets/controls",
            "_model_module_version": "1.5.0",
            "_model_name": "HTMLModel",
            "_view_count": null,
            "_view_module": "@jupyter-widgets/controls",
            "_view_module_version": "1.5.0",
            "_view_name": "HTMLView",
            "description": "",
            "description_tooltip": null,
            "layout": "IPY_MODEL_cc44aa25421b4944924bc30ed585562e",
            "placeholder": "​",
            "style": "IPY_MODEL_c92ba052e2024874bb018b54f123d08e",
            "value": " 436M/436M [00:08&lt;00:00, 61.6MB/s]"
          }
        },
        "17c737860ad5485abd4601927585481d": {
          "model_module": "@jupyter-widgets/base",
          "model_name": "LayoutModel",
          "model_module_version": "1.2.0",
          "state": {
            "_model_module": "@jupyter-widgets/base",
            "_model_module_version": "1.2.0",
            "_model_name": "LayoutModel",
            "_view_count": null,
            "_view_module": "@jupyter-widgets/base",
            "_view_module_version": "1.2.0",
            "_view_name": "LayoutView",
            "align_content": null,
            "align_items": null,
            "align_self": null,
            "border": null,
            "bottom": null,
            "display": null,
            "flex": null,
            "flex_flow": null,
            "grid_area": null,
            "grid_auto_columns": null,
            "grid_auto_flow": null,
            "grid_auto_rows": null,
            "grid_column": null,
            "grid_gap": null,
            "grid_row": null,
            "grid_template_areas": null,
            "grid_template_columns": null,
            "grid_template_rows": null,
            "height": null,
            "justify_content": null,
            "justify_items": null,
            "left": null,
            "margin": null,
            "max_height": null,
            "max_width": null,
            "min_height": null,
            "min_width": null,
            "object_fit": null,
            "object_position": null,
            "order": null,
            "overflow": null,
            "overflow_x": null,
            "overflow_y": null,
            "padding": null,
            "right": null,
            "top": null,
            "visibility": null,
            "width": null
          }
        },
        "7f3800fdbfec46e899ba9b75823ff09c": {
          "model_module": "@jupyter-widgets/base",
          "model_name": "LayoutModel",
          "model_module_version": "1.2.0",
          "state": {
            "_model_module": "@jupyter-widgets/base",
            "_model_module_version": "1.2.0",
            "_model_name": "LayoutModel",
            "_view_count": null,
            "_view_module": "@jupyter-widgets/base",
            "_view_module_version": "1.2.0",
            "_view_name": "LayoutView",
            "align_content": null,
            "align_items": null,
            "align_self": null,
            "border": null,
            "bottom": null,
            "display": null,
            "flex": null,
            "flex_flow": null,
            "grid_area": null,
            "grid_auto_columns": null,
            "grid_auto_flow": null,
            "grid_auto_rows": null,
            "grid_column": null,
            "grid_gap": null,
            "grid_row": null,
            "grid_template_areas": null,
            "grid_template_columns": null,
            "grid_template_rows": null,
            "height": null,
            "justify_content": null,
            "justify_items": null,
            "left": null,
            "margin": null,
            "max_height": null,
            "max_width": null,
            "min_height": null,
            "min_width": null,
            "object_fit": null,
            "object_position": null,
            "order": null,
            "overflow": null,
            "overflow_x": null,
            "overflow_y": null,
            "padding": null,
            "right": null,
            "top": null,
            "visibility": null,
            "width": null
          }
        },
        "bf1958920a9b4f519d9c7d631c417695": {
          "model_module": "@jupyter-widgets/controls",
          "model_name": "DescriptionStyleModel",
          "model_module_version": "1.5.0",
          "state": {
            "_model_module": "@jupyter-widgets/controls",
            "_model_module_version": "1.5.0",
            "_model_name": "DescriptionStyleModel",
            "_view_count": null,
            "_view_module": "@jupyter-widgets/base",
            "_view_module_version": "1.2.0",
            "_view_name": "StyleView",
            "description_width": ""
          }
        },
        "e38ff1a76b0b44bd8e8d427e30f520c0": {
          "model_module": "@jupyter-widgets/base",
          "model_name": "LayoutModel",
          "model_module_version": "1.2.0",
          "state": {
            "_model_module": "@jupyter-widgets/base",
            "_model_module_version": "1.2.0",
            "_model_name": "LayoutModel",
            "_view_count": null,
            "_view_module": "@jupyter-widgets/base",
            "_view_module_version": "1.2.0",
            "_view_name": "LayoutView",
            "align_content": null,
            "align_items": null,
            "align_self": null,
            "border": null,
            "bottom": null,
            "display": null,
            "flex": null,
            "flex_flow": null,
            "grid_area": null,
            "grid_auto_columns": null,
            "grid_auto_flow": null,
            "grid_auto_rows": null,
            "grid_column": null,
            "grid_gap": null,
            "grid_row": null,
            "grid_template_areas": null,
            "grid_template_columns": null,
            "grid_template_rows": null,
            "height": null,
            "justify_content": null,
            "justify_items": null,
            "left": null,
            "margin": null,
            "max_height": null,
            "max_width": null,
            "min_height": null,
            "min_width": null,
            "object_fit": null,
            "object_position": null,
            "order": null,
            "overflow": null,
            "overflow_x": null,
            "overflow_y": null,
            "padding": null,
            "right": null,
            "top": null,
            "visibility": null,
            "width": null
          }
        },
        "15c998056f464140a670f3c763db2fd2": {
          "model_module": "@jupyter-widgets/controls",
          "model_name": "ProgressStyleModel",
          "model_module_version": "1.5.0",
          "state": {
            "_model_module": "@jupyter-widgets/controls",
            "_model_module_version": "1.5.0",
            "_model_name": "ProgressStyleModel",
            "_view_count": null,
            "_view_module": "@jupyter-widgets/base",
            "_view_module_version": "1.2.0",
            "_view_name": "StyleView",
            "bar_color": null,
            "description_width": ""
          }
        },
        "cc44aa25421b4944924bc30ed585562e": {
          "model_module": "@jupyter-widgets/base",
          "model_name": "LayoutModel",
          "model_module_version": "1.2.0",
          "state": {
            "_model_module": "@jupyter-widgets/base",
            "_model_module_version": "1.2.0",
            "_model_name": "LayoutModel",
            "_view_count": null,
            "_view_module": "@jupyter-widgets/base",
            "_view_module_version": "1.2.0",
            "_view_name": "LayoutView",
            "align_content": null,
            "align_items": null,
            "align_self": null,
            "border": null,
            "bottom": null,
            "display": null,
            "flex": null,
            "flex_flow": null,
            "grid_area": null,
            "grid_auto_columns": null,
            "grid_auto_flow": null,
            "grid_auto_rows": null,
            "grid_column": null,
            "grid_gap": null,
            "grid_row": null,
            "grid_template_areas": null,
            "grid_template_columns": null,
            "grid_template_rows": null,
            "height": null,
            "justify_content": null,
            "justify_items": null,
            "left": null,
            "margin": null,
            "max_height": null,
            "max_width": null,
            "min_height": null,
            "min_width": null,
            "object_fit": null,
            "object_position": null,
            "order": null,
            "overflow": null,
            "overflow_x": null,
            "overflow_y": null,
            "padding": null,
            "right": null,
            "top": null,
            "visibility": null,
            "width": null
          }
        },
        "c92ba052e2024874bb018b54f123d08e": {
          "model_module": "@jupyter-widgets/controls",
          "model_name": "DescriptionStyleModel",
          "model_module_version": "1.5.0",
          "state": {
            "_model_module": "@jupyter-widgets/controls",
            "_model_module_version": "1.5.0",
            "_model_name": "DescriptionStyleModel",
            "_view_count": null,
            "_view_module": "@jupyter-widgets/base",
            "_view_module_version": "1.2.0",
            "_view_name": "StyleView",
            "description_width": ""
          }
        }
      }
    }
  },
  "nbformat": 4,
  "nbformat_minor": 0
}