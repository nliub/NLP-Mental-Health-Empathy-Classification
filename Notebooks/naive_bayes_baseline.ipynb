{
  "nbformat": 4,
  "nbformat_minor": 0,
  "metadata": {
    "colab": {
      "provenance": []
    },
    "kernelspec": {
      "name": "python3",
      "display_name": "Python 3"
    },
    "language_info": {
      "name": "python"
    }
  },
  "cells": [
    {
      "cell_type": "code",
      "source": [
        "# ignore pandas future warnings about using pd.append()\n",
        "import warnings\n",
        "warnings.simplefilter(action='ignore', category=FutureWarning)\n",
        "\n",
        "\n",
        "import pandas as pd\n",
        "from pathlib import Path\n",
        "from sklearn.model_selection import train_test_split\n",
        "import numpy as np\n",
        "import seaborn as sns\n",
        "import matplotlib.pyplot as plt\n",
        "from sklearn.metrics import accuracy_score, precision_score, recall_score, f1_score, confusion_matrix\n",
        "from sklearn.feature_extraction.text import CountVectorizer\n",
        "from sklearn.naive_bayes import MultinomialNB\n",
        "import re"
      ],
      "metadata": {
        "id": "RVuOUWrK7krj"
      },
      "execution_count": null,
      "outputs": []
    },
    {
      "cell_type": "code",
      "source": [
        "from google.colab import drive\n",
        "drive.mount('/content/drive')"
      ],
      "metadata": {
        "colab": {
          "base_uri": "https://localhost:8080/"
        },
        "id": "AAheUd1z7mxA",
        "outputId": "272dc816-c0f7-485d-a04d-5e7e5e8fdee8"
      },
      "execution_count": null,
      "outputs": [
        {
          "output_type": "stream",
          "name": "stdout",
          "text": [
            "Mounted at /content/drive\n"
          ]
        }
      ]
    },
    {
      "cell_type": "code",
      "source": [
        "home_dir = Path('/content/drive/MyDrive/266 Final Project/Code')\n",
        "train_path = home_dir / 'data' / 'train'\n",
        "val_path = home_dir / 'data' / 'val'\n",
        "test_path = home_dir / 'data' / 'test'"
      ],
      "metadata": {
        "id": "p9PsViWB7nui"
      },
      "execution_count": null,
      "outputs": []
    },
    {
      "cell_type": "code",
      "source": [
        "def get_data(category):\n",
        "\n",
        "    # combine seeker_post and response_post into one feature\n",
        "    X_train = pd.read_csv(train_path / f'X_{category}.csv', delimiter=',')\n",
        "    X_train = X_train['seeker_post'] + ' ' + X_train['response_post']\n",
        "    # X_train = X_train.apply(lambda x: x.lower())\n",
        "    # X_train = X_train.apply(lambda x: re.sub(r\"[^a-zA-Z0-9]\", \" \", x))\n",
        "\n",
        "    X_val = pd.read_csv(val_path / f'X_{category}.csv', delimiter=',')\n",
        "    X_val = X_val['seeker_post'] + ' ' + X_val['response_post']\n",
        "    # X_val = X_val.apply(lambda x: x.lower())\n",
        "    # X_val = X_val.apply(lambda x: re.sub(r\"[^a-zA-Z0-9]\", \" \", x))\n",
        "\n",
        "    # get empathy flag\n",
        "    y_train = pd.read_csv((train_path / f'y_{category}.csv'), delimiter=',')\n",
        "    y_val = pd.read_csv((val_path / f'y_{category}.csv'), delimiter=',')\n",
        "\n",
        "    y_train = y_train['empathy']\n",
        "    y_val = y_val['empathy']\n",
        "\n",
        "    return X_train, X_val, y_train, y_val\n",
        "\n",
        "def naive_bayes(X_train, X_val, y_train):\n",
        "\n",
        "    # strip punctuation and convert data to bag of words\n",
        "    vectorizer = CountVectorizer()\n",
        "    X_train_vectorized = vectorizer.fit_transform(X_train)\n",
        "    X_val_vectorized = vectorizer.transform(X_val)\n",
        "\n",
        "    # train multinomial naive bayes classifier\n",
        "    nb_classifier = MultinomialNB()\n",
        "    nb_classifier.fit(X_train_vectorized, y_train)\n",
        "\n",
        "    # make predictions\n",
        "    y_pred = nb_classifier.predict(X_val_vectorized)\n",
        "\n",
        "    return y_pred\n",
        "\n",
        "def get_metrics(category, y_test, y_pred):\n",
        "\n",
        "    # get metrics\n",
        "    accuracy = accuracy_score(y_test, y_pred)\n",
        "    print(f\"accuracy: {accuracy}\")\n",
        "\n",
        "    recall = recall_score(y_test, y_pred)\n",
        "    print(f\"recall: {recall}\")\n",
        "\n",
        "    precision = precision_score(y_test, y_pred)\n",
        "    print(f\"precision: {precision}\")\n",
        "\n",
        "    f1 = f1_score(y_test, y_pred)\n",
        "    print(f\"f1 score: {f1}\")\n",
        "\n",
        "    # get confusion matrix\n",
        "    conf_matrix = confusion_matrix(y_test, y_pred)\n",
        "    print(conf_matrix)\n",
        "\n",
        "    sns.set(font_scale=1.2)\n",
        "    plt.figure(figsize=(6, 5))\n",
        "    sns.heatmap(conf_matrix, annot=True, fmt='g', cmap='Blues', annot_kws={\"size\": 16}, cbar=False)\n",
        "    plt.xlabel('Predicted')\n",
        "    plt.ylabel('Actual')\n",
        "    plt.title('Confusion Matrix')\n",
        "    plt.show()\n",
        "\n",
        "    metrics = {\n",
        "        'Category': category,\n",
        "        'Accuracy': accuracy,\n",
        "        'Precision': precision,\n",
        "        'Recall': recall,\n",
        "        'F1 Score': f1\n",
        "    }\n",
        "\n",
        "    metrics_columns = ['Category', 'Accuracy', 'Precision', 'Recall', 'F1 Score']\n",
        "    metrics = pd.DataFrame([metrics], columns=metrics_columns)\n",
        "\n",
        "    return metrics"
      ],
      "metadata": {
        "id": "UuW7IbLf7ncQ"
      },
      "execution_count": null,
      "outputs": []
    },
    {
      "cell_type": "code",
      "source": [
        "print(\"Running Naive Bayes on Emotional Reactions Dataset\")\n",
        "category = 'em'\n",
        "X_train, X_val, y_train, y_val = get_data(category)\n",
        "y_pred = naive_bayes(X_train, X_val, y_train)\n",
        "em_metrics = get_metrics(category, y_val, y_pred)"
      ],
      "metadata": {
        "colab": {
          "base_uri": "https://localhost:8080/",
          "height": 623
        },
        "id": "XITuXYev_-iM",
        "outputId": "964d557b-995f-4911-d355-02e675477bdc"
      },
      "execution_count": null,
      "outputs": [
        {
          "output_type": "stream",
          "name": "stdout",
          "text": [
            "Running Naive Bayes on Emotional Reactions Dataset\n",
            "accuracy: 0.6706443914081146\n",
            "recall: 0.821917808219178\n",
            "precision: 0.6451612903225806\n",
            "f1 score: 0.7228915662650601\n",
            "[[101  99]\n",
            " [ 39 180]]\n"
          ]
        },
        {
          "output_type": "display_data",
          "data": {
            "text/plain": [
              "<Figure size 600x500 with 1 Axes>"
            ],
            "image/png": "[encoded data removed]"
          },
          "metadata": {}
        }
      ]
    },
    {
      "cell_type": "code",
      "source": [
        "print(\"Running Naive Bayes on Interpretations Dataset\")\n",
        "category = 'in'\n",
        "X_train, X_val, y_train, y_val = get_data(category)\n",
        "y_pred = naive_bayes(X_train, X_val, y_train)\n",
        "in_metrics = get_metrics(category, y_val, y_pred)"
      ],
      "metadata": {
        "colab": {
          "base_uri": "https://localhost:8080/",
          "height": 623
        },
        "id": "iprjBXMD9S57",
        "outputId": "9c2bad54-84a5-49aa-edf8-c7850562e624"
      },
      "execution_count": null,
      "outputs": [
        {
          "output_type": "stream",
          "name": "stdout",
          "text": [
            "Running Naive Bayes on Interpretations Dataset\n",
            "accuracy: 0.6645056726094003\n",
            "recall: 0.7380952380952381\n",
            "precision: 0.6253602305475504\n",
            "f1 score: 0.6770670826833073\n",
            "[[193 130]\n",
            " [ 77 217]]\n"
          ]
        },
        {
          "output_type": "display_data",
          "data": {
            "text/plain": [
              "<Figure size 600x500 with 1 Axes>"
            ],
            "image/png": "[encoded data removed]"
          },
          "metadata": {}
        }
      ]
    },
    {
      "cell_type": "code",
      "source": [
        "print(\"Running Naive Bayes on Explorations Reactions Dataset\")\n",
        "category = 'ex'\n",
        "X_train, X_val, y_train, y_val = get_data(category)\n",
        "y_pred = naive_bayes(X_train, X_val, y_train)\n",
        "ex_metrics = get_metrics(category, y_val, y_pred)"
      ],
      "metadata": {
        "colab": {
          "base_uri": "https://localhost:8080/",
          "height": 623
        },
        "id": "6wnzRb4jB8Cf",
        "outputId": "1767c7ca-03db-4b80-8cf3-fba6d3238a40"
      },
      "execution_count": null,
      "outputs": [
        {
          "output_type": "stream",
          "name": "stdout",
          "text": [
            "Running Naive Bayes on Explorations Reactions Dataset\n",
            "accuracy: 0.671875\n",
            "recall: 0.6736842105263158\n",
            "precision: 0.6666666666666666\n",
            "f1 score: 0.6701570680628272\n",
            "[[65 32]\n",
            " [31 64]]\n"
          ]
        },
        {
          "output_type": "display_data",
          "data": {
            "text/plain": [
              "<Figure size 600x500 with 1 Axes>"
            ],
            "image/png": "[encoded data removed]"
          },
          "metadata": {}
        }
      ]
    },
    {
      "cell_type": "code",
      "source": [
        "## we ran this after completing our baseline/etc just to see!\n",
        "print(\"Running Naive Bayes on Explorations Augmented Reactions Dataset\")\n",
        "category = 'ex_aug'\n",
        "X_train, X_val, y_train, y_val = get_data(category)\n",
        "y_pred = naive_bayes(X_train, X_val, y_train)\n",
        "ex_aug_metrics = get_metrics(category, y_val, y_pred)"
      ],
      "metadata": {
        "colab": {
          "base_uri": "https://localhost:8080/",
          "height": 623
        },
        "id": "rzdLUySQB7qv",
        "outputId": "8b85e2de-3d4b-4d8a-f289-7e8b3d26385c"
      },
      "execution_count": null,
      "outputs": [
        {
          "output_type": "stream",
          "name": "stdout",
          "text": [
            "Running Naive Bayes on Explorations Augmented Reactions Dataset\n",
            "accuracy: 0.7073170731707317\n",
            "recall: 0.7411764705882353\n",
            "precision: 0.7078651685393258\n",
            "f1 score: 0.7241379310344828\n",
            "[[106  52]\n",
            " [ 44 126]]\n"
          ]
        },
        {
          "output_type": "display_data",
          "data": {
            "text/plain": [
              "<Figure size 600x500 with 1 Axes>"
            ],
            "image/png": "[encoded data removed]"
          },
          "metadata": {}
        }
      ]
    },
    {
      "cell_type": "code",
      "source": [
        "metrics = pd.concat([em_metrics, in_metrics, ex_metrics, ex_aug_metrics], ignore_index=True)\n",
        "display(metrics)"
      ],
      "metadata": {
        "colab": {
          "base_uri": "https://localhost:8080/",
          "height": 175
        },
        "id": "vv0hM8l5Gxla",
        "outputId": "e411ba1b-cd5d-4bc2-a48b-9723aee2f640"
      },
      "execution_count": null,
      "outputs": [
        {
          "output_type": "display_data",
          "data": {
            "text/plain": [
              "  Category  Accuracy  Precision    Recall  F1 Score\n",
              "0       em  0.670644   0.645161  0.821918  0.722892\n",
              "1       in  0.664506   0.625360  0.738095  0.677067\n",
              "2       ex  0.671875   0.666667  0.673684  0.670157\n",
              "3   ex_aug  0.707317   0.707865  0.741176  0.724138"
            ],
            "text/html": [
              "\n",
              "  <div id=\"df-b26dbcd4-c174-40c6-b75e-51cd1bd85a90\" class=\"colab-df-container\">\n",
              "    <div>\n",
              "<style scoped>\n",
              "    .dataframe tbody tr th:only-of-type {\n",
              "        vertical-align: middle;\n",
              "    }\n",
              "\n",
              "    .dataframe tbody tr th {\n",
              "        vertical-align: top;\n",
              "    }\n",
              "\n",
              "    .dataframe thead th {\n",
              "        text-align: right;\n",
              "    }\n",
              "</style>\n",
              "<table border=\"1\" class=\"dataframe\">\n",
              "  <thead>\n",
              "    <tr style=\"text-align: right;\">\n",
              "      <th></th>\n",
              "      <th>Category</th>\n",
              "      <th>Accuracy</th>\n",
              "      <th>Precision</th>\n",
              "      <th>Recall</th>\n",
              "      <th>F1 Score</th>\n",
              "    </tr>\n",
              "  </thead>\n",
              "  <tbody>\n",
              "    <tr>\n",
              "      <th>0</th>\n",
              "      <td>em</td>\n",
              "      <td>0.670644</td>\n",
              "      <td>0.645161</td>\n",
              "      <td>0.821918</td>\n",
              "      <td>0.722892</td>\n",
              "    </tr>\n",
              "    <tr>\n",
              "      <th>1</th>\n",
              "      <td>in</td>\n",
              "      <td>0.664506</td>\n",
              "      <td>0.625360</td>\n",
              "      <td>0.738095</td>\n",
              "      <td>0.677067</td>\n",
              "    </tr>\n",
              "    <tr>\n",
              "      <th>2</th>\n",
              "      <td>ex</td>\n",
              "      <td>0.671875</td>\n",
              "      <td>0.666667</td>\n",
              "      <td>0.673684</td>\n",
              "      <td>0.670157</td>\n",
              "    </tr>\n",
              "    <tr>\n",
              "      <th>3</th>\n",
              "      <td>ex_aug</td>\n",
              "      <td>0.707317</td>\n",
              "      <td>0.707865</td>\n",
              "      <td>0.741176</td>\n",
              "      <td>0.724138</td>\n",
              "    </tr>\n",
              "  </tbody>\n",
              "</table>\n",
              "</div>\n",
              "    <div class=\"colab-df-buttons\">\n",
              "\n",
              "  <div class=\"colab-df-container\">\n",
              "    <button class=\"colab-df-convert\" onclick=\"convertToInteractive('df-b26dbcd4-c174-40c6-b75e-51cd1bd85a90')\"\n",
              "            title=\"Convert this dataframe to an interactive table.\"\n",
              "            style=\"display:none;\">\n",
              "\n",
              "  <svg xmlns=\"http://www.w3.org/2000/svg\" height=\"24px\" viewBox=\"0 -960 960 960\">\n",
              "    <path d=\"M120-120v-720h720v720H120Zm60-500h600v-160H180v160Zm220 220h160v-160H400v160Zm0 220h160v-160H400v160ZM180-400h160v-160H180v160Zm440 0h160v-160H620v160ZM180-180h160v-160H180v160Zm440 0h160v-160H620v160Z\"/>\n",
              "  </svg>\n",
              "    </button>\n",
              "\n",
              "  <style>\n",
              "    .colab-df-container {\n",
              "      display:flex;\n",
              "      gap: 12px;\n",
              "    }\n",
              "\n",
              "    .colab-df-convert {\n",
              "      background-color: #E8F0FE;\n",
              "      border: none;\n",
              "      border-radius: 50%;\n",
              "      cursor: pointer;\n",
              "      display: none;\n",
              "      fill: #1967D2;\n",
              "      height: 32px;\n",
              "      padding: 0 0 0 0;\n",
              "      width: 32px;\n",
              "    }\n",
              "\n",
              "    .colab-df-convert:hover {\n",
              "      background-color: #E2EBFA;\n",
              "      box-shadow: 0px 1px 2px rgba(60, 64, 67, 0.3), 0px 1px 3px 1px rgba(60, 64, 67, 0.15);\n",
              "      fill: #174EA6;\n",
              "    }\n",
              "\n",
              "    .colab-df-buttons div {\n",
              "      margin-bottom: 4px;\n",
              "    }\n",
              "\n",
              "    [theme=dark] .colab-df-convert {\n",
              "      background-color: #3B4455;\n",
              "      fill: #D2E3FC;\n",
              "    }\n",
              "\n",
              "    [theme=dark] .colab-df-convert:hover {\n",
              "      background-color: #434B5C;\n",
              "      box-shadow: 0px 1px 3px 1px rgba(0, 0, 0, 0.15);\n",
              "      filter: drop-shadow(0px 1px 2px rgba(0, 0, 0, 0.3));\n",
              "      fill: #FFFFFF;\n",
              "    }\n",
              "  </style>\n",
              "\n",
              "    <script>\n",
              "      const buttonEl =\n",
              "        document.querySelector('#df-b26dbcd4-c174-40c6-b75e-51cd1bd85a90 button.colab-df-convert');\n",
              "      buttonEl.style.display =\n",
              "        google.colab.kernel.accessAllowed ? 'block' : 'none';\n",
              "\n",
              "      async function convertToInteractive(key) {\n",
              "        const element = document.querySelector('#df-b26dbcd4-c174-40c6-b75e-51cd1bd85a90');\n",
              "        const dataTable =\n",
              "          await google.colab.kernel.invokeFunction('convertToInteractive',\n",
              "                                                    [key], {});\n",
              "        if (!dataTable) return;\n",
              "\n",
              "        const docLinkHtml = 'Like what you see? Visit the ' +\n",
              "          '<a target=\"_blank\" href=https://colab.research.google.com/notebooks/data_table.ipynb>data table notebook</a>'\n",
              "          + ' to learn more about interactive tables.';\n",
              "        element.innerHTML = '';\n",
              "        dataTable['output_type'] = 'display_data';\n",
              "        await google.colab.output.renderOutput(dataTable, element);\n",
              "        const docLink = document.createElement('div');\n",
              "        docLink.innerHTML = docLinkHtml;\n",
              "        element.appendChild(docLink);\n",
              "      }\n",
              "    </script>\n",
              "  </div>\n",
              "\n",
              "\n",
              "<div id=\"df-fd6e4f65-bfd3-4973-bae1-43f17e9d51b4\">\n",
              "  <button class=\"colab-df-quickchart\" onclick=\"quickchart('df-fd6e4f65-bfd3-4973-bae1-43f17e9d51b4')\"\n",
              "            title=\"Suggest charts\"\n",
              "            style=\"display:none;\">\n",
              "\n",
              "<svg xmlns=\"http://www.w3.org/2000/svg\" height=\"24px\"viewBox=\"0 0 24 24\"\n",
              "     width=\"24px\">\n",
              "    <g>\n",
              "        <path d=\"M19 3H5c-1.1 0-2 .9-2 2v14c0 1.1.9 2 2 2h14c1.1 0 2-.9 2-2V5c0-1.1-.9-2-2-2zM9 17H7v-7h2v7zm4 0h-2V7h2v10zm4 0h-2v-4h2v4z\"/>\n",
              "    </g>\n",
              "</svg>\n",
              "  </button>\n",
              "\n",
              "<style>\n",
              "  .colab-df-quickchart {\n",
              "      --bg-color: #E8F0FE;\n",
              "      --fill-color: #1967D2;\n",
              "      --hover-bg-color: #E2EBFA;\n",
              "      --hover-fill-color: #174EA6;\n",
              "      --disabled-fill-color: #AAA;\n",
              "      --disabled-bg-color: #DDD;\n",
              "  }\n",
              "\n",
              "  [theme=dark] .colab-df-quickchart {\n",
              "      --bg-color: #3B4455;\n",
              "      --fill-color: #D2E3FC;\n",
              "      --hover-bg-color: #434B5C;\n",
              "      --hover-fill-color: #FFFFFF;\n",
              "      --disabled-bg-color: #3B4455;\n",
              "      --disabled-fill-color: #666;\n",
              "  }\n",
              "\n",
              "  .colab-df-quickchart {\n",
              "    background-color: var(--bg-color);\n",
              "    border: none;\n",
              "    border-radius: 50%;\n",
              "    cursor: pointer;\n",
              "    display: none;\n",
              "    fill: var(--fill-color);\n",
              "    height: 32px;\n",
              "    padding: 0;\n",
              "    width: 32px;\n",
              "  }\n",
              "\n",
              "  .colab-df-quickchart:hover {\n",
              "    background-color: var(--hover-bg-color);\n",
              "    box-shadow: 0 1px 2px rgba(60, 64, 67, 0.3), 0 1px 3px 1px rgba(60, 64, 67, 0.15);\n",
              "    fill: var(--button-hover-fill-color);\n",
              "  }\n",
              "\n",
              "  .colab-df-quickchart-complete:disabled,\n",
              "  .colab-df-quickchart-complete:disabled:hover {\n",
              "    background-color: var(--disabled-bg-color);\n",
              "    fill: var(--disabled-fill-color);\n",
              "    box-shadow: none;\n",
              "  }\n",
              "\n",
              "  .colab-df-spinner {\n",
              "    border: 2px solid var(--fill-color);\n",
              "    border-color: transparent;\n",
              "    border-bottom-color: var(--fill-color);\n",
              "    animation:\n",
              "      spin 1s steps(1) infinite;\n",
              "  }\n",
              "\n",
              "  @keyframes spin {\n",
              "    0% {\n",
              "      border-color: transparent;\n",
              "      border-bottom-color: var(--fill-color);\n",
              "      border-left-color: var(--fill-color);\n",
              "    }\n",
              "    20% {\n",
              "      border-color: transparent;\n",
              "      border-left-color: var(--fill-color);\n",
              "      border-top-color: var(--fill-color);\n",
              "    }\n",
              "    30% {\n",
              "      border-color: transparent;\n",
              "      border-left-color: var(--fill-color);\n",
              "      border-top-color: var(--fill-color);\n",
              "      border-right-color: var(--fill-color);\n",
              "    }\n",
              "    40% {\n",
              "      border-color: transparent;\n",
              "      border-right-color: var(--fill-color);\n",
              "      border-top-color: var(--fill-color);\n",
              "    }\n",
              "    60% {\n",
              "      border-color: transparent;\n",
              "      border-right-color: var(--fill-color);\n",
              "    }\n",
              "    80% {\n",
              "      border-color: transparent;\n",
              "      border-right-color: var(--fill-color);\n",
              "      border-bottom-color: var(--fill-color);\n",
              "    }\n",
              "    90% {\n",
              "      border-color: transparent;\n",
              "      border-bottom-color: var(--fill-color);\n",
              "    }\n",
              "  }\n",
              "</style>\n",
              "\n",
              "  <script>\n",
              "    async function quickchart(key) {\n",
              "      const quickchartButtonEl =\n",
              "        document.querySelector('#' + key + ' button');\n",
              "      quickchartButtonEl.disabled = true;  // To prevent multiple clicks.\n",
              "      quickchartButtonEl.classList.add('colab-df-spinner');\n",
              "      try {\n",
              "        const charts = await google.colab.kernel.invokeFunction(\n",
              "            'suggestCharts', [key], {});\n",
              "      } catch (error) {\n",
              "        console.error('Error during call to suggestCharts:', error);\n",
              "      }\n",
              "      quickchartButtonEl.classList.remove('colab-df-spinner');\n",
              "      quickchartButtonEl.classList.add('colab-df-quickchart-complete');\n",
              "    }\n",
              "    (() => {\n",
              "      let quickchartButtonEl =\n",
              "        document.querySelector('#df-fd6e4f65-bfd3-4973-bae1-43f17e9d51b4 button');\n",
              "      quickchartButtonEl.style.display =\n",
              "        google.colab.kernel.accessAllowed ? 'block' : 'none';\n",
              "    })();\n",
              "  </script>\n",
              "</div>\n",
              "    </div>\n",
              "  </div>\n"
            ]
          },
          "metadata": {}
        }
      ]
    },
    {
      "cell_type": "code",
      "source": [],
      "metadata": {
        "id": "c5_kATIyRLEN"
      },
      "execution_count": null,
      "outputs": []
    }
  ]
}