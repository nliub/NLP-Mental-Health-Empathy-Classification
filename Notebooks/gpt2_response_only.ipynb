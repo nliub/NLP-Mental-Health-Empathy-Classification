{
  "cells": [
    {
      "cell_type": "markdown",
      "source": [
        "## Set up"
      ],
      "metadata": {
        "id": "VEGIfmyZY6Mj"
      }
    },
    {
      "cell_type": "code",
      "execution_count": null,
      "metadata": {
        "id": "k1l4A2nM5FTS"
      },
      "outputs": [],
      "source": [
        "!pip install -q transformers"
      ]
    },
    {
      "cell_type": "code",
      "execution_count": null,
      "metadata": {
        "id": "j1fCHfHx3b2c"
      },
      "outputs": [],
      "source": [
        "import pandas as pd\n",
        "from pathlib import Path\n",
        "from sklearn.model_selection import train_test_split\n",
        "import numpy as np\n",
        "from sklearn.utils.class_weight import compute_class_weight\n",
        "import tensorflow as tf\n",
        "from tensorflow import keras\n",
        "from transformers import GPT2Tokenizer, TFGPT2Model\n",
        "from sklearn.metrics import confusion_matrix\n",
        "import seaborn as sns\n",
        "import matplotlib.pyplot as plt\n",
        "from sklearn.metrics import accuracy_score, precision_score, recall_score, f1_score\n",
        "from tensorflow.keras.regularizers import l1, l2\n",
        "\n"
      ]
    },
    {
      "cell_type": "code",
      "execution_count": null,
      "metadata": {
        "colab": {
          "base_uri": "https://localhost:8080/"
        },
        "id": "XmlvChyh2ktx",
        "outputId": "3e4a4955-8d69-42d5-efa0-9b388a927e31"
      },
      "outputs": [
        {
          "output_type": "stream",
          "name": "stdout",
          "text": [
            "Mounted at /content/drive\n"
          ]
        }
      ],
      "source": [
        "from google.colab import drive\n",
        "drive.mount('/content/drive')"
      ]
    },
    {
      "cell_type": "code",
      "execution_count": null,
      "metadata": {
        "id": "LMjF4fpw29da"
      },
      "outputs": [],
      "source": [
        "home_dir = Path('/content/drive/MyDrive/266 Final Project/Code')\n",
        "train_path = home_dir / 'data' / 'train'\n",
        "val_path = home_dir / 'data' / 'val'\n",
        "test_path = home_dir / 'data' / 'test'"
      ]
    },
    {
      "cell_type": "code",
      "execution_count": null,
      "metadata": {
        "colab": {
          "base_uri": "https://localhost:8080/",
          "height": 266,
          "referenced_widgets": [
            "0778e13d52fc497a855611fce3704c01",
            "ed3b58df3164457a91728e37a022fb15",
            "7052b332f0ff4081acb6c9d718ee70b3",
            "5a34e2b5d9ff484c9a2e09a3d4b04e0a",
            "cc15213bcd594e82b05cad0fd21fc02b",
            "63b6e35055374fc6bb5fc593fd591fc1",
            "0d3bb8112fb840738d9809701d7f7f2a",
            "0135ba5135aa4ed4b7878331365e2eb8",
            "47c183fa426241f9944856cda8a0818c",
            "ee58755bb2a04d5ba2b008705bc1c34d",
            "988a03041f7f46c7a6d9936389d256ba",
            "4bd1834727ba40fbb0854d03120f09e8",
            "7c4c8d31dc9947bbb101fb24ed7c18e4",
            "e3f659b44b9d45f8bda1ec013fc6bb98",
            "2c5532d82fbb40e2adb82eb26045e6b7",
            "f527393632524a7f9227d38f27e7e76a",
            "9cb4b02af13e41f2af2db268d811938f",
            "1ee48f84831548cfa74715b978c0d2d4",
            "cfea7cf1825148a7b09d46e0fa6be1b8",
            "d6df0250503f48e38666f13e02417599",
            "bf40a44b8fe642789bcabe62cf797bca",
            "9a2c82eb9a9b42d497487f19d7ea4d56",
            "6008dabd64374ffa928edd8bef06a096",
            "bf5d2b03701d4da8bb908274c51b950a",
            "fb8d97735700454d96b3322535882651",
            "e5592adf0fe94019b1cccaa20a6cab59",
            "e918ebe07bbc49d19dfaee140ad499ef",
            "f10ae500a1d943c0b990e62bc603b1a7",
            "64a124f993f54c8cb9ccd84bcc5572c1",
            "c6398aff13e74b438748e976c19f1eb5",
            "0942322e86c6465bad22b198a6a9c32e",
            "fefc9436d34a490bb5b949e86d2d52b0",
            "54f537af142e4ad3baab7914ac2b23b1",
            "914bd84c2efd4620a7db9f3c29163409",
            "4901350faf9541419f7fcf5f09eef1d9",
            "946bb5cf232342fd9b0c52498e9c56f6",
            "35d0e8ba32a94101b1f5c098b69fc4ae",
            "e30ad6331b774f4a9804b335ab78b8d7",
            "fc64af2f30c34ab2a17138a419b06fc5",
            "af3d482163cd4cc2b02a4c39fefb19ba",
            "29cb0c256c514a098ad3a2c9dd11e4e9",
            "2ed2c0ec551342fcb929b2da897a689e",
            "f53ce8c2e8ef47d5adeaad69d9606c5e",
            "bb274ec3ef5f4401bab1b3dbb881ef35",
            "52ea8c3a7f5d4d888428a23280153e13",
            "df9e04ea8c3346b4af1924ceb2fe6522",
            "c66d8f37282d4572b333b1ba5a690b5a",
            "8567598c3d8a477bafffdaec884ab6e9",
            "8fc347a4a6bc4564ab1c5245bf26cef8",
            "5980e4b481ee4c8ba07d85e32de906af",
            "4c342560b2714adc89223dcfd8ba509a",
            "7efa283e683940bf8ed632d2e77b04c3",
            "f2c86149f0e94cc4ac2828a1da18e4d3",
            "add3ec7bbd12423bba4e34f97916031c",
            "d94c02e349ca498c81a400defc6a708e"
          ]
        },
        "id": "Bwqxuui8IHJU",
        "outputId": "ffb12d03-70ac-4555-f721-330a16f4789a"
      },
      "outputs": [
        {
          "output_type": "display_data",
          "data": {
            "text/plain": [
              "vocab.json:   0%|          | 0.00/1.04M [00:00<?, ?B/s]"
            ],
            "application/vnd.jupyter.widget-view+json": {
              "version_major": 2,
              "version_minor": 0,
              "model_id": "0778e13d52fc497a855611fce3704c01"
            }
          },
          "metadata": {}
        },
        {
          "output_type": "display_data",
          "data": {
            "text/plain": [
              "merges.txt:   0%|          | 0.00/456k [00:00<?, ?B/s]"
            ],
            "application/vnd.jupyter.widget-view+json": {
              "version_major": 2,
              "version_minor": 0,
              "model_id": "4bd1834727ba40fbb0854d03120f09e8"
            }
          },
          "metadata": {}
        },
        {
          "output_type": "display_data",
          "data": {
            "text/plain": [
              "tokenizer.json:   0%|          | 0.00/1.36M [00:00<?, ?B/s]"
            ],
            "application/vnd.jupyter.widget-view+json": {
              "version_major": 2,
              "version_minor": 0,
              "model_id": "6008dabd64374ffa928edd8bef06a096"
            }
          },
          "metadata": {}
        },
        {
          "output_type": "display_data",
          "data": {
            "text/plain": [
              "config.json:   0%|          | 0.00/665 [00:00<?, ?B/s]"
            ],
            "application/vnd.jupyter.widget-view+json": {
              "version_major": 2,
              "version_minor": 0,
              "model_id": "914bd84c2efd4620a7db9f3c29163409"
            }
          },
          "metadata": {}
        },
        {
          "output_type": "display_data",
          "data": {
            "text/plain": [
              "model.safetensors:   0%|          | 0.00/548M [00:00<?, ?B/s]"
            ],
            "application/vnd.jupyter.widget-view+json": {
              "version_major": 2,
              "version_minor": 0,
              "model_id": "52ea8c3a7f5d4d888428a23280153e13"
            }
          },
          "metadata": {}
        },
        {
          "output_type": "stream",
          "name": "stderr",
          "text": [
            "All PyTorch model weights were used when initializing TFGPT2Model.\n",
            "\n",
            "All the weights of TFGPT2Model were initialized from the PyTorch model.\n",
            "If your task is similar to the task the model of the checkpoint was trained on, you can already use TFGPT2Model for predictions without further training.\n"
          ]
        }
      ],
      "source": [
        "gpt2_tokenizer = GPT2Tokenizer.from_pretrained(\"gpt2\")\n",
        "gpt2_model = TFGPT2Model.from_pretrained(\"gpt2\")\n",
        "gpt2_tokenizer.pad_token = gpt2_tokenizer.eos_token"
      ]
    },
    {
      "cell_type": "code",
      "source": [
        "results = {}\n",
        "\n",
        "for category in (['em', 'in', 'ex', 'ex_aug']):\n",
        "    X_train = pd.read_csv(train_path / f'X_{category}.csv', delimiter=',')\n",
        "    # X_train = X_train['response_post']\n",
        "\n",
        "    results[f'{category}_seeker_wordcount'] = X_train['seeker_post'].str.split().apply(len).describe()\n",
        "    results[f'{category}_seeker_token_count'] = X_train['seeker_post'].apply(lambda x: len(gpt2_tokenizer.tokenize(x))).describe()\n",
        "    results[f'{category}_response_wordcount'] = X_train['response_post'].str.split().apply(len).describe()\n",
        "    results[f'{category}_response_token_count'] = X_train['response_post'].apply(lambda x: len(gpt2_tokenizer.tokenize(x))).describe()\n",
        "\n",
        "    results[f'{category}_seeker_wordcount'] = X_train['seeker_post'].str.split().apply(len).describe()\n",
        "    results[f'{category}_seeker_token_count'] = X_train['seeker_post'].apply(lambda x: len(gpt2_tokenizer.tokenize(x))).describe()\n",
        "\n",
        "\n",
        "summary_table = pd.DataFrame(results)\n",
        "\n",
        "summary_table = summary_table.transpose()\n",
        "\n",
        "summary_table\n",
        "\n"
      ],
      "metadata": {
        "colab": {
          "base_uri": "https://localhost:8080/",
          "height": 551
        },
        "id": "dJ6ss4zYi6aH",
        "outputId": "5c54fc79-35a0-4e2d-bc78-22b48efa8fd0"
      },
      "execution_count": null,
      "outputs": [
        {
          "output_type": "execute_result",
          "data": {
            "text/plain": [
              "                              count       mean        std  min    25%   50%  \\\n",
              "em_seeker_wordcount          1256.0  35.428344  26.695890  7.0  18.00  30.5   \n",
              "em_seeker_token_count        1256.0  42.770701  31.262237  8.0  22.00  36.0   \n",
              "em_response_wordcount        1256.0  48.544586  73.467111  5.0  14.00  29.0   \n",
              "em_response_token_count      1256.0  57.561306  85.778382  5.0  18.00  34.0   \n",
              "in_seeker_wordcount          1850.0  34.620000  25.158684  6.0  18.00  30.0   \n",
              "in_seeker_token_count        1850.0  42.093514  29.506275  8.0  22.25  36.0   \n",
              "in_response_wordcount        1850.0  47.835676  69.720736  5.0  14.00  28.0   \n",
              "in_response_token_count      1850.0  57.045405  82.437554  5.0  17.00  34.0   \n",
              "ex_seeker_wordcount           576.0  34.776042  24.005655  6.0  18.00  32.0   \n",
              "ex_seeker_token_count         576.0  42.409722  28.037283  8.0  23.00  39.0   \n",
              "ex_response_wordcount         576.0  39.748264  45.738966  5.0  11.00  25.0   \n",
              "ex_response_token_count       576.0  47.434028  53.722305  5.0  14.00  30.0   \n",
              "ex_aug_seeker_wordcount       984.0  35.828252  27.327485  6.0  18.00  31.0   \n",
              "ex_aug_seeker_token_count     984.0  43.507114  31.923420  8.0  23.00  38.0   \n",
              "ex_aug_response_wordcount     984.0  45.485772  53.493915  3.0  12.00  28.0   \n",
              "ex_aug_response_token_count   984.0  53.836382  62.731278  4.0  15.00  33.5   \n",
              "\n",
              "                               75%     max  \n",
              "em_seeker_wordcount          46.00   208.0  \n",
              "em_seeker_token_count        55.00   252.0  \n",
              "em_response_wordcount        59.00  1811.0  \n",
              "em_response_token_count      69.25  2099.0  \n",
              "in_seeker_wordcount          45.00   216.0  \n",
              "in_seeker_token_count        54.00   252.0  \n",
              "in_response_wordcount        58.00  1811.0  \n",
              "in_response_token_count      69.00  2121.0  \n",
              "ex_seeker_wordcount          44.00   186.0  \n",
              "ex_seeker_token_count        53.00   222.0  \n",
              "ex_response_wordcount        49.25   398.0  \n",
              "ex_response_token_count      59.00   466.0  \n",
              "ex_aug_seeker_wordcount      45.00   209.0  \n",
              "ex_aug_seeker_token_count    55.00   251.0  \n",
              "ex_aug_response_wordcount    57.00   477.0  \n",
              "ex_aug_response_token_count  67.00   543.0  "
            ],
            "text/html": [
              "\n",
              "  <div id=\"df-0192c9a9-6473-4feb-8c8a-ddde1819a7e8\" class=\"colab-df-container\">\n",
              "    <div>\n",
              "<style scoped>\n",
              "    .dataframe tbody tr th:only-of-type {\n",
              "        vertical-align: middle;\n",
              "    }\n",
              "\n",
              "    .dataframe tbody tr th {\n",
              "        vertical-align: top;\n",
              "    }\n",
              "\n",
              "    .dataframe thead th {\n",
              "        text-align: right;\n",
              "    }\n",
              "</style>\n",
              "<table border=\"1\" class=\"dataframe\">\n",
              "  <thead>\n",
              "    <tr style=\"text-align: right;\">\n",
              "      <th></th>\n",
              "      <th>count</th>\n",
              "      <th>mean</th>\n",
              "      <th>std</th>\n",
              "      <th>min</th>\n",
              "      <th>25%</th>\n",
              "      <th>50%</th>\n",
              "      <th>75%</th>\n",
              "      <th>max</th>\n",
              "    </tr>\n",
              "  </thead>\n",
              "  <tbody>\n",
              "    <tr>\n",
              "      <th>em_seeker_wordcount</th>\n",
              "      <td>1256.0</td>\n",
              "      <td>35.428344</td>\n",
              "      <td>26.695890</td>\n",
              "      <td>7.0</td>\n",
              "      <td>18.00</td>\n",
              "      <td>30.5</td>\n",
              "      <td>46.00</td>\n",
              "      <td>208.0</td>\n",
              "    </tr>\n",
              "    <tr>\n",
              "      <th>em_seeker_token_count</th>\n",
              "      <td>1256.0</td>\n",
              "      <td>42.770701</td>\n",
              "      <td>31.262237</td>\n",
              "      <td>8.0</td>\n",
              "      <td>22.00</td>\n",
              "      <td>36.0</td>\n",
              "      <td>55.00</td>\n",
              "      <td>252.0</td>\n",
              "    </tr>\n",
              "    <tr>\n",
              "      <th>em_response_wordcount</th>\n",
              "      <td>1256.0</td>\n",
              "      <td>48.544586</td>\n",
              "      <td>73.467111</td>\n",
              "      <td>5.0</td>\n",
              "      <td>14.00</td>\n",
              "      <td>29.0</td>\n",
              "      <td>59.00</td>\n",
              "      <td>1811.0</td>\n",
              "    </tr>\n",
              "    <tr>\n",
              "      <th>em_response_token_count</th>\n",
              "      <td>1256.0</td>\n",
              "      <td>57.561306</td>\n",
              "      <td>85.778382</td>\n",
              "      <td>5.0</td>\n",
              "      <td>18.00</td>\n",
              "      <td>34.0</td>\n",
              "      <td>69.25</td>\n",
              "      <td>2099.0</td>\n",
              "    </tr>\n",
              "    <tr>\n",
              "      <th>in_seeker_wordcount</th>\n",
              "      <td>1850.0</td>\n",
              "      <td>34.620000</td>\n",
              "      <td>25.158684</td>\n",
              "      <td>6.0</td>\n",
              "      <td>18.00</td>\n",
              "      <td>30.0</td>\n",
              "      <td>45.00</td>\n",
              "      <td>216.0</td>\n",
              "    </tr>\n",
              "    <tr>\n",
              "      <th>in_seeker_token_count</th>\n",
              "      <td>1850.0</td>\n",
              "      <td>42.093514</td>\n",
              "      <td>29.506275</td>\n",
              "      <td>8.0</td>\n",
              "      <td>22.25</td>\n",
              "      <td>36.0</td>\n",
              "      <td>54.00</td>\n",
              "      <td>252.0</td>\n",
              "    </tr>\n",
              "    <tr>\n",
              "      <th>in_response_wordcount</th>\n",
              "      <td>1850.0</td>\n",
              "      <td>47.835676</td>\n",
              "      <td>69.720736</td>\n",
              "      <td>5.0</td>\n",
              "      <td>14.00</td>\n",
              "      <td>28.0</td>\n",
              "      <td>58.00</td>\n",
              "      <td>1811.0</td>\n",
              "    </tr>\n",
              "    <tr>\n",
              "      <th>in_response_token_count</th>\n",
              "      <td>1850.0</td>\n",
              "      <td>57.045405</td>\n",
              "      <td>82.437554</td>\n",
              "      <td>5.0</td>\n",
              "      <td>17.00</td>\n",
              "      <td>34.0</td>\n",
              "      <td>69.00</td>\n",
              "      <td>2121.0</td>\n",
              "    </tr>\n",
              "    <tr>\n",
              "      <th>ex_seeker_wordcount</th>\n",
              "      <td>576.0</td>\n",
              "      <td>34.776042</td>\n",
              "      <td>24.005655</td>\n",
              "      <td>6.0</td>\n",
              "      <td>18.00</td>\n",
              "      <td>32.0</td>\n",
              "      <td>44.00</td>\n",
              "      <td>186.0</td>\n",
              "    </tr>\n",
              "    <tr>\n",
              "      <th>ex_seeker_token_count</th>\n",
              "      <td>576.0</td>\n",
              "      <td>42.409722</td>\n",
              "      <td>28.037283</td>\n",
              "      <td>8.0</td>\n",
              "      <td>23.00</td>\n",
              "      <td>39.0</td>\n",
              "      <td>53.00</td>\n",
              "      <td>222.0</td>\n",
              "    </tr>\n",
              "    <tr>\n",
              "      <th>ex_response_wordcount</th>\n",
              "      <td>576.0</td>\n",
              "      <td>39.748264</td>\n",
              "      <td>45.738966</td>\n",
              "      <td>5.0</td>\n",
              "      <td>11.00</td>\n",
              "      <td>25.0</td>\n",
              "      <td>49.25</td>\n",
              "      <td>398.0</td>\n",
              "    </tr>\n",
              "    <tr>\n",
              "      <th>ex_response_token_count</th>\n",
              "      <td>576.0</td>\n",
              "      <td>47.434028</td>\n",
              "      <td>53.722305</td>\n",
              "      <td>5.0</td>\n",
              "      <td>14.00</td>\n",
              "      <td>30.0</td>\n",
              "      <td>59.00</td>\n",
              "      <td>466.0</td>\n",
              "    </tr>\n",
              "    <tr>\n",
              "      <th>ex_aug_seeker_wordcount</th>\n",
              "      <td>984.0</td>\n",
              "      <td>35.828252</td>\n",
              "      <td>27.327485</td>\n",
              "      <td>6.0</td>\n",
              "      <td>18.00</td>\n",
              "      <td>31.0</td>\n",
              "      <td>45.00</td>\n",
              "      <td>209.0</td>\n",
              "    </tr>\n",
              "    <tr>\n",
              "      <th>ex_aug_seeker_token_count</th>\n",
              "      <td>984.0</td>\n",
              "      <td>43.507114</td>\n",
              "      <td>31.923420</td>\n",
              "      <td>8.0</td>\n",
              "      <td>23.00</td>\n",
              "      <td>38.0</td>\n",
              "      <td>55.00</td>\n",
              "      <td>251.0</td>\n",
              "    </tr>\n",
              "    <tr>\n",
              "      <th>ex_aug_response_wordcount</th>\n",
              "      <td>984.0</td>\n",
              "      <td>45.485772</td>\n",
              "      <td>53.493915</td>\n",
              "      <td>3.0</td>\n",
              "      <td>12.00</td>\n",
              "      <td>28.0</td>\n",
              "      <td>57.00</td>\n",
              "      <td>477.0</td>\n",
              "    </tr>\n",
              "    <tr>\n",
              "      <th>ex_aug_response_token_count</th>\n",
              "      <td>984.0</td>\n",
              "      <td>53.836382</td>\n",
              "      <td>62.731278</td>\n",
              "      <td>4.0</td>\n",
              "      <td>15.00</td>\n",
              "      <td>33.5</td>\n",
              "      <td>67.00</td>\n",
              "      <td>543.0</td>\n",
              "    </tr>\n",
              "  </tbody>\n",
              "</table>\n",
              "</div>\n",
              "    <div class=\"colab-df-buttons\">\n",
              "\n",
              "  <div class=\"colab-df-container\">\n",
              "    <button class=\"colab-df-convert\" onclick=\"convertToInteractive('df-0192c9a9-6473-4feb-8c8a-ddde1819a7e8')\"\n",
              "            title=\"Convert this dataframe to an interactive table.\"\n",
              "            style=\"display:none;\">\n",
              "\n",
              "  <svg xmlns=\"http://www.w3.org/2000/svg\" height=\"24px\" viewBox=\"0 -960 960 960\">\n",
              "    <path d=\"M120-120v-720h720v720H120Zm60-500h600v-160H180v160Zm220 220h160v-160H400v160Zm0 220h160v-160H400v160ZM180-400h160v-160H180v160Zm440 0h160v-160H620v160ZM180-180h160v-160H180v160Zm440 0h160v-160H620v160Z\"/>\n",
              "  </svg>\n",
              "    </button>\n",
              "\n",
              "  <style>\n",
              "    .colab-df-container {\n",
              "      display:flex;\n",
              "      gap: 12px;\n",
              "    }\n",
              "\n",
              "    .colab-df-convert {\n",
              "      background-color: #E8F0FE;\n",
              "      border: none;\n",
              "      border-radius: 50%;\n",
              "      cursor: pointer;\n",
              "      display: none;\n",
              "      fill: #1967D2;\n",
              "      height: 32px;\n",
              "      padding: 0 0 0 0;\n",
              "      width: 32px;\n",
              "    }\n",
              "\n",
              "    .colab-df-convert:hover {\n",
              "      background-color: #E2EBFA;\n",
              "      box-shadow: 0px 1px 2px rgba(60, 64, 67, 0.3), 0px 1px 3px 1px rgba(60, 64, 67, 0.15);\n",
              "      fill: #174EA6;\n",
              "    }\n",
              "\n",
              "    .colab-df-buttons div {\n",
              "      margin-bottom: 4px;\n",
              "    }\n",
              "\n",
              "    [theme=dark] .colab-df-convert {\n",
              "      background-color: #3B4455;\n",
              "      fill: #D2E3FC;\n",
              "    }\n",
              "\n",
              "    [theme=dark] .colab-df-convert:hover {\n",
              "      background-color: #434B5C;\n",
              "      box-shadow: 0px 1px 3px 1px rgba(0, 0, 0, 0.15);\n",
              "      filter: drop-shadow(0px 1px 2px rgba(0, 0, 0, 0.3));\n",
              "      fill: #FFFFFF;\n",
              "    }\n",
              "  </style>\n",
              "\n",
              "    <script>\n",
              "      const buttonEl =\n",
              "        document.querySelector('#df-0192c9a9-6473-4feb-8c8a-ddde1819a7e8 button.colab-df-convert');\n",
              "      buttonEl.style.display =\n",
              "        google.colab.kernel.accessAllowed ? 'block' : 'none';\n",
              "\n",
              "      async function convertToInteractive(key) {\n",
              "        const element = document.querySelector('#df-0192c9a9-6473-4feb-8c8a-ddde1819a7e8');\n",
              "        const dataTable =\n",
              "          await google.colab.kernel.invokeFunction('convertToInteractive',\n",
              "                                                    [key], {});\n",
              "        if (!dataTable) return;\n",
              "\n",
              "        const docLinkHtml = 'Like what you see? Visit the ' +\n",
              "          '<a target=\"_blank\" href=https://colab.research.google.com/notebooks/data_table.ipynb>data table notebook</a>'\n",
              "          + ' to learn more about interactive tables.';\n",
              "        element.innerHTML = '';\n",
              "        dataTable['output_type'] = 'display_data';\n",
              "        await google.colab.output.renderOutput(dataTable, element);\n",
              "        const docLink = document.createElement('div');\n",
              "        docLink.innerHTML = docLinkHtml;\n",
              "        element.appendChild(docLink);\n",
              "      }\n",
              "    </script>\n",
              "  </div>\n",
              "\n",
              "\n",
              "<div id=\"df-3fb6fb6d-96b7-4544-a4f7-b27c598a332f\">\n",
              "  <button class=\"colab-df-quickchart\" onclick=\"quickchart('df-3fb6fb6d-96b7-4544-a4f7-b27c598a332f')\"\n",
              "            title=\"Suggest charts\"\n",
              "            style=\"display:none;\">\n",
              "\n",
              "<svg xmlns=\"http://www.w3.org/2000/svg\" height=\"24px\"viewBox=\"0 0 24 24\"\n",
              "     width=\"24px\">\n",
              "    <g>\n",
              "        <path d=\"M19 3H5c-1.1 0-2 .9-2 2v14c0 1.1.9 2 2 2h14c1.1 0 2-.9 2-2V5c0-1.1-.9-2-2-2zM9 17H7v-7h2v7zm4 0h-2V7h2v10zm4 0h-2v-4h2v4z\"/>\n",
              "    </g>\n",
              "</svg>\n",
              "  </button>\n",
              "\n",
              "<style>\n",
              "  .colab-df-quickchart {\n",
              "      --bg-color: #E8F0FE;\n",
              "      --fill-color: #1967D2;\n",
              "      --hover-bg-color: #E2EBFA;\n",
              "      --hover-fill-color: #174EA6;\n",
              "      --disabled-fill-color: #AAA;\n",
              "      --disabled-bg-color: #DDD;\n",
              "  }\n",
              "\n",
              "  [theme=dark] .colab-df-quickchart {\n",
              "      --bg-color: #3B4455;\n",
              "      --fill-color: #D2E3FC;\n",
              "      --hover-bg-color: #434B5C;\n",
              "      --hover-fill-color: #FFFFFF;\n",
              "      --disabled-bg-color: #3B4455;\n",
              "      --disabled-fill-color: #666;\n",
              "  }\n",
              "\n",
              "  .colab-df-quickchart {\n",
              "    background-color: var(--bg-color);\n",
              "    border: none;\n",
              "    border-radius: 50%;\n",
              "    cursor: pointer;\n",
              "    display: none;\n",
              "    fill: var(--fill-color);\n",
              "    height: 32px;\n",
              "    padding: 0;\n",
              "    width: 32px;\n",
              "  }\n",
              "\n",
              "  .colab-df-quickchart:hover {\n",
              "    background-color: var(--hover-bg-color);\n",
              "    box-shadow: 0 1px 2px rgba(60, 64, 67, 0.3), 0 1px 3px 1px rgba(60, 64, 67, 0.15);\n",
              "    fill: var(--button-hover-fill-color);\n",
              "  }\n",
              "\n",
              "  .colab-df-quickchart-complete:disabled,\n",
              "  .colab-df-quickchart-complete:disabled:hover {\n",
              "    background-color: var(--disabled-bg-color);\n",
              "    fill: var(--disabled-fill-color);\n",
              "    box-shadow: none;\n",
              "  }\n",
              "\n",
              "  .colab-df-spinner {\n",
              "    border: 2px solid var(--fill-color);\n",
              "    border-color: transparent;\n",
              "    border-bottom-color: var(--fill-color);\n",
              "    animation:\n",
              "      spin 1s steps(1) infinite;\n",
              "  }\n",
              "\n",
              "  @keyframes spin {\n",
              "    0% {\n",
              "      border-color: transparent;\n",
              "      border-bottom-color: var(--fill-color);\n",
              "      border-left-color: var(--fill-color);\n",
              "    }\n",
              "    20% {\n",
              "      border-color: transparent;\n",
              "      border-left-color: var(--fill-color);\n",
              "      border-top-color: var(--fill-color);\n",
              "    }\n",
              "    30% {\n",
              "      border-color: transparent;\n",
              "      border-left-color: var(--fill-color);\n",
              "      border-top-color: var(--fill-color);\n",
              "      border-right-color: var(--fill-color);\n",
              "    }\n",
              "    40% {\n",
              "      border-color: transparent;\n",
              "      border-right-color: var(--fill-color);\n",
              "      border-top-color: var(--fill-color);\n",
              "    }\n",
              "    60% {\n",
              "      border-color: transparent;\n",
              "      border-right-color: var(--fill-color);\n",
              "    }\n",
              "    80% {\n",
              "      border-color: transparent;\n",
              "      border-right-color: var(--fill-color);\n",
              "      border-bottom-color: var(--fill-color);\n",
              "    }\n",
              "    90% {\n",
              "      border-color: transparent;\n",
              "      border-bottom-color: var(--fill-color);\n",
              "    }\n",
              "  }\n",
              "</style>\n",
              "\n",
              "  <script>\n",
              "    async function quickchart(key) {\n",
              "      const quickchartButtonEl =\n",
              "        document.querySelector('#' + key + ' button');\n",
              "      quickchartButtonEl.disabled = true;  // To prevent multiple clicks.\n",
              "      quickchartButtonEl.classList.add('colab-df-spinner');\n",
              "      try {\n",
              "        const charts = await google.colab.kernel.invokeFunction(\n",
              "            'suggestCharts', [key], {});\n",
              "      } catch (error) {\n",
              "        console.error('Error during call to suggestCharts:', error);\n",
              "      }\n",
              "      quickchartButtonEl.classList.remove('colab-df-spinner');\n",
              "      quickchartButtonEl.classList.add('colab-df-quickchart-complete');\n",
              "    }\n",
              "    (() => {\n",
              "      let quickchartButtonEl =\n",
              "        document.querySelector('#df-3fb6fb6d-96b7-4544-a4f7-b27c598a332f button');\n",
              "      quickchartButtonEl.style.display =\n",
              "        google.colab.kernel.accessAllowed ? 'block' : 'none';\n",
              "    })();\n",
              "  </script>\n",
              "</div>\n",
              "    </div>\n",
              "  </div>\n"
            ]
          },
          "metadata": {},
          "execution_count": 6
        }
      ]
    },
    {
      "cell_type": "code",
      "source": [
        "MAX_LENGTH = 150\n",
        "FEATURES = 'response_post'"
      ],
      "metadata": {
        "id": "aAiGDP5-aJtj"
      },
      "execution_count": null,
      "outputs": []
    },
    {
      "cell_type": "code",
      "execution_count": null,
      "metadata": {
        "id": "ILHfhYBnnxzK"
      },
      "outputs": [],
      "source": [
        "def get_target_vectors(category):\n",
        "    y_train = pd.read_csv((train_path / f'y_{category}.csv'), delimiter=',')\n",
        "    y_val = pd.read_csv((val_path / f'y_{category}.csv'), delimiter=',')\n",
        "    y_test = pd.read_csv((test_path / f'y_{category}.csv'), delimiter=',')\n",
        "\n",
        "    y_train = y_train['empathy']\n",
        "    y_val = y_val['empathy']\n",
        "    y_test = y_test['empathy']\n",
        "\n",
        "    return y_train, y_val, y_test\n",
        "\n",
        "\n",
        "#no manual adjustment of token_type_ids; everything will be 0\n",
        "def csv_to_encodings(category, features=FEATURES, max_length=MAX_LENGTH):\n",
        "    #chunk and pad seeker_post, then add [SEP] to join with response_post\n",
        "\n",
        "    X_train = pd.read_csv(train_path / f'X_{category}.csv', delimiter=',')\n",
        "    X_train = X_train[features]\n",
        "    # X_train_combined = X_train.apply(prepare_text, axis=1)\n",
        "    train_encodings = gpt2_tokenizer(list(X_train), truncation=True, padding=True, max_length=max_length, return_tensors='tf')\n",
        "\n",
        "    X_val = pd.read_csv(val_path / f'X_{category}.csv', delimiter=',')\n",
        "    X_val = X_val[features]\n",
        "    # X_val_combined = X_val.apply(prepare_text, axis=1)\n",
        "    val_encodings = gpt2_tokenizer(list(X_val), truncation=True, padding=True, max_length=max_length, return_tensors='tf')\n",
        "\n",
        "    X_test = pd.read_csv(test_path / f'X_{category}.csv', delimiter=',')\n",
        "    X_test = X_test[features]\n",
        "    # X_test_combined = X_test.apply(prepare_text, axis=1)\n",
        "    test_encodings = gpt2_tokenizer(list(X_test), truncation=True, padding=True, max_length=max_length, return_tensors='tf')\n",
        "\n",
        "    return train_encodings, val_encodings, test_encodings"
      ]
    },
    {
      "cell_type": "markdown",
      "source": [
        "### chunking considerations"
      ],
      "metadata": {
        "id": "2FMT0_51YxXt"
      }
    },
    {
      "cell_type": "markdown",
      "source": [
        "## Models"
      ],
      "metadata": {
        "id": "-wFaTq164qM2"
      }
    },
    {
      "cell_type": "code",
      "execution_count": null,
      "metadata": {
        "id": "OQZn7ckjKZrh"
      },
      "outputs": [],
      "source": [
        "def create_gpt2_model(gpt_model=gpt2_model,max_length = MAX_LENGTH,\n",
        "                                 hidden_size = 100,\n",
        "                                 dropout=0.3,\n",
        "                                 learning_rate=0.0005):\n",
        "\n",
        "\n",
        "    gpt_model.trainable = False\n",
        "\n",
        "\n",
        "    input_ids = tf.keras.layers.Input(shape=(max_length,), dtype=tf.int64, name='input_ids_layer')\n",
        "    # token_type_ids = tf.keras.layers.Input(shape=(max_length,), dtype=tf.int64, name='token_type_ids_layer')\n",
        "    attention_mask = tf.keras.layers.Input(shape=(max_length,), dtype=tf.int64, name='attention_mask_layer')\n",
        "\n",
        "    gpt2_inputs = {'input_ids': input_ids}\n",
        "                #    'token_type_ids': token_type_ids,\n",
        "                #   'attention_mask': attention_mask}\n",
        "\n",
        "    gpt2_out = gpt_model(gpt2_inputs)\n",
        "\n",
        "    #pooler_token = bert_out[1]\n",
        "    cls_token = gpt2_out[0][:, 0, :]\n",
        "\n",
        "    hidden = tf.keras.layers.Dense(hidden_size, activation='relu', name='hidden_layer')(cls_token)\n",
        "\n",
        "\n",
        "    hidden = tf.keras.layers.Dropout(dropout)(hidden)\n",
        "\n",
        "\n",
        "    classification = tf.keras.layers.Dense(1, activation='sigmoid',name='classification_layer')(hidden)\n",
        "\n",
        "    classification_model = tf.keras.Model(inputs=[input_ids, attention_mask], outputs=[classification])\n",
        "\n",
        "    classification_model.compile(optimizer=tf.keras.optimizers.Adam(learning_rate=learning_rate),\n",
        "                                 loss=tf.keras.losses.BinaryCrossentropy(),\n",
        "                                 metrics='accuracy')\n",
        "\n",
        "\n",
        "\n",
        "    return classification_model"
      ]
    },
    {
      "cell_type": "code",
      "source": [
        "def run_model(category):\n",
        "    y_train, y_val, y_test = get_target_vectors(category)\n",
        "\n",
        "    train_encodings, val_encodings, test_encodings = csv_to_encodings(category)\n",
        "\n",
        "    print(f'y_train value counts:\\n{y_train.value_counts()}')\n",
        "\n",
        "    print(f'train_encodings:\\n{train_encodings}')\n",
        "\n",
        "    classification = create_gpt2_model()\n",
        "    classification_history = classification.fit([train_encodings.input_ids, train_encodings.attention_mask],\n",
        "                                                  y_train,\n",
        "                                                  validation_data=([val_encodings.input_ids, val_encodings.attention_mask],\n",
        "                                                  y_val),\n",
        "                                                  batch_size=8,\n",
        "                                                  epochs=10,\n",
        "                                                  #class_weight=class_weight\n",
        "                                                  )\n",
        "\n",
        "    metrics_columns = ['Category', 'Accuracy', 'Precision', 'Recall', 'F1 Score']\n",
        "\n",
        "    predictions = classification.predict([test_encodings.input_ids, test_encodings.attention_mask])\n",
        "    predictions = (predictions >= 0.5).astype(int)\n",
        "\n",
        "\n",
        "    accuracy = accuracy_score(y_test, predictions)\n",
        "    print(f\"accuracy for test: {accuracy}\")\n",
        "    recall = recall_score(y_test, predictions)\n",
        "    print(f\"recall for test: {recall}\")\n",
        "    precision = precision_score(y_test, predictions)\n",
        "    print(f\"precision for test: {precision}\")\n",
        "    f1 = f1_score(y_test, predictions)\n",
        "    print(f\"f1 score for test: {f1}\")\n",
        "\n",
        "    conf_matrix = confusion_matrix(y_test, predictions)\n",
        "    print(conf_matrix)\n",
        "\n",
        "    sns.set(font_scale=1.2)\n",
        "    plt.figure(figsize=(6, 5))\n",
        "    sns.heatmap(conf_matrix, annot=True, fmt='g', cmap='Blues', annot_kws={\"size\": 16}, cbar=False)\n",
        "    plt.xlabel('Predicted')\n",
        "    plt.ylabel('Actual')\n",
        "    plt.title(f'{category} Confusion Matrix')\n",
        "    plt.show()\n",
        "\n",
        "\n",
        "    metrics = {\n",
        "        'Category': f'{category}',\n",
        "        'Accuracy': accuracy,\n",
        "        'Precision': precision,\n",
        "        'Recall': recall,\n",
        "        'F1 Score': f1\n",
        "    }\n",
        "    metrics = pd.DataFrame([metrics], columns=metrics_columns)\n"
      ],
      "metadata": {
        "id": "azlxj1rNHeIA"
      },
      "execution_count": null,
      "outputs": []
    },
    {
      "cell_type": "code",
      "source": [
        "em_metrics = run_model('em')"
      ],
      "metadata": {
        "colab": {
          "base_uri": "https://localhost:8080/",
          "height": 1000
        },
        "id": "_mj4ZMlhxtxT",
        "outputId": "13c8c38c-94c1-4fc2-e1f2-830c5cb8c4b4"
      },
      "execution_count": null,
      "outputs": [
        {
          "output_type": "stream",
          "name": "stdout",
          "text": [
            "y_train value counts:\n",
            "0    629\n",
            "1    627\n",
            "Name: empathy, dtype: int64\n",
            "train_encodings:\n",
            "{'input_ids': <tf.Tensor: shape=(1256, 150), dtype=int32, numpy=\n",
            "array([[   40,  1053,  1282, ..., 50256, 50256, 50256],\n",
            "       [ 2339,  5055,  2157, ..., 50256, 50256, 50256],\n",
            "       [  464,  1994,   318, ..., 50256, 50256, 50256],\n",
            "       ...,\n",
            "       [ 1639,   389,   407, ..., 50256, 50256, 50256],\n",
            "       [ 5832, 16453,    11, ...,  4673,   393,  1804],\n",
            "       [ 2504,   340,   468, ..., 50256, 50256, 50256]], dtype=int32)>, 'attention_mask': <tf.Tensor: shape=(1256, 150), dtype=int32, numpy=\n",
            "array([[1, 1, 1, ..., 0, 0, 0],\n",
            "       [1, 1, 1, ..., 0, 0, 0],\n",
            "       [1, 1, 1, ..., 0, 0, 0],\n",
            "       ...,\n",
            "       [1, 1, 1, ..., 0, 0, 0],\n",
            "       [1, 1, 1, ..., 1, 1, 1],\n",
            "       [1, 1, 1, ..., 0, 0, 0]], dtype=int32)>}\n",
            "Epoch 1/10\n",
            "157/157 [==============================] - 33s 139ms/step - loss: 1.6508 - accuracy: 0.5143 - val_loss: 0.6969 - val_accuracy: 0.5370\n",
            "Epoch 2/10\n",
            "157/157 [==============================] - 19s 121ms/step - loss: 1.0735 - accuracy: 0.5056 - val_loss: 0.6835 - val_accuracy: 0.5418\n",
            "Epoch 3/10\n",
            "157/157 [==============================] - 20s 126ms/step - loss: 0.8385 - accuracy: 0.5127 - val_loss: 0.6846 - val_accuracy: 0.5465\n",
            "Epoch 4/10\n",
            "157/157 [==============================] - 19s 124ms/step - loss: 0.7721 - accuracy: 0.5159 - val_loss: 0.6882 - val_accuracy: 0.5107\n",
            "Epoch 5/10\n",
            "157/157 [==============================] - 21s 131ms/step - loss: 0.7170 - accuracy: 0.5326 - val_loss: 0.6816 - val_accuracy: 0.5752\n",
            "Epoch 6/10\n",
            "157/157 [==============================] - 20s 129ms/step - loss: 0.6919 - accuracy: 0.5533 - val_loss: 0.6800 - val_accuracy: 0.6181\n",
            "Epoch 7/10\n",
            "157/157 [==============================] - 20s 128ms/step - loss: 0.6949 - accuracy: 0.5557 - val_loss: 0.6860 - val_accuracy: 0.5585\n",
            "Epoch 8/10\n",
            "157/157 [==============================] - 20s 127ms/step - loss: 0.6937 - accuracy: 0.5533 - val_loss: 0.6854 - val_accuracy: 0.5943\n",
            "Epoch 9/10\n",
            "157/157 [==============================] - 20s 129ms/step - loss: 0.6896 - accuracy: 0.5462 - val_loss: 0.6859 - val_accuracy: 0.5967\n",
            "Epoch 10/10\n",
            "157/157 [==============================] - 20s 127ms/step - loss: 0.6864 - accuracy: 0.5525 - val_loss: 0.6889 - val_accuracy: 0.5298\n",
            "14/14 [==============================] - 7s 339ms/step\n",
            "accuracy for test: 0.5417661097852029\n",
            "recall for test: 0.07960199004975124\n",
            "precision for test: 0.6956521739130435\n",
            "f1 score for test: 0.14285714285714285\n",
            "[[211   7]\n",
            " [185  16]]\n"
          ]
        },
        {
          "output_type": "display_data",
          "data": {
            "text/plain": [
              "<Figure size 600x500 with 1 Axes>"
            ],
            "image/png": "[encoded data removed]"
          },
          "metadata": {}
        }
      ]
    },
    {
      "cell_type": "code",
      "source": [
        "in_metrics = run_model('in')"
      ],
      "metadata": {
        "colab": {
          "base_uri": "https://localhost:8080/",
          "height": 1000
        },
        "id": "RKRwC9RA0cpJ",
        "outputId": "d3dcf9f3-5a1a-42d5-acf4-1553ae648e50"
      },
      "execution_count": null,
      "outputs": [
        {
          "output_type": "stream",
          "name": "stdout",
          "text": [
            "y_train value counts:\n",
            "0    972\n",
            "1    878\n",
            "Name: empathy, dtype: int64\n",
            "train_encodings:\n",
            "{'input_ids': <tf.Tensor: shape=(1850, 150), dtype=int32, numpy=\n",
            "array([[37739,    11,   345, ..., 50256, 50256, 50256],\n",
            "       [11980,   345,  3088, ..., 50256, 50256, 50256],\n",
            "       [   62, 13898,    62, ...,  1101, 10563,    61],\n",
            "       ...,\n",
            "       [30556,    13,   632, ..., 50256, 50256, 50256],\n",
            "       [ 1135,   821,   588, ..., 50256, 50256, 50256],\n",
            "       [40825,   588,   345, ..., 50256, 50256, 50256]], dtype=int32)>, 'attention_mask': <tf.Tensor: shape=(1850, 150), dtype=int32, numpy=\n",
            "array([[1, 1, 1, ..., 0, 0, 0],\n",
            "       [1, 1, 1, ..., 0, 0, 0],\n",
            "       [1, 1, 1, ..., 1, 1, 1],\n",
            "       ...,\n",
            "       [1, 1, 1, ..., 0, 0, 0],\n",
            "       [1, 1, 1, ..., 0, 0, 0],\n",
            "       [1, 1, 1, ..., 0, 0, 0]], dtype=int32)>}\n",
            "Epoch 1/10\n",
            "232/232 [==============================] - 46s 138ms/step - loss: 1.7736 - accuracy: 0.5238 - val_loss: 0.6740 - val_accuracy: 0.5656\n",
            "Epoch 2/10\n",
            "232/232 [==============================] - 30s 129ms/step - loss: 0.9990 - accuracy: 0.5368 - val_loss: 0.6820 - val_accuracy: 0.5332\n",
            "Epoch 3/10\n",
            "232/232 [==============================] - 30s 128ms/step - loss: 0.7284 - accuracy: 0.5751 - val_loss: 0.6768 - val_accuracy: 0.5235\n",
            "Epoch 4/10\n",
            "232/232 [==============================] - 33s 142ms/step - loss: 0.6672 - accuracy: 0.6108 - val_loss: 0.6764 - val_accuracy: 0.6207\n",
            "Epoch 5/10\n",
            "232/232 [==============================] - 30s 129ms/step - loss: 0.6655 - accuracy: 0.6076 - val_loss: 0.6737 - val_accuracy: 0.6353\n",
            "Epoch 6/10\n",
            "232/232 [==============================] - 30s 129ms/step - loss: 0.6603 - accuracy: 0.6124 - val_loss: 0.6775 - val_accuracy: 0.6240\n",
            "Epoch 7/10\n",
            "232/232 [==============================] - 30s 128ms/step - loss: 0.6632 - accuracy: 0.5984 - val_loss: 0.6740 - val_accuracy: 0.6224\n",
            "Epoch 8/10\n",
            "232/232 [==============================] - 33s 142ms/step - loss: 0.6623 - accuracy: 0.6157 - val_loss: 0.6752 - val_accuracy: 0.6224\n",
            "Epoch 9/10\n",
            "232/232 [==============================] - 33s 143ms/step - loss: 0.6427 - accuracy: 0.6243 - val_loss: 0.6642 - val_accuracy: 0.6337\n",
            "Epoch 10/10\n",
            "232/232 [==============================] - 33s 143ms/step - loss: 0.6491 - accuracy: 0.6265 - val_loss: 0.6638 - val_accuracy: 0.6272\n",
            "20/20 [==============================] - 9s 324ms/step\n",
            "accuracy for test: 0.6434359805510534\n",
            "recall for test: 0.6048951048951049\n",
            "precision for test: 0.6178571428571429\n",
            "f1 score for test: 0.6113074204946997\n",
            "[[224 107]\n",
            " [113 173]]\n"
          ]
        },
        {
          "output_type": "display_data",
          "data": {
            "text/plain": [
              "<Figure size 600x500 with 1 Axes>"
            ],
            "image/png": "[encoded data removed]"
          },
          "metadata": {}
        }
      ]
    },
    {
      "cell_type": "code",
      "source": [
        "ex_metrics = run_model('ex')"
      ],
      "metadata": {
        "colab": {
          "base_uri": "https://localhost:8080/",
          "height": 1000
        },
        "id": "qR8XNP4i0dNn",
        "outputId": "5f894633-b967-4ee4-d439-987d6e0f1877"
      },
      "execution_count": null,
      "outputs": [
        {
          "output_type": "stream",
          "name": "stdout",
          "text": [
            "y_train value counts:\n",
            "1    294\n",
            "0    282\n",
            "Name: empathy, dtype: int64\n",
            "train_encodings:\n",
            "{'input_ids': <tf.Tensor: shape=(576, 150), dtype=int32, numpy=\n",
            "array([[   40,  4144,   257, ..., 50256, 50256, 50256],\n",
            "       [ 2949,   836,   470, ..., 50256, 50256, 50256],\n",
            "       [13898,    11,  3763, ..., 50256, 50256, 50256],\n",
            "       ...,\n",
            "       [ 5297,  1744,   492, ..., 50256, 50256, 50256],\n",
            "       [ 1026,  1839,   470, ..., 50256, 50256, 50256],\n",
            "       [17250,  1545,     0, ...,   314,   373,  4203]], dtype=int32)>, 'attention_mask': <tf.Tensor: shape=(576, 150), dtype=int32, numpy=\n",
            "array([[1, 1, 1, ..., 0, 0, 0],\n",
            "       [1, 1, 1, ..., 0, 0, 0],\n",
            "       [1, 1, 1, ..., 0, 0, 0],\n",
            "       ...,\n",
            "       [1, 1, 1, ..., 0, 0, 0],\n",
            "       [1, 1, 1, ..., 0, 0, 0],\n",
            "       [1, 1, 1, ..., 1, 1, 1]], dtype=int32)>}\n",
            "Epoch 1/10\n",
            "72/72 [==============================] - 21s 155ms/step - loss: 1.8322 - accuracy: 0.5382 - val_loss: 0.6509 - val_accuracy: 0.5990\n",
            "Epoch 2/10\n",
            "72/72 [==============================] - 10s 135ms/step - loss: 1.4886 - accuracy: 0.5486 - val_loss: 0.6606 - val_accuracy: 0.6719\n",
            "Epoch 3/10\n",
            "72/72 [==============================] - 9s 130ms/step - loss: 1.0414 - accuracy: 0.6285 - val_loss: 0.6207 - val_accuracy: 0.5833\n",
            "Epoch 4/10\n",
            "72/72 [==============================] - 9s 129ms/step - loss: 0.8691 - accuracy: 0.6267 - val_loss: 0.6197 - val_accuracy: 0.6042\n",
            "Epoch 5/10\n",
            "72/72 [==============================] - 9s 129ms/step - loss: 0.7815 - accuracy: 0.6302 - val_loss: 0.6268 - val_accuracy: 0.5781\n",
            "Epoch 6/10\n",
            "72/72 [==============================] - 9s 132ms/step - loss: 0.7335 - accuracy: 0.6163 - val_loss: 0.6308 - val_accuracy: 0.6250\n",
            "Epoch 7/10\n",
            "72/72 [==============================] - 10s 134ms/step - loss: 0.6961 - accuracy: 0.6302 - val_loss: 0.6333 - val_accuracy: 0.6667\n",
            "Epoch 8/10\n",
            "72/72 [==============================] - 9s 125ms/step - loss: 0.6592 - accuracy: 0.6389 - val_loss: 0.6329 - val_accuracy: 0.6250\n",
            "Epoch 9/10\n",
            "72/72 [==============================] - 10s 133ms/step - loss: 0.6409 - accuracy: 0.6406 - val_loss: 0.6367 - val_accuracy: 0.6667\n",
            "Epoch 10/10\n",
            "72/72 [==============================] - 9s 132ms/step - loss: 0.6751 - accuracy: 0.6250 - val_loss: 0.6384 - val_accuracy: 0.6302\n",
            "6/6 [==============================] - 4s 354ms/step\n",
            "accuracy for test: 0.71875\n",
            "recall for test: 0.7362637362637363\n",
            "precision for test: 0.6907216494845361\n",
            "f1 score for test: 0.7127659574468086\n",
            "[[71 30]\n",
            " [24 67]]\n"
          ]
        },
        {
          "output_type": "display_data",
          "data": {
            "text/plain": [
              "<Figure size 600x500 with 1 Axes>"
            ],
            "image/png": "[encoded data removed]"
          },
          "metadata": {}
        }
      ]
    },
    {
      "cell_type": "code",
      "source": [
        "ex_aug_metrics = run_model('ex_aug')"
      ],
      "metadata": {
        "colab": {
          "base_uri": "https://localhost:8080/",
          "height": 1000
        },
        "id": "KlNZcM5V0dZW",
        "outputId": "d9ee5df3-43e6-4fec-8064-fb8fdde60d3d"
      },
      "execution_count": null,
      "outputs": [
        {
          "output_type": "stream",
          "name": "stdout",
          "text": [
            "y_train value counts:\n",
            "1    498\n",
            "0    486\n",
            "Name: empathy, dtype: int64\n",
            "train_encodings:\n",
            "{'input_ids': <tf.Tensor: shape=(984, 150), dtype=int32, numpy=\n",
            "array([[ 2061,  1838,   345, ..., 50256, 50256, 50256],\n",
            "       [15496,     0,  1892, ..., 50256, 50256, 50256],\n",
            "       [ 1212,  1808,  1611, ..., 50256, 50256, 50256],\n",
            "       ...,\n",
            "       [ 2437,   481,   345, ..., 50256, 50256, 50256],\n",
            "       [   40,  4236,   351, ..., 50256, 50256, 50256],\n",
            "       [ 2437,  1468,   389, ..., 50256, 50256, 50256]], dtype=int32)>, 'attention_mask': <tf.Tensor: shape=(984, 150), dtype=int32, numpy=\n",
            "array([[1, 1, 1, ..., 0, 0, 0],\n",
            "       [1, 1, 1, ..., 0, 0, 0],\n",
            "       [1, 1, 1, ..., 0, 0, 0],\n",
            "       ...,\n",
            "       [1, 1, 1, ..., 0, 0, 0],\n",
            "       [1, 1, 1, ..., 0, 0, 0],\n",
            "       [1, 1, 1, ..., 0, 0, 0]], dtype=int32)>}\n",
            "Epoch 1/10\n",
            "123/123 [==============================] - 26s 145ms/step - loss: 1.6236 - accuracy: 0.5305 - val_loss: 0.5898 - val_accuracy: 0.7165\n",
            "Epoch 2/10\n",
            "123/123 [==============================] - 17s 142ms/step - loss: 1.0019 - accuracy: 0.5965 - val_loss: 0.5671 - val_accuracy: 0.7134\n",
            "Epoch 3/10\n",
            "123/123 [==============================] - 16s 127ms/step - loss: 0.8535 - accuracy: 0.6006 - val_loss: 0.5940 - val_accuracy: 0.6037\n",
            "Epoch 4/10\n",
            "123/123 [==============================] - 17s 139ms/step - loss: 0.6994 - accuracy: 0.6169 - val_loss: 0.6112 - val_accuracy: 0.7073\n",
            "Epoch 5/10\n",
            "123/123 [==============================] - 17s 139ms/step - loss: 0.6581 - accuracy: 0.6524 - val_loss: 0.6234 - val_accuracy: 0.5945\n",
            "Epoch 6/10\n",
            "123/123 [==============================] - 17s 139ms/step - loss: 0.6238 - accuracy: 0.6423 - val_loss: 0.6245 - val_accuracy: 0.7134\n",
            "Epoch 7/10\n",
            "123/123 [==============================] - 17s 139ms/step - loss: 0.6340 - accuracy: 0.6606 - val_loss: 0.6090 - val_accuracy: 0.7073\n",
            "Epoch 8/10\n",
            "123/123 [==============================] - 16s 127ms/step - loss: 0.6320 - accuracy: 0.6474 - val_loss: 0.6185 - val_accuracy: 0.6951\n",
            "Epoch 9/10\n",
            "123/123 [==============================] - 17s 139ms/step - loss: 0.6231 - accuracy: 0.6524 - val_loss: 0.6125 - val_accuracy: 0.7104\n",
            "Epoch 10/10\n",
            "123/123 [==============================] - 16s 128ms/step - loss: 0.6017 - accuracy: 0.6626 - val_loss: 0.5944 - val_accuracy: 0.7256\n",
            "11/11 [==============================] - 6s 328ms/step\n",
            "accuracy for test: 0.7408536585365854\n",
            "recall for test: 0.5592105263157895\n",
            "precision for test: 0.8252427184466019\n",
            "f1 score for test: 0.6666666666666666\n",
            "[[158  18]\n",
            " [ 67  85]]\n"
          ]
        },
        {
          "output_type": "display_data",
          "data": {
            "text/plain": [
              "<Figure size 600x500 with 1 Axes>"
            ],
            "image/png": "[encoded data removed]"
          },
          "metadata": {}
        }
      ]
    },
    {
      "cell_type": "code",
      "source": [
        "metrics = pd.concat([em_metrics, in_metrics, ex_metrics, ex_aug_metrics], ignore_index=True)\n",
        "print('RoBERTa Metrics')\n",
        "display(metrics)"
      ],
      "metadata": {
        "colab": {
          "base_uri": "https://localhost:8080/",
          "height": 373
        },
        "id": "ymh_6Wfx3ExX",
        "outputId": "838c904a-4534-4add-abf7-15ee9e1d0a3d"
      },
      "execution_count": null,
      "outputs": [
        {
          "output_type": "error",
          "ename": "ValueError",
          "evalue": "ignored",
          "traceback": [
            "\u001b[0;31m---------------------------------------------------------------------------\u001b[0m",
            "\u001b[0;31mValueError\u001b[0m                                Traceback (most recent call last)",
            "\u001b[0;32m<ipython-input-28-2f9f309c357b>\u001b[0m in \u001b[0;36m<cell line: 1>\u001b[0;34m()\u001b[0m\n\u001b[0;32m----> 1\u001b[0;31m \u001b[0mmetrics\u001b[0m \u001b[0;34m=\u001b[0m \u001b[0mpd\u001b[0m\u001b[0;34m.\u001b[0m\u001b[0mconcat\u001b[0m\u001b[0;34m(\u001b[0m\u001b[0;34m[\u001b[0m\u001b[0mem_metrics\u001b[0m\u001b[0;34m,\u001b[0m \u001b[0min_metrics\u001b[0m\u001b[0;34m,\u001b[0m \u001b[0mex_metrics\u001b[0m\u001b[0;34m,\u001b[0m \u001b[0mex_aug_metrics\u001b[0m\u001b[0;34m]\u001b[0m\u001b[0;34m,\u001b[0m \u001b[0mignore_index\u001b[0m\u001b[0;34m=\u001b[0m\u001b[0;32mTrue\u001b[0m\u001b[0;34m)\u001b[0m\u001b[0;34m\u001b[0m\u001b[0;34m\u001b[0m\u001b[0m\n\u001b[0m\u001b[1;32m      2\u001b[0m \u001b[0mprint\u001b[0m\u001b[0;34m(\u001b[0m\u001b[0;34m'RoBERTa Metrics'\u001b[0m\u001b[0;34m)\u001b[0m\u001b[0;34m\u001b[0m\u001b[0;34m\u001b[0m\u001b[0m\n\u001b[1;32m      3\u001b[0m \u001b[0mdisplay\u001b[0m\u001b[0;34m(\u001b[0m\u001b[0mmetrics\u001b[0m\u001b[0;34m)\u001b[0m\u001b[0;34m\u001b[0m\u001b[0;34m\u001b[0m\u001b[0m\n",
            "\u001b[0;32m/usr/local/lib/python3.10/dist-packages/pandas/util/_decorators.py\u001b[0m in \u001b[0;36mwrapper\u001b[0;34m(*args, **kwargs)\u001b[0m\n\u001b[1;32m    329\u001b[0m                     \u001b[0mstacklevel\u001b[0m\u001b[0;34m=\u001b[0m\u001b[0mfind_stack_level\u001b[0m\u001b[0;34m(\u001b[0m\u001b[0;34m)\u001b[0m\u001b[0;34m,\u001b[0m\u001b[0;34m\u001b[0m\u001b[0;34m\u001b[0m\u001b[0m\n\u001b[1;32m    330\u001b[0m                 )\n\u001b[0;32m--> 331\u001b[0;31m             \u001b[0;32mreturn\u001b[0m \u001b[0mfunc\u001b[0m\u001b[0;34m(\u001b[0m\u001b[0;34m*\u001b[0m\u001b[0margs\u001b[0m\u001b[0;34m,\u001b[0m \u001b[0;34m**\u001b[0m\u001b[0mkwargs\u001b[0m\u001b[0;34m)\u001b[0m\u001b[0;34m\u001b[0m\u001b[0;34m\u001b[0m\u001b[0m\n\u001b[0m\u001b[1;32m    332\u001b[0m \u001b[0;34m\u001b[0m\u001b[0m\n\u001b[1;32m    333\u001b[0m         \u001b[0;31m# error: \"Callable[[VarArg(Any), KwArg(Any)], Any]\" has no\u001b[0m\u001b[0;34m\u001b[0m\u001b[0;34m\u001b[0m\u001b[0m\n",
            "\u001b[0;32m/usr/local/lib/python3.10/dist-packages/pandas/core/reshape/concat.py\u001b[0m in \u001b[0;36mconcat\u001b[0;34m(objs, axis, join, ignore_index, keys, levels, names, verify_integrity, sort, copy)\u001b[0m\n\u001b[1;32m    366\u001b[0m     \u001b[0;36m1\u001b[0m   \u001b[0;36m3\u001b[0m   \u001b[0;36m4\u001b[0m\u001b[0;34m\u001b[0m\u001b[0;34m\u001b[0m\u001b[0m\n\u001b[1;32m    367\u001b[0m     \"\"\"\n\u001b[0;32m--> 368\u001b[0;31m     op = _Concatenator(\n\u001b[0m\u001b[1;32m    369\u001b[0m         \u001b[0mobjs\u001b[0m\u001b[0;34m,\u001b[0m\u001b[0;34m\u001b[0m\u001b[0;34m\u001b[0m\u001b[0m\n\u001b[1;32m    370\u001b[0m         \u001b[0maxis\u001b[0m\u001b[0;34m=\u001b[0m\u001b[0maxis\u001b[0m\u001b[0;34m,\u001b[0m\u001b[0;34m\u001b[0m\u001b[0;34m\u001b[0m\u001b[0m\n",
            "\u001b[0;32m/usr/local/lib/python3.10/dist-packages/pandas/core/reshape/concat.py\u001b[0m in \u001b[0;36m__init__\u001b[0;34m(self, objs, axis, join, keys, levels, names, ignore_index, verify_integrity, copy, sort)\u001b[0m\n\u001b[1;32m    446\u001b[0m \u001b[0;34m\u001b[0m\u001b[0m\n\u001b[1;32m    447\u001b[0m         \u001b[0;32mif\u001b[0m \u001b[0mlen\u001b[0m\u001b[0;34m(\u001b[0m\u001b[0mobjs\u001b[0m\u001b[0;34m)\u001b[0m \u001b[0;34m==\u001b[0m \u001b[0;36m0\u001b[0m\u001b[0;34m:\u001b[0m\u001b[0;34m\u001b[0m\u001b[0;34m\u001b[0m\u001b[0m\n\u001b[0;32m--> 448\u001b[0;31m             \u001b[0;32mraise\u001b[0m \u001b[0mValueError\u001b[0m\u001b[0;34m(\u001b[0m\u001b[0;34m\"All objects passed were None\"\u001b[0m\u001b[0;34m)\u001b[0m\u001b[0;34m\u001b[0m\u001b[0;34m\u001b[0m\u001b[0m\n\u001b[0m\u001b[1;32m    449\u001b[0m \u001b[0;34m\u001b[0m\u001b[0m\n\u001b[1;32m    450\u001b[0m         \u001b[0;31m# figure out what our result ndim is going to be\u001b[0m\u001b[0;34m\u001b[0m\u001b[0;34m\u001b[0m\u001b[0m\n",
            "\u001b[0;31mValueError\u001b[0m: All objects passed were None"
          ]
        }
      ]
    },
    {
      "cell_type": "markdown",
      "metadata": {
        "id": "AQjPGMm9EqTM"
      },
      "source": [
        "# EM binary prediction with BERT (seeker + response)"
      ]
    },
    {
      "cell_type": "code",
      "execution_count": null,
      "metadata": {
        "id": "OTBtDP3bQB6s",
        "colab": {
          "base_uri": "https://localhost:8080/"
        },
        "outputId": "55ec66fc-219b-48dd-a867-d6b833c10186"
      },
      "outputs": [
        {
          "output_type": "execute_result",
          "data": {
            "text/plain": [
              "0    629\n",
              "1    627\n",
              "Name: empathy, dtype: int64"
            ]
          },
          "metadata": {},
          "execution_count": 10
        }
      ],
      "source": [
        "y_em_train, y_em_val, y_em_test = get_target_vectors('em')\n",
        "y_em_train.value_counts()"
      ]
    },
    {
      "cell_type": "code",
      "execution_count": null,
      "metadata": {
        "colab": {
          "base_uri": "https://localhost:8080/"
        },
        "id": "97-W3-Ah_m-4",
        "outputId": "e372b538-d8d0-4246-ee6c-9b25e36db3cc"
      },
      "outputs": [
        {
          "output_type": "execute_result",
          "data": {
            "text/plain": [
              "{'input_ids': <tf.Tensor: shape=(1256, 240), dtype=int32, numpy=\n",
              "array([[ 101,  146,  112, ...,    0,    0,    0],\n",
              "       [ 101, 1176, 2288, ...,    0,    0,    0],\n",
              "       [ 101, 1109, 2501, ...,    0,    0,    0],\n",
              "       ...,\n",
              "       [ 101, 1192, 1132, ...,    0,    0,    0],\n",
              "       [ 101, 1128, 9424, ...,    0,    0,    0],\n",
              "       [ 101, 1337, 1122, ...,    0,    0,    0]], dtype=int32)>, 'token_type_ids': <tf.Tensor: shape=(1256, 240), dtype=int32, numpy=\n",
              "array([[0, 0, 0, ..., 0, 0, 0],\n",
              "       [0, 0, 0, ..., 0, 0, 0],\n",
              "       [0, 0, 0, ..., 0, 0, 0],\n",
              "       ...,\n",
              "       [0, 0, 0, ..., 0, 0, 0],\n",
              "       [0, 0, 0, ..., 0, 0, 0],\n",
              "       [0, 0, 0, ..., 0, 0, 0]], dtype=int32)>, 'attention_mask': <tf.Tensor: shape=(1256, 240), dtype=int32, numpy=\n",
              "array([[1, 1, 1, ..., 0, 0, 0],\n",
              "       [1, 1, 1, ..., 0, 0, 0],\n",
              "       [1, 1, 1, ..., 0, 0, 0],\n",
              "       ...,\n",
              "       [1, 1, 1, ..., 0, 0, 0],\n",
              "       [1, 1, 1, ..., 0, 0, 0],\n",
              "       [1, 1, 1, ..., 0, 0, 0]], dtype=int32)>}"
            ]
          },
          "metadata": {},
          "execution_count": 11
        }
      ],
      "source": [
        "train_em_encodings, val_em_encodings, test_em_encodings = csv_to_encodings('em')\n",
        "train_em_encodings"
      ]
    },
    {
      "cell_type": "code",
      "execution_count": null,
      "metadata": {
        "colab": {
          "base_uri": "https://localhost:8080/"
        },
        "id": "043xHIgDKZe8",
        "outputId": "310c0e59-9077-4d89-db7d-239dad08dab2"
      },
      "outputs": [
        {
          "output_type": "stream",
          "name": "stdout",
          "text": [
            "Epoch 1/10\n",
            "157/157 [==============================] - 47s 228ms/step - loss: 0.5677 - accuracy: 0.7046 - val_loss: 0.4872 - val_accuracy: 0.7637\n",
            "Epoch 2/10\n",
            "157/157 [==============================] - 36s 227ms/step - loss: 0.4857 - accuracy: 0.7691 - val_loss: 0.4820 - val_accuracy: 0.7900\n",
            "Epoch 3/10\n",
            "157/157 [==============================] - 34s 217ms/step - loss: 0.4789 - accuracy: 0.7763 - val_loss: 0.5455 - val_accuracy: 0.7232\n",
            "Epoch 4/10\n",
            "157/157 [==============================] - 31s 200ms/step - loss: 0.4725 - accuracy: 0.7779 - val_loss: 0.4667 - val_accuracy: 0.7852\n",
            "Epoch 5/10\n",
            "157/157 [==============================] - 32s 203ms/step - loss: 0.4511 - accuracy: 0.7906 - val_loss: 0.4674 - val_accuracy: 0.7757\n",
            "Epoch 6/10\n",
            "157/157 [==============================] - 34s 215ms/step - loss: 0.4470 - accuracy: 0.7771 - val_loss: 0.4730 - val_accuracy: 0.7900\n",
            "Epoch 7/10\n",
            "157/157 [==============================] - 34s 217ms/step - loss: 0.4381 - accuracy: 0.7858 - val_loss: 0.4811 - val_accuracy: 0.7947\n",
            "Epoch 8/10\n",
            "157/157 [==============================] - 34s 219ms/step - loss: 0.4262 - accuracy: 0.7906 - val_loss: 0.4586 - val_accuracy: 0.7876\n",
            "Epoch 9/10\n",
            "157/157 [==============================] - 32s 201ms/step - loss: 0.4294 - accuracy: 0.7954 - val_loss: 0.4646 - val_accuracy: 0.7852\n",
            "Epoch 10/10\n",
            "157/157 [==============================] - 34s 217ms/step - loss: 0.4112 - accuracy: 0.8073 - val_loss: 0.4662 - val_accuracy: 0.7852\n"
          ]
        }
      ],
      "source": [
        "em_classification = create_bert_binary_model(bert_model=bert_model)\n",
        "em_classification_history = em_classification.fit([train_em_encodings.input_ids, train_em_encodings.token_type_ids, train_em_encodings.attention_mask],\n",
        "                                                  y_em_train,\n",
        "                                                  validation_data=([val_em_encodings.input_ids, val_em_encodings.token_type_ids, val_em_encodings.attention_mask],\n",
        "                                                  y_em_val),\n",
        "                                                  batch_size=8,\n",
        "                                                  epochs=10,\n",
        "                                                  #class_weight=class_weight_em\n",
        "                                                  )"
      ]
    },
    {
      "cell_type": "code",
      "execution_count": null,
      "metadata": {
        "id": "CPc70qLBMkHK",
        "colab": {
          "base_uri": "https://localhost:8080/"
        },
        "outputId": "7ad17d48-07a6-486b-8f32-c57d6df1f876"
      },
      "outputs": [
        {
          "output_type": "stream",
          "name": "stdout",
          "text": [
            "14/14 [==============================] - 10s 517ms/step\n"
          ]
        }
      ],
      "source": [
        "predictions_em = em_classification.predict([test_em_encodings.input_ids, test_em_encodings.token_type_ids, test_em_encodings.attention_mask])\n",
        "predictions_em = (predictions_em >= 0.5).astype(int)"
      ]
    },
    {
      "cell_type": "code",
      "execution_count": null,
      "metadata": {
        "id": "D3aCZiPFO1zG",
        "colab": {
          "base_uri": "https://localhost:8080/"
        },
        "outputId": "6c6e6ac0-3ab6-4a24-eb04-d7c65637ab6b"
      },
      "outputs": [
        {
          "output_type": "stream",
          "name": "stdout",
          "text": [
            "accuracy for test: 0.7852028639618138\n",
            "recall for test: 0.8109452736318408\n",
            "precision for test: 0.7581395348837209\n",
            "f1 score for test: 0.783653846153846\n"
          ]
        }
      ],
      "source": [
        "accuracy_em = accuracy_score(y_em_test, predictions_em)\n",
        "print(f\"accuracy for test: {accuracy_em}\")\n",
        "recall_em = recall_score(y_em_test, predictions_em)\n",
        "print(f\"recall for test: {recall_em}\")\n",
        "precision_em = precision_score(y_em_test, predictions_em)\n",
        "print(f\"precision for test: {precision_em}\")\n",
        "f1_em = f1_score(y_em_test, predictions_em)\n",
        "print(f\"f1 score for test: {f1_em}\")"
      ]
    },
    {
      "cell_type": "code",
      "source": [
        "conf_matrix_em = confusion_matrix(y_em_test, predictions_em)\n",
        "print(conf_matrix_em)\n",
        "\n",
        "sns.set(font_scale=1.2)\n",
        "plt.figure(figsize=(6, 5))\n",
        "sns.heatmap(conf_matrix_em, annot=True, fmt='g', cmap='Blues', annot_kws={\"size\": 16}, cbar=False)\n",
        "plt.xlabel('Predicted')\n",
        "plt.ylabel('Actual')\n",
        "plt.title('Emotional Reactions Confusion Matrix')\n",
        "plt.show()"
      ],
      "metadata": {
        "id": "lfVMV59xdsH8",
        "colab": {
          "base_uri": "https://localhost:8080/"
        },
        "outputId": "b50a8908-6a03-4f6d-fd82-4f1d17c572a5"
      },
      "execution_count": null,
      "outputs": [
        {
          "output_type": "stream",
          "name": "stdout",
          "text": [
            "[[166  52]\n",
            " [ 38 163]]\n"
          ]
        },
        {
          "output_type": "display_data",
          "data": {
            "text/plain": [
              "<Figure size 600x500 with 1 Axes>"
            ],
            "image/png": "[encoded data removed]"
          },
          "metadata": {}
        }
      ]
    },
    {
      "cell_type": "markdown",
      "metadata": {
        "id": "Nmr3XY8e4tOH"
      },
      "source": [
        "# IN binary prediction"
      ]
    },
    {
      "cell_type": "code",
      "execution_count": null,
      "metadata": {
        "id": "lMHbAC-KS6lt",
        "colab": {
          "base_uri": "https://localhost:8080/"
        },
        "outputId": "b44838b5-de92-42e5-cdc3-b6ad95cf10dd"
      },
      "outputs": [
        {
          "output_type": "execute_result",
          "data": {
            "text/plain": [
              "0    972\n",
              "1    878\n",
              "Name: empathy, dtype: int64"
            ]
          },
          "metadata": {},
          "execution_count": 16
        }
      ],
      "source": [
        "y_in_train, y_in_val, y_in_test = get_target_vectors('in')\n",
        "y_in_train.value_counts()"
      ]
    },
    {
      "cell_type": "code",
      "execution_count": null,
      "metadata": {
        "id": "9XvhqfkE9M14",
        "colab": {
          "base_uri": "https://localhost:8080/"
        },
        "outputId": "7501ab06-189e-4478-9091-60f18e349d27"
      },
      "outputs": [
        {
          "output_type": "execute_result",
          "data": {
            "text/plain": [
              "{'input_ids': <tf.Tensor: shape=(1850, 240), dtype=int32, numpy=\n",
              "array([[  101,  2140,   117, ...,     0,     0,     0],\n",
              "       [  101,  4373,  1128, ...,     0,     0,     0],\n",
              "       [  101,   168,  7595, ...,  4847,  1358,   102],\n",
              "       ...,\n",
              "       [  101, 14060,   119, ...,     0,     0,     0],\n",
              "       [  101,  1284,   112, ...,     0,     0,     0],\n",
              "       [  101, 10560,  1176, ...,     0,     0,     0]], dtype=int32)>, 'token_type_ids': <tf.Tensor: shape=(1850, 240), dtype=int32, numpy=\n",
              "array([[0, 0, 0, ..., 0, 0, 0],\n",
              "       [0, 0, 0, ..., 0, 0, 0],\n",
              "       [0, 0, 0, ..., 0, 0, 0],\n",
              "       ...,\n",
              "       [0, 0, 0, ..., 0, 0, 0],\n",
              "       [0, 0, 0, ..., 0, 0, 0],\n",
              "       [0, 0, 0, ..., 0, 0, 0]], dtype=int32)>, 'attention_mask': <tf.Tensor: shape=(1850, 240), dtype=int32, numpy=\n",
              "array([[1, 1, 1, ..., 0, 0, 0],\n",
              "       [1, 1, 1, ..., 0, 0, 0],\n",
              "       [1, 1, 1, ..., 1, 1, 1],\n",
              "       ...,\n",
              "       [1, 1, 1, ..., 0, 0, 0],\n",
              "       [1, 1, 1, ..., 0, 0, 0],\n",
              "       [1, 1, 1, ..., 0, 0, 0]], dtype=int32)>}"
            ]
          },
          "metadata": {},
          "execution_count": 17
        }
      ],
      "source": [
        "train_in_encodings, val_in_encodings, test_in_encodings = csv_to_encodings('in')\n",
        "train_in_encodings"
      ]
    },
    {
      "cell_type": "code",
      "execution_count": null,
      "metadata": {
        "colab": {
          "base_uri": "https://localhost:8080/"
        },
        "id": "K5wuKi-N4sb6",
        "outputId": "4af248da-c039-43c4-e119-27b4e3210c43"
      },
      "outputs": [
        {
          "output_type": "stream",
          "name": "stdout",
          "text": [
            "Epoch 1/10\n",
            "232/232 [==============================] - 54s 166ms/step - loss: 0.5720 - accuracy: 0.6924 - val_loss: 0.4928 - val_accuracy: 0.7650\n",
            "Epoch 2/10\n",
            "232/232 [==============================] - 31s 135ms/step - loss: 0.4853 - accuracy: 0.7622 - val_loss: 0.4740 - val_accuracy: 0.7828\n",
            "Epoch 3/10\n",
            "232/232 [==============================] - 34s 147ms/step - loss: 0.4593 - accuracy: 0.7811 - val_loss: 0.4812 - val_accuracy: 0.7747\n",
            "Epoch 4/10\n",
            "232/232 [==============================] - 35s 149ms/step - loss: 0.4537 - accuracy: 0.7800 - val_loss: 0.4698 - val_accuracy: 0.7844\n",
            "Epoch 5/10\n",
            "232/232 [==============================] - 34s 149ms/step - loss: 0.4464 - accuracy: 0.7941 - val_loss: 0.4688 - val_accuracy: 0.7909\n",
            "Epoch 6/10\n",
            "232/232 [==============================] - 34s 147ms/step - loss: 0.4336 - accuracy: 0.7995 - val_loss: 0.4651 - val_accuracy: 0.7942\n",
            "Epoch 7/10\n",
            "232/232 [==============================] - 31s 135ms/step - loss: 0.4225 - accuracy: 0.8011 - val_loss: 0.4860 - val_accuracy: 0.7747\n",
            "Epoch 8/10\n",
            "232/232 [==============================] - 34s 149ms/step - loss: 0.4291 - accuracy: 0.8005 - val_loss: 0.4893 - val_accuracy: 0.7699\n",
            "Epoch 9/10\n",
            "232/232 [==============================] - 34s 147ms/step - loss: 0.4243 - accuracy: 0.8016 - val_loss: 0.5051 - val_accuracy: 0.7601\n",
            "Epoch 10/10\n",
            "232/232 [==============================] - 34s 149ms/step - loss: 0.4157 - accuracy: 0.8114 - val_loss: 0.4714 - val_accuracy: 0.7828\n"
          ]
        }
      ],
      "source": [
        "in_classification = create_bert_binary_model(bert_model=bert_model)\n",
        "in_classification_history = in_classification.fit([train_in_encodings.input_ids, train_in_encodings.token_type_ids, train_in_encodings.attention_mask],\n",
        "                                                  y_in_train,\n",
        "                                                  validation_data=([val_in_encodings.input_ids, val_in_encodings.token_type_ids, val_in_encodings.attention_mask],\n",
        "                                                  y_in_val),\n",
        "                                                  batch_size=8,\n",
        "                                                  epochs=10,\n",
        "                                                  #class_weight=class_weight_em\n",
        "                                                  )"
      ]
    },
    {
      "cell_type": "code",
      "execution_count": null,
      "metadata": {
        "colab": {
          "base_uri": "https://localhost:8080/"
        },
        "id": "igEN90tD4sZJ",
        "outputId": "4470054b-9201-4642-ce7d-7e31749587aa"
      },
      "outputs": [
        {
          "output_type": "stream",
          "name": "stdout",
          "text": [
            "20/20 [==============================] - 10s 313ms/step\n"
          ]
        }
      ],
      "source": [
        "predictions_in = in_classification.predict([test_in_encodings.input_ids, test_in_encodings.token_type_ids, test_in_encodings.attention_mask])\n",
        "predictions_in = (predictions_in >= 0.5).astype(int)"
      ]
    },
    {
      "cell_type": "code",
      "execution_count": null,
      "metadata": {
        "id": "wVu2Hnz04sXM"
      },
      "outputs": [],
      "source": [
        "accuracy_in = accuracy_score(y_in_test, predictions_in)\n",
        "print(f\"accuracy for test: {accuracy_in}\")\n",
        "recall_in = recall_score(y_in_test, predictions_in)\n",
        "print(f\"recall for test: {recall_in}\")\n",
        "precision_in = precision_score(y_in_test, predictions_in)\n",
        "print(f\"precision for test: {precision_in}\")\n",
        "f1_in = f1_score(y_in_test, predictions_in)\n",
        "print(f\"f1 score for test: {f1_in}\")"
      ]
    },
    {
      "cell_type": "code",
      "source": [
        "conf_matrix_in = confusion_matrix(y_in_test, predictions_in)\n",
        "print(conf_matrix_in)\n",
        "\n",
        "sns.set(font_scale=1.2)\n",
        "plt.figure(figsize=(6, 5))\n",
        "sns.heatmap(conf_matrix_in, annot=True, fmt='g', cmap='Blues', annot_kws={\"size\": 16}, cbar=False)\n",
        "plt.xlabel('Predicted')\n",
        "plt.ylabel('Actual')\n",
        "plt.title('Interpretations Confusion Matrix')\n",
        "plt.show()"
      ],
      "metadata": {
        "colab": {
          "base_uri": "https://localhost:8080/",
          "height": 537
        },
        "id": "ixQs_lUldkSc",
        "outputId": "29b16422-7adc-46af-98d2-c65a9858de5e"
      },
      "execution_count": null,
      "outputs": [
        {
          "output_type": "stream",
          "name": "stdout",
          "text": [
            "[[270  61]\n",
            " [ 52 234]]\n"
          ]
        },
        {
          "output_type": "display_data",
          "data": {
            "text/plain": [
              "<Figure size 600x500 with 1 Axes>"
            ],
            "image/png": "[encoded data removed]"
          },
          "metadata": {}
        }
      ]
    },
    {
      "cell_type": "markdown",
      "metadata": {
        "id": "pqfQpXRdTwsf"
      },
      "source": [
        "# Ex binary prediction (response)"
      ]
    },
    {
      "cell_type": "code",
      "execution_count": null,
      "metadata": {
        "id": "2xSHyehtUjHu",
        "colab": {
          "base_uri": "https://localhost:8080/"
        },
        "outputId": "c3da3d05-eb21-4a77-af80-80716b22f528"
      },
      "outputs": [
        {
          "output_type": "execute_result",
          "data": {
            "text/plain": [
              "1    294\n",
              "0    282\n",
              "Name: empathy, dtype: int64"
            ]
          },
          "metadata": {},
          "execution_count": 28
        }
      ],
      "source": [
        "y_ex_train, y_ex_val, y_ex_test = get_target_vectors('ex')\n",
        "y_ex_train.value_counts()"
      ]
    },
    {
      "cell_type": "code",
      "execution_count": null,
      "metadata": {
        "colab": {
          "base_uri": "https://localhost:8080/"
        },
        "id": "FOj5kGp5UjDF",
        "outputId": "219b7db1-b906-42af-8cf7-85b93b606239"
      },
      "outputs": [
        {
          "output_type": "execute_result",
          "data": {
            "text/plain": [
              "{'input_ids': <tf.Tensor: shape=(576, 150), dtype=int32, numpy=\n",
              "array([[ 101,  146, 3668, ...,    0,    0,    0],\n",
              "       [ 101, 1302, 1274, ...,    0,    0,    0],\n",
              "       [ 101, 7595,  117, ...,    0,    0,    0],\n",
              "       ...,\n",
              "       [ 101, 2160, 1936, ...,    0,    0,    0],\n",
              "       [ 101, 1135, 1281, ...,    0,    0,    0],\n",
              "       [ 101, 8790, 1910, ..., 9655,  119,  102]], dtype=int32)>, 'token_type_ids': <tf.Tensor: shape=(576, 150), dtype=int32, numpy=\n",
              "array([[0, 0, 0, ..., 0, 0, 0],\n",
              "       [0, 0, 0, ..., 0, 0, 0],\n",
              "       [0, 0, 0, ..., 0, 0, 0],\n",
              "       ...,\n",
              "       [0, 0, 0, ..., 0, 0, 0],\n",
              "       [0, 0, 0, ..., 0, 0, 0],\n",
              "       [0, 0, 0, ..., 0, 0, 0]], dtype=int32)>, 'attention_mask': <tf.Tensor: shape=(576, 150), dtype=int32, numpy=\n",
              "array([[1, 1, 1, ..., 0, 0, 0],\n",
              "       [1, 1, 1, ..., 0, 0, 0],\n",
              "       [1, 1, 1, ..., 0, 0, 0],\n",
              "       ...,\n",
              "       [1, 1, 1, ..., 0, 0, 0],\n",
              "       [1, 1, 1, ..., 0, 0, 0],\n",
              "       [1, 1, 1, ..., 1, 1, 1]], dtype=int32)>}"
            ]
          },
          "metadata": {},
          "execution_count": 29
        }
      ],
      "source": [
        "train_ex_encodings, val_ex_encodings, test_ex_encodings = csv_to_encodings('ex')\n",
        "train_ex_encodings"
      ]
    },
    {
      "cell_type": "code",
      "execution_count": null,
      "metadata": {
        "colab": {
          "base_uri": "https://localhost:8080/"
        },
        "id": "gZjS_T_2Ui_B",
        "outputId": "18564618-e75c-48e4-a184-5ddb3e095d1a"
      },
      "outputs": [
        {
          "output_type": "stream",
          "name": "stdout",
          "text": [
            "Epoch 1/10\n",
            "72/72 [==============================] - 18s 144ms/step - loss: 0.6357 - accuracy: 0.6441 - val_loss: 0.4504 - val_accuracy: 0.8229\n",
            "Epoch 2/10\n",
            "72/72 [==============================] - 9s 120ms/step - loss: 0.4564 - accuracy: 0.8073 - val_loss: 0.3957 - val_accuracy: 0.8385\n",
            "Epoch 3/10\n",
            "72/72 [==============================] - 9s 129ms/step - loss: 0.4094 - accuracy: 0.8073 - val_loss: 0.3393 - val_accuracy: 0.8438\n",
            "Epoch 4/10\n",
            "72/72 [==============================] - 9s 122ms/step - loss: 0.4000 - accuracy: 0.8316 - val_loss: 0.3553 - val_accuracy: 0.8698\n",
            "Epoch 5/10\n",
            "72/72 [==============================] - 9s 119ms/step - loss: 0.3410 - accuracy: 0.8646 - val_loss: 0.3198 - val_accuracy: 0.8385\n",
            "Epoch 6/10\n",
            "72/72 [==============================] - 8s 118ms/step - loss: 0.3542 - accuracy: 0.8524 - val_loss: 0.3519 - val_accuracy: 0.8281\n",
            "Epoch 7/10\n",
            "72/72 [==============================] - 9s 125ms/step - loss: 0.3582 - accuracy: 0.8333 - val_loss: 0.3256 - val_accuracy: 0.8750\n",
            "Epoch 8/10\n",
            "72/72 [==============================] - 9s 124ms/step - loss: 0.3210 - accuracy: 0.8715 - val_loss: 0.3335 - val_accuracy: 0.8802\n",
            "Epoch 9/10\n",
            "72/72 [==============================] - 8s 117ms/step - loss: 0.3647 - accuracy: 0.8333 - val_loss: 0.3079 - val_accuracy: 0.8594\n",
            "Epoch 10/10\n",
            "72/72 [==============================] - 8s 116ms/step - loss: 0.3336 - accuracy: 0.8576 - val_loss: 0.3007 - val_accuracy: 0.8854\n"
          ]
        }
      ],
      "source": [
        "ex_classification = create_bert_binary_model(bert_model=bert_model)\n",
        "ex_classification_history = ex_classification.fit([train_ex_encodings.input_ids, train_ex_encodings.token_type_ids, train_ex_encodings.attention_mask],\n",
        "                                                  y_ex_train,\n",
        "                                                  validation_data=([val_ex_encodings.input_ids, val_ex_encodings.token_type_ids, val_ex_encodings.attention_mask],\n",
        "                                                  y_ex_val),\n",
        "                                                  batch_size=8,\n",
        "                                                  epochs=10,\n",
        "                                                  #class_weight=class_weight_em\n",
        "                                                  )"
      ]
    },
    {
      "cell_type": "code",
      "execution_count": null,
      "metadata": {
        "id": "8B9uviz4VVnm"
      },
      "outputs": [],
      "source": [
        "predictions_ex = ex_classification.predict([test_ex_encodings.input_ids, test_ex_encodings.token_type_ids, test_ex_encodings.attention_mask])\n",
        "predictions_ex = (predictions_ex >= 0.5).astype(int)"
      ]
    },
    {
      "cell_type": "code",
      "execution_count": null,
      "metadata": {
        "id": "-wURg4S1VVFV"
      },
      "outputs": [],
      "source": [
        "accuracy_ex = accuracy_score(y_ex_test, predictions_ex)\n",
        "print(f\"accuracy for test: {accuracy_ex}\")\n",
        "recall_ex = recall_score(y_ex_test, predictions_ex)\n",
        "print(f\"recall for test: {recall_ex}\")\n",
        "precision_ex = precision_score(y_ex_test, predictions_ex)\n",
        "print(f\"precision for test: {precision_ex}\")\n",
        "f1_ex = f1_score(y_ex_test, predictions_ex)\n",
        "print(f\"f1 score for test: {f1_ex}\")"
      ]
    },
    {
      "cell_type": "code",
      "source": [
        "conf_matrix_ex = confusion_matrix(y_ex_test, predictions_ex)\n",
        "print(conf_matrix_ex)\n",
        "\n",
        "sns.set(font_scale=1.2)\n",
        "plt.figure(figsize=(6, 5))\n",
        "sns.heatmap(conf_matrix_ex, annot=True, fmt='g', cmap='Blues', annot_kws={\"size\": 16}, cbar=False)\n",
        "plt.xlabel('Predicted')\n",
        "plt.ylabel('Actual')\n",
        "plt.title('Explorations Confusion Matrix')\n",
        "plt.show()"
      ],
      "metadata": {
        "id": "lO4tuEgzdEF6"
      },
      "execution_count": null,
      "outputs": []
    },
    {
      "cell_type": "markdown",
      "source": [
        "# Ex aug binary prediction (response)"
      ],
      "metadata": {
        "id": "g0ZRgbY3_pJ1"
      }
    },
    {
      "cell_type": "code",
      "source": [
        "y_ex_aug_train, y_ex_aug_val, y_ex_aug_test = get_target_vectors('ex_aug')\n",
        "y_ex_aug_train.value_counts()"
      ],
      "metadata": {
        "colab": {
          "base_uri": "https://localhost:8080/"
        },
        "id": "svv-psNJ_pcY",
        "outputId": "751c8b15-2599-43f8-852b-089f330b0ff5"
      },
      "execution_count": null,
      "outputs": [
        {
          "output_type": "execute_result",
          "data": {
            "text/plain": [
              "1    498\n",
              "0    486\n",
              "Name: empathy, dtype: int64"
            ]
          },
          "metadata": {},
          "execution_count": 10
        }
      ]
    },
    {
      "cell_type": "code",
      "source": [
        "train_ex_aug_encodings, val_ex_aug_encodings, test_ex_aug_encodings = csv_to_encodings('ex_aug')\n",
        "train_ex_aug_encodings"
      ],
      "metadata": {
        "colab": {
          "base_uri": "https://localhost:8080/"
        },
        "id": "r2fQtaIF_r4S",
        "outputId": "06d5204a-7953-4244-df07-946b203b8ef2"
      },
      "execution_count": null,
      "outputs": [
        {
          "output_type": "execute_result",
          "data": {
            "text/plain": [
              "{'input_ids': <tf.Tensor: shape=(984, 150), dtype=int32, numpy=\n",
              "array([[ 101, 1327, 2228, ...,    0,    0,    0],\n",
              "       [ 101, 8667,  106, ...,    0,    0,    0],\n",
              "       [ 101, 1188, 2304, ...,    0,    0,    0],\n",
              "       ...,\n",
              "       [ 101, 1731, 1209, ...,    0,    0,    0],\n",
              "       [ 101,  146, 5340, ...,    0,    0,    0],\n",
              "       [ 101, 1731, 1385, ...,    0,    0,    0]], dtype=int32)>, 'token_type_ids': <tf.Tensor: shape=(984, 150), dtype=int32, numpy=\n",
              "array([[0, 0, 0, ..., 0, 0, 0],\n",
              "       [0, 0, 0, ..., 0, 0, 0],\n",
              "       [0, 0, 0, ..., 0, 0, 0],\n",
              "       ...,\n",
              "       [0, 0, 0, ..., 0, 0, 0],\n",
              "       [0, 0, 0, ..., 0, 0, 0],\n",
              "       [0, 0, 0, ..., 0, 0, 0]], dtype=int32)>, 'attention_mask': <tf.Tensor: shape=(984, 150), dtype=int32, numpy=\n",
              "array([[1, 1, 1, ..., 0, 0, 0],\n",
              "       [1, 1, 1, ..., 0, 0, 0],\n",
              "       [1, 1, 1, ..., 0, 0, 0],\n",
              "       ...,\n",
              "       [1, 1, 1, ..., 0, 0, 0],\n",
              "       [1, 1, 1, ..., 0, 0, 0],\n",
              "       [1, 1, 1, ..., 0, 0, 0]], dtype=int32)>}"
            ]
          },
          "metadata": {},
          "execution_count": 11
        }
      ]
    },
    {
      "cell_type": "code",
      "source": [
        "ex_aug_classification = create_bert_binary_model(bert_model=bert_model)\n",
        "ex_aug_classification_history = ex_aug_classification.fit([train_ex_aug_encodings.input_ids, train_ex_aug_encodings.token_type_ids, train_ex_aug_encodings.attention_mask],\n",
        "                                                  y_ex_aug_train,\n",
        "                                                  validation_data=([val_ex_aug_encodings.input_ids, val_ex_aug_encodings.token_type_ids, val_ex_aug_encodings.attention_mask],\n",
        "                                                  y_ex_aug_val),\n",
        "                                                  batch_size=8,\n",
        "                                                  epochs=10,\n",
        "                                                  #class_weight=class_weight_em\n",
        "                                                  )"
      ],
      "metadata": {
        "colab": {
          "base_uri": "https://localhost:8080/"
        },
        "id": "3Z_kye71__g0",
        "outputId": "880a0d76-c61d-42b3-aa30-63127bb4e8cf"
      },
      "execution_count": null,
      "outputs": [
        {
          "output_type": "stream",
          "name": "stdout",
          "text": [
            "Epoch 1/10\n",
            "123/123 [==============================] - 42s 170ms/step - loss: 0.5384 - accuracy: 0.7083 - val_loss: 0.4150 - val_accuracy: 0.7988\n",
            "Epoch 2/10\n",
            "123/123 [==============================] - 17s 138ms/step - loss: 0.4141 - accuracy: 0.8059 - val_loss: 0.3687 - val_accuracy: 0.8323\n",
            "Epoch 3/10\n",
            "123/123 [==============================] - 15s 124ms/step - loss: 0.3555 - accuracy: 0.8557 - val_loss: 0.4084 - val_accuracy: 0.7927\n",
            "Epoch 4/10\n",
            "123/123 [==============================] - 16s 130ms/step - loss: 0.3476 - accuracy: 0.8638 - val_loss: 0.3518 - val_accuracy: 0.8415\n",
            "Epoch 5/10\n",
            "123/123 [==============================] - 17s 141ms/step - loss: 0.3394 - accuracy: 0.8659 - val_loss: 0.3301 - val_accuracy: 0.8384\n",
            "Epoch 6/10\n",
            "123/123 [==============================] - 17s 137ms/step - loss: 0.3255 - accuracy: 0.8740 - val_loss: 0.3191 - val_accuracy: 0.8537\n",
            "Epoch 7/10\n",
            "123/123 [==============================] - 16s 130ms/step - loss: 0.3075 - accuracy: 0.8791 - val_loss: 0.3193 - val_accuracy: 0.8567\n",
            "Epoch 8/10\n",
            "123/123 [==============================] - 16s 130ms/step - loss: 0.3114 - accuracy: 0.8801 - val_loss: 0.3196 - val_accuracy: 0.8598\n",
            "Epoch 9/10\n",
            "123/123 [==============================] - 14s 118ms/step - loss: 0.2937 - accuracy: 0.8801 - val_loss: 0.3321 - val_accuracy: 0.8567\n",
            "Epoch 10/10\n",
            "123/123 [==============================] - 14s 118ms/step - loss: 0.2969 - accuracy: 0.8953 - val_loss: 0.3150 - val_accuracy: 0.8476\n"
          ]
        }
      ]
    },
    {
      "cell_type": "code",
      "source": [
        "predictions_ex_aug = ex_aug_classification.predict([test_ex_aug_encodings.input_ids, test_ex_aug_encodings.token_type_ids, test_ex_aug_encodings.attention_mask])\n",
        "predictions_ex_aug = (predictions_ex_aug >= 0.5).astype(int)"
      ],
      "metadata": {
        "colab": {
          "base_uri": "https://localhost:8080/"
        },
        "id": "KPB5LBAuAWCi",
        "outputId": "56ea6765-f78a-44c1-ec39-c861a9386b3b"
      },
      "execution_count": null,
      "outputs": [
        {
          "output_type": "stream",
          "name": "stdout",
          "text": [
            "11/11 [==============================] - 7s 309ms/step\n"
          ]
        }
      ]
    },
    {
      "cell_type": "code",
      "source": [
        "accuracy_ex_aug = accuracy_score(y_ex_aug_test, predictions_ex_aug)\n",
        "print(f\"accuracy for test: {accuracy_ex_aug}\")\n",
        "recall_ex_aug = recall_score(y_ex_aug_test, predictions_ex_aug)\n",
        "print(f\"recall for test: {recall_ex_aug}\")\n",
        "precision_ex_aug = precision_score(y_ex_aug_test, predictions_ex_aug)\n",
        "print(f\"precision for test: {precision_ex_aug}\")\n",
        "f1_ex_aug = f1_score(y_ex_aug_test, predictions_ex_aug)\n",
        "print(f\"f1 score for test: {f1_ex_aug}\")"
      ],
      "metadata": {
        "colab": {
          "base_uri": "https://localhost:8080/"
        },
        "id": "U3XN9d2AAYlT",
        "outputId": "44ea559d-87e3-4a04-8317-3d47f449bbfc"
      },
      "execution_count": null,
      "outputs": [
        {
          "output_type": "stream",
          "name": "stdout",
          "text": [
            "accuracy for test: 0.8597560975609756\n",
            "recall for test: 0.8026315789473685\n",
            "precision for test: 0.8840579710144928\n",
            "f1 score for test: 0.8413793103448277\n"
          ]
        }
      ]
    },
    {
      "cell_type": "code",
      "source": [
        "conf_matrix_ex_aug = confusion_matrix(y_ex_aug_test, predictions_ex_aug)\n",
        "print(conf_matrix_ex_aug)\n",
        "\n",
        "sns.set(font_scale=1.2)\n",
        "plt.figure(figsize=(6, 5))\n",
        "sns.heatmap(conf_matrix_ex_aug, annot=True, fmt='g', cmap='Blues', annot_kws={\"size\": 16}, cbar=False)\n",
        "plt.xlabel('Predicted')\n",
        "plt.ylabel('Actual')\n",
        "plt.title('Explorations Augmented Confusion Matrix')\n",
        "plt.show()"
      ],
      "metadata": {
        "colab": {
          "base_uri": "https://localhost:8080/",
          "height": 537
        },
        "id": "IY0Xc9t5AacT",
        "outputId": "a4e32cfd-f8c4-4509-f113-efa18ace8fcb"
      },
      "execution_count": null,
      "outputs": [
        {
          "output_type": "stream",
          "name": "stdout",
          "text": [
            "[[160  16]\n",
            " [ 30 122]]\n"
          ]
        },
        {
          "output_type": "display_data",
          "data": {
            "text/plain": [
              "<Figure size 600x500 with 1 Axes>"
            ],
            "image/png": "[encoded data removed]"
          },
          "metadata": {}
        }
      ]
    },
    {
      "cell_type": "markdown",
      "metadata": {
        "id": "GnZunqJSYqOx"
      },
      "source": [
        "# summary"
      ]
    },
    {
      "cell_type": "code",
      "execution_count": null,
      "metadata": {
        "colab": {
          "base_uri": "https://localhost:8080/",
          "height": 175
        },
        "id": "gNe9I0luYoex",
        "outputId": "81df2a49-7af5-4a78-943b-872ab7d27d0d"
      },
      "outputs": [
        {
          "output_type": "execute_result",
          "data": {
            "text/plain": [
              "  Category  Accuracy  Precision    Recall  F1 Score\n",
              "0       em  0.768496   0.837662  0.641791  0.726761\n",
              "1       in  0.816856   0.793220  0.818182  0.805508\n",
              "2       ex  0.833333   0.831461  0.813187  0.822222\n",
              "3   ex_aug  0.859756   0.884058  0.802632  0.841379"
            ],
            "text/html": [
              "\n",
              "  <div id=\"df-566fa27e-8a49-41af-bab0-445e59170cee\" class=\"colab-df-container\">\n",
              "    <div>\n",
              "<style scoped>\n",
              "    .dataframe tbody tr th:only-of-type {\n",
              "        vertical-align: middle;\n",
              "    }\n",
              "\n",
              "    .dataframe tbody tr th {\n",
              "        vertical-align: top;\n",
              "    }\n",
              "\n",
              "    .dataframe thead th {\n",
              "        text-align: right;\n",
              "    }\n",
              "</style>\n",
              "<table border=\"1\" class=\"dataframe\">\n",
              "  <thead>\n",
              "    <tr style=\"text-align: right;\">\n",
              "      <th></th>\n",
              "      <th>Category</th>\n",
              "      <th>Accuracy</th>\n",
              "      <th>Precision</th>\n",
              "      <th>Recall</th>\n",
              "      <th>F1 Score</th>\n",
              "    </tr>\n",
              "  </thead>\n",
              "  <tbody>\n",
              "    <tr>\n",
              "      <th>0</th>\n",
              "      <td>em</td>\n",
              "      <td>0.768496</td>\n",
              "      <td>0.837662</td>\n",
              "      <td>0.641791</td>\n",
              "      <td>0.726761</td>\n",
              "    </tr>\n",
              "    <tr>\n",
              "      <th>1</th>\n",
              "      <td>in</td>\n",
              "      <td>0.816856</td>\n",
              "      <td>0.793220</td>\n",
              "      <td>0.818182</td>\n",
              "      <td>0.805508</td>\n",
              "    </tr>\n",
              "    <tr>\n",
              "      <th>2</th>\n",
              "      <td>ex</td>\n",
              "      <td>0.833333</td>\n",
              "      <td>0.831461</td>\n",
              "      <td>0.813187</td>\n",
              "      <td>0.822222</td>\n",
              "    </tr>\n",
              "    <tr>\n",
              "      <th>3</th>\n",
              "      <td>ex_aug</td>\n",
              "      <td>0.859756</td>\n",
              "      <td>0.884058</td>\n",
              "      <td>0.802632</td>\n",
              "      <td>0.841379</td>\n",
              "    </tr>\n",
              "  </tbody>\n",
              "</table>\n",
              "</div>\n",
              "    <div class=\"colab-df-buttons\">\n",
              "\n",
              "  <div class=\"colab-df-container\">\n",
              "    <button class=\"colab-df-convert\" onclick=\"convertToInteractive('df-566fa27e-8a49-41af-bab0-445e59170cee')\"\n",
              "            title=\"Convert this dataframe to an interactive table.\"\n",
              "            style=\"display:none;\">\n",
              "\n",
              "  <svg xmlns=\"http://www.w3.org/2000/svg\" height=\"24px\" viewBox=\"0 -960 960 960\">\n",
              "    <path d=\"M120-120v-720h720v720H120Zm60-500h600v-160H180v160Zm220 220h160v-160H400v160Zm0 220h160v-160H400v160ZM180-400h160v-160H180v160Zm440 0h160v-160H620v160ZM180-180h160v-160H180v160Zm440 0h160v-160H620v160Z\"/>\n",
              "  </svg>\n",
              "    </button>\n",
              "\n",
              "  <style>\n",
              "    .colab-df-container {\n",
              "      display:flex;\n",
              "      gap: 12px;\n",
              "    }\n",
              "\n",
              "    .colab-df-convert {\n",
              "      background-color: #E8F0FE;\n",
              "      border: none;\n",
              "      border-radius: 50%;\n",
              "      cursor: pointer;\n",
              "      display: none;\n",
              "      fill: #1967D2;\n",
              "      height: 32px;\n",
              "      padding: 0 0 0 0;\n",
              "      width: 32px;\n",
              "    }\n",
              "\n",
              "    .colab-df-convert:hover {\n",
              "      background-color: #E2EBFA;\n",
              "      box-shadow: 0px 1px 2px rgba(60, 64, 67, 0.3), 0px 1px 3px 1px rgba(60, 64, 67, 0.15);\n",
              "      fill: #174EA6;\n",
              "    }\n",
              "\n",
              "    .colab-df-buttons div {\n",
              "      margin-bottom: 4px;\n",
              "    }\n",
              "\n",
              "    [theme=dark] .colab-df-convert {\n",
              "      background-color: #3B4455;\n",
              "      fill: #D2E3FC;\n",
              "    }\n",
              "\n",
              "    [theme=dark] .colab-df-convert:hover {\n",
              "      background-color: #434B5C;\n",
              "      box-shadow: 0px 1px 3px 1px rgba(0, 0, 0, 0.15);\n",
              "      filter: drop-shadow(0px 1px 2px rgba(0, 0, 0, 0.3));\n",
              "      fill: #FFFFFF;\n",
              "    }\n",
              "  </style>\n",
              "\n",
              "    <script>\n",
              "      const buttonEl =\n",
              "        document.querySelector('#df-566fa27e-8a49-41af-bab0-445e59170cee button.colab-df-convert');\n",
              "      buttonEl.style.display =\n",
              "        google.colab.kernel.accessAllowed ? 'block' : 'none';\n",
              "\n",
              "      async function convertToInteractive(key) {\n",
              "        const element = document.querySelector('#df-566fa27e-8a49-41af-bab0-445e59170cee');\n",
              "        const dataTable =\n",
              "          await google.colab.kernel.invokeFunction('convertToInteractive',\n",
              "                                                    [key], {});\n",
              "        if (!dataTable) return;\n",
              "\n",
              "        const docLinkHtml = 'Like what you see? Visit the ' +\n",
              "          '<a target=\"_blank\" href=https://colab.research.google.com/notebooks/data_table.ipynb>data table notebook</a>'\n",
              "          + ' to learn more about interactive tables.';\n",
              "        element.innerHTML = '';\n",
              "        dataTable['output_type'] = 'display_data';\n",
              "        await google.colab.output.renderOutput(dataTable, element);\n",
              "        const docLink = document.createElement('div');\n",
              "        docLink.innerHTML = docLinkHtml;\n",
              "        element.appendChild(docLink);\n",
              "      }\n",
              "    </script>\n",
              "  </div>\n",
              "\n",
              "\n",
              "<div id=\"df-f20d4adb-8086-4840-ad77-e441de16ffb6\">\n",
              "  <button class=\"colab-df-quickchart\" onclick=\"quickchart('df-f20d4adb-8086-4840-ad77-e441de16ffb6')\"\n",
              "            title=\"Suggest charts\"\n",
              "            style=\"display:none;\">\n",
              "\n",
              "<svg xmlns=\"http://www.w3.org/2000/svg\" height=\"24px\"viewBox=\"0 0 24 24\"\n",
              "     width=\"24px\">\n",
              "    <g>\n",
              "        <path d=\"M19 3H5c-1.1 0-2 .9-2 2v14c0 1.1.9 2 2 2h14c1.1 0 2-.9 2-2V5c0-1.1-.9-2-2-2zM9 17H7v-7h2v7zm4 0h-2V7h2v10zm4 0h-2v-4h2v4z\"/>\n",
              "    </g>\n",
              "</svg>\n",
              "  </button>\n",
              "\n",
              "<style>\n",
              "  .colab-df-quickchart {\n",
              "      --bg-color: #E8F0FE;\n",
              "      --fill-color: #1967D2;\n",
              "      --hover-bg-color: #E2EBFA;\n",
              "      --hover-fill-color: #174EA6;\n",
              "      --disabled-fill-color: #AAA;\n",
              "      --disabled-bg-color: #DDD;\n",
              "  }\n",
              "\n",
              "  [theme=dark] .colab-df-quickchart {\n",
              "      --bg-color: #3B4455;\n",
              "      --fill-color: #D2E3FC;\n",
              "      --hover-bg-color: #434B5C;\n",
              "      --hover-fill-color: #FFFFFF;\n",
              "      --disabled-bg-color: #3B4455;\n",
              "      --disabled-fill-color: #666;\n",
              "  }\n",
              "\n",
              "  .colab-df-quickchart {\n",
              "    background-color: var(--bg-color);\n",
              "    border: none;\n",
              "    border-radius: 50%;\n",
              "    cursor: pointer;\n",
              "    display: none;\n",
              "    fill: var(--fill-color);\n",
              "    height: 32px;\n",
              "    padding: 0;\n",
              "    width: 32px;\n",
              "  }\n",
              "\n",
              "  .colab-df-quickchart:hover {\n",
              "    background-color: var(--hover-bg-color);\n",
              "    box-shadow: 0 1px 2px rgba(60, 64, 67, 0.3), 0 1px 3px 1px rgba(60, 64, 67, 0.15);\n",
              "    fill: var(--button-hover-fill-color);\n",
              "  }\n",
              "\n",
              "  .colab-df-quickchart-complete:disabled,\n",
              "  .colab-df-quickchart-complete:disabled:hover {\n",
              "    background-color: var(--disabled-bg-color);\n",
              "    fill: var(--disabled-fill-color);\n",
              "    box-shadow: none;\n",
              "  }\n",
              "\n",
              "  .colab-df-spinner {\n",
              "    border: 2px solid var(--fill-color);\n",
              "    border-color: transparent;\n",
              "    border-bottom-color: var(--fill-color);\n",
              "    animation:\n",
              "      spin 1s steps(1) infinite;\n",
              "  }\n",
              "\n",
              "  @keyframes spin {\n",
              "    0% {\n",
              "      border-color: transparent;\n",
              "      border-bottom-color: var(--fill-color);\n",
              "      border-left-color: var(--fill-color);\n",
              "    }\n",
              "    20% {\n",
              "      border-color: transparent;\n",
              "      border-left-color: var(--fill-color);\n",
              "      border-top-color: var(--fill-color);\n",
              "    }\n",
              "    30% {\n",
              "      border-color: transparent;\n",
              "      border-left-color: var(--fill-color);\n",
              "      border-top-color: var(--fill-color);\n",
              "      border-right-color: var(--fill-color);\n",
              "    }\n",
              "    40% {\n",
              "      border-color: transparent;\n",
              "      border-right-color: var(--fill-color);\n",
              "      border-top-color: var(--fill-color);\n",
              "    }\n",
              "    60% {\n",
              "      border-color: transparent;\n",
              "      border-right-color: var(--fill-color);\n",
              "    }\n",
              "    80% {\n",
              "      border-color: transparent;\n",
              "      border-right-color: var(--fill-color);\n",
              "      border-bottom-color: var(--fill-color);\n",
              "    }\n",
              "    90% {\n",
              "      border-color: transparent;\n",
              "      border-bottom-color: var(--fill-color);\n",
              "    }\n",
              "  }\n",
              "</style>\n",
              "\n",
              "  <script>\n",
              "    async function quickchart(key) {\n",
              "      const quickchartButtonEl =\n",
              "        document.querySelector('#' + key + ' button');\n",
              "      quickchartButtonEl.disabled = true;  // To prevent multiple clicks.\n",
              "      quickchartButtonEl.classList.add('colab-df-spinner');\n",
              "      try {\n",
              "        const charts = await google.colab.kernel.invokeFunction(\n",
              "            'suggestCharts', [key], {});\n",
              "      } catch (error) {\n",
              "        console.error('Error during call to suggestCharts:', error);\n",
              "      }\n",
              "      quickchartButtonEl.classList.remove('colab-df-spinner');\n",
              "      quickchartButtonEl.classList.add('colab-df-quickchart-complete');\n",
              "    }\n",
              "    (() => {\n",
              "      let quickchartButtonEl =\n",
              "        document.querySelector('#df-f20d4adb-8086-4840-ad77-e441de16ffb6 button');\n",
              "      quickchartButtonEl.style.display =\n",
              "        google.colab.kernel.accessAllowed ? 'block' : 'none';\n",
              "    })();\n",
              "  </script>\n",
              "</div>\n",
              "    </div>\n",
              "  </div>\n"
            ]
          },
          "metadata": {},
          "execution_count": 36
        }
      ],
      "source": [
        "metrics = {\n",
        "    'Category': ['em', 'in', 'ex', 'ex_aug'],\n",
        "    'Accuracy': [accuracy_em, accuracy_in, accuracy_ex, accuracy_ex_aug],\n",
        "    'Precision': [precision_em, precision_in, precision_ex, precision_ex_aug],\n",
        "    'Recall': [recall_em, recall_in, recall_ex, recall_ex_aug],\n",
        "    'F1 Score': [f1_em, f1_in, f1_ex, f1_ex_aug]\n",
        "}\n",
        "\n",
        "metrics_df = pd.DataFrame(metrics)\n",
        "\n",
        "metrics_df"
      ]
    }
  ],
  "metadata": {
    "accelerator": "GPU",
    "colab": {
      "provenance": []
    },
    "kernelspec": {
      "display_name": "Python 3",
      "name": "python3"
    },
    "language_info": {
      "name": "python"
    },
    "widgets": {
      "application/vnd.jupyter.widget-state+json": {
        "0778e13d52fc497a855611fce3704c01": {
          "model_module": "@jupyter-widgets/controls",
          "model_name": "HBoxModel",
          "model_module_version": "1.5.0",
          "state": {
            "_dom_classes": [],
            "_model_module": "@jupyter-widgets/controls",
            "_model_module_version": "1.5.0",
            "_model_name": "HBoxModel",
            "_view_count": null,
            "_view_module": "@jupyter-widgets/controls",
            "_view_module_version": "1.5.0",
            "_view_name": "HBoxView",
            "box_style": "",
            "children": [
              "IPY_MODEL_ed3b58df3164457a91728e37a022fb15",
              "IPY_MODEL_7052b332f0ff4081acb6c9d718ee70b3",
              "IPY_MODEL_5a34e2b5d9ff484c9a2e09a3d4b04e0a"
            ],
            "layout": "IPY_MODEL_cc15213bcd594e82b05cad0fd21fc02b"
          }
        },
        "ed3b58df3164457a91728e37a022fb15": {
          "model_module": "@jupyter-widgets/controls",
          "model_name": "HTMLModel",
          "model_module_version": "1.5.0",
          "state": {
            "_dom_classes": [],
            "_model_module": "@jupyter-widgets/controls",
            "_model_module_version": "1.5.0",
            "_model_name": "HTMLModel",
            "_view_count": null,
            "_view_module": "@jupyter-widgets/controls",
            "_view_module_version": "1.5.0",
            "_view_name": "HTMLView",
            "description": "",
            "description_tooltip": null,
            "layout": "IPY_MODEL_63b6e35055374fc6bb5fc593fd591fc1",
            "placeholder": "​",
            "style": "IPY_MODEL_0d3bb8112fb840738d9809701d7f7f2a",
            "value": "vocab.json: 100%"
          }
        },
        "7052b332f0ff4081acb6c9d718ee70b3": {
          "model_module": "@jupyter-widgets/controls",
          "model_name": "FloatProgressModel",
          "model_module_version": "1.5.0",
          "state": {
            "_dom_classes": [],
            "_model_module": "@jupyter-widgets/controls",
            "_model_module_version": "1.5.0",
            "_model_name": "FloatProgressModel",
            "_view_count": null,
            "_view_module": "@jupyter-widgets/controls",
            "_view_module_version": "1.5.0",
            "_view_name": "ProgressView",
            "bar_style": "success",
            "description": "",
            "description_tooltip": null,
            "layout": "IPY_MODEL_0135ba5135aa4ed4b7878331365e2eb8",
            "max": 1042301,
            "min": 0,
            "orientation": "horizontal",
            "style": "IPY_MODEL_47c183fa426241f9944856cda8a0818c",
            "value": 1042301
          }
        },
        "5a34e2b5d9ff484c9a2e09a3d4b04e0a": {
          "model_module": "@jupyter-widgets/controls",
          "model_name": "HTMLModel",
          "model_module_version": "1.5.0",
          "state": {
            "_dom_classes": [],
            "_model_module": "@jupyter-widgets/controls",
            "_model_module_version": "1.5.0",
            "_model_name": "HTMLModel",
            "_view_count": null,
            "_view_module": "@jupyter-widgets/controls",
            "_view_module_version": "1.5.0",
            "_view_name": "HTMLView",
            "description": "",
            "description_tooltip": null,
            "layout": "IPY_MODEL_ee58755bb2a04d5ba2b008705bc1c34d",
            "placeholder": "​",
            "style": "IPY_MODEL_988a03041f7f46c7a6d9936389d256ba",
            "value": " 1.04M/1.04M [00:00&lt;00:00, 13.8MB/s]"
          }
        },
        "cc15213bcd594e82b05cad0fd21fc02b": {
          "model_module": "@jupyter-widgets/base",
          "model_name": "LayoutModel",
          "model_module_version": "1.2.0",
          "state": {
            "_model_module": "@jupyter-widgets/base",
            "_model_module_version": "1.2.0",
            "_model_name": "LayoutModel",
            "_view_count": null,
            "_view_module": "@jupyter-widgets/base",
            "_view_module_version": "1.2.0",
            "_view_name": "LayoutView",
            "align_content": null,
            "align_items": null,
            "align_self": null,
            "border": null,
            "bottom": null,
            "display": null,
            "flex": null,
            "flex_flow": null,
            "grid_area": null,
            "grid_auto_columns": null,
            "grid_auto_flow": null,
            "grid_auto_rows": null,
            "grid_column": null,
            "grid_gap": null,
            "grid_row": null,
            "grid_template_areas": null,
            "grid_template_columns": null,
            "grid_template_rows": null,
            "height": null,
            "justify_content": null,
            "justify_items": null,
            "left": null,
            "margin": null,
            "max_height": null,
            "max_width": null,
            "min_height": null,
            "min_width": null,
            "object_fit": null,
            "object_position": null,
            "order": null,
            "overflow": null,
            "overflow_x": null,
            "overflow_y": null,
            "padding": null,
            "right": null,
            "top": null,
            "visibility": null,
            "width": null
          }
        },
        "63b6e35055374fc6bb5fc593fd591fc1": {
          "model_module": "@jupyter-widgets/base",
          "model_name": "LayoutModel",
          "model_module_version": "1.2.0",
          "state": {
            "_model_module": "@jupyter-widgets/base",
            "_model_module_version": "1.2.0",
            "_model_name": "LayoutModel",
            "_view_count": null,
            "_view_module": "@jupyter-widgets/base",
            "_view_module_version": "1.2.0",
            "_view_name": "LayoutView",
            "align_content": null,
            "align_items": null,
            "align_self": null,
            "border": null,
            "bottom": null,
            "display": null,
            "flex": null,
            "flex_flow": null,
            "grid_area": null,
            "grid_auto_columns": null,
            "grid_auto_flow": null,
            "grid_auto_rows": null,
            "grid_column": null,
            "grid_gap": null,
            "grid_row": null,
            "grid_template_areas": null,
            "grid_template_columns": null,
            "grid_template_rows": null,
            "height": null,
            "justify_content": null,
            "justify_items": null,
            "left": null,
            "margin": null,
            "max_height": null,
            "max_width": null,
            "min_height": null,
            "min_width": null,
            "object_fit": null,
            "object_position": null,
            "order": null,
            "overflow": null,
            "overflow_x": null,
            "overflow_y": null,
            "padding": null,
            "right": null,
            "top": null,
            "visibility": null,
            "width": null
          }
        },
        "0d3bb8112fb840738d9809701d7f7f2a": {
          "model_module": "@jupyter-widgets/controls",
          "model_name": "DescriptionStyleModel",
          "model_module_version": "1.5.0",
          "state": {
            "_model_module": "@jupyter-widgets/controls",
            "_model_module_version": "1.5.0",
            "_model_name": "DescriptionStyleModel",
            "_view_count": null,
            "_view_module": "@jupyter-widgets/base",
            "_view_module_version": "1.2.0",
            "_view_name": "StyleView",
            "description_width": ""
          }
        },
        "0135ba5135aa4ed4b7878331365e2eb8": {
          "model_module": "@jupyter-widgets/base",
          "model_name": "LayoutModel",
          "model_module_version": "1.2.0",
          "state": {
            "_model_module": "@jupyter-widgets/base",
            "_model_module_version": "1.2.0",
            "_model_name": "LayoutModel",
            "_view_count": null,
            "_view_module": "@jupyter-widgets/base",
            "_view_module_version": "1.2.0",
            "_view_name": "LayoutView",
            "align_content": null,
            "align_items": null,
            "align_self": null,
            "border": null,
            "bottom": null,
            "display": null,
            "flex": null,
            "flex_flow": null,
            "grid_area": null,
            "grid_auto_columns": null,
            "grid_auto_flow": null,
            "grid_auto_rows": null,
            "grid_column": null,
            "grid_gap": null,
            "grid_row": null,
            "grid_template_areas": null,
            "grid_template_columns": null,
            "grid_template_rows": null,
            "height": null,
            "justify_content": null,
            "justify_items": null,
            "left": null,
            "margin": null,
            "max_height": null,
            "max_width": null,
            "min_height": null,
            "min_width": null,
            "object_fit": null,
            "object_position": null,
            "order": null,
            "overflow": null,
            "overflow_x": null,
            "overflow_y": null,
            "padding": null,
            "right": null,
            "top": null,
            "visibility": null,
            "width": null
          }
        },
        "47c183fa426241f9944856cda8a0818c": {
          "model_module": "@jupyter-widgets/controls",
          "model_name": "ProgressStyleModel",
          "model_module_version": "1.5.0",
          "state": {
            "_model_module": "@jupyter-widgets/controls",
            "_model_module_version": "1.5.0",
            "_model_name": "ProgressStyleModel",
            "_view_count": null,
            "_view_module": "@jupyter-widgets/base",
            "_view_module_version": "1.2.0",
            "_view_name": "StyleView",
            "bar_color": null,
            "description_width": ""
          }
        },
        "ee58755bb2a04d5ba2b008705bc1c34d": {
          "model_module": "@jupyter-widgets/base",
          "model_name": "LayoutModel",
          "model_module_version": "1.2.0",
          "state": {
            "_model_module": "@jupyter-widgets/base",
            "_model_module_version": "1.2.0",
            "_model_name": "LayoutModel",
            "_view_count": null,
            "_view_module": "@jupyter-widgets/base",
            "_view_module_version": "1.2.0",
            "_view_name": "LayoutView",
            "align_content": null,
            "align_items": null,
            "align_self": null,
            "border": null,
            "bottom": null,
            "display": null,
            "flex": null,
            "flex_flow": null,
            "grid_area": null,
            "grid_auto_columns": null,
            "grid_auto_flow": null,
            "grid_auto_rows": null,
            "grid_column": null,
            "grid_gap": null,
            "grid_row": null,
            "grid_template_areas": null,
            "grid_template_columns": null,
            "grid_template_rows": null,
            "height": null,
            "justify_content": null,
            "justify_items": null,
            "left": null,
            "margin": null,
            "max_height": null,
            "max_width": null,
            "min_height": null,
            "min_width": null,
            "object_fit": null,
            "object_position": null,
            "order": null,
            "overflow": null,
            "overflow_x": null,
            "overflow_y": null,
            "padding": null,
            "right": null,
            "top": null,
            "visibility": null,
            "width": null
          }
        },
        "988a03041f7f46c7a6d9936389d256ba": {
          "model_module": "@jupyter-widgets/controls",
          "model_name": "DescriptionStyleModel",
          "model_module_version": "1.5.0",
          "state": {
            "_model_module": "@jupyter-widgets/controls",
            "_model_module_version": "1.5.0",
            "_model_name": "DescriptionStyleModel",
            "_view_count": null,
            "_view_module": "@jupyter-widgets/base",
            "_view_module_version": "1.2.0",
            "_view_name": "StyleView",
            "description_width": ""
          }
        },
        "4bd1834727ba40fbb0854d03120f09e8": {
          "model_module": "@jupyter-widgets/controls",
          "model_name": "HBoxModel",
          "model_module_version": "1.5.0",
          "state": {
            "_dom_classes": [],
            "_model_module": "@jupyter-widgets/controls",
            "_model_module_version": "1.5.0",
            "_model_name": "HBoxModel",
            "_view_count": null,
            "_view_module": "@jupyter-widgets/controls",
            "_view_module_version": "1.5.0",
            "_view_name": "HBoxView",
            "box_style": "",
            "children": [
              "IPY_MODEL_7c4c8d31dc9947bbb101fb24ed7c18e4",
              "IPY_MODEL_e3f659b44b9d45f8bda1ec013fc6bb98",
              "IPY_MODEL_2c5532d82fbb40e2adb82eb26045e6b7"
            ],
            "layout": "IPY_MODEL_f527393632524a7f9227d38f27e7e76a"
          }
        },
        "7c4c8d31dc9947bbb101fb24ed7c18e4": {
          "model_module": "@jupyter-widgets/controls",
          "model_name": "HTMLModel",
          "model_module_version": "1.5.0",
          "state": {
            "_dom_classes": [],
            "_model_module": "@jupyter-widgets/controls",
            "_model_module_version": "1.5.0",
            "_model_name": "HTMLModel",
            "_view_count": null,
            "_view_module": "@jupyter-widgets/controls",
            "_view_module_version": "1.5.0",
            "_view_name": "HTMLView",
            "description": "",
            "description_tooltip": null,
            "layout": "IPY_MODEL_9cb4b02af13e41f2af2db268d811938f",
            "placeholder": "​",
            "style": "IPY_MODEL_1ee48f84831548cfa74715b978c0d2d4",
            "value": "merges.txt: 100%"
          }
        },
        "e3f659b44b9d45f8bda1ec013fc6bb98": {
          "model_module": "@jupyter-widgets/controls",
          "model_name": "FloatProgressModel",
          "model_module_version": "1.5.0",
          "state": {
            "_dom_classes": [],
            "_model_module": "@jupyter-widgets/controls",
            "_model_module_version": "1.5.0",
            "_model_name": "FloatProgressModel",
            "_view_count": null,
            "_view_module": "@jupyter-widgets/controls",
            "_view_module_version": "1.5.0",
            "_view_name": "ProgressView",
            "bar_style": "success",
            "description": "",
            "description_tooltip": null,
            "layout": "IPY_MODEL_cfea7cf1825148a7b09d46e0fa6be1b8",
            "max": 456318,
            "min": 0,
            "orientation": "horizontal",
            "style": "IPY_MODEL_d6df0250503f48e38666f13e02417599",
            "value": 456318
          }
        },
        "2c5532d82fbb40e2adb82eb26045e6b7": {
          "model_module": "@jupyter-widgets/controls",
          "model_name": "HTMLModel",
          "model_module_version": "1.5.0",
          "state": {
            "_dom_classes": [],
            "_model_module": "@jupyter-widgets/controls",
            "_model_module_version": "1.5.0",
            "_model_name": "HTMLModel",
            "_view_count": null,
            "_view_module": "@jupyter-widgets/controls",
            "_view_module_version": "1.5.0",
            "_view_name": "HTMLView",
            "description": "",
            "description_tooltip": null,
            "layout": "IPY_MODEL_bf40a44b8fe642789bcabe62cf797bca",
            "placeholder": "​",
            "style": "IPY_MODEL_9a2c82eb9a9b42d497487f19d7ea4d56",
            "value": " 456k/456k [00:00&lt;00:00, 1.83MB/s]"
          }
        },
        "f527393632524a7f9227d38f27e7e76a": {
          "model_module": "@jupyter-widgets/base",
          "model_name": "LayoutModel",
          "model_module_version": "1.2.0",
          "state": {
            "_model_module": "@jupyter-widgets/base",
            "_model_module_version": "1.2.0",
            "_model_name": "LayoutModel",
            "_view_count": null,
            "_view_module": "@jupyter-widgets/base",
            "_view_module_version": "1.2.0",
            "_view_name": "LayoutView",
            "align_content": null,
            "align_items": null,
            "align_self": null,
            "border": null,
            "bottom": null,
            "display": null,
            "flex": null,
            "flex_flow": null,
            "grid_area": null,
            "grid_auto_columns": null,
            "grid_auto_flow": null,
            "grid_auto_rows": null,
            "grid_column": null,
            "grid_gap": null,
            "grid_row": null,
            "grid_template_areas": null,
            "grid_template_columns": null,
            "grid_template_rows": null,
            "height": null,
            "justify_content": null,
            "justify_items": null,
            "left": null,
            "margin": null,
            "max_height": null,
            "max_width": null,
            "min_height": null,
            "min_width": null,
            "object_fit": null,
            "object_position": null,
            "order": null,
            "overflow": null,
            "overflow_x": null,
            "overflow_y": null,
            "padding": null,
            "right": null,
            "top": null,
            "visibility": null,
            "width": null
          }
        },
        "9cb4b02af13e41f2af2db268d811938f": {
          "model_module": "@jupyter-widgets/base",
          "model_name": "LayoutModel",
          "model_module_version": "1.2.0",
          "state": {
            "_model_module": "@jupyter-widgets/base",
            "_model_module_version": "1.2.0",
            "_model_name": "LayoutModel",
            "_view_count": null,
            "_view_module": "@jupyter-widgets/base",
            "_view_module_version": "1.2.0",
            "_view_name": "LayoutView",
            "align_content": null,
            "align_items": null,
            "align_self": null,
            "border": null,
            "bottom": null,
            "display": null,
            "flex": null,
            "flex_flow": null,
            "grid_area": null,
            "grid_auto_columns": null,
            "grid_auto_flow": null,
            "grid_auto_rows": null,
            "grid_column": null,
            "grid_gap": null,
            "grid_row": null,
            "grid_template_areas": null,
            "grid_template_columns": null,
            "grid_template_rows": null,
            "height": null,
            "justify_content": null,
            "justify_items": null,
            "left": null,
            "margin": null,
            "max_height": null,
            "max_width": null,
            "min_height": null,
            "min_width": null,
            "object_fit": null,
            "object_position": null,
            "order": null,
            "overflow": null,
            "overflow_x": null,
            "overflow_y": null,
            "padding": null,
            "right": null,
            "top": null,
            "visibility": null,
            "width": null
          }
        },
        "1ee48f84831548cfa74715b978c0d2d4": {
          "model_module": "@jupyter-widgets/controls",
          "model_name": "DescriptionStyleModel",
          "model_module_version": "1.5.0",
          "state": {
            "_model_module": "@jupyter-widgets/controls",
            "_model_module_version": "1.5.0",
            "_model_name": "DescriptionStyleModel",
            "_view_count": null,
            "_view_module": "@jupyter-widgets/base",
            "_view_module_version": "1.2.0",
            "_view_name": "StyleView",
            "description_width": ""
          }
        },
        "cfea7cf1825148a7b09d46e0fa6be1b8": {
          "model_module": "@jupyter-widgets/base",
          "model_name": "LayoutModel",
          "model_module_version": "1.2.0",
          "state": {
            "_model_module": "@jupyter-widgets/base",
            "_model_module_version": "1.2.0",
            "_model_name": "LayoutModel",
            "_view_count": null,
            "_view_module": "@jupyter-widgets/base",
            "_view_module_version": "1.2.0",
            "_view_name": "LayoutView",
            "align_content": null,
            "align_items": null,
            "align_self": null,
            "border": null,
            "bottom": null,
            "display": null,
            "flex": null,
            "flex_flow": null,
            "grid_area": null,
            "grid_auto_columns": null,
            "grid_auto_flow": null,
            "grid_auto_rows": null,
            "grid_column": null,
            "grid_gap": null,
            "grid_row": null,
            "grid_template_areas": null,
            "grid_template_columns": null,
            "grid_template_rows": null,
            "height": null,
            "justify_content": null,
            "justify_items": null,
            "left": null,
            "margin": null,
            "max_height": null,
            "max_width": null,
            "min_height": null,
            "min_width": null,
            "object_fit": null,
            "object_position": null,
            "order": null,
            "overflow": null,
            "overflow_x": null,
            "overflow_y": null,
            "padding": null,
            "right": null,
            "top": null,
            "visibility": null,
            "width": null
          }
        },
        "d6df0250503f48e38666f13e02417599": {
          "model_module": "@jupyter-widgets/controls",
          "model_name": "ProgressStyleModel",
          "model_module_version": "1.5.0",
          "state": {
            "_model_module": "@jupyter-widgets/controls",
            "_model_module_version": "1.5.0",
            "_model_name": "ProgressStyleModel",
            "_view_count": null,
            "_view_module": "@jupyter-widgets/base",
            "_view_module_version": "1.2.0",
            "_view_name": "StyleView",
            "bar_color": null,
            "description_width": ""
          }
        },
        "bf40a44b8fe642789bcabe62cf797bca": {
          "model_module": "@jupyter-widgets/base",
          "model_name": "LayoutModel",
          "model_module_version": "1.2.0",
          "state": {
            "_model_module": "@jupyter-widgets/base",
            "_model_module_version": "1.2.0",
            "_model_name": "LayoutModel",
            "_view_count": null,
            "_view_module": "@jupyter-widgets/base",
            "_view_module_version": "1.2.0",
            "_view_name": "LayoutView",
            "align_content": null,
            "align_items": null,
            "align_self": null,
            "border": null,
            "bottom": null,
            "display": null,
            "flex": null,
            "flex_flow": null,
            "grid_area": null,
            "grid_auto_columns": null,
            "grid_auto_flow": null,
            "grid_auto_rows": null,
            "grid_column": null,
            "grid_gap": null,
            "grid_row": null,
            "grid_template_areas": null,
            "grid_template_columns": null,
            "grid_template_rows": null,
            "height": null,
            "justify_content": null,
            "justify_items": null,
            "left": null,
            "margin": null,
            "max_height": null,
            "max_width": null,
            "min_height": null,
            "min_width": null,
            "object_fit": null,
            "object_position": null,
            "order": null,
            "overflow": null,
            "overflow_x": null,
            "overflow_y": null,
            "padding": null,
            "right": null,
            "top": null,
            "visibility": null,
            "width": null
          }
        },
        "9a2c82eb9a9b42d497487f19d7ea4d56": {
          "model_module": "@jupyter-widgets/controls",
          "model_name": "DescriptionStyleModel",
          "model_module_version": "1.5.0",
          "state": {
            "_model_module": "@jupyter-widgets/controls",
            "_model_module_version": "1.5.0",
            "_model_name": "DescriptionStyleModel",
            "_view_count": null,
            "_view_module": "@jupyter-widgets/base",
            "_view_module_version": "1.2.0",
            "_view_name": "StyleView",
            "description_width": ""
          }
        },
        "6008dabd64374ffa928edd8bef06a096": {
          "model_module": "@jupyter-widgets/controls",
          "model_name": "HBoxModel",
          "model_module_version": "1.5.0",
          "state": {
            "_dom_classes": [],
            "_model_module": "@jupyter-widgets/controls",
            "_model_module_version": "1.5.0",
            "_model_name": "HBoxModel",
            "_view_count": null,
            "_view_module": "@jupyter-widgets/controls",
            "_view_module_version": "1.5.0",
            "_view_name": "HBoxView",
            "box_style": "",
            "children": [
              "IPY_MODEL_bf5d2b03701d4da8bb908274c51b950a",
              "IPY_MODEL_fb8d97735700454d96b3322535882651",
              "IPY_MODEL_e5592adf0fe94019b1cccaa20a6cab59"
            ],
            "layout": "IPY_MODEL_e918ebe07bbc49d19dfaee140ad499ef"
          }
        },
        "bf5d2b03701d4da8bb908274c51b950a": {
          "model_module": "@jupyter-widgets/controls",
          "model_name": "HTMLModel",
          "model_module_version": "1.5.0",
          "state": {
            "_dom_classes": [],
            "_model_module": "@jupyter-widgets/controls",
            "_model_module_version": "1.5.0",
            "_model_name": "HTMLModel",
            "_view_count": null,
            "_view_module": "@jupyter-widgets/controls",
            "_view_module_version": "1.5.0",
            "_view_name": "HTMLView",
            "description": "",
            "description_tooltip": null,
            "layout": "IPY_MODEL_f10ae500a1d943c0b990e62bc603b1a7",
            "placeholder": "​",
            "style": "IPY_MODEL_64a124f993f54c8cb9ccd84bcc5572c1",
            "value": "tokenizer.json: 100%"
          }
        },
        "fb8d97735700454d96b3322535882651": {
          "model_module": "@jupyter-widgets/controls",
          "model_name": "FloatProgressModel",
          "model_module_version": "1.5.0",
          "state": {
            "_dom_classes": [],
            "_model_module": "@jupyter-widgets/controls",
            "_model_module_version": "1.5.0",
            "_model_name": "FloatProgressModel",
            "_view_count": null,
            "_view_module": "@jupyter-widgets/controls",
            "_view_module_version": "1.5.0",
            "_view_name": "ProgressView",
            "bar_style": "success",
            "description": "",
            "description_tooltip": null,
            "layout": "IPY_MODEL_c6398aff13e74b438748e976c19f1eb5",
            "max": 1355256,
            "min": 0,
            "orientation": "horizontal",
            "style": "IPY_MODEL_0942322e86c6465bad22b198a6a9c32e",
            "value": 1355256
          }
        },
        "e5592adf0fe94019b1cccaa20a6cab59": {
          "model_module": "@jupyter-widgets/controls",
          "model_name": "HTMLModel",
          "model_module_version": "1.5.0",
          "state": {
            "_dom_classes": [],
            "_model_module": "@jupyter-widgets/controls",
            "_model_module_version": "1.5.0",
            "_model_name": "HTMLModel",
            "_view_count": null,
            "_view_module": "@jupyter-widgets/controls",
            "_view_module_version": "1.5.0",
            "_view_name": "HTMLView",
            "description": "",
            "description_tooltip": null,
            "layout": "IPY_MODEL_fefc9436d34a490bb5b949e86d2d52b0",
            "placeholder": "​",
            "style": "IPY_MODEL_54f537af142e4ad3baab7914ac2b23b1",
            "value": " 1.36M/1.36M [00:00&lt;00:00, 5.40MB/s]"
          }
        },
        "e918ebe07bbc49d19dfaee140ad499ef": {
          "model_module": "@jupyter-widgets/base",
          "model_name": "LayoutModel",
          "model_module_version": "1.2.0",
          "state": {
            "_model_module": "@jupyter-widgets/base",
            "_model_module_version": "1.2.0",
            "_model_name": "LayoutModel",
            "_view_count": null,
            "_view_module": "@jupyter-widgets/base",
            "_view_module_version": "1.2.0",
            "_view_name": "LayoutView",
            "align_content": null,
            "align_items": null,
            "align_self": null,
            "border": null,
            "bottom": null,
            "display": null,
            "flex": null,
            "flex_flow": null,
            "grid_area": null,
            "grid_auto_columns": null,
            "grid_auto_flow": null,
            "grid_auto_rows": null,
            "grid_column": null,
            "grid_gap": null,
            "grid_row": null,
            "grid_template_areas": null,
            "grid_template_columns": null,
            "grid_template_rows": null,
            "height": null,
            "justify_content": null,
            "justify_items": null,
            "left": null,
            "margin": null,
            "max_height": null,
            "max_width": null,
            "min_height": null,
            "min_width": null,
            "object_fit": null,
            "object_position": null,
            "order": null,
            "overflow": null,
            "overflow_x": null,
            "overflow_y": null,
            "padding": null,
            "right": null,
            "top": null,
            "visibility": null,
            "width": null
          }
        },
        "f10ae500a1d943c0b990e62bc603b1a7": {
          "model_module": "@jupyter-widgets/base",
          "model_name": "LayoutModel",
          "model_module_version": "1.2.0",
          "state": {
            "_model_module": "@jupyter-widgets/base",
            "_model_module_version": "1.2.0",
            "_model_name": "LayoutModel",
            "_view_count": null,
            "_view_module": "@jupyter-widgets/base",
            "_view_module_version": "1.2.0",
            "_view_name": "LayoutView",
            "align_content": null,
            "align_items": null,
            "align_self": null,
            "border": null,
            "bottom": null,
            "display": null,
            "flex": null,
            "flex_flow": null,
            "grid_area": null,
            "grid_auto_columns": null,
            "grid_auto_flow": null,
            "grid_auto_rows": null,
            "grid_column": null,
            "grid_gap": null,
            "grid_row": null,
            "grid_template_areas": null,
            "grid_template_columns": null,
            "grid_template_rows": null,
            "height": null,
            "justify_content": null,
            "justify_items": null,
            "left": null,
            "margin": null,
            "max_height": null,
            "max_width": null,
            "min_height": null,
            "min_width": null,
            "object_fit": null,
            "object_position": null,
            "order": null,
            "overflow": null,
            "overflow_x": null,
            "overflow_y": null,
            "padding": null,
            "right": null,
            "top": null,
            "visibility": null,
            "width": null
          }
        },
        "64a124f993f54c8cb9ccd84bcc5572c1": {
          "model_module": "@jupyter-widgets/controls",
          "model_name": "DescriptionStyleModel",
          "model_module_version": "1.5.0",
          "state": {
            "_model_module": "@jupyter-widgets/controls",
            "_model_module_version": "1.5.0",
            "_model_name": "DescriptionStyleModel",
            "_view_count": null,
            "_view_module": "@jupyter-widgets/base",
            "_view_module_version": "1.2.0",
            "_view_name": "StyleView",
            "description_width": ""
          }
        },
        "c6398aff13e74b438748e976c19f1eb5": {
          "model_module": "@jupyter-widgets/base",
          "model_name": "LayoutModel",
          "model_module_version": "1.2.0",
          "state": {
            "_model_module": "@jupyter-widgets/base",
            "_model_module_version": "1.2.0",
            "_model_name": "LayoutModel",
            "_view_count": null,
            "_view_module": "@jupyter-widgets/base",
            "_view_module_version": "1.2.0",
            "_view_name": "LayoutView",
            "align_content": null,
            "align_items": null,
            "align_self": null,
            "border": null,
            "bottom": null,
            "display": null,
            "flex": null,
            "flex_flow": null,
            "grid_area": null,
            "grid_auto_columns": null,
            "grid_auto_flow": null,
            "grid_auto_rows": null,
            "grid_column": null,
            "grid_gap": null,
            "grid_row": null,
            "grid_template_areas": null,
            "grid_template_columns": null,
            "grid_template_rows": null,
            "height": null,
            "justify_content": null,
            "justify_items": null,
            "left": null,
            "margin": null,
            "max_height": null,
            "max_width": null,
            "min_height": null,
            "min_width": null,
            "object_fit": null,
            "object_position": null,
            "order": null,
            "overflow": null,
            "overflow_x": null,
            "overflow_y": null,
            "padding": null,
            "right": null,
            "top": null,
            "visibility": null,
            "width": null
          }
        },
        "0942322e86c6465bad22b198a6a9c32e": {
          "model_module": "@jupyter-widgets/controls",
          "model_name": "ProgressStyleModel",
          "model_module_version": "1.5.0",
          "state": {
            "_model_module": "@jupyter-widgets/controls",
            "_model_module_version": "1.5.0",
            "_model_name": "ProgressStyleModel",
            "_view_count": null,
            "_view_module": "@jupyter-widgets/base",
            "_view_module_version": "1.2.0",
            "_view_name": "StyleView",
            "bar_color": null,
            "description_width": ""
          }
        },
        "fefc9436d34a490bb5b949e86d2d52b0": {
          "model_module": "@jupyter-widgets/base",
          "model_name": "LayoutModel",
          "model_module_version": "1.2.0",
          "state": {
            "_model_module": "@jupyter-widgets/base",
            "_model_module_version": "1.2.0",
            "_model_name": "LayoutModel",
            "_view_count": null,
            "_view_module": "@jupyter-widgets/base",
            "_view_module_version": "1.2.0",
            "_view_name": "LayoutView",
            "align_content": null,
            "align_items": null,
            "align_self": null,
            "border": null,
            "bottom": null,
            "display": null,
            "flex": null,
            "flex_flow": null,
            "grid_area": null,
            "grid_auto_columns": null,
            "grid_auto_flow": null,
            "grid_auto_rows": null,
            "grid_column": null,
            "grid_gap": null,
            "grid_row": null,
            "grid_template_areas": null,
            "grid_template_columns": null,
            "grid_template_rows": null,
            "height": null,
            "justify_content": null,
            "justify_items": null,
            "left": null,
            "margin": null,
            "max_height": null,
            "max_width": null,
            "min_height": null,
            "min_width": null,
            "object_fit": null,
            "object_position": null,
            "order": null,
            "overflow": null,
            "overflow_x": null,
            "overflow_y": null,
            "padding": null,
            "right": null,
            "top": null,
            "visibility": null,
            "width": null
          }
        },
        "54f537af142e4ad3baab7914ac2b23b1": {
          "model_module": "@jupyter-widgets/controls",
          "model_name": "DescriptionStyleModel",
          "model_module_version": "1.5.0",
          "state": {
            "_model_module": "@jupyter-widgets/controls",
            "_model_module_version": "1.5.0",
            "_model_name": "DescriptionStyleModel",
            "_view_count": null,
            "_view_module": "@jupyter-widgets/base",
            "_view_module_version": "1.2.0",
            "_view_name": "StyleView",
            "description_width": ""
          }
        },
        "914bd84c2efd4620a7db9f3c29163409": {
          "model_module": "@jupyter-widgets/controls",
          "model_name": "HBoxModel",
          "model_module_version": "1.5.0",
          "state": {
            "_dom_classes": [],
            "_model_module": "@jupyter-widgets/controls",
            "_model_module_version": "1.5.0",
            "_model_name": "HBoxModel",
            "_view_count": null,
            "_view_module": "@jupyter-widgets/controls",
            "_view_module_version": "1.5.0",
            "_view_name": "HBoxView",
            "box_style": "",
            "children": [
              "IPY_MODEL_4901350faf9541419f7fcf5f09eef1d9",
              "IPY_MODEL_946bb5cf232342fd9b0c52498e9c56f6",
              "IPY_MODEL_35d0e8ba32a94101b1f5c098b69fc4ae"
            ],
            "layout": "IPY_MODEL_e30ad6331b774f4a9804b335ab78b8d7"
          }
        },
        "4901350faf9541419f7fcf5f09eef1d9": {
          "model_module": "@jupyter-widgets/controls",
          "model_name": "HTMLModel",
          "model_module_version": "1.5.0",
          "state": {
            "_dom_classes": [],
            "_model_module": "@jupyter-widgets/controls",
            "_model_module_version": "1.5.0",
            "_model_name": "HTMLModel",
            "_view_count": null,
            "_view_module": "@jupyter-widgets/controls",
            "_view_module_version": "1.5.0",
            "_view_name": "HTMLView",
            "description": "",
            "description_tooltip": null,
            "layout": "IPY_MODEL_fc64af2f30c34ab2a17138a419b06fc5",
            "placeholder": "​",
            "style": "IPY_MODEL_af3d482163cd4cc2b02a4c39fefb19ba",
            "value": "config.json: 100%"
          }
        },
        "946bb5cf232342fd9b0c52498e9c56f6": {
          "model_module": "@jupyter-widgets/controls",
          "model_name": "FloatProgressModel",
          "model_module_version": "1.5.0",
          "state": {
            "_dom_classes": [],
            "_model_module": "@jupyter-widgets/controls",
            "_model_module_version": "1.5.0",
            "_model_name": "FloatProgressModel",
            "_view_count": null,
            "_view_module": "@jupyter-widgets/controls",
            "_view_module_version": "1.5.0",
            "_view_name": "ProgressView",
            "bar_style": "success",
            "description": "",
            "description_tooltip": null,
            "layout": "IPY_MODEL_29cb0c256c514a098ad3a2c9dd11e4e9",
            "max": 665,
            "min": 0,
            "orientation": "horizontal",
            "style": "IPY_MODEL_2ed2c0ec551342fcb929b2da897a689e",
            "value": 665
          }
        },
        "35d0e8ba32a94101b1f5c098b69fc4ae": {
          "model_module": "@jupyter-widgets/controls",
          "model_name": "HTMLModel",
          "model_module_version": "1.5.0",
          "state": {
            "_dom_classes": [],
            "_model_module": "@jupyter-widgets/controls",
            "_model_module_version": "1.5.0",
            "_model_name": "HTMLModel",
            "_view_count": null,
            "_view_module": "@jupyter-widgets/controls",
            "_view_module_version": "1.5.0",
            "_view_name": "HTMLView",
            "description": "",
            "description_tooltip": null,
            "layout": "IPY_MODEL_f53ce8c2e8ef47d5adeaad69d9606c5e",
            "placeholder": "​",
            "style": "IPY_MODEL_bb274ec3ef5f4401bab1b3dbb881ef35",
            "value": " 665/665 [00:00&lt;00:00, 34.7kB/s]"
          }
        },
        "e30ad6331b774f4a9804b335ab78b8d7": {
          "model_module": "@jupyter-widgets/base",
          "model_name": "LayoutModel",
          "model_module_version": "1.2.0",
          "state": {
            "_model_module": "@jupyter-widgets/base",
            "_model_module_version": "1.2.0",
            "_model_name": "LayoutModel",
            "_view_count": null,
            "_view_module": "@jupyter-widgets/base",
            "_view_module_version": "1.2.0",
            "_view_name": "LayoutView",
            "align_content": null,
            "align_items": null,
            "align_self": null,
            "border": null,
            "bottom": null,
            "display": null,
            "flex": null,
            "flex_flow": null,
            "grid_area": null,
            "grid_auto_columns": null,
            "grid_auto_flow": null,
            "grid_auto_rows": null,
            "grid_column": null,
            "grid_gap": null,
            "grid_row": null,
            "grid_template_areas": null,
            "grid_template_columns": null,
            "grid_template_rows": null,
            "height": null,
            "justify_content": null,
            "justify_items": null,
            "left": null,
            "margin": null,
            "max_height": null,
            "max_width": null,
            "min_height": null,
            "min_width": null,
            "object_fit": null,
            "object_position": null,
            "order": null,
            "overflow": null,
            "overflow_x": null,
            "overflow_y": null,
            "padding": null,
            "right": null,
            "top": null,
            "visibility": null,
            "width": null
          }
        },
        "fc64af2f30c34ab2a17138a419b06fc5": {
          "model_module": "@jupyter-widgets/base",
          "model_name": "LayoutModel",
          "model_module_version": "1.2.0",
          "state": {
            "_model_module": "@jupyter-widgets/base",
            "_model_module_version": "1.2.0",
            "_model_name": "LayoutModel",
            "_view_count": null,
            "_view_module": "@jupyter-widgets/base",
            "_view_module_version": "1.2.0",
            "_view_name": "LayoutView",
            "align_content": null,
            "align_items": null,
            "align_self": null,
            "border": null,
            "bottom": null,
            "display": null,
            "flex": null,
            "flex_flow": null,
            "grid_area": null,
            "grid_auto_columns": null,
            "grid_auto_flow": null,
            "grid_auto_rows": null,
            "grid_column": null,
            "grid_gap": null,
            "grid_row": null,
            "grid_template_areas": null,
            "grid_template_columns": null,
            "grid_template_rows": null,
            "height": null,
            "justify_content": null,
            "justify_items": null,
            "left": null,
            "margin": null,
            "max_height": null,
            "max_width": null,
            "min_height": null,
            "min_width": null,
            "object_fit": null,
            "object_position": null,
            "order": null,
            "overflow": null,
            "overflow_x": null,
            "overflow_y": null,
            "padding": null,
            "right": null,
            "top": null,
            "visibility": null,
            "width": null
          }
        },
        "af3d482163cd4cc2b02a4c39fefb19ba": {
          "model_module": "@jupyter-widgets/controls",
          "model_name": "DescriptionStyleModel",
          "model_module_version": "1.5.0",
          "state": {
            "_model_module": "@jupyter-widgets/controls",
            "_model_module_version": "1.5.0",
            "_model_name": "DescriptionStyleModel",
            "_view_count": null,
            "_view_module": "@jupyter-widgets/base",
            "_view_module_version": "1.2.0",
            "_view_name": "StyleView",
            "description_width": ""
          }
        },
        "29cb0c256c514a098ad3a2c9dd11e4e9": {
          "model_module": "@jupyter-widgets/base",
          "model_name": "LayoutModel",
          "model_module_version": "1.2.0",
          "state": {
            "_model_module": "@jupyter-widgets/base",
            "_model_module_version": "1.2.0",
            "_model_name": "LayoutModel",
            "_view_count": null,
            "_view_module": "@jupyter-widgets/base",
            "_view_module_version": "1.2.0",
            "_view_name": "LayoutView",
            "align_content": null,
            "align_items": null,
            "align_self": null,
            "border": null,
            "bottom": null,
            "display": null,
            "flex": null,
            "flex_flow": null,
            "grid_area": null,
            "grid_auto_columns": null,
            "grid_auto_flow": null,
            "grid_auto_rows": null,
            "grid_column": null,
            "grid_gap": null,
            "grid_row": null,
            "grid_template_areas": null,
            "grid_template_columns": null,
            "grid_template_rows": null,
            "height": null,
            "justify_content": null,
            "justify_items": null,
            "left": null,
            "margin": null,
            "max_height": null,
            "max_width": null,
            "min_height": null,
            "min_width": null,
            "object_fit": null,
            "object_position": null,
            "order": null,
            "overflow": null,
            "overflow_x": null,
            "overflow_y": null,
            "padding": null,
            "right": null,
            "top": null,
            "visibility": null,
            "width": null
          }
        },
        "2ed2c0ec551342fcb929b2da897a689e": {
          "model_module": "@jupyter-widgets/controls",
          "model_name": "ProgressStyleModel",
          "model_module_version": "1.5.0",
          "state": {
            "_model_module": "@jupyter-widgets/controls",
            "_model_module_version": "1.5.0",
            "_model_name": "ProgressStyleModel",
            "_view_count": null,
            "_view_module": "@jupyter-widgets/base",
            "_view_module_version": "1.2.0",
            "_view_name": "StyleView",
            "bar_color": null,
            "description_width": ""
          }
        },
        "f53ce8c2e8ef47d5adeaad69d9606c5e": {
          "model_module": "@jupyter-widgets/base",
          "model_name": "LayoutModel",
          "model_module_version": "1.2.0",
          "state": {
            "_model_module": "@jupyter-widgets/base",
            "_model_module_version": "1.2.0",
            "_model_name": "LayoutModel",
            "_view_count": null,
            "_view_module": "@jupyter-widgets/base",
            "_view_module_version": "1.2.0",
            "_view_name": "LayoutView",
            "align_content": null,
            "align_items": null,
            "align_self": null,
            "border": null,
            "bottom": null,
            "display": null,
            "flex": null,
            "flex_flow": null,
            "grid_area": null,
            "grid_auto_columns": null,
            "grid_auto_flow": null,
            "grid_auto_rows": null,
            "grid_column": null,
            "grid_gap": null,
            "grid_row": null,
            "grid_template_areas": null,
            "grid_template_columns": null,
            "grid_template_rows": null,
            "height": null,
            "justify_content": null,
            "justify_items": null,
            "left": null,
            "margin": null,
            "max_height": null,
            "max_width": null,
            "min_height": null,
            "min_width": null,
            "object_fit": null,
            "object_position": null,
            "order": null,
            "overflow": null,
            "overflow_x": null,
            "overflow_y": null,
            "padding": null,
            "right": null,
            "top": null,
            "visibility": null,
            "width": null
          }
        },
        "bb274ec3ef5f4401bab1b3dbb881ef35": {
          "model_module": "@jupyter-widgets/controls",
          "model_name": "DescriptionStyleModel",
          "model_module_version": "1.5.0",
          "state": {
            "_model_module": "@jupyter-widgets/controls",
            "_model_module_version": "1.5.0",
            "_model_name": "DescriptionStyleModel",
            "_view_count": null,
            "_view_module": "@jupyter-widgets/base",
            "_view_module_version": "1.2.0",
            "_view_name": "StyleView",
            "description_width": ""
          }
        },
        "52ea8c3a7f5d4d888428a23280153e13": {
          "model_module": "@jupyter-widgets/controls",
          "model_name": "HBoxModel",
          "model_module_version": "1.5.0",
          "state": {
            "_dom_classes": [],
            "_model_module": "@jupyter-widgets/controls",
            "_model_module_version": "1.5.0",
            "_model_name": "HBoxModel",
            "_view_count": null,
            "_view_module": "@jupyter-widgets/controls",
            "_view_module_version": "1.5.0",
            "_view_name": "HBoxView",
            "box_style": "",
            "children": [
              "IPY_MODEL_df9e04ea8c3346b4af1924ceb2fe6522",
              "IPY_MODEL_c66d8f37282d4572b333b1ba5a690b5a",
              "IPY_MODEL_8567598c3d8a477bafffdaec884ab6e9"
            ],
            "layout": "IPY_MODEL_8fc347a4a6bc4564ab1c5245bf26cef8"
          }
        },
        "df9e04ea8c3346b4af1924ceb2fe6522": {
          "model_module": "@jupyter-widgets/controls",
          "model_name": "HTMLModel",
          "model_module_version": "1.5.0",
          "state": {
            "_dom_classes": [],
            "_model_module": "@jupyter-widgets/controls",
            "_model_module_version": "1.5.0",
            "_model_name": "HTMLModel",
            "_view_count": null,
            "_view_module": "@jupyter-widgets/controls",
            "_view_module_version": "1.5.0",
            "_view_name": "HTMLView",
            "description": "",
            "description_tooltip": null,
            "layout": "IPY_MODEL_5980e4b481ee4c8ba07d85e32de906af",
            "placeholder": "​",
            "style": "IPY_MODEL_4c342560b2714adc89223dcfd8ba509a",
            "value": "model.safetensors: 100%"
          }
        },
        "c66d8f37282d4572b333b1ba5a690b5a": {
          "model_module": "@jupyter-widgets/controls",
          "model_name": "FloatProgressModel",
          "model_module_version": "1.5.0",
          "state": {
            "_dom_classes": [],
            "_model_module": "@jupyter-widgets/controls",
            "_model_module_version": "1.5.0",
            "_model_name": "FloatProgressModel",
            "_view_count": null,
            "_view_module": "@jupyter-widgets/controls",
            "_view_module_version": "1.5.0",
            "_view_name": "ProgressView",
            "bar_style": "success",
            "description": "",
            "description_tooltip": null,
            "layout": "IPY_MODEL_7efa283e683940bf8ed632d2e77b04c3",
            "max": 548105171,
            "min": 0,
            "orientation": "horizontal",
            "style": "IPY_MODEL_f2c86149f0e94cc4ac2828a1da18e4d3",
            "value": 548105171
          }
        },
        "8567598c3d8a477bafffdaec884ab6e9": {
          "model_module": "@jupyter-widgets/controls",
          "model_name": "HTMLModel",
          "model_module_version": "1.5.0",
          "state": {
            "_dom_classes": [],
            "_model_module": "@jupyter-widgets/controls",
            "_model_module_version": "1.5.0",
            "_model_name": "HTMLModel",
            "_view_count": null,
            "_view_module": "@jupyter-widgets/controls",
            "_view_module_version": "1.5.0",
            "_view_name": "HTMLView",
            "description": "",
            "description_tooltip": null,
            "layout": "IPY_MODEL_add3ec7bbd12423bba4e34f97916031c",
            "placeholder": "​",
            "style": "IPY_MODEL_d94c02e349ca498c81a400defc6a708e",
            "value": " 548M/548M [00:01&lt;00:00, 279MB/s]"
          }
        },
        "8fc347a4a6bc4564ab1c5245bf26cef8": {
          "model_module": "@jupyter-widgets/base",
          "model_name": "LayoutModel",
          "model_module_version": "1.2.0",
          "state": {
            "_model_module": "@jupyter-widgets/base",
            "_model_module_version": "1.2.0",
            "_model_name": "LayoutModel",
            "_view_count": null,
            "_view_module": "@jupyter-widgets/base",
            "_view_module_version": "1.2.0",
            "_view_name": "LayoutView",
            "align_content": null,
            "align_items": null,
            "align_self": null,
            "border": null,
            "bottom": null,
            "display": null,
            "flex": null,
            "flex_flow": null,
            "grid_area": null,
            "grid_auto_columns": null,
            "grid_auto_flow": null,
            "grid_auto_rows": null,
            "grid_column": null,
            "grid_gap": null,
            "grid_row": null,
            "grid_template_areas": null,
            "grid_template_columns": null,
            "grid_template_rows": null,
            "height": null,
            "justify_content": null,
            "justify_items": null,
            "left": null,
            "margin": null,
            "max_height": null,
            "max_width": null,
            "min_height": null,
            "min_width": null,
            "object_fit": null,
            "object_position": null,
            "order": null,
            "overflow": null,
            "overflow_x": null,
            "overflow_y": null,
            "padding": null,
            "right": null,
            "top": null,
            "visibility": null,
            "width": null
          }
        },
        "5980e4b481ee4c8ba07d85e32de906af": {
          "model_module": "@jupyter-widgets/base",
          "model_name": "LayoutModel",
          "model_module_version": "1.2.0",
          "state": {
            "_model_module": "@jupyter-widgets/base",
            "_model_module_version": "1.2.0",
            "_model_name": "LayoutModel",
            "_view_count": null,
            "_view_module": "@jupyter-widgets/base",
            "_view_module_version": "1.2.0",
            "_view_name": "LayoutView",
            "align_content": null,
            "align_items": null,
            "align_self": null,
            "border": null,
            "bottom": null,
            "display": null,
            "flex": null,
            "flex_flow": null,
            "grid_area": null,
            "grid_auto_columns": null,
            "grid_auto_flow": null,
            "grid_auto_rows": null,
            "grid_column": null,
            "grid_gap": null,
            "grid_row": null,
            "grid_template_areas": null,
            "grid_template_columns": null,
            "grid_template_rows": null,
            "height": null,
            "justify_content": null,
            "justify_items": null,
            "left": null,
            "margin": null,
            "max_height": null,
            "max_width": null,
            "min_height": null,
            "min_width": null,
            "object_fit": null,
            "object_position": null,
            "order": null,
            "overflow": null,
            "overflow_x": null,
            "overflow_y": null,
            "padding": null,
            "right": null,
            "top": null,
            "visibility": null,
            "width": null
          }
        },
        "4c342560b2714adc89223dcfd8ba509a": {
          "model_module": "@jupyter-widgets/controls",
          "model_name": "DescriptionStyleModel",
          "model_module_version": "1.5.0",
          "state": {
            "_model_module": "@jupyter-widgets/controls",
            "_model_module_version": "1.5.0",
            "_model_name": "DescriptionStyleModel",
            "_view_count": null,
            "_view_module": "@jupyter-widgets/base",
            "_view_module_version": "1.2.0",
            "_view_name": "StyleView",
            "description_width": ""
          }
        },
        "7efa283e683940bf8ed632d2e77b04c3": {
          "model_module": "@jupyter-widgets/base",
          "model_name": "LayoutModel",
          "model_module_version": "1.2.0",
          "state": {
            "_model_module": "@jupyter-widgets/base",
            "_model_module_version": "1.2.0",
            "_model_name": "LayoutModel",
            "_view_count": null,
            "_view_module": "@jupyter-widgets/base",
            "_view_module_version": "1.2.0",
            "_view_name": "LayoutView",
            "align_content": null,
            "align_items": null,
            "align_self": null,
            "border": null,
            "bottom": null,
            "display": null,
            "flex": null,
            "flex_flow": null,
            "grid_area": null,
            "grid_auto_columns": null,
            "grid_auto_flow": null,
            "grid_auto_rows": null,
            "grid_column": null,
            "grid_gap": null,
            "grid_row": null,
            "grid_template_areas": null,
            "grid_template_columns": null,
            "grid_template_rows": null,
            "height": null,
            "justify_content": null,
            "justify_items": null,
            "left": null,
            "margin": null,
            "max_height": null,
            "max_width": null,
            "min_height": null,
            "min_width": null,
            "object_fit": null,
            "object_position": null,
            "order": null,
            "overflow": null,
            "overflow_x": null,
            "overflow_y": null,
            "padding": null,
            "right": null,
            "top": null,
            "visibility": null,
            "width": null
          }
        },
        "f2c86149f0e94cc4ac2828a1da18e4d3": {
          "model_module": "@jupyter-widgets/controls",
          "model_name": "ProgressStyleModel",
          "model_module_version": "1.5.0",
          "state": {
            "_model_module": "@jupyter-widgets/controls",
            "_model_module_version": "1.5.0",
            "_model_name": "ProgressStyleModel",
            "_view_count": null,
            "_view_module": "@jupyter-widgets/base",
            "_view_module_version": "1.2.0",
            "_view_name": "StyleView",
            "bar_color": null,
            "description_width": ""
          }
        },
        "add3ec7bbd12423bba4e34f97916031c": {
          "model_module": "@jupyter-widgets/base",
          "model_name": "LayoutModel",
          "model_module_version": "1.2.0",
          "state": {
            "_model_module": "@jupyter-widgets/base",
            "_model_module_version": "1.2.0",
            "_model_name": "LayoutModel",
            "_view_count": null,
            "_view_module": "@jupyter-widgets/base",
            "_view_module_version": "1.2.0",
            "_view_name": "LayoutView",
            "align_content": null,
            "align_items": null,
            "align_self": null,
            "border": null,
            "bottom": null,
            "display": null,
            "flex": null,
            "flex_flow": null,
            "grid_area": null,
            "grid_auto_columns": null,
            "grid_auto_flow": null,
            "grid_auto_rows": null,
            "grid_column": null,
            "grid_gap": null,
            "grid_row": null,
            "grid_template_areas": null,
            "grid_template_columns": null,
            "grid_template_rows": null,
            "height": null,
            "justify_content": null,
            "justify_items": null,
            "left": null,
            "margin": null,
            "max_height": null,
            "max_width": null,
            "min_height": null,
            "min_width": null,
            "object_fit": null,
            "object_position": null,
            "order": null,
            "overflow": null,
            "overflow_x": null,
            "overflow_y": null,
            "padding": null,
            "right": null,
            "top": null,
            "visibility": null,
            "width": null
          }
        },
        "d94c02e349ca498c81a400defc6a708e": {
          "model_module": "@jupyter-widgets/controls",
          "model_name": "DescriptionStyleModel",
          "model_module_version": "1.5.0",
          "state": {
            "_model_module": "@jupyter-widgets/controls",
            "_model_module_version": "1.5.0",
            "_model_name": "DescriptionStyleModel",
            "_view_count": null,
            "_view_module": "@jupyter-widgets/base",
            "_view_module_version": "1.2.0",
            "_view_name": "StyleView",
            "description_width": ""
          }
        }
      }
    }
  },
  "nbformat": 4,
  "nbformat_minor": 0
}