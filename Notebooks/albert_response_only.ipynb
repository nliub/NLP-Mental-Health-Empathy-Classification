{
  "cells": [
    {
      "cell_type": "markdown",
      "source": [
        "## Set up"
      ],
      "metadata": {
        "id": "VEGIfmyZY6Mj"
      }
    },
    {
      "cell_type": "code",
      "execution_count": null,
      "metadata": {
        "id": "k1l4A2nM5FTS"
      },
      "outputs": [],
      "source": [
        "!pip install -q transformers"
      ]
    },
    {
      "cell_type": "code",
      "source": [
        "!pip install -q sentencepiece"
      ],
      "metadata": {
        "colab": {
          "base_uri": "https://localhost:8080/"
        },
        "id": "jY5-OLEBCDiB",
        "outputId": "35a0fce0-1306-4bc6-ef95-7cc47b96ec4a"
      },
      "execution_count": null,
      "outputs": [
        {
          "output_type": "stream",
          "name": "stdout",
          "text": [
            "\u001b[?25l     \u001b[90m━━━━━━━━━━━━━━━━━━━━━━━━━━━━━━━━━━━━━━━━\u001b[0m \u001b[32m0.0/1.3 MB\u001b[0m \u001b[31m?\u001b[0m eta \u001b[36m-:--:--\u001b[0m\r\u001b[2K     \u001b[91m━━\u001b[0m\u001b[91m╸\u001b[0m\u001b[90m━━━━━━━━━━━━━━━━━━━━━━━━━━━━━━━━━━━━━\u001b[0m \u001b[32m0.1/1.3 MB\u001b[0m \u001b[31m2.4 MB/s\u001b[0m eta \u001b[36m0:00:01\u001b[0m\r\u001b[2K     \u001b[91m━━━━━━━━━━━━━━━━\u001b[0m\u001b[90m╺\u001b[0m\u001b[90m━━━━━━━━━━━━━━━━━━━━━━━\u001b[0m \u001b[32m0.5/1.3 MB\u001b[0m \u001b[31m7.4 MB/s\u001b[0m eta \u001b[36m0:00:01\u001b[0m\r\u001b[2K     \u001b[91m━━━━━━━━━━━━━━━━━━━━━━━━━━━━━━━━\u001b[0m\u001b[90m╺\u001b[0m\u001b[90m━━━━━━━\u001b[0m \u001b[32m1.1/1.3 MB\u001b[0m \u001b[31m10.1 MB/s\u001b[0m eta \u001b[36m0:00:01\u001b[0m\r\u001b[2K     \u001b[90m━━━━━━━━━━━━━━━━━━━━━━━━━━━━━━━━━━━━━━━━\u001b[0m \u001b[32m1.3/1.3 MB\u001b[0m \u001b[31m9.8 MB/s\u001b[0m eta \u001b[36m0:00:00\u001b[0m\n",
            "\u001b[?25h"
          ]
        }
      ]
    },
    {
      "cell_type": "code",
      "execution_count": null,
      "metadata": {
        "id": "j1fCHfHx3b2c"
      },
      "outputs": [],
      "source": [
        "import pandas as pd\n",
        "from pathlib import Path\n",
        "from sklearn.model_selection import train_test_split\n",
        "import numpy as np\n",
        "from sklearn.utils.class_weight import compute_class_weight\n",
        "import tensorflow as tf\n",
        "from tensorflow import keras\n",
        "from transformers import AlbertTokenizer, TFAlbertModel\n",
        "from sklearn.metrics import confusion_matrix\n",
        "import seaborn as sns\n",
        "import matplotlib.pyplot as plt\n",
        "from sklearn.metrics import accuracy_score, precision_score, recall_score, f1_score\n",
        "from tensorflow.keras.regularizers import l1, l2\n",
        "\n"
      ]
    },
    {
      "cell_type": "code",
      "execution_count": null,
      "metadata": {
        "colab": {
          "base_uri": "https://localhost:8080/"
        },
        "id": "XmlvChyh2ktx",
        "outputId": "e34f5197-4f64-4efb-be66-48df152eb040"
      },
      "outputs": [
        {
          "output_type": "stream",
          "name": "stdout",
          "text": [
            "Drive already mounted at /content/drive; to attempt to forcibly remount, call drive.mount(\"/content/drive\", force_remount=True).\n"
          ]
        }
      ],
      "source": [
        "from google.colab import drive\n",
        "drive.mount('/content/drive')"
      ]
    },
    {
      "cell_type": "code",
      "execution_count": null,
      "metadata": {
        "id": "LMjF4fpw29da"
      },
      "outputs": [],
      "source": [
        "home_dir = Path('/content/drive/MyDrive/266 Final Project/Code')\n",
        "train_path = home_dir / 'data' / 'train'\n",
        "val_path = home_dir / 'data' / 'val'\n",
        "test_path = home_dir / 'data' / 'test'"
      ]
    },
    {
      "cell_type": "code",
      "execution_count": null,
      "metadata": {
        "colab": {
          "base_uri": "https://localhost:8080/",
          "height": 252,
          "referenced_widgets": [
            "82d9683e404a4260a49cd0525f304b53",
            "24fadf2eca5844e6bada0cec85c44ea9",
            "3a3e935649084d729d60a59eb2323e71",
            "3dd339dc353743b48afd6e22119b0881",
            "bf379eab23dd4899a6fd2dcc3ebcae6f",
            "f324748488a94a20a6e151e940d80d94",
            "e512860e5ee24581ac6ecd8c04132f9a",
            "703ed754b4484309b1323ca1fba253d9",
            "0a13bfdd8d2f4071ad5c2a0600101d69",
            "0662362680d44149bcb586fed99401bc",
            "9640b065ea50451b8a178bd8cb83f1c6",
            "66dc3e1390634ef2bee66c922adcf493",
            "8c2c2ec293b1451ab150eb3e200017a8",
            "54c22d621c5e4026968c53d6673ae2b2",
            "d90f2be6c2054f06a83e83bcd661e0f4",
            "ed32498ee1cc4c5dabfed13a92f4244b",
            "a7e5d3f9e2cb4f5e9e408b45ce3520a5",
            "98e1bdf21ae948a3ab59efb04dcf1d65",
            "c5d7449a0889421fba573a8b1b91113a",
            "2c1fa24bbdf94289b009b119287cb33a",
            "a0300a523b39497abd0f69b4fd19da04",
            "8a76e34edfbd46c29dd048a0a0732714",
            "3df51bab701c4cbca0eb51583e275842",
            "6cd5f4720c7e4de4bd8b8f874501de69",
            "abadf80eb7774369bb40bca6ca501a2b",
            "725ef858d741473daa3c02669758a5f3",
            "9c0a067c07504038b6590aa1556e8f89",
            "9114418b6e594458864353576d5a522c",
            "b096716c62984830a50c10b3613e46d8",
            "08bbca44396d4d99aacede8a15b6271e",
            "1de5b10783504be081905805478bd46f",
            "37dd8cbb400e4b6db46263ca2eecab73",
            "19abe4f53594492ebdaa5fe924a60bfd",
            "8311b6cb95cd4e5b854987518c555bdb",
            "5a6f3b8d91294d20bf4019e78989defc",
            "94c16efa29164ed79f61311f9f95fd95",
            "d65fce8d424045bb8d9ab98d3a805492",
            "9e7ef3bd2e854f53830006739c73fc0a",
            "e8f5ed439d9348b891d912c1bd96195f",
            "0216c15e65ea47cb98295cc049437995",
            "b56cb6fd60c64975b8a3190747c92379",
            "8932478e13ca4d9da6f7d845b10dfd03",
            "20db85fd6028413a8ab295d3dc78325d",
            "9a2250be463f4f4f8bcc4b4c0d58114e"
          ]
        },
        "id": "Bwqxuui8IHJU",
        "outputId": "f6fe05ec-9b97-4a77-ba46-8a81265e73a6"
      },
      "outputs": [
        {
          "output_type": "display_data",
          "data": {
            "text/plain": [
              "spiece.model:   0%|          | 0.00/760k [00:00<?, ?B/s]"
            ],
            "application/vnd.jupyter.widget-view+json": {
              "version_major": 2,
              "version_minor": 0,
              "model_id": "82d9683e404a4260a49cd0525f304b53"
            }
          },
          "metadata": {}
        },
        {
          "output_type": "display_data",
          "data": {
            "text/plain": [
              "tokenizer.json:   0%|          | 0.00/1.31M [00:00<?, ?B/s]"
            ],
            "application/vnd.jupyter.widget-view+json": {
              "version_major": 2,
              "version_minor": 0,
              "model_id": "66dc3e1390634ef2bee66c922adcf493"
            }
          },
          "metadata": {}
        },
        {
          "output_type": "display_data",
          "data": {
            "text/plain": [
              "config.json:   0%|          | 0.00/684 [00:00<?, ?B/s]"
            ],
            "application/vnd.jupyter.widget-view+json": {
              "version_major": 2,
              "version_minor": 0,
              "model_id": "3df51bab701c4cbca0eb51583e275842"
            }
          },
          "metadata": {}
        },
        {
          "output_type": "display_data",
          "data": {
            "text/plain": [
              "model.safetensors:   0%|          | 0.00/47.4M [00:00<?, ?B/s]"
            ],
            "application/vnd.jupyter.widget-view+json": {
              "version_major": 2,
              "version_minor": 0,
              "model_id": "8311b6cb95cd4e5b854987518c555bdb"
            }
          },
          "metadata": {}
        },
        {
          "output_type": "stream",
          "name": "stderr",
          "text": [
            "Some weights of the PyTorch model were not used when initializing the TF 2.0 model TFAlbertModel: ['predictions.LayerNorm.weight', 'predictions.dense.bias', 'predictions.decoder.bias', 'predictions.bias', 'predictions.LayerNorm.bias', 'predictions.dense.weight']\n",
            "- This IS expected if you are initializing TFAlbertModel from a PyTorch model trained on another task or with another architecture (e.g. initializing a TFBertForSequenceClassification model from a BertForPreTraining model).\n",
            "- This IS NOT expected if you are initializing TFAlbertModel from a PyTorch model that you expect to be exactly identical (e.g. initializing a TFBertForSequenceClassification model from a BertForSequenceClassification model).\n",
            "All the weights of TFAlbertModel were initialized from the PyTorch model.\n",
            "If your task is similar to the task the model of the checkpoint was trained on, you can already use TFAlbertModel for predictions without further training.\n"
          ]
        }
      ],
      "source": [
        "#albert model\n",
        "#https://huggingface.co/docs/transformers/model_doc/albert\n",
        "\n",
        "albert_tokenizer = AlbertTokenizer.from_pretrained(\"albert-base-v2\")\n",
        "albert_model = TFAlbertModel.from_pretrained(\"albert-base-v2\")"
      ]
    },
    {
      "cell_type": "code",
      "source": [
        "\n",
        "results = {}\n",
        "\n",
        "for category in (['em', 'in', 'ex', 'ex_aug']):\n",
        "    X_train = pd.read_csv(train_path / f'X_{category}.csv', delimiter=',')\n",
        "    # X_train = X_train['response_post']\n",
        "\n",
        "    results[f'{category}_seeker_wordcount'] = X_train['seeker_post'].str.split().apply(len).describe()\n",
        "    results[f'{category}_seeker_token_count'] = X_train['seeker_post'].apply(lambda x: len(albert_tokenizer.tokenize(x))).describe()\n",
        "    results[f'{category}_response_wordcount'] = X_train['response_post'].str.split().apply(len).describe()\n",
        "    results[f'{category}_response_token_count'] = X_train['response_post'].apply(lambda x: len(albert_tokenizer.tokenize(x))).describe()\n",
        "\n",
        "    results[f'{category}_seeker_wordcount'] = X_train['seeker_post'].str.split().apply(len).describe()\n",
        "    results[f'{category}_seeker_token_count'] = X_train['seeker_post'].apply(lambda x: len(albert_tokenizer.tokenize(x))).describe()\n",
        "\n",
        "\n",
        "summary_table = pd.DataFrame(results)\n",
        "\n",
        "summary_table = summary_table.transpose()\n",
        "\n",
        "summary_table\n",
        "\n"
      ],
      "metadata": {
        "colab": {
          "base_uri": "https://localhost:8080/",
          "height": 551
        },
        "id": "dJ6ss4zYi6aH",
        "outputId": "03336c50-0997-446a-f05a-94f394138469"
      },
      "execution_count": null,
      "outputs": [
        {
          "output_type": "execute_result",
          "data": {
            "text/plain": [
              "                              count       mean        std  min    25%   50%  \\\n",
              "em_seeker_wordcount          1256.0  35.428344  26.695890  7.0  18.00  30.5   \n",
              "em_seeker_token_count        1256.0  44.968949  32.935017  8.0  23.00  39.0   \n",
              "em_response_wordcount        1256.0  48.544586  73.467111  5.0  14.00  29.0   \n",
              "em_response_token_count      1256.0  60.158439  88.653008  5.0  19.00  36.0   \n",
              "in_seeker_wordcount          1850.0  34.620000  25.158684  6.0  18.00  30.0   \n",
              "in_seeker_token_count        1850.0  44.069189  30.792570  8.0  24.00  38.0   \n",
              "in_response_wordcount        1850.0  47.835676  69.720736  5.0  14.00  28.0   \n",
              "in_response_token_count      1850.0  59.435676  84.566284  5.0  18.00  35.0   \n",
              "ex_seeker_wordcount           576.0  34.776042  24.005655  6.0  18.00  32.0   \n",
              "ex_seeker_token_count         576.0  44.562500  29.487145  8.0  24.00  41.0   \n",
              "ex_response_wordcount         576.0  39.748264  45.738966  5.0  11.00  25.0   \n",
              "ex_response_token_count       576.0  49.418403  55.454269  5.0  14.75  32.0   \n",
              "ex_aug_seeker_wordcount       984.0  35.828252  27.327485  6.0  18.00  31.0   \n",
              "ex_aug_seeker_token_count     984.0  45.546748  33.405427  8.0  24.00  39.0   \n",
              "ex_aug_response_wordcount     984.0  45.485772  53.493915  3.0  12.00  28.0   \n",
              "ex_aug_response_token_count   984.0  56.003049  65.129802  5.0  16.00  35.0   \n",
              "\n",
              "                               75%     max  \n",
              "em_seeker_wordcount          46.00   208.0  \n",
              "em_seeker_token_count        57.00   264.0  \n",
              "em_response_wordcount        59.00  1811.0  \n",
              "em_response_token_count      73.00  2149.0  \n",
              "in_seeker_wordcount          45.00   216.0  \n",
              "in_seeker_token_count        56.00   267.0  \n",
              "in_response_wordcount        58.00  1811.0  \n",
              "in_response_token_count      71.75  2149.0  \n",
              "ex_seeker_wordcount          44.00   186.0  \n",
              "ex_seeker_token_count        56.00   237.0  \n",
              "ex_response_wordcount        49.25   398.0  \n",
              "ex_response_token_count      63.00   467.0  \n",
              "ex_aug_seeker_wordcount      45.00   209.0  \n",
              "ex_aug_seeker_token_count    56.25   267.0  \n",
              "ex_aug_response_wordcount    57.00   477.0  \n",
              "ex_aug_response_token_count  69.00   567.0  "
            ],
            "text/html": [
              "\n",
              "  <div id=\"df-b1401d6b-d131-4740-bae0-83c2fc083169\" class=\"colab-df-container\">\n",
              "    <div>\n",
              "<style scoped>\n",
              "    .dataframe tbody tr th:only-of-type {\n",
              "        vertical-align: middle;\n",
              "    }\n",
              "\n",
              "    .dataframe tbody tr th {\n",
              "        vertical-align: top;\n",
              "    }\n",
              "\n",
              "    .dataframe thead th {\n",
              "        text-align: right;\n",
              "    }\n",
              "</style>\n",
              "<table border=\"1\" class=\"dataframe\">\n",
              "  <thead>\n",
              "    <tr style=\"text-align: right;\">\n",
              "      <th></th>\n",
              "      <th>count</th>\n",
              "      <th>mean</th>\n",
              "      <th>std</th>\n",
              "      <th>min</th>\n",
              "      <th>25%</th>\n",
              "      <th>50%</th>\n",
              "      <th>75%</th>\n",
              "      <th>max</th>\n",
              "    </tr>\n",
              "  </thead>\n",
              "  <tbody>\n",
              "    <tr>\n",
              "      <th>em_seeker_wordcount</th>\n",
              "      <td>1256.0</td>\n",
              "      <td>35.428344</td>\n",
              "      <td>26.695890</td>\n",
              "      <td>7.0</td>\n",
              "      <td>18.00</td>\n",
              "      <td>30.5</td>\n",
              "      <td>46.00</td>\n",
              "      <td>208.0</td>\n",
              "    </tr>\n",
              "    <tr>\n",
              "      <th>em_seeker_token_count</th>\n",
              "      <td>1256.0</td>\n",
              "      <td>44.968949</td>\n",
              "      <td>32.935017</td>\n",
              "      <td>8.0</td>\n",
              "      <td>23.00</td>\n",
              "      <td>39.0</td>\n",
              "      <td>57.00</td>\n",
              "      <td>264.0</td>\n",
              "    </tr>\n",
              "    <tr>\n",
              "      <th>em_response_wordcount</th>\n",
              "      <td>1256.0</td>\n",
              "      <td>48.544586</td>\n",
              "      <td>73.467111</td>\n",
              "      <td>5.0</td>\n",
              "      <td>14.00</td>\n",
              "      <td>29.0</td>\n",
              "      <td>59.00</td>\n",
              "      <td>1811.0</td>\n",
              "    </tr>\n",
              "    <tr>\n",
              "      <th>em_response_token_count</th>\n",
              "      <td>1256.0</td>\n",
              "      <td>60.158439</td>\n",
              "      <td>88.653008</td>\n",
              "      <td>5.0</td>\n",
              "      <td>19.00</td>\n",
              "      <td>36.0</td>\n",
              "      <td>73.00</td>\n",
              "      <td>2149.0</td>\n",
              "    </tr>\n",
              "    <tr>\n",
              "      <th>in_seeker_wordcount</th>\n",
              "      <td>1850.0</td>\n",
              "      <td>34.620000</td>\n",
              "      <td>25.158684</td>\n",
              "      <td>6.0</td>\n",
              "      <td>18.00</td>\n",
              "      <td>30.0</td>\n",
              "      <td>45.00</td>\n",
              "      <td>216.0</td>\n",
              "    </tr>\n",
              "    <tr>\n",
              "      <th>in_seeker_token_count</th>\n",
              "      <td>1850.0</td>\n",
              "      <td>44.069189</td>\n",
              "      <td>30.792570</td>\n",
              "      <td>8.0</td>\n",
              "      <td>24.00</td>\n",
              "      <td>38.0</td>\n",
              "      <td>56.00</td>\n",
              "      <td>267.0</td>\n",
              "    </tr>\n",
              "    <tr>\n",
              "      <th>in_response_wordcount</th>\n",
              "      <td>1850.0</td>\n",
              "      <td>47.835676</td>\n",
              "      <td>69.720736</td>\n",
              "      <td>5.0</td>\n",
              "      <td>14.00</td>\n",
              "      <td>28.0</td>\n",
              "      <td>58.00</td>\n",
              "      <td>1811.0</td>\n",
              "    </tr>\n",
              "    <tr>\n",
              "      <th>in_response_token_count</th>\n",
              "      <td>1850.0</td>\n",
              "      <td>59.435676</td>\n",
              "      <td>84.566284</td>\n",
              "      <td>5.0</td>\n",
              "      <td>18.00</td>\n",
              "      <td>35.0</td>\n",
              "      <td>71.75</td>\n",
              "      <td>2149.0</td>\n",
              "    </tr>\n",
              "    <tr>\n",
              "      <th>ex_seeker_wordcount</th>\n",
              "      <td>576.0</td>\n",
              "      <td>34.776042</td>\n",
              "      <td>24.005655</td>\n",
              "      <td>6.0</td>\n",
              "      <td>18.00</td>\n",
              "      <td>32.0</td>\n",
              "      <td>44.00</td>\n",
              "      <td>186.0</td>\n",
              "    </tr>\n",
              "    <tr>\n",
              "      <th>ex_seeker_token_count</th>\n",
              "      <td>576.0</td>\n",
              "      <td>44.562500</td>\n",
              "      <td>29.487145</td>\n",
              "      <td>8.0</td>\n",
              "      <td>24.00</td>\n",
              "      <td>41.0</td>\n",
              "      <td>56.00</td>\n",
              "      <td>237.0</td>\n",
              "    </tr>\n",
              "    <tr>\n",
              "      <th>ex_response_wordcount</th>\n",
              "      <td>576.0</td>\n",
              "      <td>39.748264</td>\n",
              "      <td>45.738966</td>\n",
              "      <td>5.0</td>\n",
              "      <td>11.00</td>\n",
              "      <td>25.0</td>\n",
              "      <td>49.25</td>\n",
              "      <td>398.0</td>\n",
              "    </tr>\n",
              "    <tr>\n",
              "      <th>ex_response_token_count</th>\n",
              "      <td>576.0</td>\n",
              "      <td>49.418403</td>\n",
              "      <td>55.454269</td>\n",
              "      <td>5.0</td>\n",
              "      <td>14.75</td>\n",
              "      <td>32.0</td>\n",
              "      <td>63.00</td>\n",
              "      <td>467.0</td>\n",
              "    </tr>\n",
              "    <tr>\n",
              "      <th>ex_aug_seeker_wordcount</th>\n",
              "      <td>984.0</td>\n",
              "      <td>35.828252</td>\n",
              "      <td>27.327485</td>\n",
              "      <td>6.0</td>\n",
              "      <td>18.00</td>\n",
              "      <td>31.0</td>\n",
              "      <td>45.00</td>\n",
              "      <td>209.0</td>\n",
              "    </tr>\n",
              "    <tr>\n",
              "      <th>ex_aug_seeker_token_count</th>\n",
              "      <td>984.0</td>\n",
              "      <td>45.546748</td>\n",
              "      <td>33.405427</td>\n",
              "      <td>8.0</td>\n",
              "      <td>24.00</td>\n",
              "      <td>39.0</td>\n",
              "      <td>56.25</td>\n",
              "      <td>267.0</td>\n",
              "    </tr>\n",
              "    <tr>\n",
              "      <th>ex_aug_response_wordcount</th>\n",
              "      <td>984.0</td>\n",
              "      <td>45.485772</td>\n",
              "      <td>53.493915</td>\n",
              "      <td>3.0</td>\n",
              "      <td>12.00</td>\n",
              "      <td>28.0</td>\n",
              "      <td>57.00</td>\n",
              "      <td>477.0</td>\n",
              "    </tr>\n",
              "    <tr>\n",
              "      <th>ex_aug_response_token_count</th>\n",
              "      <td>984.0</td>\n",
              "      <td>56.003049</td>\n",
              "      <td>65.129802</td>\n",
              "      <td>5.0</td>\n",
              "      <td>16.00</td>\n",
              "      <td>35.0</td>\n",
              "      <td>69.00</td>\n",
              "      <td>567.0</td>\n",
              "    </tr>\n",
              "  </tbody>\n",
              "</table>\n",
              "</div>\n",
              "    <div class=\"colab-df-buttons\">\n",
              "\n",
              "  <div class=\"colab-df-container\">\n",
              "    <button class=\"colab-df-convert\" onclick=\"convertToInteractive('df-b1401d6b-d131-4740-bae0-83c2fc083169')\"\n",
              "            title=\"Convert this dataframe to an interactive table.\"\n",
              "            style=\"display:none;\">\n",
              "\n",
              "  <svg xmlns=\"http://www.w3.org/2000/svg\" height=\"24px\" viewBox=\"0 -960 960 960\">\n",
              "    <path d=\"M120-120v-720h720v720H120Zm60-500h600v-160H180v160Zm220 220h160v-160H400v160Zm0 220h160v-160H400v160ZM180-400h160v-160H180v160Zm440 0h160v-160H620v160ZM180-180h160v-160H180v160Zm440 0h160v-160H620v160Z\"/>\n",
              "  </svg>\n",
              "    </button>\n",
              "\n",
              "  <style>\n",
              "    .colab-df-container {\n",
              "      display:flex;\n",
              "      gap: 12px;\n",
              "    }\n",
              "\n",
              "    .colab-df-convert {\n",
              "      background-color: #E8F0FE;\n",
              "      border: none;\n",
              "      border-radius: 50%;\n",
              "      cursor: pointer;\n",
              "      display: none;\n",
              "      fill: #1967D2;\n",
              "      height: 32px;\n",
              "      padding: 0 0 0 0;\n",
              "      width: 32px;\n",
              "    }\n",
              "\n",
              "    .colab-df-convert:hover {\n",
              "      background-color: #E2EBFA;\n",
              "      box-shadow: 0px 1px 2px rgba(60, 64, 67, 0.3), 0px 1px 3px 1px rgba(60, 64, 67, 0.15);\n",
              "      fill: #174EA6;\n",
              "    }\n",
              "\n",
              "    .colab-df-buttons div {\n",
              "      margin-bottom: 4px;\n",
              "    }\n",
              "\n",
              "    [theme=dark] .colab-df-convert {\n",
              "      background-color: #3B4455;\n",
              "      fill: #D2E3FC;\n",
              "    }\n",
              "\n",
              "    [theme=dark] .colab-df-convert:hover {\n",
              "      background-color: #434B5C;\n",
              "      box-shadow: 0px 1px 3px 1px rgba(0, 0, 0, 0.15);\n",
              "      filter: drop-shadow(0px 1px 2px rgba(0, 0, 0, 0.3));\n",
              "      fill: #FFFFFF;\n",
              "    }\n",
              "  </style>\n",
              "\n",
              "    <script>\n",
              "      const buttonEl =\n",
              "        document.querySelector('#df-b1401d6b-d131-4740-bae0-83c2fc083169 button.colab-df-convert');\n",
              "      buttonEl.style.display =\n",
              "        google.colab.kernel.accessAllowed ? 'block' : 'none';\n",
              "\n",
              "      async function convertToInteractive(key) {\n",
              "        const element = document.querySelector('#df-b1401d6b-d131-4740-bae0-83c2fc083169');\n",
              "        const dataTable =\n",
              "          await google.colab.kernel.invokeFunction('convertToInteractive',\n",
              "                                                    [key], {});\n",
              "        if (!dataTable) return;\n",
              "\n",
              "        const docLinkHtml = 'Like what you see? Visit the ' +\n",
              "          '<a target=\"_blank\" href=https://colab.research.google.com/notebooks/data_table.ipynb>data table notebook</a>'\n",
              "          + ' to learn more about interactive tables.';\n",
              "        element.innerHTML = '';\n",
              "        dataTable['output_type'] = 'display_data';\n",
              "        await google.colab.output.renderOutput(dataTable, element);\n",
              "        const docLink = document.createElement('div');\n",
              "        docLink.innerHTML = docLinkHtml;\n",
              "        element.appendChild(docLink);\n",
              "      }\n",
              "    </script>\n",
              "  </div>\n",
              "\n",
              "\n",
              "<div id=\"df-0e1d3de0-6e89-4dfe-8b2f-fa0b945dea4f\">\n",
              "  <button class=\"colab-df-quickchart\" onclick=\"quickchart('df-0e1d3de0-6e89-4dfe-8b2f-fa0b945dea4f')\"\n",
              "            title=\"Suggest charts\"\n",
              "            style=\"display:none;\">\n",
              "\n",
              "<svg xmlns=\"http://www.w3.org/2000/svg\" height=\"24px\"viewBox=\"0 0 24 24\"\n",
              "     width=\"24px\">\n",
              "    <g>\n",
              "        <path d=\"M19 3H5c-1.1 0-2 .9-2 2v14c0 1.1.9 2 2 2h14c1.1 0 2-.9 2-2V5c0-1.1-.9-2-2-2zM9 17H7v-7h2v7zm4 0h-2V7h2v10zm4 0h-2v-4h2v4z\"/>\n",
              "    </g>\n",
              "</svg>\n",
              "  </button>\n",
              "\n",
              "<style>\n",
              "  .colab-df-quickchart {\n",
              "      --bg-color: #E8F0FE;\n",
              "      --fill-color: #1967D2;\n",
              "      --hover-bg-color: #E2EBFA;\n",
              "      --hover-fill-color: #174EA6;\n",
              "      --disabled-fill-color: #AAA;\n",
              "      --disabled-bg-color: #DDD;\n",
              "  }\n",
              "\n",
              "  [theme=dark] .colab-df-quickchart {\n",
              "      --bg-color: #3B4455;\n",
              "      --fill-color: #D2E3FC;\n",
              "      --hover-bg-color: #434B5C;\n",
              "      --hover-fill-color: #FFFFFF;\n",
              "      --disabled-bg-color: #3B4455;\n",
              "      --disabled-fill-color: #666;\n",
              "  }\n",
              "\n",
              "  .colab-df-quickchart {\n",
              "    background-color: var(--bg-color);\n",
              "    border: none;\n",
              "    border-radius: 50%;\n",
              "    cursor: pointer;\n",
              "    display: none;\n",
              "    fill: var(--fill-color);\n",
              "    height: 32px;\n",
              "    padding: 0;\n",
              "    width: 32px;\n",
              "  }\n",
              "\n",
              "  .colab-df-quickchart:hover {\n",
              "    background-color: var(--hover-bg-color);\n",
              "    box-shadow: 0 1px 2px rgba(60, 64, 67, 0.3), 0 1px 3px 1px rgba(60, 64, 67, 0.15);\n",
              "    fill: var(--button-hover-fill-color);\n",
              "  }\n",
              "\n",
              "  .colab-df-quickchart-complete:disabled,\n",
              "  .colab-df-quickchart-complete:disabled:hover {\n",
              "    background-color: var(--disabled-bg-color);\n",
              "    fill: var(--disabled-fill-color);\n",
              "    box-shadow: none;\n",
              "  }\n",
              "\n",
              "  .colab-df-spinner {\n",
              "    border: 2px solid var(--fill-color);\n",
              "    border-color: transparent;\n",
              "    border-bottom-color: var(--fill-color);\n",
              "    animation:\n",
              "      spin 1s steps(1) infinite;\n",
              "  }\n",
              "\n",
              "  @keyframes spin {\n",
              "    0% {\n",
              "      border-color: transparent;\n",
              "      border-bottom-color: var(--fill-color);\n",
              "      border-left-color: var(--fill-color);\n",
              "    }\n",
              "    20% {\n",
              "      border-color: transparent;\n",
              "      border-left-color: var(--fill-color);\n",
              "      border-top-color: var(--fill-color);\n",
              "    }\n",
              "    30% {\n",
              "      border-color: transparent;\n",
              "      border-left-color: var(--fill-color);\n",
              "      border-top-color: var(--fill-color);\n",
              "      border-right-color: var(--fill-color);\n",
              "    }\n",
              "    40% {\n",
              "      border-color: transparent;\n",
              "      border-right-color: var(--fill-color);\n",
              "      border-top-color: var(--fill-color);\n",
              "    }\n",
              "    60% {\n",
              "      border-color: transparent;\n",
              "      border-right-color: var(--fill-color);\n",
              "    }\n",
              "    80% {\n",
              "      border-color: transparent;\n",
              "      border-right-color: var(--fill-color);\n",
              "      border-bottom-color: var(--fill-color);\n",
              "    }\n",
              "    90% {\n",
              "      border-color: transparent;\n",
              "      border-bottom-color: var(--fill-color);\n",
              "    }\n",
              "  }\n",
              "</style>\n",
              "\n",
              "  <script>\n",
              "    async function quickchart(key) {\n",
              "      const quickchartButtonEl =\n",
              "        document.querySelector('#' + key + ' button');\n",
              "      quickchartButtonEl.disabled = true;  // To prevent multiple clicks.\n",
              "      quickchartButtonEl.classList.add('colab-df-spinner');\n",
              "      try {\n",
              "        const charts = await google.colab.kernel.invokeFunction(\n",
              "            'suggestCharts', [key], {});\n",
              "      } catch (error) {\n",
              "        console.error('Error during call to suggestCharts:', error);\n",
              "      }\n",
              "      quickchartButtonEl.classList.remove('colab-df-spinner');\n",
              "      quickchartButtonEl.classList.add('colab-df-quickchart-complete');\n",
              "    }\n",
              "    (() => {\n",
              "      let quickchartButtonEl =\n",
              "        document.querySelector('#df-0e1d3de0-6e89-4dfe-8b2f-fa0b945dea4f button');\n",
              "      quickchartButtonEl.style.display =\n",
              "        google.colab.kernel.accessAllowed ? 'block' : 'none';\n",
              "    })();\n",
              "  </script>\n",
              "</div>\n",
              "    </div>\n",
              "  </div>\n"
            ]
          },
          "metadata": {},
          "execution_count": 5
        }
      ]
    },
    {
      "cell_type": "code",
      "source": [
        "MAX_LENGTH = 150\n",
        "FEATURES = 'response_post'"
      ],
      "metadata": {
        "id": "aAiGDP5-aJtj"
      },
      "execution_count": null,
      "outputs": []
    },
    {
      "cell_type": "code",
      "execution_count": null,
      "metadata": {
        "id": "ILHfhYBnnxzK"
      },
      "outputs": [],
      "source": [
        "def get_target_vectors(category):\n",
        "    y_train = pd.read_csv((train_path / f'y_{category}.csv'), delimiter=',')\n",
        "    y_val = pd.read_csv((val_path / f'y_{category}.csv'), delimiter=',')\n",
        "    y_test = pd.read_csv((test_path / f'y_{category}.csv'), delimiter=',')\n",
        "\n",
        "    y_train = y_train['empathy']\n",
        "    y_val = y_val['empathy']\n",
        "    y_test = y_test['empathy']\n",
        "\n",
        "    return y_train, y_val, y_test\n",
        "\n",
        "\n",
        "#no manual adjustment of token_type_ids; everything will be 0\n",
        "def csv_to_encodings(category, features=FEATURES, max_length=MAX_LENGTH):\n",
        "    #chunk and pad seeker_post, then add [SEP] to join with response_post\n",
        "\n",
        "    X_train = pd.read_csv(train_path / f'X_{category}.csv', delimiter=',')\n",
        "    X_train = X_train[features]\n",
        "    # X_train_combined = X_train.apply(prepare_text, axis=1)\n",
        "    train_encodings = albert_tokenizer(list(X_train), truncation=True, padding=True, max_length=max_length, return_tensors='tf')\n",
        "\n",
        "    X_val = pd.read_csv(val_path / f'X_{category}.csv', delimiter=',')\n",
        "    X_val = X_val[features]\n",
        "    # X_val_combined = X_val.apply(prepare_text, axis=1)\n",
        "    val_encodings = albert_tokenizer(list(X_val), truncation=True, padding=True, max_length=max_length, return_tensors='tf')\n",
        "\n",
        "    X_test = pd.read_csv(test_path / f'X_{category}.csv', delimiter=',')\n",
        "    X_test = X_test[features]\n",
        "    # X_test_combined = X_test.apply(prepare_text, axis=1)\n",
        "    test_encodings = albert_tokenizer(list(X_test), truncation=True, padding=True, max_length=max_length, return_tensors='tf')\n",
        "\n",
        "    return train_encodings, val_encodings, test_encodings"
      ]
    },
    {
      "cell_type": "markdown",
      "source": [
        "### chunking considerations"
      ],
      "metadata": {
        "id": "2FMT0_51YxXt"
      }
    },
    {
      "cell_type": "markdown",
      "source": [
        "## Models"
      ],
      "metadata": {
        "id": "-wFaTq164qM2"
      }
    },
    {
      "cell_type": "code",
      "execution_count": null,
      "metadata": {
        "id": "OQZn7ckjKZrh"
      },
      "outputs": [],
      "source": [
        "def create_albert_model(model=albert_model,max_length = MAX_LENGTH,\n",
        "                                 hidden_size = 100,\n",
        "                                 dropout=0.3,\n",
        "                                 learning_rate=0.0005):\n",
        "\n",
        "\n",
        "    model.trainable = False\n",
        "\n",
        "\n",
        "    input_ids = tf.keras.layers.Input(shape=(max_length,), dtype=tf.int64, name='input_ids_layer')\n",
        "    # token_type_ids = tf.keras.layers.Input(shape=(max_length,), dtype=tf.int64, name='token_type_ids_layer')\n",
        "    attention_mask = tf.keras.layers.Input(shape=(max_length,), dtype=tf.int64, name='attention_mask_layer')\n",
        "\n",
        "    albert_inputs = {'input_ids': input_ids,\n",
        "                #    'token_type_ids': token_type_ids,\n",
        "                   'attention_mask': attention_mask}\n",
        "\n",
        "    albert_out = model(albert_inputs)\n",
        "\n",
        "    #pooler_token = bert_out[1]\n",
        "    cls_token = albert_out[0][:, 0, :]\n",
        "\n",
        "    hidden = tf.keras.layers.Dense(hidden_size, activation='relu', name='hidden_layer')(cls_token)\n",
        "\n",
        "\n",
        "    hidden = tf.keras.layers.Dropout(dropout)(hidden)\n",
        "\n",
        "\n",
        "    classification = tf.keras.layers.Dense(1, activation='sigmoid',name='classification_layer')(hidden)\n",
        "\n",
        "    classification_model = tf.keras.Model(inputs=[input_ids, attention_mask], outputs=[classification])\n",
        "\n",
        "    classification_model.compile(optimizer=tf.keras.optimizers.Adam(learning_rate=learning_rate),\n",
        "                                 loss=tf.keras.losses.BinaryCrossentropy(),\n",
        "                                 metrics='accuracy')\n",
        "\n",
        "\n",
        "\n",
        "    return classification_model"
      ]
    },
    {
      "cell_type": "code",
      "source": [
        "def run_model(category):\n",
        "    y_train, y_val, y_test = get_target_vectors(category)\n",
        "\n",
        "    train_encodings, val_encodings, test_encodings = csv_to_encodings(category)\n",
        "\n",
        "    print(f'y_train value counts:\\n{y_train.value_counts()}')\n",
        "\n",
        "    print(f'train_encodings:\\n{train_encodings}')\n",
        "\n",
        "    classification = create_albert_model(model=albert_model)\n",
        "    classification_history = classification.fit([train_encodings.input_ids, train_encodings.attention_mask],\n",
        "                                                  y_train,\n",
        "                                                  validation_data=([val_encodings.input_ids, val_encodings.attention_mask],\n",
        "                                                  y_val),\n",
        "                                                  batch_size=8,\n",
        "                                                  epochs=10,\n",
        "                                                  #class_weight=class_weight\n",
        "                                                  )\n",
        "\n",
        "    metrics_columns = ['Category', 'Accuracy', 'Precision', 'Recall', 'F1 Score']\n",
        "\n",
        "    predictions = classification.predict([test_encodings.input_ids, test_encodings.attention_mask])\n",
        "    predictions = (predictions >= 0.5).astype(int)\n",
        "\n",
        "\n",
        "    accuracy = accuracy_score(y_test, predictions)\n",
        "    print(f\"accuracy for test: {accuracy}\")\n",
        "    recall = recall_score(y_test, predictions)\n",
        "    print(f\"recall for test: {recall}\")\n",
        "    precision = precision_score(y_test, predictions)\n",
        "    print(f\"precision for test: {precision}\")\n",
        "    f1 = f1_score(y_test, predictions)\n",
        "    print(f\"f1 score for test: {f1}\")\n",
        "\n",
        "    conf_matrix = confusion_matrix(y_test, predictions)\n",
        "    print(conf_matrix)\n",
        "\n",
        "    sns.set(font_scale=1.2)\n",
        "    plt.figure(figsize=(6, 5))\n",
        "    sns.heatmap(conf_matrix, annot=True, fmt='g', cmap='Blues', annot_kws={\"size\": 16}, cbar=False)\n",
        "    plt.xlabel('Predicted')\n",
        "    plt.ylabel('Actual')\n",
        "    plt.title(f'{category} Confusion Matrix')\n",
        "    plt.show()\n",
        "\n",
        "\n",
        "    metrics = {\n",
        "        'Category': f'{category}short',\n",
        "        'Accuracy': accuracy,\n",
        "        'Precision': precision,\n",
        "        'Recall': recall,\n",
        "        'F1 Score': f1\n",
        "    }\n",
        "    metrics = pd.DataFrame([metrics], columns=metrics_columns)\n",
        "    return metrics\n"
      ],
      "metadata": {
        "id": "azlxj1rNHeIA"
      },
      "execution_count": null,
      "outputs": []
    },
    {
      "cell_type": "code",
      "source": [
        "em_metrics = run_model('em')"
      ],
      "metadata": {
        "colab": {
          "base_uri": "https://localhost:8080/",
          "height": 1000
        },
        "id": "_mj4ZMlhxtxT",
        "outputId": "8017577f-7ae9-49ed-da8d-3aabdc3c4fa1"
      },
      "execution_count": null,
      "outputs": [
        {
          "output_type": "stream",
          "name": "stdout",
          "text": [
            "y_train value counts:\n",
            "0    629\n",
            "1    627\n",
            "Name: empathy, dtype: int64\n",
            "train_encodings:\n",
            "{'input_ids': <tf.Tensor: shape=(1256, 150), dtype=int32, numpy=\n",
            "array([[    2,    31,    22, ...,     0,     0,     0],\n",
            "       [    2,   101,  1288, ...,     0,     0,     0],\n",
            "       [    2,    14,  1246, ...,     0,     0,     0],\n",
            "       ...,\n",
            "       [    2,    42,    50, ...,     0,     0,     0],\n",
            "       [    2,    42,  9564, ..., 13169,    20,     3],\n",
            "       [    2,    30,    32, ...,     0,     0,     0]], dtype=int32)>, 'token_type_ids': <tf.Tensor: shape=(1256, 150), dtype=int32, numpy=\n",
            "array([[0, 0, 0, ..., 0, 0, 0],\n",
            "       [0, 0, 0, ..., 0, 0, 0],\n",
            "       [0, 0, 0, ..., 0, 0, 0],\n",
            "       ...,\n",
            "       [0, 0, 0, ..., 0, 0, 0],\n",
            "       [0, 0, 0, ..., 0, 0, 0],\n",
            "       [0, 0, 0, ..., 0, 0, 0]], dtype=int32)>, 'attention_mask': <tf.Tensor: shape=(1256, 150), dtype=int32, numpy=\n",
            "array([[1, 1, 1, ..., 0, 0, 0],\n",
            "       [1, 1, 1, ..., 0, 0, 0],\n",
            "       [1, 1, 1, ..., 0, 0, 0],\n",
            "       ...,\n",
            "       [1, 1, 1, ..., 0, 0, 0],\n",
            "       [1, 1, 1, ..., 1, 1, 1],\n",
            "       [1, 1, 1, ..., 0, 0, 0]], dtype=int32)>}\n",
            "Epoch 1/10\n",
            "157/157 [==============================] - 41s 134ms/step - loss: 0.6002 - accuracy: 0.7070 - val_loss: 0.4962 - val_accuracy: 0.7589\n",
            "Epoch 2/10\n",
            "157/157 [==============================] - 24s 152ms/step - loss: 0.4923 - accuracy: 0.7651 - val_loss: 0.4743 - val_accuracy: 0.7852\n",
            "Epoch 3/10\n",
            "157/157 [==============================] - 19s 122ms/step - loss: 0.4640 - accuracy: 0.7818 - val_loss: 0.4801 - val_accuracy: 0.7685\n",
            "Epoch 4/10\n",
            "157/157 [==============================] - 25s 158ms/step - loss: 0.4636 - accuracy: 0.7866 - val_loss: 0.4668 - val_accuracy: 0.7924\n",
            "Epoch 5/10\n",
            "157/157 [==============================] - 24s 154ms/step - loss: 0.4389 - accuracy: 0.8002 - val_loss: 0.4718 - val_accuracy: 0.7947\n",
            "Epoch 6/10\n",
            "157/157 [==============================] - 19s 121ms/step - loss: 0.4220 - accuracy: 0.8073 - val_loss: 0.5475 - val_accuracy: 0.7255\n",
            "Epoch 7/10\n",
            "157/157 [==============================] - 24s 156ms/step - loss: 0.3954 - accuracy: 0.8248 - val_loss: 0.4692 - val_accuracy: 0.7900\n",
            "Epoch 8/10\n",
            "157/157 [==============================] - 19s 122ms/step - loss: 0.3954 - accuracy: 0.8193 - val_loss: 0.4791 - val_accuracy: 0.7661\n",
            "Epoch 9/10\n",
            "157/157 [==============================] - 19s 122ms/step - loss: 0.3769 - accuracy: 0.8320 - val_loss: 0.4616 - val_accuracy: 0.8067\n",
            "Epoch 10/10\n",
            "157/157 [==============================] - 24s 155ms/step - loss: 0.3634 - accuracy: 0.8416 - val_loss: 0.4586 - val_accuracy: 0.7947\n",
            "14/14 [==============================] - 7s 324ms/step\n",
            "accuracy for test: 0.7613365155131265\n",
            "recall for test: 0.7910447761194029\n",
            "precision for test: 0.7327188940092166\n",
            "f1 score for test: 0.7607655502392344\n",
            "[[160  58]\n",
            " [ 42 159]]\n"
          ]
        },
        {
          "output_type": "display_data",
          "data": {
            "text/plain": [
              "<Figure size 600x500 with 1 Axes>"
            ],
            "image/png": "[encoded data removed]"
          },
          "metadata": {}
        }
      ]
    },
    {
      "cell_type": "code",
      "source": [
        "in_metrics = run_model('in')"
      ],
      "metadata": {
        "colab": {
          "base_uri": "https://localhost:8080/",
          "height": 1000
        },
        "id": "RKRwC9RA0cpJ",
        "outputId": "af54ec0d-21dc-43f2-c6a3-6bdc7241258b"
      },
      "execution_count": null,
      "outputs": [
        {
          "output_type": "stream",
          "name": "stdout",
          "text": [
            "y_train value counts:\n",
            "0    972\n",
            "1    878\n",
            "Name: empathy, dtype: int64\n",
            "train_encodings:\n",
            "{'input_ids': <tf.Tensor: shape=(1850, 150), dtype=int32, numpy=\n",
            "array([[   2, 1121,   15, ...,    0,    0,    0],\n",
            "       [   2,   57,   42, ...,    0,    0,    0],\n",
            "       [   2,   13,    1, ...,    8,    8,    3],\n",
            "       ...,\n",
            "       [   2,  205,    9, ...,    0,    0,    0],\n",
            "       [   2,   95,   22, ...,    0,    0,    0],\n",
            "       [   2, 2795,  101, ...,    0,    0,    0]], dtype=int32)>, 'token_type_ids': <tf.Tensor: shape=(1850, 150), dtype=int32, numpy=\n",
            "array([[0, 0, 0, ..., 0, 0, 0],\n",
            "       [0, 0, 0, ..., 0, 0, 0],\n",
            "       [0, 0, 0, ..., 0, 0, 0],\n",
            "       ...,\n",
            "       [0, 0, 0, ..., 0, 0, 0],\n",
            "       [0, 0, 0, ..., 0, 0, 0],\n",
            "       [0, 0, 0, ..., 0, 0, 0]], dtype=int32)>, 'attention_mask': <tf.Tensor: shape=(1850, 150), dtype=int32, numpy=\n",
            "array([[1, 1, 1, ..., 0, 0, 0],\n",
            "       [1, 1, 1, ..., 0, 0, 0],\n",
            "       [1, 1, 1, ..., 1, 1, 1],\n",
            "       ...,\n",
            "       [1, 1, 1, ..., 0, 0, 0],\n",
            "       [1, 1, 1, ..., 0, 0, 0],\n",
            "       [1, 1, 1, ..., 0, 0, 0]], dtype=int32)>}\n",
            "Epoch 1/10\n",
            "232/232 [==============================] - 50s 160ms/step - loss: 0.5590 - accuracy: 0.7200 - val_loss: 0.5005 - val_accuracy: 0.7634\n",
            "Epoch 2/10\n",
            "232/232 [==============================] - 34s 148ms/step - loss: 0.4724 - accuracy: 0.7703 - val_loss: 0.4847 - val_accuracy: 0.7747\n",
            "Epoch 3/10\n",
            "232/232 [==============================] - 32s 137ms/step - loss: 0.4373 - accuracy: 0.7930 - val_loss: 0.5215 - val_accuracy: 0.7569\n",
            "Epoch 4/10\n",
            "232/232 [==============================] - 32s 137ms/step - loss: 0.4256 - accuracy: 0.8059 - val_loss: 0.5281 - val_accuracy: 0.7374\n",
            "Epoch 5/10\n",
            "232/232 [==============================] - 34s 148ms/step - loss: 0.4012 - accuracy: 0.8097 - val_loss: 0.4585 - val_accuracy: 0.7942\n",
            "Epoch 6/10\n",
            "232/232 [==============================] - 34s 148ms/step - loss: 0.3888 - accuracy: 0.8357 - val_loss: 0.4674 - val_accuracy: 0.7877\n",
            "Epoch 7/10\n",
            "232/232 [==============================] - 35s 149ms/step - loss: 0.3747 - accuracy: 0.8341 - val_loss: 0.4608 - val_accuracy: 0.7925\n",
            "Epoch 8/10\n",
            "232/232 [==============================] - 34s 148ms/step - loss: 0.3546 - accuracy: 0.8384 - val_loss: 0.4497 - val_accuracy: 0.7990\n",
            "Epoch 9/10\n",
            "232/232 [==============================] - 32s 136ms/step - loss: 0.3638 - accuracy: 0.8362 - val_loss: 0.4838 - val_accuracy: 0.7715\n",
            "Epoch 10/10\n",
            "232/232 [==============================] - 34s 147ms/step - loss: 0.3483 - accuracy: 0.8422 - val_loss: 0.4892 - val_accuracy: 0.7877\n",
            "20/20 [==============================] - 9s 340ms/step\n",
            "accuracy for test: 0.8233387358184765\n",
            "recall for test: 0.7132867132867133\n",
            "precision for test: 0.8831168831168831\n",
            "f1 score for test: 0.7891682785299807\n",
            "[[304  27]\n",
            " [ 82 204]]\n"
          ]
        },
        {
          "output_type": "display_data",
          "data": {
            "text/plain": [
              "<Figure size 600x500 with 1 Axes>"
            ],
            "image/png": "[encoded data removed]"
          },
          "metadata": {}
        }
      ]
    },
    {
      "cell_type": "code",
      "source": [
        "ex_metrics = run_model('ex')"
      ],
      "metadata": {
        "colab": {
          "base_uri": "https://localhost:8080/",
          "height": 1000
        },
        "id": "qR8XNP4i0dNn",
        "outputId": "fd2947a7-b6bc-4afb-f39c-020033507b0b"
      },
      "execution_count": null,
      "outputs": [
        {
          "output_type": "stream",
          "name": "stdout",
          "text": [
            "y_train value counts:\n",
            "1    294\n",
            "0    282\n",
            "Name: empathy, dtype: int64\n",
            "train_encodings:\n",
            "{'input_ids': <tf.Tensor: shape=(576, 150), dtype=int32, numpy=\n",
            "array([[   2,   31, 2610, ...,    0,    0,    0],\n",
            "       [   2,   90,  221, ...,    0,    0,    0],\n",
            "       [   2, 6200,   15, ...,    0,    0,    0],\n",
            "       ...,\n",
            "       [   2, 1643,  938, ...,    0,    0,    0],\n",
            "       [   2,   32,  230, ...,    0,    0,    0],\n",
            "       [   2, 4148,  860, ...,   16, 2669,    3]], dtype=int32)>, 'token_type_ids': <tf.Tensor: shape=(576, 150), dtype=int32, numpy=\n",
            "array([[0, 0, 0, ..., 0, 0, 0],\n",
            "       [0, 0, 0, ..., 0, 0, 0],\n",
            "       [0, 0, 0, ..., 0, 0, 0],\n",
            "       ...,\n",
            "       [0, 0, 0, ..., 0, 0, 0],\n",
            "       [0, 0, 0, ..., 0, 0, 0],\n",
            "       [0, 0, 0, ..., 0, 0, 0]], dtype=int32)>, 'attention_mask': <tf.Tensor: shape=(576, 150), dtype=int32, numpy=\n",
            "array([[1, 1, 1, ..., 0, 0, 0],\n",
            "       [1, 1, 1, ..., 0, 0, 0],\n",
            "       [1, 1, 1, ..., 0, 0, 0],\n",
            "       ...,\n",
            "       [1, 1, 1, ..., 0, 0, 0],\n",
            "       [1, 1, 1, ..., 0, 0, 0],\n",
            "       [1, 1, 1, ..., 1, 1, 1]], dtype=int32)>}\n",
            "Epoch 1/10\n",
            "72/72 [==============================] - 16s 146ms/step - loss: 0.4774 - accuracy: 0.7656 - val_loss: 0.3478 - val_accuracy: 0.8438\n",
            "Epoch 2/10\n",
            "72/72 [==============================] - 9s 125ms/step - loss: 0.3310 - accuracy: 0.8507 - val_loss: 0.3303 - val_accuracy: 0.8438\n",
            "Epoch 3/10\n",
            "72/72 [==============================] - 9s 121ms/step - loss: 0.2819 - accuracy: 0.8819 - val_loss: 0.3269 - val_accuracy: 0.8802\n",
            "Epoch 4/10\n",
            "72/72 [==============================] - 9s 127ms/step - loss: 0.2695 - accuracy: 0.8819 - val_loss: 0.3310 - val_accuracy: 0.8385\n",
            "Epoch 5/10\n",
            "72/72 [==============================] - 9s 127ms/step - loss: 0.2082 - accuracy: 0.9219 - val_loss: 0.3279 - val_accuracy: 0.8542\n",
            "Epoch 6/10\n",
            "72/72 [==============================] - 9s 120ms/step - loss: 0.2107 - accuracy: 0.9167 - val_loss: 0.3043 - val_accuracy: 0.8698\n",
            "Epoch 7/10\n",
            "72/72 [==============================] - 8s 117ms/step - loss: 0.1937 - accuracy: 0.9219 - val_loss: 0.3319 - val_accuracy: 0.8490\n",
            "Epoch 8/10\n",
            "72/72 [==============================] - 9s 125ms/step - loss: 0.1926 - accuracy: 0.9201 - val_loss: 0.3799 - val_accuracy: 0.8385\n",
            "Epoch 9/10\n",
            "72/72 [==============================] - 8s 116ms/step - loss: 0.1830 - accuracy: 0.9184 - val_loss: 0.3596 - val_accuracy: 0.8542\n",
            "Epoch 10/10\n",
            "72/72 [==============================] - 8s 118ms/step - loss: 0.1618 - accuracy: 0.9392 - val_loss: 0.3177 - val_accuracy: 0.8698\n",
            "6/6 [==============================] - 3s 335ms/step\n",
            "accuracy for test: 0.9270833333333334\n",
            "recall for test: 0.9120879120879121\n",
            "precision for test: 0.9325842696629213\n",
            "f1 score for test: 0.9222222222222223\n",
            "[[95  6]\n",
            " [ 8 83]]\n"
          ]
        },
        {
          "output_type": "display_data",
          "data": {
            "text/plain": [
              "<Figure size 600x500 with 1 Axes>"
            ],
            "image/png": "[encoded data removed]"
          },
          "metadata": {}
        }
      ]
    },
    {
      "cell_type": "code",
      "source": [
        "ex_aug_metrics = run_model('ex_aug')"
      ],
      "metadata": {
        "colab": {
          "base_uri": "https://localhost:8080/",
          "height": 1000
        },
        "id": "KlNZcM5V0dZW",
        "outputId": "801d620a-a7d6-4d7d-d307-dec912807d4b"
      },
      "execution_count": null,
      "outputs": [
        {
          "output_type": "stream",
          "name": "stdout",
          "text": [
            "y_train value counts:\n",
            "1    498\n",
            "0    486\n",
            "Name: empathy, dtype: int64\n",
            "train_encodings:\n",
            "{'input_ids': <tf.Tensor: shape=(984, 150), dtype=int32, numpy=\n",
            "array([[    2,    98,  1364, ...,     0,     0,     0],\n",
            "       [    2, 10975,   187, ...,     0,     0,     0],\n",
            "       [    2,    48,  1301, ...,     0,     0,     0],\n",
            "       ...,\n",
            "       [    2,   184,   129, ...,     0,     0,     0],\n",
            "       [    2,    31,  4524, ...,     0,     0,     0],\n",
            "       [    2,   184,   315, ...,     0,     0,     0]], dtype=int32)>, 'token_type_ids': <tf.Tensor: shape=(984, 150), dtype=int32, numpy=\n",
            "array([[0, 0, 0, ..., 0, 0, 0],\n",
            "       [0, 0, 0, ..., 0, 0, 0],\n",
            "       [0, 0, 0, ..., 0, 0, 0],\n",
            "       ...,\n",
            "       [0, 0, 0, ..., 0, 0, 0],\n",
            "       [0, 0, 0, ..., 0, 0, 0],\n",
            "       [0, 0, 0, ..., 0, 0, 0]], dtype=int32)>, 'attention_mask': <tf.Tensor: shape=(984, 150), dtype=int32, numpy=\n",
            "array([[1, 1, 1, ..., 0, 0, 0],\n",
            "       [1, 1, 1, ..., 0, 0, 0],\n",
            "       [1, 1, 1, ..., 0, 0, 0],\n",
            "       ...,\n",
            "       [1, 1, 1, ..., 0, 0, 0],\n",
            "       [1, 1, 1, ..., 0, 0, 0],\n",
            "       [1, 1, 1, ..., 0, 0, 0]], dtype=int32)>}\n",
            "Epoch 1/10\n",
            "123/123 [==============================] - 27s 151ms/step - loss: 0.4763 - accuracy: 0.7632 - val_loss: 0.2754 - val_accuracy: 0.9024\n",
            "Epoch 2/10\n",
            "123/123 [==============================] - 15s 122ms/step - loss: 0.3333 - accuracy: 0.8648 - val_loss: 0.2492 - val_accuracy: 0.8841\n",
            "Epoch 3/10\n",
            "123/123 [==============================] - 15s 121ms/step - loss: 0.2569 - accuracy: 0.9065 - val_loss: 0.2242 - val_accuracy: 0.8963\n",
            "Epoch 4/10\n",
            "123/123 [==============================] - 16s 131ms/step - loss: 0.2423 - accuracy: 0.9055 - val_loss: 0.2260 - val_accuracy: 0.9177\n",
            "Epoch 5/10\n",
            "123/123 [==============================] - 14s 117ms/step - loss: 0.2098 - accuracy: 0.9248 - val_loss: 0.2401 - val_accuracy: 0.9116\n",
            "Epoch 6/10\n",
            "123/123 [==============================] - 16s 130ms/step - loss: 0.1993 - accuracy: 0.9289 - val_loss: 0.2155 - val_accuracy: 0.9146\n",
            "Epoch 7/10\n",
            "123/123 [==============================] - 14s 118ms/step - loss: 0.1684 - accuracy: 0.9451 - val_loss: 0.2023 - val_accuracy: 0.9177\n",
            "Epoch 8/10\n",
            "123/123 [==============================] - 16s 131ms/step - loss: 0.1801 - accuracy: 0.9380 - val_loss: 0.2284 - val_accuracy: 0.9055\n",
            "Epoch 9/10\n",
            "123/123 [==============================] - 16s 131ms/step - loss: 0.1621 - accuracy: 0.9431 - val_loss: 0.2588 - val_accuracy: 0.8750\n",
            "Epoch 10/10\n",
            "123/123 [==============================] - 14s 117ms/step - loss: 0.1505 - accuracy: 0.9472 - val_loss: 0.2017 - val_accuracy: 0.9116\n",
            "11/11 [==============================] - 6s 327ms/step\n",
            "accuracy for test: 0.8963414634146342\n",
            "recall for test: 0.881578947368421\n",
            "precision for test: 0.8933333333333333\n",
            "f1 score for test: 0.8874172185430463\n",
            "[[160  16]\n",
            " [ 18 134]]\n"
          ]
        },
        {
          "output_type": "display_data",
          "data": {
            "text/plain": [
              "<Figure size 600x500 with 1 Axes>"
            ],
            "image/png": "[encoded data removed]"
          },
          "metadata": {}
        }
      ]
    },
    {
      "cell_type": "code",
      "source": [
        "metrics = pd.concat([em_metrics, in_metrics, ex_metrics, ex_aug_metrics], ignore_index=True)\n",
        "print('AlBERT Metrics')\n",
        "display(metrics)"
      ],
      "metadata": {
        "colab": {
          "base_uri": "https://localhost:8080/",
          "height": 192
        },
        "id": "ymh_6Wfx3ExX",
        "outputId": "1ed249c0-91f8-4879-92de-8fffcc05777e"
      },
      "execution_count": null,
      "outputs": [
        {
          "output_type": "stream",
          "name": "stdout",
          "text": [
            "AlBERT Metrics\n"
          ]
        },
        {
          "output_type": "display_data",
          "data": {
            "text/plain": [
              "      Category  Accuracy  Precision    Recall  F1 Score\n",
              "0      emshort  0.761337   0.732719  0.791045  0.760766\n",
              "1      inshort  0.823339   0.883117  0.713287  0.789168\n",
              "2      exshort  0.927083   0.932584  0.912088  0.922222\n",
              "3  ex_augshort  0.896341   0.893333  0.881579  0.887417"
            ],
            "text/html": [
              "\n",
              "  <div id=\"df-d564d9b3-316e-4234-9bdc-8f43fc971cdd\" class=\"colab-df-container\">\n",
              "    <div>\n",
              "<style scoped>\n",
              "    .dataframe tbody tr th:only-of-type {\n",
              "        vertical-align: middle;\n",
              "    }\n",
              "\n",
              "    .dataframe tbody tr th {\n",
              "        vertical-align: top;\n",
              "    }\n",
              "\n",
              "    .dataframe thead th {\n",
              "        text-align: right;\n",
              "    }\n",
              "</style>\n",
              "<table border=\"1\" class=\"dataframe\">\n",
              "  <thead>\n",
              "    <tr style=\"text-align: right;\">\n",
              "      <th></th>\n",
              "      <th>Category</th>\n",
              "      <th>Accuracy</th>\n",
              "      <th>Precision</th>\n",
              "      <th>Recall</th>\n",
              "      <th>F1 Score</th>\n",
              "    </tr>\n",
              "  </thead>\n",
              "  <tbody>\n",
              "    <tr>\n",
              "      <th>0</th>\n",
              "      <td>emshort</td>\n",
              "      <td>0.761337</td>\n",
              "      <td>0.732719</td>\n",
              "      <td>0.791045</td>\n",
              "      <td>0.760766</td>\n",
              "    </tr>\n",
              "    <tr>\n",
              "      <th>1</th>\n",
              "      <td>inshort</td>\n",
              "      <td>0.823339</td>\n",
              "      <td>0.883117</td>\n",
              "      <td>0.713287</td>\n",
              "      <td>0.789168</td>\n",
              "    </tr>\n",
              "    <tr>\n",
              "      <th>2</th>\n",
              "      <td>exshort</td>\n",
              "      <td>0.927083</td>\n",
              "      <td>0.932584</td>\n",
              "      <td>0.912088</td>\n",
              "      <td>0.922222</td>\n",
              "    </tr>\n",
              "    <tr>\n",
              "      <th>3</th>\n",
              "      <td>ex_augshort</td>\n",
              "      <td>0.896341</td>\n",
              "      <td>0.893333</td>\n",
              "      <td>0.881579</td>\n",
              "      <td>0.887417</td>\n",
              "    </tr>\n",
              "  </tbody>\n",
              "</table>\n",
              "</div>\n",
              "    <div class=\"colab-df-buttons\">\n",
              "\n",
              "  <div class=\"colab-df-container\">\n",
              "    <button class=\"colab-df-convert\" onclick=\"convertToInteractive('df-d564d9b3-316e-4234-9bdc-8f43fc971cdd')\"\n",
              "            title=\"Convert this dataframe to an interactive table.\"\n",
              "            style=\"display:none;\">\n",
              "\n",
              "  <svg xmlns=\"http://www.w3.org/2000/svg\" height=\"24px\" viewBox=\"0 -960 960 960\">\n",
              "    <path d=\"M120-120v-720h720v720H120Zm60-500h600v-160H180v160Zm220 220h160v-160H400v160Zm0 220h160v-160H400v160ZM180-400h160v-160H180v160Zm440 0h160v-160H620v160ZM180-180h160v-160H180v160Zm440 0h160v-160H620v160Z\"/>\n",
              "  </svg>\n",
              "    </button>\n",
              "\n",
              "  <style>\n",
              "    .colab-df-container {\n",
              "      display:flex;\n",
              "      gap: 12px;\n",
              "    }\n",
              "\n",
              "    .colab-df-convert {\n",
              "      background-color: #E8F0FE;\n",
              "      border: none;\n",
              "      border-radius: 50%;\n",
              "      cursor: pointer;\n",
              "      display: none;\n",
              "      fill: #1967D2;\n",
              "      height: 32px;\n",
              "      padding: 0 0 0 0;\n",
              "      width: 32px;\n",
              "    }\n",
              "\n",
              "    .colab-df-convert:hover {\n",
              "      background-color: #E2EBFA;\n",
              "      box-shadow: 0px 1px 2px rgba(60, 64, 67, 0.3), 0px 1px 3px 1px rgba(60, 64, 67, 0.15);\n",
              "      fill: #174EA6;\n",
              "    }\n",
              "\n",
              "    .colab-df-buttons div {\n",
              "      margin-bottom: 4px;\n",
              "    }\n",
              "\n",
              "    [theme=dark] .colab-df-convert {\n",
              "      background-color: #3B4455;\n",
              "      fill: #D2E3FC;\n",
              "    }\n",
              "\n",
              "    [theme=dark] .colab-df-convert:hover {\n",
              "      background-color: #434B5C;\n",
              "      box-shadow: 0px 1px 3px 1px rgba(0, 0, 0, 0.15);\n",
              "      filter: drop-shadow(0px 1px 2px rgba(0, 0, 0, 0.3));\n",
              "      fill: #FFFFFF;\n",
              "    }\n",
              "  </style>\n",
              "\n",
              "    <script>\n",
              "      const buttonEl =\n",
              "        document.querySelector('#df-d564d9b3-316e-4234-9bdc-8f43fc971cdd button.colab-df-convert');\n",
              "      buttonEl.style.display =\n",
              "        google.colab.kernel.accessAllowed ? 'block' : 'none';\n",
              "\n",
              "      async function convertToInteractive(key) {\n",
              "        const element = document.querySelector('#df-d564d9b3-316e-4234-9bdc-8f43fc971cdd');\n",
              "        const dataTable =\n",
              "          await google.colab.kernel.invokeFunction('convertToInteractive',\n",
              "                                                    [key], {});\n",
              "        if (!dataTable) return;\n",
              "\n",
              "        const docLinkHtml = 'Like what you see? Visit the ' +\n",
              "          '<a target=\"_blank\" href=https://colab.research.google.com/notebooks/data_table.ipynb>data table notebook</a>'\n",
              "          + ' to learn more about interactive tables.';\n",
              "        element.innerHTML = '';\n",
              "        dataTable['output_type'] = 'display_data';\n",
              "        await google.colab.output.renderOutput(dataTable, element);\n",
              "        const docLink = document.createElement('div');\n",
              "        docLink.innerHTML = docLinkHtml;\n",
              "        element.appendChild(docLink);\n",
              "      }\n",
              "    </script>\n",
              "  </div>\n",
              "\n",
              "\n",
              "<div id=\"df-0e2c77e4-b2b0-45eb-822d-bfb7d1d30da8\">\n",
              "  <button class=\"colab-df-quickchart\" onclick=\"quickchart('df-0e2c77e4-b2b0-45eb-822d-bfb7d1d30da8')\"\n",
              "            title=\"Suggest charts\"\n",
              "            style=\"display:none;\">\n",
              "\n",
              "<svg xmlns=\"http://www.w3.org/2000/svg\" height=\"24px\"viewBox=\"0 0 24 24\"\n",
              "     width=\"24px\">\n",
              "    <g>\n",
              "        <path d=\"M19 3H5c-1.1 0-2 .9-2 2v14c0 1.1.9 2 2 2h14c1.1 0 2-.9 2-2V5c0-1.1-.9-2-2-2zM9 17H7v-7h2v7zm4 0h-2V7h2v10zm4 0h-2v-4h2v4z\"/>\n",
              "    </g>\n",
              "</svg>\n",
              "  </button>\n",
              "\n",
              "<style>\n",
              "  .colab-df-quickchart {\n",
              "      --bg-color: #E8F0FE;\n",
              "      --fill-color: #1967D2;\n",
              "      --hover-bg-color: #E2EBFA;\n",
              "      --hover-fill-color: #174EA6;\n",
              "      --disabled-fill-color: #AAA;\n",
              "      --disabled-bg-color: #DDD;\n",
              "  }\n",
              "\n",
              "  [theme=dark] .colab-df-quickchart {\n",
              "      --bg-color: #3B4455;\n",
              "      --fill-color: #D2E3FC;\n",
              "      --hover-bg-color: #434B5C;\n",
              "      --hover-fill-color: #FFFFFF;\n",
              "      --disabled-bg-color: #3B4455;\n",
              "      --disabled-fill-color: #666;\n",
              "  }\n",
              "\n",
              "  .colab-df-quickchart {\n",
              "    background-color: var(--bg-color);\n",
              "    border: none;\n",
              "    border-radius: 50%;\n",
              "    cursor: pointer;\n",
              "    display: none;\n",
              "    fill: var(--fill-color);\n",
              "    height: 32px;\n",
              "    padding: 0;\n",
              "    width: 32px;\n",
              "  }\n",
              "\n",
              "  .colab-df-quickchart:hover {\n",
              "    background-color: var(--hover-bg-color);\n",
              "    box-shadow: 0 1px 2px rgba(60, 64, 67, 0.3), 0 1px 3px 1px rgba(60, 64, 67, 0.15);\n",
              "    fill: var(--button-hover-fill-color);\n",
              "  }\n",
              "\n",
              "  .colab-df-quickchart-complete:disabled,\n",
              "  .colab-df-quickchart-complete:disabled:hover {\n",
              "    background-color: var(--disabled-bg-color);\n",
              "    fill: var(--disabled-fill-color);\n",
              "    box-shadow: none;\n",
              "  }\n",
              "\n",
              "  .colab-df-spinner {\n",
              "    border: 2px solid var(--fill-color);\n",
              "    border-color: transparent;\n",
              "    border-bottom-color: var(--fill-color);\n",
              "    animation:\n",
              "      spin 1s steps(1) infinite;\n",
              "  }\n",
              "\n",
              "  @keyframes spin {\n",
              "    0% {\n",
              "      border-color: transparent;\n",
              "      border-bottom-color: var(--fill-color);\n",
              "      border-left-color: var(--fill-color);\n",
              "    }\n",
              "    20% {\n",
              "      border-color: transparent;\n",
              "      border-left-color: var(--fill-color);\n",
              "      border-top-color: var(--fill-color);\n",
              "    }\n",
              "    30% {\n",
              "      border-color: transparent;\n",
              "      border-left-color: var(--fill-color);\n",
              "      border-top-color: var(--fill-color);\n",
              "      border-right-color: var(--fill-color);\n",
              "    }\n",
              "    40% {\n",
              "      border-color: transparent;\n",
              "      border-right-color: var(--fill-color);\n",
              "      border-top-color: var(--fill-color);\n",
              "    }\n",
              "    60% {\n",
              "      border-color: transparent;\n",
              "      border-right-color: var(--fill-color);\n",
              "    }\n",
              "    80% {\n",
              "      border-color: transparent;\n",
              "      border-right-color: var(--fill-color);\n",
              "      border-bottom-color: var(--fill-color);\n",
              "    }\n",
              "    90% {\n",
              "      border-color: transparent;\n",
              "      border-bottom-color: var(--fill-color);\n",
              "    }\n",
              "  }\n",
              "</style>\n",
              "\n",
              "  <script>\n",
              "    async function quickchart(key) {\n",
              "      const quickchartButtonEl =\n",
              "        document.querySelector('#' + key + ' button');\n",
              "      quickchartButtonEl.disabled = true;  // To prevent multiple clicks.\n",
              "      quickchartButtonEl.classList.add('colab-df-spinner');\n",
              "      try {\n",
              "        const charts = await google.colab.kernel.invokeFunction(\n",
              "            'suggestCharts', [key], {});\n",
              "      } catch (error) {\n",
              "        console.error('Error during call to suggestCharts:', error);\n",
              "      }\n",
              "      quickchartButtonEl.classList.remove('colab-df-spinner');\n",
              "      quickchartButtonEl.classList.add('colab-df-quickchart-complete');\n",
              "    }\n",
              "    (() => {\n",
              "      let quickchartButtonEl =\n",
              "        document.querySelector('#df-0e2c77e4-b2b0-45eb-822d-bfb7d1d30da8 button');\n",
              "      quickchartButtonEl.style.display =\n",
              "        google.colab.kernel.accessAllowed ? 'block' : 'none';\n",
              "    })();\n",
              "  </script>\n",
              "</div>\n",
              "    </div>\n",
              "  </div>\n"
            ]
          },
          "metadata": {}
        }
      ]
    },
    {
      "cell_type": "markdown",
      "metadata": {
        "id": "AQjPGMm9EqTM"
      },
      "source": [
        "# EM binary prediction with BERT (seeker + response)"
      ]
    },
    {
      "cell_type": "code",
      "execution_count": null,
      "metadata": {
        "id": "OTBtDP3bQB6s",
        "colab": {
          "base_uri": "https://localhost:8080/"
        },
        "outputId": "55ec66fc-219b-48dd-a867-d6b833c10186"
      },
      "outputs": [
        {
          "output_type": "execute_result",
          "data": {
            "text/plain": [
              "0    629\n",
              "1    627\n",
              "Name: empathy, dtype: int64"
            ]
          },
          "metadata": {},
          "execution_count": 10
        }
      ],
      "source": [
        "y_em_train, y_em_val, y_em_test = get_target_vectors('em')\n",
        "y_em_train.value_counts()"
      ]
    },
    {
      "cell_type": "code",
      "execution_count": null,
      "metadata": {
        "colab": {
          "base_uri": "https://localhost:8080/"
        },
        "id": "97-W3-Ah_m-4",
        "outputId": "e372b538-d8d0-4246-ee6c-9b25e36db3cc"
      },
      "outputs": [
        {
          "output_type": "execute_result",
          "data": {
            "text/plain": [
              "{'input_ids': <tf.Tensor: shape=(1256, 240), dtype=int32, numpy=\n",
              "array([[ 101,  146,  112, ...,    0,    0,    0],\n",
              "       [ 101, 1176, 2288, ...,    0,    0,    0],\n",
              "       [ 101, 1109, 2501, ...,    0,    0,    0],\n",
              "       ...,\n",
              "       [ 101, 1192, 1132, ...,    0,    0,    0],\n",
              "       [ 101, 1128, 9424, ...,    0,    0,    0],\n",
              "       [ 101, 1337, 1122, ...,    0,    0,    0]], dtype=int32)>, 'token_type_ids': <tf.Tensor: shape=(1256, 240), dtype=int32, numpy=\n",
              "array([[0, 0, 0, ..., 0, 0, 0],\n",
              "       [0, 0, 0, ..., 0, 0, 0],\n",
              "       [0, 0, 0, ..., 0, 0, 0],\n",
              "       ...,\n",
              "       [0, 0, 0, ..., 0, 0, 0],\n",
              "       [0, 0, 0, ..., 0, 0, 0],\n",
              "       [0, 0, 0, ..., 0, 0, 0]], dtype=int32)>, 'attention_mask': <tf.Tensor: shape=(1256, 240), dtype=int32, numpy=\n",
              "array([[1, 1, 1, ..., 0, 0, 0],\n",
              "       [1, 1, 1, ..., 0, 0, 0],\n",
              "       [1, 1, 1, ..., 0, 0, 0],\n",
              "       ...,\n",
              "       [1, 1, 1, ..., 0, 0, 0],\n",
              "       [1, 1, 1, ..., 0, 0, 0],\n",
              "       [1, 1, 1, ..., 0, 0, 0]], dtype=int32)>}"
            ]
          },
          "metadata": {},
          "execution_count": 11
        }
      ],
      "source": [
        "train_em_encodings, val_em_encodings, test_em_encodings = csv_to_encodings('em')\n",
        "train_em_encodings"
      ]
    },
    {
      "cell_type": "code",
      "execution_count": null,
      "metadata": {
        "colab": {
          "base_uri": "https://localhost:8080/"
        },
        "id": "043xHIgDKZe8",
        "outputId": "310c0e59-9077-4d89-db7d-239dad08dab2"
      },
      "outputs": [
        {
          "output_type": "stream",
          "name": "stdout",
          "text": [
            "Epoch 1/10\n",
            "157/157 [==============================] - 47s 228ms/step - loss: 0.5677 - accuracy: 0.7046 - val_loss: 0.4872 - val_accuracy: 0.7637\n",
            "Epoch 2/10\n",
            "157/157 [==============================] - 36s 227ms/step - loss: 0.4857 - accuracy: 0.7691 - val_loss: 0.4820 - val_accuracy: 0.7900\n",
            "Epoch 3/10\n",
            "157/157 [==============================] - 34s 217ms/step - loss: 0.4789 - accuracy: 0.7763 - val_loss: 0.5455 - val_accuracy: 0.7232\n",
            "Epoch 4/10\n",
            "157/157 [==============================] - 31s 200ms/step - loss: 0.4725 - accuracy: 0.7779 - val_loss: 0.4667 - val_accuracy: 0.7852\n",
            "Epoch 5/10\n",
            "157/157 [==============================] - 32s 203ms/step - loss: 0.4511 - accuracy: 0.7906 - val_loss: 0.4674 - val_accuracy: 0.7757\n",
            "Epoch 6/10\n",
            "157/157 [==============================] - 34s 215ms/step - loss: 0.4470 - accuracy: 0.7771 - val_loss: 0.4730 - val_accuracy: 0.7900\n",
            "Epoch 7/10\n",
            "157/157 [==============================] - 34s 217ms/step - loss: 0.4381 - accuracy: 0.7858 - val_loss: 0.4811 - val_accuracy: 0.7947\n",
            "Epoch 8/10\n",
            "157/157 [==============================] - 34s 219ms/step - loss: 0.4262 - accuracy: 0.7906 - val_loss: 0.4586 - val_accuracy: 0.7876\n",
            "Epoch 9/10\n",
            "157/157 [==============================] - 32s 201ms/step - loss: 0.4294 - accuracy: 0.7954 - val_loss: 0.4646 - val_accuracy: 0.7852\n",
            "Epoch 10/10\n",
            "157/157 [==============================] - 34s 217ms/step - loss: 0.4112 - accuracy: 0.8073 - val_loss: 0.4662 - val_accuracy: 0.7852\n"
          ]
        }
      ],
      "source": [
        "em_classification = create_bert_binary_model(bert_model=bert_model)\n",
        "em_classification_history = em_classification.fit([train_em_encodings.input_ids, train_em_encodings.token_type_ids, train_em_encodings.attention_mask],\n",
        "                                                  y_em_train,\n",
        "                                                  validation_data=([val_em_encodings.input_ids, val_em_encodings.token_type_ids, val_em_encodings.attention_mask],\n",
        "                                                  y_em_val),\n",
        "                                                  batch_size=8,\n",
        "                                                  epochs=10,\n",
        "                                                  #class_weight=class_weight_em\n",
        "                                                  )"
      ]
    },
    {
      "cell_type": "code",
      "execution_count": null,
      "metadata": {
        "id": "CPc70qLBMkHK",
        "colab": {
          "base_uri": "https://localhost:8080/"
        },
        "outputId": "7ad17d48-07a6-486b-8f32-c57d6df1f876"
      },
      "outputs": [
        {
          "output_type": "stream",
          "name": "stdout",
          "text": [
            "14/14 [==============================] - 10s 517ms/step\n"
          ]
        }
      ],
      "source": [
        "predictions_em = em_classification.predict([test_em_encodings.input_ids, test_em_encodings.token_type_ids, test_em_encodings.attention_mask])\n",
        "predictions_em = (predictions_em >= 0.5).astype(int)"
      ]
    },
    {
      "cell_type": "code",
      "execution_count": null,
      "metadata": {
        "id": "D3aCZiPFO1zG",
        "colab": {
          "base_uri": "https://localhost:8080/"
        },
        "outputId": "6c6e6ac0-3ab6-4a24-eb04-d7c65637ab6b"
      },
      "outputs": [
        {
          "output_type": "stream",
          "name": "stdout",
          "text": [
            "accuracy for test: 0.7852028639618138\n",
            "recall for test: 0.8109452736318408\n",
            "precision for test: 0.7581395348837209\n",
            "f1 score for test: 0.783653846153846\n"
          ]
        }
      ],
      "source": [
        "accuracy_em = accuracy_score(y_em_test, predictions_em)\n",
        "print(f\"accuracy for test: {accuracy_em}\")\n",
        "recall_em = recall_score(y_em_test, predictions_em)\n",
        "print(f\"recall for test: {recall_em}\")\n",
        "precision_em = precision_score(y_em_test, predictions_em)\n",
        "print(f\"precision for test: {precision_em}\")\n",
        "f1_em = f1_score(y_em_test, predictions_em)\n",
        "print(f\"f1 score for test: {f1_em}\")"
      ]
    },
    {
      "cell_type": "code",
      "source": [
        "conf_matrix_em = confusion_matrix(y_em_test, predictions_em)\n",
        "print(conf_matrix_em)\n",
        "\n",
        "sns.set(font_scale=1.2)\n",
        "plt.figure(figsize=(6, 5))\n",
        "sns.heatmap(conf_matrix_em, annot=True, fmt='g', cmap='Blues', annot_kws={\"size\": 16}, cbar=False)\n",
        "plt.xlabel('Predicted')\n",
        "plt.ylabel('Actual')\n",
        "plt.title('Emotional Reactions Confusion Matrix')\n",
        "plt.show()"
      ],
      "metadata": {
        "id": "lfVMV59xdsH8",
        "colab": {
          "base_uri": "https://localhost:8080/"
        },
        "outputId": "b50a8908-6a03-4f6d-fd82-4f1d17c572a5"
      },
      "execution_count": null,
      "outputs": [
        {
          "output_type": "stream",
          "name": "stdout",
          "text": [
            "[[166  52]\n",
            " [ 38 163]]\n"
          ]
        },
        {
          "output_type": "display_data",
          "data": {
            "text/plain": [
              "<Figure size 600x500 with 1 Axes>"
            ],
            "image/png": "[encoded data removed]"
          },
          "metadata": {}
        }
      ]
    },
    {
      "cell_type": "markdown",
      "metadata": {
        "id": "Nmr3XY8e4tOH"
      },
      "source": [
        "# IN binary prediction"
      ]
    },
    {
      "cell_type": "code",
      "execution_count": null,
      "metadata": {
        "id": "lMHbAC-KS6lt",
        "colab": {
          "base_uri": "https://localhost:8080/"
        },
        "outputId": "b44838b5-de92-42e5-cdc3-b6ad95cf10dd"
      },
      "outputs": [
        {
          "output_type": "execute_result",
          "data": {
            "text/plain": [
              "0    972\n",
              "1    878\n",
              "Name: empathy, dtype: int64"
            ]
          },
          "metadata": {},
          "execution_count": 16
        }
      ],
      "source": [
        "y_in_train, y_in_val, y_in_test = get_target_vectors('in')\n",
        "y_in_train.value_counts()"
      ]
    },
    {
      "cell_type": "code",
      "execution_count": null,
      "metadata": {
        "id": "9XvhqfkE9M14",
        "colab": {
          "base_uri": "https://localhost:8080/"
        },
        "outputId": "7501ab06-189e-4478-9091-60f18e349d27"
      },
      "outputs": [
        {
          "output_type": "execute_result",
          "data": {
            "text/plain": [
              "{'input_ids': <tf.Tensor: shape=(1850, 240), dtype=int32, numpy=\n",
              "array([[  101,  2140,   117, ...,     0,     0,     0],\n",
              "       [  101,  4373,  1128, ...,     0,     0,     0],\n",
              "       [  101,   168,  7595, ...,  4847,  1358,   102],\n",
              "       ...,\n",
              "       [  101, 14060,   119, ...,     0,     0,     0],\n",
              "       [  101,  1284,   112, ...,     0,     0,     0],\n",
              "       [  101, 10560,  1176, ...,     0,     0,     0]], dtype=int32)>, 'token_type_ids': <tf.Tensor: shape=(1850, 240), dtype=int32, numpy=\n",
              "array([[0, 0, 0, ..., 0, 0, 0],\n",
              "       [0, 0, 0, ..., 0, 0, 0],\n",
              "       [0, 0, 0, ..., 0, 0, 0],\n",
              "       ...,\n",
              "       [0, 0, 0, ..., 0, 0, 0],\n",
              "       [0, 0, 0, ..., 0, 0, 0],\n",
              "       [0, 0, 0, ..., 0, 0, 0]], dtype=int32)>, 'attention_mask': <tf.Tensor: shape=(1850, 240), dtype=int32, numpy=\n",
              "array([[1, 1, 1, ..., 0, 0, 0],\n",
              "       [1, 1, 1, ..., 0, 0, 0],\n",
              "       [1, 1, 1, ..., 1, 1, 1],\n",
              "       ...,\n",
              "       [1, 1, 1, ..., 0, 0, 0],\n",
              "       [1, 1, 1, ..., 0, 0, 0],\n",
              "       [1, 1, 1, ..., 0, 0, 0]], dtype=int32)>}"
            ]
          },
          "metadata": {},
          "execution_count": 17
        }
      ],
      "source": [
        "train_in_encodings, val_in_encodings, test_in_encodings = csv_to_encodings('in')\n",
        "train_in_encodings"
      ]
    },
    {
      "cell_type": "code",
      "execution_count": null,
      "metadata": {
        "colab": {
          "base_uri": "https://localhost:8080/"
        },
        "id": "K5wuKi-N4sb6",
        "outputId": "4af248da-c039-43c4-e119-27b4e3210c43"
      },
      "outputs": [
        {
          "output_type": "stream",
          "name": "stdout",
          "text": [
            "Epoch 1/10\n",
            "232/232 [==============================] - 54s 166ms/step - loss: 0.5720 - accuracy: 0.6924 - val_loss: 0.4928 - val_accuracy: 0.7650\n",
            "Epoch 2/10\n",
            "232/232 [==============================] - 31s 135ms/step - loss: 0.4853 - accuracy: 0.7622 - val_loss: 0.4740 - val_accuracy: 0.7828\n",
            "Epoch 3/10\n",
            "232/232 [==============================] - 34s 147ms/step - loss: 0.4593 - accuracy: 0.7811 - val_loss: 0.4812 - val_accuracy: 0.7747\n",
            "Epoch 4/10\n",
            "232/232 [==============================] - 35s 149ms/step - loss: 0.4537 - accuracy: 0.7800 - val_loss: 0.4698 - val_accuracy: 0.7844\n",
            "Epoch 5/10\n",
            "232/232 [==============================] - 34s 149ms/step - loss: 0.4464 - accuracy: 0.7941 - val_loss: 0.4688 - val_accuracy: 0.7909\n",
            "Epoch 6/10\n",
            "232/232 [==============================] - 34s 147ms/step - loss: 0.4336 - accuracy: 0.7995 - val_loss: 0.4651 - val_accuracy: 0.7942\n",
            "Epoch 7/10\n",
            "232/232 [==============================] - 31s 135ms/step - loss: 0.4225 - accuracy: 0.8011 - val_loss: 0.4860 - val_accuracy: 0.7747\n",
            "Epoch 8/10\n",
            "232/232 [==============================] - 34s 149ms/step - loss: 0.4291 - accuracy: 0.8005 - val_loss: 0.4893 - val_accuracy: 0.7699\n",
            "Epoch 9/10\n",
            "232/232 [==============================] - 34s 147ms/step - loss: 0.4243 - accuracy: 0.8016 - val_loss: 0.5051 - val_accuracy: 0.7601\n",
            "Epoch 10/10\n",
            "232/232 [==============================] - 34s 149ms/step - loss: 0.4157 - accuracy: 0.8114 - val_loss: 0.4714 - val_accuracy: 0.7828\n"
          ]
        }
      ],
      "source": [
        "in_classification = create_bert_binary_model(bert_model=bert_model)\n",
        "in_classification_history = in_classification.fit([train_in_encodings.input_ids, train_in_encodings.token_type_ids, train_in_encodings.attention_mask],\n",
        "                                                  y_in_train,\n",
        "                                                  validation_data=([val_in_encodings.input_ids, val_in_encodings.token_type_ids, val_in_encodings.attention_mask],\n",
        "                                                  y_in_val),\n",
        "                                                  batch_size=8,\n",
        "                                                  epochs=10,\n",
        "                                                  #class_weight=class_weight_em\n",
        "                                                  )"
      ]
    },
    {
      "cell_type": "code",
      "execution_count": null,
      "metadata": {
        "colab": {
          "base_uri": "https://localhost:8080/"
        },
        "id": "igEN90tD4sZJ",
        "outputId": "4470054b-9201-4642-ce7d-7e31749587aa"
      },
      "outputs": [
        {
          "output_type": "stream",
          "name": "stdout",
          "text": [
            "20/20 [==============================] - 10s 313ms/step\n"
          ]
        }
      ],
      "source": [
        "predictions_in = in_classification.predict([test_in_encodings.input_ids, test_in_encodings.token_type_ids, test_in_encodings.attention_mask])\n",
        "predictions_in = (predictions_in >= 0.5).astype(int)"
      ]
    },
    {
      "cell_type": "code",
      "execution_count": null,
      "metadata": {
        "id": "wVu2Hnz04sXM"
      },
      "outputs": [],
      "source": [
        "accuracy_in = accuracy_score(y_in_test, predictions_in)\n",
        "print(f\"accuracy for test: {accuracy_in}\")\n",
        "recall_in = recall_score(y_in_test, predictions_in)\n",
        "print(f\"recall for test: {recall_in}\")\n",
        "precision_in = precision_score(y_in_test, predictions_in)\n",
        "print(f\"precision for test: {precision_in}\")\n",
        "f1_in = f1_score(y_in_test, predictions_in)\n",
        "print(f\"f1 score for test: {f1_in}\")"
      ]
    },
    {
      "cell_type": "code",
      "source": [
        "conf_matrix_in = confusion_matrix(y_in_test, predictions_in)\n",
        "print(conf_matrix_in)\n",
        "\n",
        "sns.set(font_scale=1.2)\n",
        "plt.figure(figsize=(6, 5))\n",
        "sns.heatmap(conf_matrix_in, annot=True, fmt='g', cmap='Blues', annot_kws={\"size\": 16}, cbar=False)\n",
        "plt.xlabel('Predicted')\n",
        "plt.ylabel('Actual')\n",
        "plt.title('Interpretations Confusion Matrix')\n",
        "plt.show()"
      ],
      "metadata": {
        "colab": {
          "base_uri": "https://localhost:8080/",
          "height": 537
        },
        "id": "ixQs_lUldkSc",
        "outputId": "29b16422-7adc-46af-98d2-c65a9858de5e"
      },
      "execution_count": null,
      "outputs": [
        {
          "output_type": "stream",
          "name": "stdout",
          "text": [
            "[[270  61]\n",
            " [ 52 234]]\n"
          ]
        },
        {
          "output_type": "display_data",
          "data": {
            "text/plain": [
              "<Figure size 600x500 with 1 Axes>"
            ],
            "image/png": "[encoded data removed]"
          },
          "metadata": {}
        }
      ]
    },
    {
      "cell_type": "markdown",
      "metadata": {
        "id": "pqfQpXRdTwsf"
      },
      "source": [
        "# Ex binary prediction (response)"
      ]
    },
    {
      "cell_type": "code",
      "execution_count": null,
      "metadata": {
        "id": "2xSHyehtUjHu",
        "colab": {
          "base_uri": "https://localhost:8080/"
        },
        "outputId": "c3da3d05-eb21-4a77-af80-80716b22f528"
      },
      "outputs": [
        {
          "output_type": "execute_result",
          "data": {
            "text/plain": [
              "1    294\n",
              "0    282\n",
              "Name: empathy, dtype: int64"
            ]
          },
          "metadata": {},
          "execution_count": 28
        }
      ],
      "source": [
        "y_ex_train, y_ex_val, y_ex_test = get_target_vectors('ex')\n",
        "y_ex_train.value_counts()"
      ]
    },
    {
      "cell_type": "code",
      "execution_count": null,
      "metadata": {
        "colab": {
          "base_uri": "https://localhost:8080/"
        },
        "id": "FOj5kGp5UjDF",
        "outputId": "219b7db1-b906-42af-8cf7-85b93b606239"
      },
      "outputs": [
        {
          "output_type": "execute_result",
          "data": {
            "text/plain": [
              "{'input_ids': <tf.Tensor: shape=(576, 150), dtype=int32, numpy=\n",
              "array([[ 101,  146, 3668, ...,    0,    0,    0],\n",
              "       [ 101, 1302, 1274, ...,    0,    0,    0],\n",
              "       [ 101, 7595,  117, ...,    0,    0,    0],\n",
              "       ...,\n",
              "       [ 101, 2160, 1936, ...,    0,    0,    0],\n",
              "       [ 101, 1135, 1281, ...,    0,    0,    0],\n",
              "       [ 101, 8790, 1910, ..., 9655,  119,  102]], dtype=int32)>, 'token_type_ids': <tf.Tensor: shape=(576, 150), dtype=int32, numpy=\n",
              "array([[0, 0, 0, ..., 0, 0, 0],\n",
              "       [0, 0, 0, ..., 0, 0, 0],\n",
              "       [0, 0, 0, ..., 0, 0, 0],\n",
              "       ...,\n",
              "       [0, 0, 0, ..., 0, 0, 0],\n",
              "       [0, 0, 0, ..., 0, 0, 0],\n",
              "       [0, 0, 0, ..., 0, 0, 0]], dtype=int32)>, 'attention_mask': <tf.Tensor: shape=(576, 150), dtype=int32, numpy=\n",
              "array([[1, 1, 1, ..., 0, 0, 0],\n",
              "       [1, 1, 1, ..., 0, 0, 0],\n",
              "       [1, 1, 1, ..., 0, 0, 0],\n",
              "       ...,\n",
              "       [1, 1, 1, ..., 0, 0, 0],\n",
              "       [1, 1, 1, ..., 0, 0, 0],\n",
              "       [1, 1, 1, ..., 1, 1, 1]], dtype=int32)>}"
            ]
          },
          "metadata": {},
          "execution_count": 29
        }
      ],
      "source": [
        "train_ex_encodings, val_ex_encodings, test_ex_encodings = csv_to_encodings('ex')\n",
        "train_ex_encodings"
      ]
    },
    {
      "cell_type": "code",
      "execution_count": null,
      "metadata": {
        "colab": {
          "base_uri": "https://localhost:8080/"
        },
        "id": "gZjS_T_2Ui_B",
        "outputId": "18564618-e75c-48e4-a184-5ddb3e095d1a"
      },
      "outputs": [
        {
          "output_type": "stream",
          "name": "stdout",
          "text": [
            "Epoch 1/10\n",
            "72/72 [==============================] - 18s 144ms/step - loss: 0.6357 - accuracy: 0.6441 - val_loss: 0.4504 - val_accuracy: 0.8229\n",
            "Epoch 2/10\n",
            "72/72 [==============================] - 9s 120ms/step - loss: 0.4564 - accuracy: 0.8073 - val_loss: 0.3957 - val_accuracy: 0.8385\n",
            "Epoch 3/10\n",
            "72/72 [==============================] - 9s 129ms/step - loss: 0.4094 - accuracy: 0.8073 - val_loss: 0.3393 - val_accuracy: 0.8438\n",
            "Epoch 4/10\n",
            "72/72 [==============================] - 9s 122ms/step - loss: 0.4000 - accuracy: 0.8316 - val_loss: 0.3553 - val_accuracy: 0.8698\n",
            "Epoch 5/10\n",
            "72/72 [==============================] - 9s 119ms/step - loss: 0.3410 - accuracy: 0.8646 - val_loss: 0.3198 - val_accuracy: 0.8385\n",
            "Epoch 6/10\n",
            "72/72 [==============================] - 8s 118ms/step - loss: 0.3542 - accuracy: 0.8524 - val_loss: 0.3519 - val_accuracy: 0.8281\n",
            "Epoch 7/10\n",
            "72/72 [==============================] - 9s 125ms/step - loss: 0.3582 - accuracy: 0.8333 - val_loss: 0.3256 - val_accuracy: 0.8750\n",
            "Epoch 8/10\n",
            "72/72 [==============================] - 9s 124ms/step - loss: 0.3210 - accuracy: 0.8715 - val_loss: 0.3335 - val_accuracy: 0.8802\n",
            "Epoch 9/10\n",
            "72/72 [==============================] - 8s 117ms/step - loss: 0.3647 - accuracy: 0.8333 - val_loss: 0.3079 - val_accuracy: 0.8594\n",
            "Epoch 10/10\n",
            "72/72 [==============================] - 8s 116ms/step - loss: 0.3336 - accuracy: 0.8576 - val_loss: 0.3007 - val_accuracy: 0.8854\n"
          ]
        }
      ],
      "source": [
        "ex_classification = create_bert_binary_model(bert_model=bert_model)\n",
        "ex_classification_history = ex_classification.fit([train_ex_encodings.input_ids, train_ex_encodings.token_type_ids, train_ex_encodings.attention_mask],\n",
        "                                                  y_ex_train,\n",
        "                                                  validation_data=([val_ex_encodings.input_ids, val_ex_encodings.token_type_ids, val_ex_encodings.attention_mask],\n",
        "                                                  y_ex_val),\n",
        "                                                  batch_size=8,\n",
        "                                                  epochs=10,\n",
        "                                                  #class_weight=class_weight_em\n",
        "                                                  )"
      ]
    },
    {
      "cell_type": "code",
      "execution_count": null,
      "metadata": {
        "id": "8B9uviz4VVnm"
      },
      "outputs": [],
      "source": [
        "predictions_ex = ex_classification.predict([test_ex_encodings.input_ids, test_ex_encodings.token_type_ids, test_ex_encodings.attention_mask])\n",
        "predictions_ex = (predictions_ex >= 0.5).astype(int)"
      ]
    },
    {
      "cell_type": "code",
      "execution_count": null,
      "metadata": {
        "id": "-wURg4S1VVFV"
      },
      "outputs": [],
      "source": [
        "accuracy_ex = accuracy_score(y_ex_test, predictions_ex)\n",
        "print(f\"accuracy for test: {accuracy_ex}\")\n",
        "recall_ex = recall_score(y_ex_test, predictions_ex)\n",
        "print(f\"recall for test: {recall_ex}\")\n",
        "precision_ex = precision_score(y_ex_test, predictions_ex)\n",
        "print(f\"precision for test: {precision_ex}\")\n",
        "f1_ex = f1_score(y_ex_test, predictions_ex)\n",
        "print(f\"f1 score for test: {f1_ex}\")"
      ]
    },
    {
      "cell_type": "code",
      "source": [
        "conf_matrix_ex = confusion_matrix(y_ex_test, predictions_ex)\n",
        "print(conf_matrix_ex)\n",
        "\n",
        "sns.set(font_scale=1.2)\n",
        "plt.figure(figsize=(6, 5))\n",
        "sns.heatmap(conf_matrix_ex, annot=True, fmt='g', cmap='Blues', annot_kws={\"size\": 16}, cbar=False)\n",
        "plt.xlabel('Predicted')\n",
        "plt.ylabel('Actual')\n",
        "plt.title('Explorations Confusion Matrix')\n",
        "plt.show()"
      ],
      "metadata": {
        "id": "lO4tuEgzdEF6"
      },
      "execution_count": null,
      "outputs": []
    },
    {
      "cell_type": "markdown",
      "source": [
        "# Ex aug binary prediction (response)"
      ],
      "metadata": {
        "id": "g0ZRgbY3_pJ1"
      }
    },
    {
      "cell_type": "code",
      "source": [
        "y_ex_aug_train, y_ex_aug_val, y_ex_aug_test = get_target_vectors('ex_aug')\n",
        "y_ex_aug_train.value_counts()"
      ],
      "metadata": {
        "colab": {
          "base_uri": "https://localhost:8080/"
        },
        "id": "svv-psNJ_pcY",
        "outputId": "751c8b15-2599-43f8-852b-089f330b0ff5"
      },
      "execution_count": null,
      "outputs": [
        {
          "output_type": "execute_result",
          "data": {
            "text/plain": [
              "1    498\n",
              "0    486\n",
              "Name: empathy, dtype: int64"
            ]
          },
          "metadata": {},
          "execution_count": 10
        }
      ]
    },
    {
      "cell_type": "code",
      "source": [
        "train_ex_aug_encodings, val_ex_aug_encodings, test_ex_aug_encodings = csv_to_encodings('ex_aug')\n",
        "train_ex_aug_encodings"
      ],
      "metadata": {
        "colab": {
          "base_uri": "https://localhost:8080/"
        },
        "id": "r2fQtaIF_r4S",
        "outputId": "06d5204a-7953-4244-df07-946b203b8ef2"
      },
      "execution_count": null,
      "outputs": [
        {
          "output_type": "execute_result",
          "data": {
            "text/plain": [
              "{'input_ids': <tf.Tensor: shape=(984, 150), dtype=int32, numpy=\n",
              "array([[ 101, 1327, 2228, ...,    0,    0,    0],\n",
              "       [ 101, 8667,  106, ...,    0,    0,    0],\n",
              "       [ 101, 1188, 2304, ...,    0,    0,    0],\n",
              "       ...,\n",
              "       [ 101, 1731, 1209, ...,    0,    0,    0],\n",
              "       [ 101,  146, 5340, ...,    0,    0,    0],\n",
              "       [ 101, 1731, 1385, ...,    0,    0,    0]], dtype=int32)>, 'token_type_ids': <tf.Tensor: shape=(984, 150), dtype=int32, numpy=\n",
              "array([[0, 0, 0, ..., 0, 0, 0],\n",
              "       [0, 0, 0, ..., 0, 0, 0],\n",
              "       [0, 0, 0, ..., 0, 0, 0],\n",
              "       ...,\n",
              "       [0, 0, 0, ..., 0, 0, 0],\n",
              "       [0, 0, 0, ..., 0, 0, 0],\n",
              "       [0, 0, 0, ..., 0, 0, 0]], dtype=int32)>, 'attention_mask': <tf.Tensor: shape=(984, 150), dtype=int32, numpy=\n",
              "array([[1, 1, 1, ..., 0, 0, 0],\n",
              "       [1, 1, 1, ..., 0, 0, 0],\n",
              "       [1, 1, 1, ..., 0, 0, 0],\n",
              "       ...,\n",
              "       [1, 1, 1, ..., 0, 0, 0],\n",
              "       [1, 1, 1, ..., 0, 0, 0],\n",
              "       [1, 1, 1, ..., 0, 0, 0]], dtype=int32)>}"
            ]
          },
          "metadata": {},
          "execution_count": 11
        }
      ]
    },
    {
      "cell_type": "code",
      "source": [
        "ex_aug_classification = create_bert_binary_model(bert_model=bert_model)\n",
        "ex_aug_classification_history = ex_aug_classification.fit([train_ex_aug_encodings.input_ids, train_ex_aug_encodings.token_type_ids, train_ex_aug_encodings.attention_mask],\n",
        "                                                  y_ex_aug_train,\n",
        "                                                  validation_data=([val_ex_aug_encodings.input_ids, val_ex_aug_encodings.token_type_ids, val_ex_aug_encodings.attention_mask],\n",
        "                                                  y_ex_aug_val),\n",
        "                                                  batch_size=8,\n",
        "                                                  epochs=10,\n",
        "                                                  #class_weight=class_weight_em\n",
        "                                                  )"
      ],
      "metadata": {
        "colab": {
          "base_uri": "https://localhost:8080/"
        },
        "id": "3Z_kye71__g0",
        "outputId": "880a0d76-c61d-42b3-aa30-63127bb4e8cf"
      },
      "execution_count": null,
      "outputs": [
        {
          "output_type": "stream",
          "name": "stdout",
          "text": [
            "Epoch 1/10\n",
            "123/123 [==============================] - 42s 170ms/step - loss: 0.5384 - accuracy: 0.7083 - val_loss: 0.4150 - val_accuracy: 0.7988\n",
            "Epoch 2/10\n",
            "123/123 [==============================] - 17s 138ms/step - loss: 0.4141 - accuracy: 0.8059 - val_loss: 0.3687 - val_accuracy: 0.8323\n",
            "Epoch 3/10\n",
            "123/123 [==============================] - 15s 124ms/step - loss: 0.3555 - accuracy: 0.8557 - val_loss: 0.4084 - val_accuracy: 0.7927\n",
            "Epoch 4/10\n",
            "123/123 [==============================] - 16s 130ms/step - loss: 0.3476 - accuracy: 0.8638 - val_loss: 0.3518 - val_accuracy: 0.8415\n",
            "Epoch 5/10\n",
            "123/123 [==============================] - 17s 141ms/step - loss: 0.3394 - accuracy: 0.8659 - val_loss: 0.3301 - val_accuracy: 0.8384\n",
            "Epoch 6/10\n",
            "123/123 [==============================] - 17s 137ms/step - loss: 0.3255 - accuracy: 0.8740 - val_loss: 0.3191 - val_accuracy: 0.8537\n",
            "Epoch 7/10\n",
            "123/123 [==============================] - 16s 130ms/step - loss: 0.3075 - accuracy: 0.8791 - val_loss: 0.3193 - val_accuracy: 0.8567\n",
            "Epoch 8/10\n",
            "123/123 [==============================] - 16s 130ms/step - loss: 0.3114 - accuracy: 0.8801 - val_loss: 0.3196 - val_accuracy: 0.8598\n",
            "Epoch 9/10\n",
            "123/123 [==============================] - 14s 118ms/step - loss: 0.2937 - accuracy: 0.8801 - val_loss: 0.3321 - val_accuracy: 0.8567\n",
            "Epoch 10/10\n",
            "123/123 [==============================] - 14s 118ms/step - loss: 0.2969 - accuracy: 0.8953 - val_loss: 0.3150 - val_accuracy: 0.8476\n"
          ]
        }
      ]
    },
    {
      "cell_type": "code",
      "source": [
        "predictions_ex_aug = ex_aug_classification.predict([test_ex_aug_encodings.input_ids, test_ex_aug_encodings.token_type_ids, test_ex_aug_encodings.attention_mask])\n",
        "predictions_ex_aug = (predictions_ex_aug >= 0.5).astype(int)"
      ],
      "metadata": {
        "colab": {
          "base_uri": "https://localhost:8080/"
        },
        "id": "KPB5LBAuAWCi",
        "outputId": "56ea6765-f78a-44c1-ec39-c861a9386b3b"
      },
      "execution_count": null,
      "outputs": [
        {
          "output_type": "stream",
          "name": "stdout",
          "text": [
            "11/11 [==============================] - 7s 309ms/step\n"
          ]
        }
      ]
    },
    {
      "cell_type": "code",
      "source": [
        "accuracy_ex_aug = accuracy_score(y_ex_aug_test, predictions_ex_aug)\n",
        "print(f\"accuracy for test: {accuracy_ex_aug}\")\n",
        "recall_ex_aug = recall_score(y_ex_aug_test, predictions_ex_aug)\n",
        "print(f\"recall for test: {recall_ex_aug}\")\n",
        "precision_ex_aug = precision_score(y_ex_aug_test, predictions_ex_aug)\n",
        "print(f\"precision for test: {precision_ex_aug}\")\n",
        "f1_ex_aug = f1_score(y_ex_aug_test, predictions_ex_aug)\n",
        "print(f\"f1 score for test: {f1_ex_aug}\")"
      ],
      "metadata": {
        "colab": {
          "base_uri": "https://localhost:8080/"
        },
        "id": "U3XN9d2AAYlT",
        "outputId": "44ea559d-87e3-4a04-8317-3d47f449bbfc"
      },
      "execution_count": null,
      "outputs": [
        {
          "output_type": "stream",
          "name": "stdout",
          "text": [
            "accuracy for test: 0.8597560975609756\n",
            "recall for test: 0.8026315789473685\n",
            "precision for test: 0.8840579710144928\n",
            "f1 score for test: 0.8413793103448277\n"
          ]
        }
      ]
    },
    {
      "cell_type": "code",
      "source": [
        "conf_matrix_ex_aug = confusion_matrix(y_ex_aug_test, predictions_ex_aug)\n",
        "print(conf_matrix_ex_aug)\n",
        "\n",
        "sns.set(font_scale=1.2)\n",
        "plt.figure(figsize=(6, 5))\n",
        "sns.heatmap(conf_matrix_ex_aug, annot=True, fmt='g', cmap='Blues', annot_kws={\"size\": 16}, cbar=False)\n",
        "plt.xlabel('Predicted')\n",
        "plt.ylabel('Actual')\n",
        "plt.title('Explorations Augmented Confusion Matrix')\n",
        "plt.show()"
      ],
      "metadata": {
        "colab": {
          "base_uri": "https://localhost:8080/",
          "height": 537
        },
        "id": "IY0Xc9t5AacT",
        "outputId": "a4e32cfd-f8c4-4509-f113-efa18ace8fcb"
      },
      "execution_count": null,
      "outputs": [
        {
          "output_type": "stream",
          "name": "stdout",
          "text": [
            "[[160  16]\n",
            " [ 30 122]]\n"
          ]
        },
        {
          "output_type": "display_data",
          "data": {
            "text/plain": [
              "<Figure size 600x500 with 1 Axes>"
            ],
            "image/png": "[encoded data removed]"
          },
          "metadata": {}
        }
      ]
    },
    {
      "cell_type": "markdown",
      "metadata": {
        "id": "GnZunqJSYqOx"
      },
      "source": [
        "# summary"
      ]
    },
    {
      "cell_type": "code",
      "execution_count": null,
      "metadata": {
        "colab": {
          "base_uri": "https://localhost:8080/",
          "height": 175
        },
        "id": "gNe9I0luYoex",
        "outputId": "81df2a49-7af5-4a78-943b-872ab7d27d0d"
      },
      "outputs": [
        {
          "output_type": "execute_result",
          "data": {
            "text/plain": [
              "  Category  Accuracy  Precision    Recall  F1 Score\n",
              "0       em  0.768496   0.837662  0.641791  0.726761\n",
              "1       in  0.816856   0.793220  0.818182  0.805508\n",
              "2       ex  0.833333   0.831461  0.813187  0.822222\n",
              "3   ex_aug  0.859756   0.884058  0.802632  0.841379"
            ],
            "text/html": [
              "\n",
              "  <div id=\"df-566fa27e-8a49-41af-bab0-445e59170cee\" class=\"colab-df-container\">\n",
              "    <div>\n",
              "<style scoped>\n",
              "    .dataframe tbody tr th:only-of-type {\n",
              "        vertical-align: middle;\n",
              "    }\n",
              "\n",
              "    .dataframe tbody tr th {\n",
              "        vertical-align: top;\n",
              "    }\n",
              "\n",
              "    .dataframe thead th {\n",
              "        text-align: right;\n",
              "    }\n",
              "</style>\n",
              "<table border=\"1\" class=\"dataframe\">\n",
              "  <thead>\n",
              "    <tr style=\"text-align: right;\">\n",
              "      <th></th>\n",
              "      <th>Category</th>\n",
              "      <th>Accuracy</th>\n",
              "      <th>Precision</th>\n",
              "      <th>Recall</th>\n",
              "      <th>F1 Score</th>\n",
              "    </tr>\n",
              "  </thead>\n",
              "  <tbody>\n",
              "    <tr>\n",
              "      <th>0</th>\n",
              "      <td>em</td>\n",
              "      <td>0.768496</td>\n",
              "      <td>0.837662</td>\n",
              "      <td>0.641791</td>\n",
              "      <td>0.726761</td>\n",
              "    </tr>\n",
              "    <tr>\n",
              "      <th>1</th>\n",
              "      <td>in</td>\n",
              "      <td>0.816856</td>\n",
              "      <td>0.793220</td>\n",
              "      <td>0.818182</td>\n",
              "      <td>0.805508</td>\n",
              "    </tr>\n",
              "    <tr>\n",
              "      <th>2</th>\n",
              "      <td>ex</td>\n",
              "      <td>0.833333</td>\n",
              "      <td>0.831461</td>\n",
              "      <td>0.813187</td>\n",
              "      <td>0.822222</td>\n",
              "    </tr>\n",
              "    <tr>\n",
              "      <th>3</th>\n",
              "      <td>ex_aug</td>\n",
              "      <td>0.859756</td>\n",
              "      <td>0.884058</td>\n",
              "      <td>0.802632</td>\n",
              "      <td>0.841379</td>\n",
              "    </tr>\n",
              "  </tbody>\n",
              "</table>\n",
              "</div>\n",
              "    <div class=\"colab-df-buttons\">\n",
              "\n",
              "  <div class=\"colab-df-container\">\n",
              "    <button class=\"colab-df-convert\" onclick=\"convertToInteractive('df-566fa27e-8a49-41af-bab0-445e59170cee')\"\n",
              "            title=\"Convert this dataframe to an interactive table.\"\n",
              "            style=\"display:none;\">\n",
              "\n",
              "  <svg xmlns=\"http://www.w3.org/2000/svg\" height=\"24px\" viewBox=\"0 -960 960 960\">\n",
              "    <path d=\"M120-120v-720h720v720H120Zm60-500h600v-160H180v160Zm220 220h160v-160H400v160Zm0 220h160v-160H400v160ZM180-400h160v-160H180v160Zm440 0h160v-160H620v160ZM180-180h160v-160H180v160Zm440 0h160v-160H620v160Z\"/>\n",
              "  </svg>\n",
              "    </button>\n",
              "\n",
              "  <style>\n",
              "    .colab-df-container {\n",
              "      display:flex;\n",
              "      gap: 12px;\n",
              "    }\n",
              "\n",
              "    .colab-df-convert {\n",
              "      background-color: #E8F0FE;\n",
              "      border: none;\n",
              "      border-radius: 50%;\n",
              "      cursor: pointer;\n",
              "      display: none;\n",
              "      fill: #1967D2;\n",
              "      height: 32px;\n",
              "      padding: 0 0 0 0;\n",
              "      width: 32px;\n",
              "    }\n",
              "\n",
              "    .colab-df-convert:hover {\n",
              "      background-color: #E2EBFA;\n",
              "      box-shadow: 0px 1px 2px rgba(60, 64, 67, 0.3), 0px 1px 3px 1px rgba(60, 64, 67, 0.15);\n",
              "      fill: #174EA6;\n",
              "    }\n",
              "\n",
              "    .colab-df-buttons div {\n",
              "      margin-bottom: 4px;\n",
              "    }\n",
              "\n",
              "    [theme=dark] .colab-df-convert {\n",
              "      background-color: #3B4455;\n",
              "      fill: #D2E3FC;\n",
              "    }\n",
              "\n",
              "    [theme=dark] .colab-df-convert:hover {\n",
              "      background-color: #434B5C;\n",
              "      box-shadow: 0px 1px 3px 1px rgba(0, 0, 0, 0.15);\n",
              "      filter: drop-shadow(0px 1px 2px rgba(0, 0, 0, 0.3));\n",
              "      fill: #FFFFFF;\n",
              "    }\n",
              "  </style>\n",
              "\n",
              "    <script>\n",
              "      const buttonEl =\n",
              "        document.querySelector('#df-566fa27e-8a49-41af-bab0-445e59170cee button.colab-df-convert');\n",
              "      buttonEl.style.display =\n",
              "        google.colab.kernel.accessAllowed ? 'block' : 'none';\n",
              "\n",
              "      async function convertToInteractive(key) {\n",
              "        const element = document.querySelector('#df-566fa27e-8a49-41af-bab0-445e59170cee');\n",
              "        const dataTable =\n",
              "          await google.colab.kernel.invokeFunction('convertToInteractive',\n",
              "                                                    [key], {});\n",
              "        if (!dataTable) return;\n",
              "\n",
              "        const docLinkHtml = 'Like what you see? Visit the ' +\n",
              "          '<a target=\"_blank\" href=https://colab.research.google.com/notebooks/data_table.ipynb>data table notebook</a>'\n",
              "          + ' to learn more about interactive tables.';\n",
              "        element.innerHTML = '';\n",
              "        dataTable['output_type'] = 'display_data';\n",
              "        await google.colab.output.renderOutput(dataTable, element);\n",
              "        const docLink = document.createElement('div');\n",
              "        docLink.innerHTML = docLinkHtml;\n",
              "        element.appendChild(docLink);\n",
              "      }\n",
              "    </script>\n",
              "  </div>\n",
              "\n",
              "\n",
              "<div id=\"df-f20d4adb-8086-4840-ad77-e441de16ffb6\">\n",
              "  <button class=\"colab-df-quickchart\" onclick=\"quickchart('df-f20d4adb-8086-4840-ad77-e441de16ffb6')\"\n",
              "            title=\"Suggest charts\"\n",
              "            style=\"display:none;\">\n",
              "\n",
              "<svg xmlns=\"http://www.w3.org/2000/svg\" height=\"24px\"viewBox=\"0 0 24 24\"\n",
              "     width=\"24px\">\n",
              "    <g>\n",
              "        <path d=\"M19 3H5c-1.1 0-2 .9-2 2v14c0 1.1.9 2 2 2h14c1.1 0 2-.9 2-2V5c0-1.1-.9-2-2-2zM9 17H7v-7h2v7zm4 0h-2V7h2v10zm4 0h-2v-4h2v4z\"/>\n",
              "    </g>\n",
              "</svg>\n",
              "  </button>\n",
              "\n",
              "<style>\n",
              "  .colab-df-quickchart {\n",
              "      --bg-color: #E8F0FE;\n",
              "      --fill-color: #1967D2;\n",
              "      --hover-bg-color: #E2EBFA;\n",
              "      --hover-fill-color: #174EA6;\n",
              "      --disabled-fill-color: #AAA;\n",
              "      --disabled-bg-color: #DDD;\n",
              "  }\n",
              "\n",
              "  [theme=dark] .colab-df-quickchart {\n",
              "      --bg-color: #3B4455;\n",
              "      --fill-color: #D2E3FC;\n",
              "      --hover-bg-color: #434B5C;\n",
              "      --hover-fill-color: #FFFFFF;\n",
              "      --disabled-bg-color: #3B4455;\n",
              "      --disabled-fill-color: #666;\n",
              "  }\n",
              "\n",
              "  .colab-df-quickchart {\n",
              "    background-color: var(--bg-color);\n",
              "    border: none;\n",
              "    border-radius: 50%;\n",
              "    cursor: pointer;\n",
              "    display: none;\n",
              "    fill: var(--fill-color);\n",
              "    height: 32px;\n",
              "    padding: 0;\n",
              "    width: 32px;\n",
              "  }\n",
              "\n",
              "  .colab-df-quickchart:hover {\n",
              "    background-color: var(--hover-bg-color);\n",
              "    box-shadow: 0 1px 2px rgba(60, 64, 67, 0.3), 0 1px 3px 1px rgba(60, 64, 67, 0.15);\n",
              "    fill: var(--button-hover-fill-color);\n",
              "  }\n",
              "\n",
              "  .colab-df-quickchart-complete:disabled,\n",
              "  .colab-df-quickchart-complete:disabled:hover {\n",
              "    background-color: var(--disabled-bg-color);\n",
              "    fill: var(--disabled-fill-color);\n",
              "    box-shadow: none;\n",
              "  }\n",
              "\n",
              "  .colab-df-spinner {\n",
              "    border: 2px solid var(--fill-color);\n",
              "    border-color: transparent;\n",
              "    border-bottom-color: var(--fill-color);\n",
              "    animation:\n",
              "      spin 1s steps(1) infinite;\n",
              "  }\n",
              "\n",
              "  @keyframes spin {\n",
              "    0% {\n",
              "      border-color: transparent;\n",
              "      border-bottom-color: var(--fill-color);\n",
              "      border-left-color: var(--fill-color);\n",
              "    }\n",
              "    20% {\n",
              "      border-color: transparent;\n",
              "      border-left-color: var(--fill-color);\n",
              "      border-top-color: var(--fill-color);\n",
              "    }\n",
              "    30% {\n",
              "      border-color: transparent;\n",
              "      border-left-color: var(--fill-color);\n",
              "      border-top-color: var(--fill-color);\n",
              "      border-right-color: var(--fill-color);\n",
              "    }\n",
              "    40% {\n",
              "      border-color: transparent;\n",
              "      border-right-color: var(--fill-color);\n",
              "      border-top-color: var(--fill-color);\n",
              "    }\n",
              "    60% {\n",
              "      border-color: transparent;\n",
              "      border-right-color: var(--fill-color);\n",
              "    }\n",
              "    80% {\n",
              "      border-color: transparent;\n",
              "      border-right-color: var(--fill-color);\n",
              "      border-bottom-color: var(--fill-color);\n",
              "    }\n",
              "    90% {\n",
              "      border-color: transparent;\n",
              "      border-bottom-color: var(--fill-color);\n",
              "    }\n",
              "  }\n",
              "</style>\n",
              "\n",
              "  <script>\n",
              "    async function quickchart(key) {\n",
              "      const quickchartButtonEl =\n",
              "        document.querySelector('#' + key + ' button');\n",
              "      quickchartButtonEl.disabled = true;  // To prevent multiple clicks.\n",
              "      quickchartButtonEl.classList.add('colab-df-spinner');\n",
              "      try {\n",
              "        const charts = await google.colab.kernel.invokeFunction(\n",
              "            'suggestCharts', [key], {});\n",
              "      } catch (error) {\n",
              "        console.error('Error during call to suggestCharts:', error);\n",
              "      }\n",
              "      quickchartButtonEl.classList.remove('colab-df-spinner');\n",
              "      quickchartButtonEl.classList.add('colab-df-quickchart-complete');\n",
              "    }\n",
              "    (() => {\n",
              "      let quickchartButtonEl =\n",
              "        document.querySelector('#df-f20d4adb-8086-4840-ad77-e441de16ffb6 button');\n",
              "      quickchartButtonEl.style.display =\n",
              "        google.colab.kernel.accessAllowed ? 'block' : 'none';\n",
              "    })();\n",
              "  </script>\n",
              "</div>\n",
              "    </div>\n",
              "  </div>\n"
            ]
          },
          "metadata": {},
          "execution_count": 36
        }
      ],
      "source": [
        "metrics = {\n",
        "    'Category': ['em', 'in', 'ex', 'ex_aug'],\n",
        "    'Accuracy': [accuracy_em, accuracy_in, accuracy_ex, accuracy_ex_aug],\n",
        "    'Precision': [precision_em, precision_in, precision_ex, precision_ex_aug],\n",
        "    'Recall': [recall_em, recall_in, recall_ex, recall_ex_aug],\n",
        "    'F1 Score': [f1_em, f1_in, f1_ex, f1_ex_aug]\n",
        "}\n",
        "\n",
        "metrics_df = pd.DataFrame(metrics)\n",
        "\n",
        "metrics_df"
      ]
    }
  ],
  "metadata": {
    "accelerator": "GPU",
    "colab": {
      "provenance": []
    },
    "kernelspec": {
      "display_name": "Python 3",
      "name": "python3"
    },
    "language_info": {
      "name": "python"
    },
    "widgets": {
      "application/vnd.jupyter.widget-state+json": {
        "82d9683e404a4260a49cd0525f304b53": {
          "model_module": "@jupyter-widgets/controls",
          "model_name": "HBoxModel",
          "model_module_version": "1.5.0",
          "state": {
            "_dom_classes": [],
            "_model_module": "@jupyter-widgets/controls",
            "_model_module_version": "1.5.0",
            "_model_name": "HBoxModel",
            "_view_count": null,
            "_view_module": "@jupyter-widgets/controls",
            "_view_module_version": "1.5.0",
            "_view_name": "HBoxView",
            "box_style": "",
            "children": [
              "IPY_MODEL_24fadf2eca5844e6bada0cec85c44ea9",
              "IPY_MODEL_3a3e935649084d729d60a59eb2323e71",
              "IPY_MODEL_3dd339dc353743b48afd6e22119b0881"
            ],
            "layout": "IPY_MODEL_bf379eab23dd4899a6fd2dcc3ebcae6f"
          }
        },
        "24fadf2eca5844e6bada0cec85c44ea9": {
          "model_module": "@jupyter-widgets/controls",
          "model_name": "HTMLModel",
          "model_module_version": "1.5.0",
          "state": {
            "_dom_classes": [],
            "_model_module": "@jupyter-widgets/controls",
            "_model_module_version": "1.5.0",
            "_model_name": "HTMLModel",
            "_view_count": null,
            "_view_module": "@jupyter-widgets/controls",
            "_view_module_version": "1.5.0",
            "_view_name": "HTMLView",
            "description": "",
            "description_tooltip": null,
            "layout": "IPY_MODEL_f324748488a94a20a6e151e940d80d94",
            "placeholder": "​",
            "style": "IPY_MODEL_e512860e5ee24581ac6ecd8c04132f9a",
            "value": "spiece.model: 100%"
          }
        },
        "3a3e935649084d729d60a59eb2323e71": {
          "model_module": "@jupyter-widgets/controls",
          "model_name": "FloatProgressModel",
          "model_module_version": "1.5.0",
          "state": {
            "_dom_classes": [],
            "_model_module": "@jupyter-widgets/controls",
            "_model_module_version": "1.5.0",
            "_model_name": "FloatProgressModel",
            "_view_count": null,
            "_view_module": "@jupyter-widgets/controls",
            "_view_module_version": "1.5.0",
            "_view_name": "ProgressView",
            "bar_style": "success",
            "description": "",
            "description_tooltip": null,
            "layout": "IPY_MODEL_703ed754b4484309b1323ca1fba253d9",
            "max": 760289,
            "min": 0,
            "orientation": "horizontal",
            "style": "IPY_MODEL_0a13bfdd8d2f4071ad5c2a0600101d69",
            "value": 760289
          }
        },
        "3dd339dc353743b48afd6e22119b0881": {
          "model_module": "@jupyter-widgets/controls",
          "model_name": "HTMLModel",
          "model_module_version": "1.5.0",
          "state": {
            "_dom_classes": [],
            "_model_module": "@jupyter-widgets/controls",
            "_model_module_version": "1.5.0",
            "_model_name": "HTMLModel",
            "_view_count": null,
            "_view_module": "@jupyter-widgets/controls",
            "_view_module_version": "1.5.0",
            "_view_name": "HTMLView",
            "description": "",
            "description_tooltip": null,
            "layout": "IPY_MODEL_0662362680d44149bcb586fed99401bc",
            "placeholder": "​",
            "style": "IPY_MODEL_9640b065ea50451b8a178bd8cb83f1c6",
            "value": " 760k/760k [00:00&lt;00:00, 3.99MB/s]"
          }
        },
        "bf379eab23dd4899a6fd2dcc3ebcae6f": {
          "model_module": "@jupyter-widgets/base",
          "model_name": "LayoutModel",
          "model_module_version": "1.2.0",
          "state": {
            "_model_module": "@jupyter-widgets/base",
            "_model_module_version": "1.2.0",
            "_model_name": "LayoutModel",
            "_view_count": null,
            "_view_module": "@jupyter-widgets/base",
            "_view_module_version": "1.2.0",
            "_view_name": "LayoutView",
            "align_content": null,
            "align_items": null,
            "align_self": null,
            "border": null,
            "bottom": null,
            "display": null,
            "flex": null,
            "flex_flow": null,
            "grid_area": null,
            "grid_auto_columns": null,
            "grid_auto_flow": null,
            "grid_auto_rows": null,
            "grid_column": null,
            "grid_gap": null,
            "grid_row": null,
            "grid_template_areas": null,
            "grid_template_columns": null,
            "grid_template_rows": null,
            "height": null,
            "justify_content": null,
            "justify_items": null,
            "left": null,
            "margin": null,
            "max_height": null,
            "max_width": null,
            "min_height": null,
            "min_width": null,
            "object_fit": null,
            "object_position": null,
            "order": null,
            "overflow": null,
            "overflow_x": null,
            "overflow_y": null,
            "padding": null,
            "right": null,
            "top": null,
            "visibility": null,
            "width": null
          }
        },
        "f324748488a94a20a6e151e940d80d94": {
          "model_module": "@jupyter-widgets/base",
          "model_name": "LayoutModel",
          "model_module_version": "1.2.0",
          "state": {
            "_model_module": "@jupyter-widgets/base",
            "_model_module_version": "1.2.0",
            "_model_name": "LayoutModel",
            "_view_count": null,
            "_view_module": "@jupyter-widgets/base",
            "_view_module_version": "1.2.0",
            "_view_name": "LayoutView",
            "align_content": null,
            "align_items": null,
            "align_self": null,
            "border": null,
            "bottom": null,
            "display": null,
            "flex": null,
            "flex_flow": null,
            "grid_area": null,
            "grid_auto_columns": null,
            "grid_auto_flow": null,
            "grid_auto_rows": null,
            "grid_column": null,
            "grid_gap": null,
            "grid_row": null,
            "grid_template_areas": null,
            "grid_template_columns": null,
            "grid_template_rows": null,
            "height": null,
            "justify_content": null,
            "justify_items": null,
            "left": null,
            "margin": null,
            "max_height": null,
            "max_width": null,
            "min_height": null,
            "min_width": null,
            "object_fit": null,
            "object_position": null,
            "order": null,
            "overflow": null,
            "overflow_x": null,
            "overflow_y": null,
            "padding": null,
            "right": null,
            "top": null,
            "visibility": null,
            "width": null
          }
        },
        "e512860e5ee24581ac6ecd8c04132f9a": {
          "model_module": "@jupyter-widgets/controls",
          "model_name": "DescriptionStyleModel",
          "model_module_version": "1.5.0",
          "state": {
            "_model_module": "@jupyter-widgets/controls",
            "_model_module_version": "1.5.0",
            "_model_name": "DescriptionStyleModel",
            "_view_count": null,
            "_view_module": "@jupyter-widgets/base",
            "_view_module_version": "1.2.0",
            "_view_name": "StyleView",
            "description_width": ""
          }
        },
        "703ed754b4484309b1323ca1fba253d9": {
          "model_module": "@jupyter-widgets/base",
          "model_name": "LayoutModel",
          "model_module_version": "1.2.0",
          "state": {
            "_model_module": "@jupyter-widgets/base",
            "_model_module_version": "1.2.0",
            "_model_name": "LayoutModel",
            "_view_count": null,
            "_view_module": "@jupyter-widgets/base",
            "_view_module_version": "1.2.0",
            "_view_name": "LayoutView",
            "align_content": null,
            "align_items": null,
            "align_self": null,
            "border": null,
            "bottom": null,
            "display": null,
            "flex": null,
            "flex_flow": null,
            "grid_area": null,
            "grid_auto_columns": null,
            "grid_auto_flow": null,
            "grid_auto_rows": null,
            "grid_column": null,
            "grid_gap": null,
            "grid_row": null,
            "grid_template_areas": null,
            "grid_template_columns": null,
            "grid_template_rows": null,
            "height": null,
            "justify_content": null,
            "justify_items": null,
            "left": null,
            "margin": null,
            "max_height": null,
            "max_width": null,
            "min_height": null,
            "min_width": null,
            "object_fit": null,
            "object_position": null,
            "order": null,
            "overflow": null,
            "overflow_x": null,
            "overflow_y": null,
            "padding": null,
            "right": null,
            "top": null,
            "visibility": null,
            "width": null
          }
        },
        "0a13bfdd8d2f4071ad5c2a0600101d69": {
          "model_module": "@jupyter-widgets/controls",
          "model_name": "ProgressStyleModel",
          "model_module_version": "1.5.0",
          "state": {
            "_model_module": "@jupyter-widgets/controls",
            "_model_module_version": "1.5.0",
            "_model_name": "ProgressStyleModel",
            "_view_count": null,
            "_view_module": "@jupyter-widgets/base",
            "_view_module_version": "1.2.0",
            "_view_name": "StyleView",
            "bar_color": null,
            "description_width": ""
          }
        },
        "0662362680d44149bcb586fed99401bc": {
          "model_module": "@jupyter-widgets/base",
          "model_name": "LayoutModel",
          "model_module_version": "1.2.0",
          "state": {
            "_model_module": "@jupyter-widgets/base",
            "_model_module_version": "1.2.0",
            "_model_name": "LayoutModel",
            "_view_count": null,
            "_view_module": "@jupyter-widgets/base",
            "_view_module_version": "1.2.0",
            "_view_name": "LayoutView",
            "align_content": null,
            "align_items": null,
            "align_self": null,
            "border": null,
            "bottom": null,
            "display": null,
            "flex": null,
            "flex_flow": null,
            "grid_area": null,
            "grid_auto_columns": null,
            "grid_auto_flow": null,
            "grid_auto_rows": null,
            "grid_column": null,
            "grid_gap": null,
            "grid_row": null,
            "grid_template_areas": null,
            "grid_template_columns": null,
            "grid_template_rows": null,
            "height": null,
            "justify_content": null,
            "justify_items": null,
            "left": null,
            "margin": null,
            "max_height": null,
            "max_width": null,
            "min_height": null,
            "min_width": null,
            "object_fit": null,
            "object_position": null,
            "order": null,
            "overflow": null,
            "overflow_x": null,
            "overflow_y": null,
            "padding": null,
            "right": null,
            "top": null,
            "visibility": null,
            "width": null
          }
        },
        "9640b065ea50451b8a178bd8cb83f1c6": {
          "model_module": "@jupyter-widgets/controls",
          "model_name": "DescriptionStyleModel",
          "model_module_version": "1.5.0",
          "state": {
            "_model_module": "@jupyter-widgets/controls",
            "_model_module_version": "1.5.0",
            "_model_name": "DescriptionStyleModel",
            "_view_count": null,
            "_view_module": "@jupyter-widgets/base",
            "_view_module_version": "1.2.0",
            "_view_name": "StyleView",
            "description_width": ""
          }
        },
        "66dc3e1390634ef2bee66c922adcf493": {
          "model_module": "@jupyter-widgets/controls",
          "model_name": "HBoxModel",
          "model_module_version": "1.5.0",
          "state": {
            "_dom_classes": [],
            "_model_module": "@jupyter-widgets/controls",
            "_model_module_version": "1.5.0",
            "_model_name": "HBoxModel",
            "_view_count": null,
            "_view_module": "@jupyter-widgets/controls",
            "_view_module_version": "1.5.0",
            "_view_name": "HBoxView",
            "box_style": "",
            "children": [
              "IPY_MODEL_8c2c2ec293b1451ab150eb3e200017a8",
              "IPY_MODEL_54c22d621c5e4026968c53d6673ae2b2",
              "IPY_MODEL_d90f2be6c2054f06a83e83bcd661e0f4"
            ],
            "layout": "IPY_MODEL_ed32498ee1cc4c5dabfed13a92f4244b"
          }
        },
        "8c2c2ec293b1451ab150eb3e200017a8": {
          "model_module": "@jupyter-widgets/controls",
          "model_name": "HTMLModel",
          "model_module_version": "1.5.0",
          "state": {
            "_dom_classes": [],
            "_model_module": "@jupyter-widgets/controls",
            "_model_module_version": "1.5.0",
            "_model_name": "HTMLModel",
            "_view_count": null,
            "_view_module": "@jupyter-widgets/controls",
            "_view_module_version": "1.5.0",
            "_view_name": "HTMLView",
            "description": "",
            "description_tooltip": null,
            "layout": "IPY_MODEL_a7e5d3f9e2cb4f5e9e408b45ce3520a5",
            "placeholder": "​",
            "style": "IPY_MODEL_98e1bdf21ae948a3ab59efb04dcf1d65",
            "value": "tokenizer.json: 100%"
          }
        },
        "54c22d621c5e4026968c53d6673ae2b2": {
          "model_module": "@jupyter-widgets/controls",
          "model_name": "FloatProgressModel",
          "model_module_version": "1.5.0",
          "state": {
            "_dom_classes": [],
            "_model_module": "@jupyter-widgets/controls",
            "_model_module_version": "1.5.0",
            "_model_name": "FloatProgressModel",
            "_view_count": null,
            "_view_module": "@jupyter-widgets/controls",
            "_view_module_version": "1.5.0",
            "_view_name": "ProgressView",
            "bar_style": "success",
            "description": "",
            "description_tooltip": null,
            "layout": "IPY_MODEL_c5d7449a0889421fba573a8b1b91113a",
            "max": 1312669,
            "min": 0,
            "orientation": "horizontal",
            "style": "IPY_MODEL_2c1fa24bbdf94289b009b119287cb33a",
            "value": 1312669
          }
        },
        "d90f2be6c2054f06a83e83bcd661e0f4": {
          "model_module": "@jupyter-widgets/controls",
          "model_name": "HTMLModel",
          "model_module_version": "1.5.0",
          "state": {
            "_dom_classes": [],
            "_model_module": "@jupyter-widgets/controls",
            "_model_module_version": "1.5.0",
            "_model_name": "HTMLModel",
            "_view_count": null,
            "_view_module": "@jupyter-widgets/controls",
            "_view_module_version": "1.5.0",
            "_view_name": "HTMLView",
            "description": "",
            "description_tooltip": null,
            "layout": "IPY_MODEL_a0300a523b39497abd0f69b4fd19da04",
            "placeholder": "​",
            "style": "IPY_MODEL_8a76e34edfbd46c29dd048a0a0732714",
            "value": " 1.31M/1.31M [00:00&lt;00:00, 18.0MB/s]"
          }
        },
        "ed32498ee1cc4c5dabfed13a92f4244b": {
          "model_module": "@jupyter-widgets/base",
          "model_name": "LayoutModel",
          "model_module_version": "1.2.0",
          "state": {
            "_model_module": "@jupyter-widgets/base",
            "_model_module_version": "1.2.0",
            "_model_name": "LayoutModel",
            "_view_count": null,
            "_view_module": "@jupyter-widgets/base",
            "_view_module_version": "1.2.0",
            "_view_name": "LayoutView",
            "align_content": null,
            "align_items": null,
            "align_self": null,
            "border": null,
            "bottom": null,
            "display": null,
            "flex": null,
            "flex_flow": null,
            "grid_area": null,
            "grid_auto_columns": null,
            "grid_auto_flow": null,
            "grid_auto_rows": null,
            "grid_column": null,
            "grid_gap": null,
            "grid_row": null,
            "grid_template_areas": null,
            "grid_template_columns": null,
            "grid_template_rows": null,
            "height": null,
            "justify_content": null,
            "justify_items": null,
            "left": null,
            "margin": null,
            "max_height": null,
            "max_width": null,
            "min_height": null,
            "min_width": null,
            "object_fit": null,
            "object_position": null,
            "order": null,
            "overflow": null,
            "overflow_x": null,
            "overflow_y": null,
            "padding": null,
            "right": null,
            "top": null,
            "visibility": null,
            "width": null
          }
        },
        "a7e5d3f9e2cb4f5e9e408b45ce3520a5": {
          "model_module": "@jupyter-widgets/base",
          "model_name": "LayoutModel",
          "model_module_version": "1.2.0",
          "state": {
            "_model_module": "@jupyter-widgets/base",
            "_model_module_version": "1.2.0",
            "_model_name": "LayoutModel",
            "_view_count": null,
            "_view_module": "@jupyter-widgets/base",
            "_view_module_version": "1.2.0",
            "_view_name": "LayoutView",
            "align_content": null,
            "align_items": null,
            "align_self": null,
            "border": null,
            "bottom": null,
            "display": null,
            "flex": null,
            "flex_flow": null,
            "grid_area": null,
            "grid_auto_columns": null,
            "grid_auto_flow": null,
            "grid_auto_rows": null,
            "grid_column": null,
            "grid_gap": null,
            "grid_row": null,
            "grid_template_areas": null,
            "grid_template_columns": null,
            "grid_template_rows": null,
            "height": null,
            "justify_content": null,
            "justify_items": null,
            "left": null,
            "margin": null,
            "max_height": null,
            "max_width": null,
            "min_height": null,
            "min_width": null,
            "object_fit": null,
            "object_position": null,
            "order": null,
            "overflow": null,
            "overflow_x": null,
            "overflow_y": null,
            "padding": null,
            "right": null,
            "top": null,
            "visibility": null,
            "width": null
          }
        },
        "98e1bdf21ae948a3ab59efb04dcf1d65": {
          "model_module": "@jupyter-widgets/controls",
          "model_name": "DescriptionStyleModel",
          "model_module_version": "1.5.0",
          "state": {
            "_model_module": "@jupyter-widgets/controls",
            "_model_module_version": "1.5.0",
            "_model_name": "DescriptionStyleModel",
            "_view_count": null,
            "_view_module": "@jupyter-widgets/base",
            "_view_module_version": "1.2.0",
            "_view_name": "StyleView",
            "description_width": ""
          }
        },
        "c5d7449a0889421fba573a8b1b91113a": {
          "model_module": "@jupyter-widgets/base",
          "model_name": "LayoutModel",
          "model_module_version": "1.2.0",
          "state": {
            "_model_module": "@jupyter-widgets/base",
            "_model_module_version": "1.2.0",
            "_model_name": "LayoutModel",
            "_view_count": null,
            "_view_module": "@jupyter-widgets/base",
            "_view_module_version": "1.2.0",
            "_view_name": "LayoutView",
            "align_content": null,
            "align_items": null,
            "align_self": null,
            "border": null,
            "bottom": null,
            "display": null,
            "flex": null,
            "flex_flow": null,
            "grid_area": null,
            "grid_auto_columns": null,
            "grid_auto_flow": null,
            "grid_auto_rows": null,
            "grid_column": null,
            "grid_gap": null,
            "grid_row": null,
            "grid_template_areas": null,
            "grid_template_columns": null,
            "grid_template_rows": null,
            "height": null,
            "justify_content": null,
            "justify_items": null,
            "left": null,
            "margin": null,
            "max_height": null,
            "max_width": null,
            "min_height": null,
            "min_width": null,
            "object_fit": null,
            "object_position": null,
            "order": null,
            "overflow": null,
            "overflow_x": null,
            "overflow_y": null,
            "padding": null,
            "right": null,
            "top": null,
            "visibility": null,
            "width": null
          }
        },
        "2c1fa24bbdf94289b009b119287cb33a": {
          "model_module": "@jupyter-widgets/controls",
          "model_name": "ProgressStyleModel",
          "model_module_version": "1.5.0",
          "state": {
            "_model_module": "@jupyter-widgets/controls",
            "_model_module_version": "1.5.0",
            "_model_name": "ProgressStyleModel",
            "_view_count": null,
            "_view_module": "@jupyter-widgets/base",
            "_view_module_version": "1.2.0",
            "_view_name": "StyleView",
            "bar_color": null,
            "description_width": ""
          }
        },
        "a0300a523b39497abd0f69b4fd19da04": {
          "model_module": "@jupyter-widgets/base",
          "model_name": "LayoutModel",
          "model_module_version": "1.2.0",
          "state": {
            "_model_module": "@jupyter-widgets/base",
            "_model_module_version": "1.2.0",
            "_model_name": "LayoutModel",
            "_view_count": null,
            "_view_module": "@jupyter-widgets/base",
            "_view_module_version": "1.2.0",
            "_view_name": "LayoutView",
            "align_content": null,
            "align_items": null,
            "align_self": null,
            "border": null,
            "bottom": null,
            "display": null,
            "flex": null,
            "flex_flow": null,
            "grid_area": null,
            "grid_auto_columns": null,
            "grid_auto_flow": null,
            "grid_auto_rows": null,
            "grid_column": null,
            "grid_gap": null,
            "grid_row": null,
            "grid_template_areas": null,
            "grid_template_columns": null,
            "grid_template_rows": null,
            "height": null,
            "justify_content": null,
            "justify_items": null,
            "left": null,
            "margin": null,
            "max_height": null,
            "max_width": null,
            "min_height": null,
            "min_width": null,
            "object_fit": null,
            "object_position": null,
            "order": null,
            "overflow": null,
            "overflow_x": null,
            "overflow_y": null,
            "padding": null,
            "right": null,
            "top": null,
            "visibility": null,
            "width": null
          }
        },
        "8a76e34edfbd46c29dd048a0a0732714": {
          "model_module": "@jupyter-widgets/controls",
          "model_name": "DescriptionStyleModel",
          "model_module_version": "1.5.0",
          "state": {
            "_model_module": "@jupyter-widgets/controls",
            "_model_module_version": "1.5.0",
            "_model_name": "DescriptionStyleModel",
            "_view_count": null,
            "_view_module": "@jupyter-widgets/base",
            "_view_module_version": "1.2.0",
            "_view_name": "StyleView",
            "description_width": ""
          }
        },
        "3df51bab701c4cbca0eb51583e275842": {
          "model_module": "@jupyter-widgets/controls",
          "model_name": "HBoxModel",
          "model_module_version": "1.5.0",
          "state": {
            "_dom_classes": [],
            "_model_module": "@jupyter-widgets/controls",
            "_model_module_version": "1.5.0",
            "_model_name": "HBoxModel",
            "_view_count": null,
            "_view_module": "@jupyter-widgets/controls",
            "_view_module_version": "1.5.0",
            "_view_name": "HBoxView",
            "box_style": "",
            "children": [
              "IPY_MODEL_6cd5f4720c7e4de4bd8b8f874501de69",
              "IPY_MODEL_abadf80eb7774369bb40bca6ca501a2b",
              "IPY_MODEL_725ef858d741473daa3c02669758a5f3"
            ],
            "layout": "IPY_MODEL_9c0a067c07504038b6590aa1556e8f89"
          }
        },
        "6cd5f4720c7e4de4bd8b8f874501de69": {
          "model_module": "@jupyter-widgets/controls",
          "model_name": "HTMLModel",
          "model_module_version": "1.5.0",
          "state": {
            "_dom_classes": [],
            "_model_module": "@jupyter-widgets/controls",
            "_model_module_version": "1.5.0",
            "_model_name": "HTMLModel",
            "_view_count": null,
            "_view_module": "@jupyter-widgets/controls",
            "_view_module_version": "1.5.0",
            "_view_name": "HTMLView",
            "description": "",
            "description_tooltip": null,
            "layout": "IPY_MODEL_9114418b6e594458864353576d5a522c",
            "placeholder": "​",
            "style": "IPY_MODEL_b096716c62984830a50c10b3613e46d8",
            "value": "config.json: 100%"
          }
        },
        "abadf80eb7774369bb40bca6ca501a2b": {
          "model_module": "@jupyter-widgets/controls",
          "model_name": "FloatProgressModel",
          "model_module_version": "1.5.0",
          "state": {
            "_dom_classes": [],
            "_model_module": "@jupyter-widgets/controls",
            "_model_module_version": "1.5.0",
            "_model_name": "FloatProgressModel",
            "_view_count": null,
            "_view_module": "@jupyter-widgets/controls",
            "_view_module_version": "1.5.0",
            "_view_name": "ProgressView",
            "bar_style": "success",
            "description": "",
            "description_tooltip": null,
            "layout": "IPY_MODEL_08bbca44396d4d99aacede8a15b6271e",
            "max": 684,
            "min": 0,
            "orientation": "horizontal",
            "style": "IPY_MODEL_1de5b10783504be081905805478bd46f",
            "value": 684
          }
        },
        "725ef858d741473daa3c02669758a5f3": {
          "model_module": "@jupyter-widgets/controls",
          "model_name": "HTMLModel",
          "model_module_version": "1.5.0",
          "state": {
            "_dom_classes": [],
            "_model_module": "@jupyter-widgets/controls",
            "_model_module_version": "1.5.0",
            "_model_name": "HTMLModel",
            "_view_count": null,
            "_view_module": "@jupyter-widgets/controls",
            "_view_module_version": "1.5.0",
            "_view_name": "HTMLView",
            "description": "",
            "description_tooltip": null,
            "layout": "IPY_MODEL_37dd8cbb400e4b6db46263ca2eecab73",
            "placeholder": "​",
            "style": "IPY_MODEL_19abe4f53594492ebdaa5fe924a60bfd",
            "value": " 684/684 [00:00&lt;00:00, 32.7kB/s]"
          }
        },
        "9c0a067c07504038b6590aa1556e8f89": {
          "model_module": "@jupyter-widgets/base",
          "model_name": "LayoutModel",
          "model_module_version": "1.2.0",
          "state": {
            "_model_module": "@jupyter-widgets/base",
            "_model_module_version": "1.2.0",
            "_model_name": "LayoutModel",
            "_view_count": null,
            "_view_module": "@jupyter-widgets/base",
            "_view_module_version": "1.2.0",
            "_view_name": "LayoutView",
            "align_content": null,
            "align_items": null,
            "align_self": null,
            "border": null,
            "bottom": null,
            "display": null,
            "flex": null,
            "flex_flow": null,
            "grid_area": null,
            "grid_auto_columns": null,
            "grid_auto_flow": null,
            "grid_auto_rows": null,
            "grid_column": null,
            "grid_gap": null,
            "grid_row": null,
            "grid_template_areas": null,
            "grid_template_columns": null,
            "grid_template_rows": null,
            "height": null,
            "justify_content": null,
            "justify_items": null,
            "left": null,
            "margin": null,
            "max_height": null,
            "max_width": null,
            "min_height": null,
            "min_width": null,
            "object_fit": null,
            "object_position": null,
            "order": null,
            "overflow": null,
            "overflow_x": null,
            "overflow_y": null,
            "padding": null,
            "right": null,
            "top": null,
            "visibility": null,
            "width": null
          }
        },
        "9114418b6e594458864353576d5a522c": {
          "model_module": "@jupyter-widgets/base",
          "model_name": "LayoutModel",
          "model_module_version": "1.2.0",
          "state": {
            "_model_module": "@jupyter-widgets/base",
            "_model_module_version": "1.2.0",
            "_model_name": "LayoutModel",
            "_view_count": null,
            "_view_module": "@jupyter-widgets/base",
            "_view_module_version": "1.2.0",
            "_view_name": "LayoutView",
            "align_content": null,
            "align_items": null,
            "align_self": null,
            "border": null,
            "bottom": null,
            "display": null,
            "flex": null,
            "flex_flow": null,
            "grid_area": null,
            "grid_auto_columns": null,
            "grid_auto_flow": null,
            "grid_auto_rows": null,
            "grid_column": null,
            "grid_gap": null,
            "grid_row": null,
            "grid_template_areas": null,
            "grid_template_columns": null,
            "grid_template_rows": null,
            "height": null,
            "justify_content": null,
            "justify_items": null,
            "left": null,
            "margin": null,
            "max_height": null,
            "max_width": null,
            "min_height": null,
            "min_width": null,
            "object_fit": null,
            "object_position": null,
            "order": null,
            "overflow": null,
            "overflow_x": null,
            "overflow_y": null,
            "padding": null,
            "right": null,
            "top": null,
            "visibility": null,
            "width": null
          }
        },
        "b096716c62984830a50c10b3613e46d8": {
          "model_module": "@jupyter-widgets/controls",
          "model_name": "DescriptionStyleModel",
          "model_module_version": "1.5.0",
          "state": {
            "_model_module": "@jupyter-widgets/controls",
            "_model_module_version": "1.5.0",
            "_model_name": "DescriptionStyleModel",
            "_view_count": null,
            "_view_module": "@jupyter-widgets/base",
            "_view_module_version": "1.2.0",
            "_view_name": "StyleView",
            "description_width": ""
          }
        },
        "08bbca44396d4d99aacede8a15b6271e": {
          "model_module": "@jupyter-widgets/base",
          "model_name": "LayoutModel",
          "model_module_version": "1.2.0",
          "state": {
            "_model_module": "@jupyter-widgets/base",
            "_model_module_version": "1.2.0",
            "_model_name": "LayoutModel",
            "_view_count": null,
            "_view_module": "@jupyter-widgets/base",
            "_view_module_version": "1.2.0",
            "_view_name": "LayoutView",
            "align_content": null,
            "align_items": null,
            "align_self": null,
            "border": null,
            "bottom": null,
            "display": null,
            "flex": null,
            "flex_flow": null,
            "grid_area": null,
            "grid_auto_columns": null,
            "grid_auto_flow": null,
            "grid_auto_rows": null,
            "grid_column": null,
            "grid_gap": null,
            "grid_row": null,
            "grid_template_areas": null,
            "grid_template_columns": null,
            "grid_template_rows": null,
            "height": null,
            "justify_content": null,
            "justify_items": null,
            "left": null,
            "margin": null,
            "max_height": null,
            "max_width": null,
            "min_height": null,
            "min_width": null,
            "object_fit": null,
            "object_position": null,
            "order": null,
            "overflow": null,
            "overflow_x": null,
            "overflow_y": null,
            "padding": null,
            "right": null,
            "top": null,
            "visibility": null,
            "width": null
          }
        },
        "1de5b10783504be081905805478bd46f": {
          "model_module": "@jupyter-widgets/controls",
          "model_name": "ProgressStyleModel",
          "model_module_version": "1.5.0",
          "state": {
            "_model_module": "@jupyter-widgets/controls",
            "_model_module_version": "1.5.0",
            "_model_name": "ProgressStyleModel",
            "_view_count": null,
            "_view_module": "@jupyter-widgets/base",
            "_view_module_version": "1.2.0",
            "_view_name": "StyleView",
            "bar_color": null,
            "description_width": ""
          }
        },
        "37dd8cbb400e4b6db46263ca2eecab73": {
          "model_module": "@jupyter-widgets/base",
          "model_name": "LayoutModel",
          "model_module_version": "1.2.0",
          "state": {
            "_model_module": "@jupyter-widgets/base",
            "_model_module_version": "1.2.0",
            "_model_name": "LayoutModel",
            "_view_count": null,
            "_view_module": "@jupyter-widgets/base",
            "_view_module_version": "1.2.0",
            "_view_name": "LayoutView",
            "align_content": null,
            "align_items": null,
            "align_self": null,
            "border": null,
            "bottom": null,
            "display": null,
            "flex": null,
            "flex_flow": null,
            "grid_area": null,
            "grid_auto_columns": null,
            "grid_auto_flow": null,
            "grid_auto_rows": null,
            "grid_column": null,
            "grid_gap": null,
            "grid_row": null,
            "grid_template_areas": null,
            "grid_template_columns": null,
            "grid_template_rows": null,
            "height": null,
            "justify_content": null,
            "justify_items": null,
            "left": null,
            "margin": null,
            "max_height": null,
            "max_width": null,
            "min_height": null,
            "min_width": null,
            "object_fit": null,
            "object_position": null,
            "order": null,
            "overflow": null,
            "overflow_x": null,
            "overflow_y": null,
            "padding": null,
            "right": null,
            "top": null,
            "visibility": null,
            "width": null
          }
        },
        "19abe4f53594492ebdaa5fe924a60bfd": {
          "model_module": "@jupyter-widgets/controls",
          "model_name": "DescriptionStyleModel",
          "model_module_version": "1.5.0",
          "state": {
            "_model_module": "@jupyter-widgets/controls",
            "_model_module_version": "1.5.0",
            "_model_name": "DescriptionStyleModel",
            "_view_count": null,
            "_view_module": "@jupyter-widgets/base",
            "_view_module_version": "1.2.0",
            "_view_name": "StyleView",
            "description_width": ""
          }
        },
        "8311b6cb95cd4e5b854987518c555bdb": {
          "model_module": "@jupyter-widgets/controls",
          "model_name": "HBoxModel",
          "model_module_version": "1.5.0",
          "state": {
            "_dom_classes": [],
            "_model_module": "@jupyter-widgets/controls",
            "_model_module_version": "1.5.0",
            "_model_name": "HBoxModel",
            "_view_count": null,
            "_view_module": "@jupyter-widgets/controls",
            "_view_module_version": "1.5.0",
            "_view_name": "HBoxView",
            "box_style": "",
            "children": [
              "IPY_MODEL_5a6f3b8d91294d20bf4019e78989defc",
              "IPY_MODEL_94c16efa29164ed79f61311f9f95fd95",
              "IPY_MODEL_d65fce8d424045bb8d9ab98d3a805492"
            ],
            "layout": "IPY_MODEL_9e7ef3bd2e854f53830006739c73fc0a"
          }
        },
        "5a6f3b8d91294d20bf4019e78989defc": {
          "model_module": "@jupyter-widgets/controls",
          "model_name": "HTMLModel",
          "model_module_version": "1.5.0",
          "state": {
            "_dom_classes": [],
            "_model_module": "@jupyter-widgets/controls",
            "_model_module_version": "1.5.0",
            "_model_name": "HTMLModel",
            "_view_count": null,
            "_view_module": "@jupyter-widgets/controls",
            "_view_module_version": "1.5.0",
            "_view_name": "HTMLView",
            "description": "",
            "description_tooltip": null,
            "layout": "IPY_MODEL_e8f5ed439d9348b891d912c1bd96195f",
            "placeholder": "​",
            "style": "IPY_MODEL_0216c15e65ea47cb98295cc049437995",
            "value": "model.safetensors: 100%"
          }
        },
        "94c16efa29164ed79f61311f9f95fd95": {
          "model_module": "@jupyter-widgets/controls",
          "model_name": "FloatProgressModel",
          "model_module_version": "1.5.0",
          "state": {
            "_dom_classes": [],
            "_model_module": "@jupyter-widgets/controls",
            "_model_module_version": "1.5.0",
            "_model_name": "FloatProgressModel",
            "_view_count": null,
            "_view_module": "@jupyter-widgets/controls",
            "_view_module_version": "1.5.0",
            "_view_name": "ProgressView",
            "bar_style": "success",
            "description": "",
            "description_tooltip": null,
            "layout": "IPY_MODEL_b56cb6fd60c64975b8a3190747c92379",
            "max": 47372894,
            "min": 0,
            "orientation": "horizontal",
            "style": "IPY_MODEL_8932478e13ca4d9da6f7d845b10dfd03",
            "value": 47372894
          }
        },
        "d65fce8d424045bb8d9ab98d3a805492": {
          "model_module": "@jupyter-widgets/controls",
          "model_name": "HTMLModel",
          "model_module_version": "1.5.0",
          "state": {
            "_dom_classes": [],
            "_model_module": "@jupyter-widgets/controls",
            "_model_module_version": "1.5.0",
            "_model_name": "HTMLModel",
            "_view_count": null,
            "_view_module": "@jupyter-widgets/controls",
            "_view_module_version": "1.5.0",
            "_view_name": "HTMLView",
            "description": "",
            "description_tooltip": null,
            "layout": "IPY_MODEL_20db85fd6028413a8ab295d3dc78325d",
            "placeholder": "​",
            "style": "IPY_MODEL_9a2250be463f4f4f8bcc4b4c0d58114e",
            "value": " 47.4M/47.4M [00:01&lt;00:00, 48.9MB/s]"
          }
        },
        "9e7ef3bd2e854f53830006739c73fc0a": {
          "model_module": "@jupyter-widgets/base",
          "model_name": "LayoutModel",
          "model_module_version": "1.2.0",
          "state": {
            "_model_module": "@jupyter-widgets/base",
            "_model_module_version": "1.2.0",
            "_model_name": "LayoutModel",
            "_view_count": null,
            "_view_module": "@jupyter-widgets/base",
            "_view_module_version": "1.2.0",
            "_view_name": "LayoutView",
            "align_content": null,
            "align_items": null,
            "align_self": null,
            "border": null,
            "bottom": null,
            "display": null,
            "flex": null,
            "flex_flow": null,
            "grid_area": null,
            "grid_auto_columns": null,
            "grid_auto_flow": null,
            "grid_auto_rows": null,
            "grid_column": null,
            "grid_gap": null,
            "grid_row": null,
            "grid_template_areas": null,
            "grid_template_columns": null,
            "grid_template_rows": null,
            "height": null,
            "justify_content": null,
            "justify_items": null,
            "left": null,
            "margin": null,
            "max_height": null,
            "max_width": null,
            "min_height": null,
            "min_width": null,
            "object_fit": null,
            "object_position": null,
            "order": null,
            "overflow": null,
            "overflow_x": null,
            "overflow_y": null,
            "padding": null,
            "right": null,
            "top": null,
            "visibility": null,
            "width": null
          }
        },
        "e8f5ed439d9348b891d912c1bd96195f": {
          "model_module": "@jupyter-widgets/base",
          "model_name": "LayoutModel",
          "model_module_version": "1.2.0",
          "state": {
            "_model_module": "@jupyter-widgets/base",
            "_model_module_version": "1.2.0",
            "_model_name": "LayoutModel",
            "_view_count": null,
            "_view_module": "@jupyter-widgets/base",
            "_view_module_version": "1.2.0",
            "_view_name": "LayoutView",
            "align_content": null,
            "align_items": null,
            "align_self": null,
            "border": null,
            "bottom": null,
            "display": null,
            "flex": null,
            "flex_flow": null,
            "grid_area": null,
            "grid_auto_columns": null,
            "grid_auto_flow": null,
            "grid_auto_rows": null,
            "grid_column": null,
            "grid_gap": null,
            "grid_row": null,
            "grid_template_areas": null,
            "grid_template_columns": null,
            "grid_template_rows": null,
            "height": null,
            "justify_content": null,
            "justify_items": null,
            "left": null,
            "margin": null,
            "max_height": null,
            "max_width": null,
            "min_height": null,
            "min_width": null,
            "object_fit": null,
            "object_position": null,
            "order": null,
            "overflow": null,
            "overflow_x": null,
            "overflow_y": null,
            "padding": null,
            "right": null,
            "top": null,
            "visibility": null,
            "width": null
          }
        },
        "0216c15e65ea47cb98295cc049437995": {
          "model_module": "@jupyter-widgets/controls",
          "model_name": "DescriptionStyleModel",
          "model_module_version": "1.5.0",
          "state": {
            "_model_module": "@jupyter-widgets/controls",
            "_model_module_version": "1.5.0",
            "_model_name": "DescriptionStyleModel",
            "_view_count": null,
            "_view_module": "@jupyter-widgets/base",
            "_view_module_version": "1.2.0",
            "_view_name": "StyleView",
            "description_width": ""
          }
        },
        "b56cb6fd60c64975b8a3190747c92379": {
          "model_module": "@jupyter-widgets/base",
          "model_name": "LayoutModel",
          "model_module_version": "1.2.0",
          "state": {
            "_model_module": "@jupyter-widgets/base",
            "_model_module_version": "1.2.0",
            "_model_name": "LayoutModel",
            "_view_count": null,
            "_view_module": "@jupyter-widgets/base",
            "_view_module_version": "1.2.0",
            "_view_name": "LayoutView",
            "align_content": null,
            "align_items": null,
            "align_self": null,
            "border": null,
            "bottom": null,
            "display": null,
            "flex": null,
            "flex_flow": null,
            "grid_area": null,
            "grid_auto_columns": null,
            "grid_auto_flow": null,
            "grid_auto_rows": null,
            "grid_column": null,
            "grid_gap": null,
            "grid_row": null,
            "grid_template_areas": null,
            "grid_template_columns": null,
            "grid_template_rows": null,
            "height": null,
            "justify_content": null,
            "justify_items": null,
            "left": null,
            "margin": null,
            "max_height": null,
            "max_width": null,
            "min_height": null,
            "min_width": null,
            "object_fit": null,
            "object_position": null,
            "order": null,
            "overflow": null,
            "overflow_x": null,
            "overflow_y": null,
            "padding": null,
            "right": null,
            "top": null,
            "visibility": null,
            "width": null
          }
        },
        "8932478e13ca4d9da6f7d845b10dfd03": {
          "model_module": "@jupyter-widgets/controls",
          "model_name": "ProgressStyleModel",
          "model_module_version": "1.5.0",
          "state": {
            "_model_module": "@jupyter-widgets/controls",
            "_model_module_version": "1.5.0",
            "_model_name": "ProgressStyleModel",
            "_view_count": null,
            "_view_module": "@jupyter-widgets/base",
            "_view_module_version": "1.2.0",
            "_view_name": "StyleView",
            "bar_color": null,
            "description_width": ""
          }
        },
        "20db85fd6028413a8ab295d3dc78325d": {
          "model_module": "@jupyter-widgets/base",
          "model_name": "LayoutModel",
          "model_module_version": "1.2.0",
          "state": {
            "_model_module": "@jupyter-widgets/base",
            "_model_module_version": "1.2.0",
            "_model_name": "LayoutModel",
            "_view_count": null,
            "_view_module": "@jupyter-widgets/base",
            "_view_module_version": "1.2.0",
            "_view_name": "LayoutView",
            "align_content": null,
            "align_items": null,
            "align_self": null,
            "border": null,
            "bottom": null,
            "display": null,
            "flex": null,
            "flex_flow": null,
            "grid_area": null,
            "grid_auto_columns": null,
            "grid_auto_flow": null,
            "grid_auto_rows": null,
            "grid_column": null,
            "grid_gap": null,
            "grid_row": null,
            "grid_template_areas": null,
            "grid_template_columns": null,
            "grid_template_rows": null,
            "height": null,
            "justify_content": null,
            "justify_items": null,
            "left": null,
            "margin": null,
            "max_height": null,
            "max_width": null,
            "min_height": null,
            "min_width": null,
            "object_fit": null,
            "object_position": null,
            "order": null,
            "overflow": null,
            "overflow_x": null,
            "overflow_y": null,
            "padding": null,
            "right": null,
            "top": null,
            "visibility": null,
            "width": null
          }
        },
        "9a2250be463f4f4f8bcc4b4c0d58114e": {
          "model_module": "@jupyter-widgets/controls",
          "model_name": "DescriptionStyleModel",
          "model_module_version": "1.5.0",
          "state": {
            "_model_module": "@jupyter-widgets/controls",
            "_model_module_version": "1.5.0",
            "_model_name": "DescriptionStyleModel",
            "_view_count": null,
            "_view_module": "@jupyter-widgets/base",
            "_view_module_version": "1.2.0",
            "_view_name": "StyleView",
            "description_width": ""
          }
        }
      }
    }
  },
  "nbformat": 4,
  "nbformat_minor": 0
}